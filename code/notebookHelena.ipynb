{
 "cells": [
  {
   "cell_type": "markdown",
   "metadata": {},
   "source": [
    "# prétraitement"
   ]
  },
  {
   "cell_type": "code",
   "execution_count": 1,
   "metadata": {},
   "outputs": [
    {
     "data": {
      "text/html": [
       "<div>\n",
       "<style scoped>\n",
       "    .dataframe tbody tr th:only-of-type {\n",
       "        vertical-align: middle;\n",
       "    }\n",
       "\n",
       "    .dataframe tbody tr th {\n",
       "        vertical-align: top;\n",
       "    }\n",
       "\n",
       "    .dataframe thead th {\n",
       "        text-align: right;\n",
       "    }\n",
       "</style>\n",
       "<table border=\"1\" class=\"dataframe\">\n",
       "  <thead>\n",
       "    <tr style=\"text-align: right;\">\n",
       "      <th></th>\n",
       "      <th>ref</th>\n",
       "      <th>company_manufacturer</th>\n",
       "      <th>company_location</th>\n",
       "      <th>review_date</th>\n",
       "      <th>country_of_bean_origin</th>\n",
       "      <th>specific_bean_origin_or_bar_name</th>\n",
       "      <th>cocoa_percent</th>\n",
       "      <th>ingredients</th>\n",
       "      <th>most_memorable_characteristics</th>\n",
       "      <th>rating</th>\n",
       "    </tr>\n",
       "  </thead>\n",
       "  <tbody>\n",
       "    <tr>\n",
       "      <th>0</th>\n",
       "      <td>2454</td>\n",
       "      <td>5150</td>\n",
       "      <td>U.S.A.</td>\n",
       "      <td>2019</td>\n",
       "      <td>Tanzania</td>\n",
       "      <td>Kokoa Kamili, batch 1</td>\n",
       "      <td>76%</td>\n",
       "      <td>3- B,S,C</td>\n",
       "      <td>rich cocoa, fatty, bready</td>\n",
       "      <td>3.25</td>\n",
       "    </tr>\n",
       "    <tr>\n",
       "      <th>1</th>\n",
       "      <td>2458</td>\n",
       "      <td>5150</td>\n",
       "      <td>U.S.A.</td>\n",
       "      <td>2019</td>\n",
       "      <td>Dominican Republic</td>\n",
       "      <td>Zorzal, batch 1</td>\n",
       "      <td>76%</td>\n",
       "      <td>3- B,S,C</td>\n",
       "      <td>cocoa, vegetal, savory</td>\n",
       "      <td>3.50</td>\n",
       "    </tr>\n",
       "    <tr>\n",
       "      <th>2</th>\n",
       "      <td>2454</td>\n",
       "      <td>5150</td>\n",
       "      <td>U.S.A.</td>\n",
       "      <td>2019</td>\n",
       "      <td>Madagascar</td>\n",
       "      <td>Bejofo Estate, batch 1</td>\n",
       "      <td>76%</td>\n",
       "      <td>3- B,S,C</td>\n",
       "      <td>cocoa, blackberry, full body</td>\n",
       "      <td>3.75</td>\n",
       "    </tr>\n",
       "    <tr>\n",
       "      <th>3</th>\n",
       "      <td>2542</td>\n",
       "      <td>5150</td>\n",
       "      <td>U.S.A.</td>\n",
       "      <td>2021</td>\n",
       "      <td>Fiji</td>\n",
       "      <td>Matasawalevu, batch 1</td>\n",
       "      <td>68%</td>\n",
       "      <td>3- B,S,C</td>\n",
       "      <td>chewy, off, rubbery</td>\n",
       "      <td>3.00</td>\n",
       "    </tr>\n",
       "    <tr>\n",
       "      <th>4</th>\n",
       "      <td>2546</td>\n",
       "      <td>5150</td>\n",
       "      <td>U.S.A.</td>\n",
       "      <td>2021</td>\n",
       "      <td>Venezuela</td>\n",
       "      <td>Sur del Lago, batch 1</td>\n",
       "      <td>72%</td>\n",
       "      <td>3- B,S,C</td>\n",
       "      <td>fatty, earthy, moss, nutty,chalky</td>\n",
       "      <td>3.00</td>\n",
       "    </tr>\n",
       "  </tbody>\n",
       "</table>\n",
       "</div>"
      ],
      "text/plain": [
       "    ref company_manufacturer company_location  review_date  \\\n",
       "0  2454                 5150           U.S.A.         2019   \n",
       "1  2458                 5150           U.S.A.         2019   \n",
       "2  2454                 5150           U.S.A.         2019   \n",
       "3  2542                 5150           U.S.A.         2021   \n",
       "4  2546                 5150           U.S.A.         2021   \n",
       "\n",
       "  country_of_bean_origin specific_bean_origin_or_bar_name cocoa_percent  \\\n",
       "0               Tanzania            Kokoa Kamili, batch 1           76%   \n",
       "1     Dominican Republic                  Zorzal, batch 1           76%   \n",
       "2             Madagascar           Bejofo Estate, batch 1           76%   \n",
       "3                   Fiji            Matasawalevu, batch 1           68%   \n",
       "4              Venezuela            Sur del Lago, batch 1           72%   \n",
       "\n",
       "  ingredients     most_memorable_characteristics  rating  \n",
       "0    3- B,S,C          rich cocoa, fatty, bready    3.25  \n",
       "1    3- B,S,C             cocoa, vegetal, savory    3.50  \n",
       "2    3- B,S,C       cocoa, blackberry, full body    3.75  \n",
       "3    3- B,S,C                chewy, off, rubbery    3.00  \n",
       "4    3- B,S,C  fatty, earthy, moss, nutty,chalky    3.00  "
      ]
     },
     "execution_count": 1,
     "metadata": {},
     "output_type": "execute_result"
    }
   ],
   "source": [
    "import numpy as np\n",
    "import pandas as pd\n",
    "import plotly.express as px\n",
    "\n",
    "# Read the data\n",
    "data = pd.read_csv('data/chocolate.csv')\n",
    "\n",
    "data.head()"
   ]
  },
  {
   "cell_type": "code",
   "execution_count": 2,
   "metadata": {},
   "outputs": [
    {
     "name": "stdout",
     "output_type": "stream",
     "text": [
      "ref                                  0\n",
      "company_manufacturer                 0\n",
      "company_location                     0\n",
      "review_date                          0\n",
      "country_of_bean_origin               0\n",
      "specific_bean_origin_or_bar_name     0\n",
      "cocoa_percent                        0\n",
      "ingredients                         87\n",
      "most_memorable_characteristics       0\n",
      "rating                               0\n",
      "dtype: int64\n",
      "0\n"
     ]
    }
   ],
   "source": [
    "# vérifier qu'il ne manque pas de données\n",
    "print(data.isnull().sum())\n",
    "\n",
    "# vérifier qu'il n'y a pas de doublons\n",
    "print(data.duplicated().sum())\n",
    "\n"
   ]
  },
  {
   "cell_type": "code",
   "execution_count": 3,
   "metadata": {},
   "outputs": [],
   "source": [
    "# Supprimer les caractères non numériques et convertir en format numérique\n",
    "data['cocoa_percent'] = data['cocoa_percent'].str.replace('%', '').astype(float)"
   ]
  },
  {
   "cell_type": "markdown",
   "metadata": {},
   "source": [
    "# Charte graphique"
   ]
  },
  {
   "cell_type": "code",
   "execution_count": 4,
   "metadata": {},
   "outputs": [],
   "source": [
    "# créer palette de couleurs avec ces couleurs: \n",
    "#874646 (135,70,70)\n",
    "#f6eddb (246,237,219)\n",
    "#2b0808 (43,8,8)\n",
    "#6a4227 (106,66,39)\n",
    "#ffc0c0 (255,192,192)\n",
    "\n",
    "palette = ['#874646', '#f6eddb', '#2b0808', '#6a4227', '#ffc0c0']\n",
    "palette_degrade =['#71260A', '#96421D' ,'#C06530', '#DA8A56', '#E9D5CC']\n",
    "background_color = \"#fff7ef\"\n",
    "text_color = '#6f1c0e'"
   ]
  },
  {
   "cell_type": "markdown",
   "metadata": {},
   "source": [
    "# Pays producteurs de fèves de cacao"
   ]
  },
  {
   "cell_type": "markdown",
   "metadata": {},
   "source": [
    "### diagramme en barre"
   ]
  },
  {
   "cell_type": "code",
   "execution_count": 5,
   "metadata": {},
   "outputs": [
    {
     "data": {
      "application/vnd.plotly.v1+json": {
       "config": {
        "plotlyServerURL": "https://plot.ly"
       },
       "data": [
        {
         "alignmentgroup": "True",
         "bingroup": "x",
         "hovertemplate": "country_of_bean_origin=%{x}<br>count=%{y}<extra></extra>",
         "legendgroup": "",
         "marker": {
          "color": "#874646",
          "pattern": {
           "shape": ""
          }
         },
         "name": "",
         "offsetgroup": "",
         "orientation": "v",
         "showlegend": false,
         "type": "histogram",
         "x": [
          "Tanzania",
          "Dominican Republic",
          "Madagascar",
          "Venezuela",
          "India",
          "Bolivia",
          "Peru",
          "Colombia",
          "Madagascar",
          "Brazil",
          "Papua New Guinea",
          "Peru",
          "Peru",
          "Ecuador",
          "Venezuela",
          "Peru",
          "Venezuela",
          "Venezuela",
          "Venezuela",
          "Peru",
          "Peru",
          "Venezuela",
          "Peru",
          "Mexico",
          "Peru",
          "Peru",
          "Mexico",
          "Peru",
          "Ecuador",
          "Ecuador",
          "Mexico",
          "Madagascar",
          "Brazil",
          "Venezuela",
          "Peru",
          "Trinidad",
          "Vietnam",
          "Madagascar",
          "Mexico",
          "Ecuador",
          "Nicaragua",
          "Tanzania",
          "Vietnam",
          "Venezuela",
          "Dominican Republic",
          "Bolivia",
          "Bolivia",
          "Peru",
          "Bolivia",
          "Peru",
          "Nicaragua",
          "Ecuador",
          "Peru",
          "Dominican Republic",
          "Venezuela",
          "Madagascar",
          "Venezuela",
          "Venezuela",
          "Venezuela",
          "Dominican Republic",
          "Ecuador",
          "Papua New Guinea",
          "Ecuador",
          "Ecuador",
          "Ghana",
          "Ghana",
          "Peru",
          "Peru",
          "Peru",
          "Peru",
          "Belize",
          "Madagascar",
          "Dominican Republic",
          "Papua New Guinea",
          "Venezuela",
          "Peru",
          "Ecuador",
          "Jamaica",
          "Trinidad",
          "Venezuela",
          "Peru",
          "Madagascar",
          "Venezuela",
          "Venezuela",
          "Brazil",
          "Brazil",
          "Brazil",
          "Brazil",
          "Brazil",
          "Dominican Republic",
          "Bolivia",
          "Belize",
          "Guatemala",
          "Mexico",
          "Ecuador",
          "Madagascar",
          "Venezuela",
          "Brazil",
          "Guatemala",
          "Brazil",
          "Peru",
          "Dominican Republic",
          "Ecuador",
          "Ecuador",
          "Belize",
          "Nicaragua",
          "Ecuador",
          "Ecuador",
          "Vietnam",
          "Trinidad",
          "Vietnam",
          "Guatemala",
          "Honduras",
          "Tanzania",
          "Nicaragua",
          "Dominican Republic",
          "Costa Rica",
          "Peru",
          "India",
          "Madagascar",
          "Vietnam",
          "Peru",
          "Bolivia",
          "Haiti",
          "Trinidad",
          "Colombia",
          "India",
          "India",
          "Nicaragua",
          "Nicaragua",
          "Nicaragua",
          "Nicaragua",
          "Brazil",
          "Venezuela",
          "Madagascar",
          "Peru",
          "Dominican Republic",
          "Venezuela",
          "Costa Rica",
          "Vietnam",
          "Jamaica",
          "Haiti",
          "Colombia",
          "Trinidad",
          "Colombia",
          "India",
          "Madagascar",
          "Tanzania",
          "Mexico",
          "Ecuador",
          "Philippines",
          "Tanzania",
          "Honduras",
          "Tanzania",
          "Philippines",
          "Philippines",
          "Philippines",
          "Philippines",
          "Colombia",
          "Dominican Republic",
          "Brazil",
          "Madagascar",
          "Papua New Guinea",
          "Brazil",
          "Peru",
          "Peru",
          "Belize",
          "Tanzania",
          "Dominican Republic",
          "Mexico",
          "Madagascar",
          "Peru",
          "Brazil",
          "Costa Rica",
          "Trinidad",
          "Costa Rica",
          "Ecuador",
          "Dominican Republic",
          "Brazil",
          "Peru",
          "Brazil",
          "Dominican Republic",
          "Ecuador",
          "Ecuador",
          "Costa Rica",
          "Papua New Guinea",
          "Peru",
          "Ecuador",
          "Bolivia",
          "Tanzania",
          "Dominican Republic",
          "Vietnam",
          "Vietnam",
          "Belize",
          "Belize",
          "Belize",
          "Vietnam",
          "India",
          "Madagascar",
          "Venezuela",
          "Venezuela",
          "Ecuador",
          "Venezuela",
          "Venezuela",
          "Venezuela",
          "Madagascar",
          "Venezuela",
          "Venezuela",
          "Ecuador",
          "Nicaragua",
          "Costa Rica",
          "Costa Rica",
          "Belize",
          "Venezuela",
          "Venezuela",
          "Venezuela",
          "Madagascar",
          "Ghana",
          "Dominican Republic",
          "Dominican Republic",
          "Madagascar",
          "Dominican Republic",
          "Madagascar",
          "Madagascar",
          "Venezuela",
          "Ghana",
          "Haiti",
          "Guatemala",
          "Dominican Republic",
          "Belize",
          "Dominican Republic",
          "Venezuela",
          "Nicaragua",
          "Dominican Republic",
          "Jamaica",
          "Colombia",
          "Belize",
          "Guatemala",
          "Madagascar",
          "Guatemala",
          "Dominican Republic",
          "Madagascar",
          "Tanzania",
          "Belize",
          "Venezuela",
          "Madagascar",
          "Venezuela",
          "Venezuela",
          "Ecuador",
          "Venezuela",
          "Peru",
          "Mexico",
          "Mexico",
          "Jamaica",
          "Peru",
          "Peru",
          "Brazil",
          "Brazil",
          "Haiti",
          "Madagascar",
          "Brazil",
          "Dominican Republic",
          "Brazil",
          "Mexico",
          "Peru",
          "Nicaragua",
          "Ecuador",
          "Ecuador",
          "Belize",
          "Dominican Republic",
          "Ecuador",
          "Peru",
          "Bolivia",
          "Tanzania",
          "Dominican Republic",
          "Ecuador",
          "Ghana",
          "Venezuela",
          "Belize",
          "Venezuela",
          "Dominican Republic",
          "Venezuela",
          "Nicaragua",
          "Dominican Republic",
          "Ecuador",
          "Madagascar",
          "Dominican Republic",
          "Dominican Republic",
          "Belize",
          "Madagascar",
          "Guatemala",
          "Jamaica",
          "Trinidad",
          "Madagascar",
          "Dominican Republic",
          "Ecuador",
          "Ecuador",
          "Dominican Republic",
          "Bolivia",
          "Guatemala",
          "Ecuador",
          "Trinidad",
          "Belize",
          "Ecuador",
          "Ecuador",
          "Philippines",
          "Guatemala",
          "Guatemala",
          "Bolivia",
          "Venezuela",
          "Dominican Republic",
          "Dominican Republic",
          "Peru",
          "Venezuela",
          "Mexico",
          "Tanzania",
          "Dominican Republic",
          "Haiti",
          "Colombia",
          "Colombia",
          "Colombia",
          "Venezuela",
          "Venezuela",
          "Venezuela",
          "Venezuela",
          "Venezuela",
          "Venezuela",
          "Venezuela",
          "Venezuela",
          "Venezuela",
          "Venezuela",
          "Venezuela",
          "Colombia",
          "Colombia",
          "Colombia",
          "Colombia",
          "Colombia",
          "Colombia",
          "Colombia",
          "Honduras",
          "Dominican Republic",
          "Dominican Republic",
          "Dominican Republic",
          "Dominican Republic",
          "Mexico",
          "Mexico",
          "Madagascar",
          "Venezuela",
          "Venezuela",
          "Ecuador",
          "Papua New Guinea",
          "Dominican Republic",
          "Peru",
          "Ecuador",
          "Madagascar",
          "Peru",
          "Vietnam",
          "Ghana",
          "Dominican Republic",
          "Ecuador",
          "Peru",
          "Peru",
          "Peru",
          "Peru",
          "Ecuador",
          "Ecuador",
          "Ecuador",
          "Ecuador",
          "Ecuador",
          "Trinidad",
          "Venezuela",
          "Ecuador",
          "Dominican Republic",
          "Venezuela",
          "Tanzania",
          "Venezuela",
          "Bolivia",
          "Brazil",
          "Colombia",
          "Colombia",
          "Colombia",
          "Colombia",
          "Ecuador",
          "Ecuador",
          "Ecuador",
          "Ecuador",
          "Ecuador",
          "Ecuador",
          "Papua New Guinea",
          "Papua New Guinea",
          "Nicaragua",
          "Tanzania",
          "Peru",
          "Mexico",
          "Costa Rica",
          "Costa Rica",
          "Costa Rica",
          "Guatemala",
          "Costa Rica",
          "Colombia",
          "Colombia",
          "Colombia",
          "Colombia",
          "Colombia",
          "Brazil",
          "Brazil",
          "Peru",
          "Peru",
          "Bolivia",
          "Venezuela",
          "Venezuela",
          "Nicaragua",
          "Dominican Republic",
          "Dominican Republic",
          "Colombia",
          "Colombia",
          "Honduras",
          "Venezuela",
          "Dominican Republic",
          "Belize",
          "Venezuela",
          "Mexico",
          "Peru",
          "Venezuela",
          "Ecuador",
          "Peru",
          "Venezuela",
          "Bolivia",
          "Ecuador",
          "Madagascar",
          "Belize",
          "Peru",
          "Bolivia",
          "Venezuela",
          "Belize",
          "Ecuador",
          "Ecuador",
          "Costa Rica",
          "Peru",
          "Ecuador",
          "Colombia",
          "Dominican Republic",
          "Ecuador",
          "Belize",
          "Belize",
          "Vietnam",
          "Nicaragua",
          "Dominican Republic",
          "Peru",
          "Dominican Republic",
          "Peru",
          "Madagascar",
          "Madagascar",
          "Venezuela",
          "Peru",
          "Bolivia",
          "Nicaragua",
          "Dominican Republic",
          "Dominican Republic",
          "Venezuela",
          "Ecuador",
          "Peru",
          "Dominican Republic",
          "Peru",
          "Ecuador",
          "Peru",
          "Madagascar",
          "Peru",
          "Peru",
          "Venezuela",
          "Venezuela",
          "Dominican Republic",
          "India",
          "Mexico",
          "India",
          "Guatemala",
          "Peru",
          "Venezuela",
          "Mexico",
          "Mexico",
          "Guatemala",
          "Dominican Republic",
          "Belize",
          "Ecuador",
          "Venezuela",
          "Mexico",
          "Madagascar",
          "Mexico",
          "Mexico",
          "Venezuela",
          "Mexico",
          "Brazil",
          "Brazil",
          "Venezuela",
          "Guatemala",
          "Venezuela",
          "Belize",
          "Madagascar",
          "Tanzania",
          "Bolivia",
          "Peru",
          "Peru",
          "Vietnam",
          "Costa Rica",
          "Ecuador",
          "Tanzania",
          "Dominican Republic",
          "Brazil",
          "Peru",
          "Venezuela",
          "Venezuela",
          "Dominican Republic",
          "Haiti",
          "Ecuador",
          "Peru",
          "Peru",
          "Madagascar",
          "Colombia",
          "Venezuela",
          "Ecuador",
          "Bolivia",
          "Venezuela",
          "Venezuela",
          "Ecuador",
          "Vietnam",
          "Philippines",
          "Peru",
          "Tanzania",
          "Madagascar",
          "Mexico",
          "Venezuela",
          "Peru",
          "Peru",
          "Venezuela",
          "Venezuela",
          "Ecuador",
          "Venezuela",
          "Trinidad",
          "Jamaica",
          "Venezuela",
          "Ecuador",
          "Ghana",
          "Madagascar",
          "Ecuador",
          "Ghana",
          "Tanzania",
          "Brazil",
          "Papua New Guinea",
          "Papua New Guinea",
          "Ecuador",
          "Ecuador",
          "Dominican Republic",
          "Colombia",
          "Ecuador",
          "Honduras",
          "India",
          "Guatemala",
          "Haiti",
          "Belize",
          "Mexico",
          "Mexico",
          "Dominican Republic",
          "Nicaragua",
          "Trinidad",
          "Ecuador",
          "India",
          "Peru",
          "Costa Rica",
          "Colombia",
          "Dominican Republic",
          "Venezuela",
          "Venezuela",
          "Venezuela",
          "Papua New Guinea",
          "Belize",
          "Ecuador",
          "Dominican Republic",
          "Belize",
          "Dominican Republic",
          "Costa Rica",
          "Honduras",
          "India",
          "Vietnam",
          "Guatemala",
          "India",
          "Peru",
          "India",
          "Tanzania",
          "Dominican Republic",
          "Brazil",
          "Dominican Republic",
          "Madagascar",
          "Tanzania",
          "Dominican Republic",
          "Guatemala",
          "Guatemala",
          "Guatemala",
          "Venezuela",
          "Guatemala",
          "Guatemala",
          "Madagascar",
          "Guatemala",
          "Guatemala",
          "Venezuela",
          "Vietnam",
          "Peru",
          "Vietnam",
          "Madagascar",
          "Tanzania",
          "Venezuela",
          "Ecuador",
          "Bolivia",
          "Ghana",
          "Dominican Republic",
          "Venezuela",
          "Brazil",
          "Brazil",
          "Madagascar",
          "Madagascar",
          "Costa Rica",
          "Ecuador",
          "Ghana",
          "Papua New Guinea",
          "Peru",
          "Venezuela",
          "Papua New Guinea",
          "Dominican Republic",
          "Dominican Republic",
          "Dominican Republic",
          "Tanzania",
          "Guatemala",
          "Costa Rica",
          "Dominican Republic",
          "Bolivia",
          "Madagascar",
          "Venezuela",
          "Dominican Republic",
          "Ecuador",
          "Bolivia",
          "Ecuador",
          "Ecuador",
          "Dominican Republic",
          "Bolivia",
          "Vietnam",
          "Guatemala",
          "Brazil",
          "Madagascar",
          "Belize",
          "Jamaica",
          "Mexico",
          "Venezuela",
          "Nicaragua",
          "Venezuela",
          "U.S.A.",
          "Venezuela",
          "Peru",
          "Venezuela",
          "Venezuela",
          "Venezuela",
          "Madagascar",
          "Madagascar",
          "Venezuela",
          "Ecuador",
          "Venezuela",
          "Venezuela",
          "Colombia",
          "Venezuela",
          "Venezuela",
          "Tanzania",
          "Venezuela",
          "Venezuela",
          "Ecuador",
          "Venezuela",
          "Tanzania",
          "Venezuela",
          "Colombia",
          "Madagascar",
          "Philippines",
          "Guatemala",
          "Peru",
          "Belize",
          "Dominican Republic",
          "Tanzania",
          "Dominican Republic",
          "Ecuador",
          "Ecuador",
          "Peru",
          "Nicaragua",
          "Dominican Republic",
          "Venezuela",
          "Honduras",
          "Venezuela",
          "Nicaragua",
          "Nicaragua",
          "Guatemala",
          "Guatemala",
          "Philippines",
          "Nicaragua",
          "Dominican Republic",
          "Madagascar",
          "Dominican Republic",
          "Venezuela",
          "Peru",
          "Venezuela",
          "Ecuador",
          "Peru",
          "Peru",
          "Madagascar",
          "Dominican Republic",
          "Colombia",
          "Colombia",
          "Peru",
          "Peru",
          "Venezuela",
          "Madagascar",
          "Colombia",
          "Bolivia",
          "Bolivia",
          "Venezuela",
          "Venezuela",
          "Venezuela",
          "Venezuela",
          "Venezuela",
          "Venezuela",
          "Venezuela",
          "Guatemala",
          "Venezuela",
          "Peru",
          "Dominican Republic",
          "Haiti",
          "Guatemala",
          "Madagascar",
          "Honduras",
          "Vietnam",
          "Tanzania",
          "Trinidad",
          "Vietnam",
          "Vietnam",
          "Vietnam",
          "Venezuela",
          "Costa Rica",
          "Venezuela",
          "Venezuela",
          "Colombia",
          "Trinidad",
          "Venezuela",
          "Belize",
          "Ecuador",
          "Dominican Republic",
          "Guatemala",
          "Peru",
          "Brazil",
          "Venezuela",
          "Belize",
          "Jamaica",
          "Madagascar",
          "Venezuela",
          "Dominican Republic",
          "Ecuador",
          "Bolivia",
          "Dominican Republic",
          "Dominican Republic",
          "Dominican Republic",
          "Honduras",
          "Colombia",
          "Mexico",
          "Philippines",
          "Papua New Guinea",
          "Belize",
          "Guatemala",
          "Colombia",
          "Dominican Republic",
          "Madagascar",
          "India",
          "Tanzania",
          "Peru",
          "Dominican Republic",
          "Dominican Republic",
          "Madagascar",
          "Ecuador",
          "Tanzania",
          "Dominican Republic",
          "Bolivia",
          "Philippines",
          "Haiti",
          "Mexico",
          "Madagascar",
          "Papua New Guinea",
          "Bolivia",
          "Colombia",
          "Tanzania",
          "Ecuador",
          "Peru",
          "Venezuela",
          "Venezuela",
          "Venezuela",
          "Venezuela",
          "Venezuela",
          "Venezuela",
          "Venezuela",
          "Venezuela",
          "Venezuela",
          "Ghana",
          "Madagascar",
          "Vietnam",
          "Costa Rica",
          "Peru",
          "Peru",
          "Dominican Republic",
          "Peru",
          "Peru",
          "Peru",
          "Peru",
          "Costa Rica",
          "Nicaragua",
          "Guatemala",
          "Peru",
          "India",
          "Jamaica",
          "Jamaica",
          "Jamaica",
          "Venezuela",
          "Ghana",
          "Madagascar",
          "Madagascar",
          "Jamaica",
          "Dominican Republic",
          "Venezuela",
          "Dominican Republic",
          "Jamaica",
          "Venezuela",
          "Papua New Guinea",
          "Papua New Guinea",
          "Papua New Guinea",
          "Madagascar",
          "Papua New Guinea",
          "Dominican Republic",
          "Dominican Republic",
          "Peru",
          "Peru",
          "Peru",
          "Peru",
          "Peru",
          "Peru",
          "Guatemala",
          "Guatemala",
          "Guatemala",
          "Venezuela",
          "Venezuela",
          "Peru",
          "Ghana",
          "Peru",
          "Ghana",
          "Nicaragua",
          "Madagascar",
          "Nicaragua",
          "Venezuela",
          "Brazil",
          "Tanzania",
          "Belize",
          "Madagascar",
          "Peru",
          "Nicaragua",
          "Nicaragua",
          "Nicaragua",
          "Nicaragua",
          "Nicaragua",
          "Nicaragua",
          "Nicaragua",
          "Nicaragua",
          "Nicaragua",
          "Nicaragua",
          "Nicaragua",
          "Guatemala",
          "Nicaragua",
          "Nicaragua",
          "Nicaragua",
          "Nicaragua",
          "Nicaragua",
          "Honduras",
          "Nicaragua",
          "Nicaragua",
          "Nicaragua",
          "Nicaragua",
          "Nicaragua",
          "Nicaragua",
          "Nicaragua",
          "Costa Rica",
          "Costa Rica",
          "Peru",
          "Ecuador",
          "Dominican Republic",
          "Peru",
          "Trinidad",
          "Bolivia",
          "Costa Rica",
          "Colombia",
          "Madagascar",
          "Dominican Republic",
          "Dominican Republic",
          "Peru",
          "Madagascar",
          "Tanzania",
          "Venezuela",
          "U.S.A.",
          "Madagascar",
          "Dominican Republic",
          "Dominican Republic",
          "Madagascar",
          "Ghana",
          "Venezuela",
          "Guatemala",
          "Venezuela",
          "Brazil",
          "Belize",
          "Mexico",
          "Guatemala",
          "Nicaragua",
          "Peru",
          "Colombia",
          "Costa Rica",
          "Ecuador",
          "Belize",
          "India",
          "Bolivia",
          "Dominican Republic",
          "Vietnam",
          "Madagascar",
          "Tanzania",
          "Dominican Republic",
          "Vietnam",
          "Madagascar",
          "Peru",
          "India",
          "Ecuador",
          "Ghana",
          "Venezuela",
          "Madagascar",
          "Venezuela",
          "Colombia",
          "Madagascar",
          "Ecuador",
          "Peru",
          "Venezuela",
          "U.S.A.",
          "Trinidad",
          "Haiti",
          "Nicaragua",
          "Jamaica",
          "Ecuador",
          "Papua New Guinea",
          "Dominican Republic",
          "U.S.A.",
          "Ecuador",
          "Ecuador",
          "Ecuador",
          "Brazil",
          "Brazil",
          "Brazil",
          "Brazil",
          "Brazil",
          "India",
          "Vietnam",
          "Peru",
          "Tanzania",
          "Dominican Republic",
          "Mexico",
          "Peru",
          "Venezuela",
          "Belize",
          "Costa Rica",
          "Bolivia",
          "Bolivia",
          "Ecuador",
          "U.S.A.",
          "U.S.A.",
          "Ecuador",
          "Ecuador",
          "Bolivia",
          "Bolivia",
          "Venezuela",
          "Ecuador",
          "Nicaragua",
          "Tanzania",
          "Madagascar",
          "Venezuela",
          "Ecuador",
          "Peru",
          "Peru",
          "Ecuador",
          "Madagascar",
          "Tanzania",
          "Dominican Republic",
          "Madagascar",
          "Venezuela",
          "Dominican Republic",
          "Peru",
          "Venezuela",
          "Ecuador",
          "Ecuador",
          "Ecuador",
          "Ecuador",
          "Ecuador",
          "Ecuador",
          "Dominican Republic",
          "Peru",
          "Dominican Republic",
          "Ecuador",
          "Madagascar",
          "Trinidad",
          "Venezuela",
          "Peru",
          "Ecuador",
          "Colombia",
          "Honduras",
          "Tanzania",
          "Tanzania",
          "Ecuador",
          "Venezuela",
          "Dominican Republic",
          "Ecuador",
          "Madagascar",
          "Ecuador",
          "Peru",
          "Dominican Republic",
          "Trinidad",
          "Ecuador",
          "Madagascar",
          "Vietnam",
          "Ecuador",
          "Venezuela",
          "Venezuela",
          "Bolivia",
          "Bolivia",
          "Nicaragua",
          "Dominican Republic",
          "Dominican Republic",
          "Vietnam",
          "Venezuela",
          "Venezuela",
          "Venezuela",
          "Venezuela",
          "Venezuela",
          "Venezuela",
          "Venezuela",
          "Venezuela",
          "Venezuela",
          "Venezuela",
          "India",
          "Honduras",
          "Vietnam",
          "Peru",
          "Peru",
          "Peru",
          "Belize",
          "Dominican Republic",
          "Madagascar",
          "Dominican Republic",
          "Belize",
          "Ghana",
          "Venezuela",
          "Jamaica",
          "Peru",
          "Venezuela",
          "Vietnam",
          "Ecuador",
          "Madagascar",
          "Ecuador",
          "India",
          "Colombia",
          "Trinidad",
          "Madagascar",
          "Venezuela",
          "Dominican Republic",
          "Dominican Republic",
          "Dominican Republic",
          "Dominican Republic",
          "Dominican Republic",
          "Dominican Republic",
          "Dominican Republic",
          "Dominican Republic",
          "Dominican Republic",
          "Dominican Republic",
          "Dominican Republic",
          "Dominican Republic",
          "Nicaragua",
          "Peru",
          "Tanzania",
          "Peru",
          "Ecuador",
          "Ecuador",
          "Ecuador",
          "Ecuador",
          "Ecuador",
          "Ecuador",
          "Ecuador",
          "Ecuador",
          "Ecuador",
          "Philippines",
          "Papua New Guinea",
          "Dominican Republic",
          "Mexico",
          "Colombia",
          "Dominican Republic",
          "Belize",
          "Vietnam",
          "Mexico",
          "Madagascar",
          "Philippines",
          "Mexico",
          "Colombia",
          "Papua New Guinea",
          "Peru",
          "Venezuela",
          "Belize",
          "Madagascar",
          "Belize",
          "Dominican Republic",
          "Dominican Republic",
          "Peru",
          "Haiti",
          "Brazil",
          "Ecuador",
          "Ecuador",
          "Dominican Republic",
          "Madagascar",
          "Bolivia",
          "Madagascar",
          "Venezuela",
          "Dominican Republic",
          "Ecuador",
          "Peru",
          "Venezuela",
          "Brazil",
          "Peru",
          "Peru",
          "Belize",
          "Peru",
          "Dominican Republic",
          "Peru",
          "Belize",
          "Guatemala",
          "Belize",
          "Guatemala",
          "Peru",
          "Ghana",
          "Venezuela",
          "Dominican Republic",
          "Ecuador",
          "Peru",
          "Ecuador",
          "Mexico",
          "Mexico",
          "Mexico",
          "Madagascar",
          "Vietnam",
          "Peru",
          "Brazil",
          "Vietnam",
          "Brazil",
          "Tanzania",
          "Venezuela",
          "Venezuela",
          "Nicaragua",
          "Nicaragua",
          "Honduras",
          "Nicaragua",
          "Bolivia",
          "Colombia",
          "Costa Rica",
          "Peru",
          "Peru",
          "Costa Rica",
          "Bolivia",
          "Dominican Republic",
          "Trinidad",
          "Tanzania",
          "Belize",
          "Honduras",
          "Peru",
          "Ghana",
          "Jamaica",
          "Bolivia",
          "U.S.A.",
          "Madagascar",
          "Madagascar",
          "Dominican Republic",
          "Peru",
          "Bolivia",
          "Bolivia",
          "Peru",
          "India",
          "Vietnam",
          "U.S.A.",
          "U.S.A.",
          "U.S.A.",
          "U.S.A.",
          "U.S.A.",
          "U.S.A.",
          "Bolivia",
          "Belize",
          "Nicaragua",
          "Nicaragua",
          "Nicaragua",
          "Nicaragua",
          "Brazil",
          "Brazil",
          "Brazil",
          "Papua New Guinea",
          "Colombia",
          "India",
          "Madagascar",
          "Tanzania",
          "Peru",
          "Peru",
          "Ghana",
          "Madagascar",
          "Madagascar",
          "Madagascar",
          "Madagascar",
          "Colombia",
          "Mexico",
          "Dominican Republic",
          "Costa Rica",
          "U.S.A.",
          "U.S.A.",
          "U.S.A.",
          "U.S.A.",
          "Mexico",
          "Brazil",
          "Tanzania",
          "Ecuador",
          "Dominican Republic",
          "Ecuador",
          "Madagascar",
          "Madagascar",
          "Philippines",
          "U.S.A.",
          "U.S.A.",
          "Venezuela",
          "Dominican Republic",
          "Peru",
          "Venezuela",
          "Ecuador",
          "Colombia",
          "U.S.A.",
          "Peru",
          "U.S.A.",
          "U.S.A.",
          "Papua New Guinea",
          "Costa Rica",
          "Peru",
          "U.S.A.",
          "Dominican Republic",
          "Ecuador",
          "Ghana",
          "Colombia",
          "Venezuela",
          "Peru",
          "Nicaragua",
          "Trinidad",
          "Colombia",
          "Tanzania",
          "Dominican Republic",
          "Peru",
          "Ecuador",
          "Nicaragua",
          "Peru",
          "Honduras",
          "Vietnam",
          "Vietnam",
          "Mexico",
          "Dominican Republic",
          "Peru",
          "Peru",
          "Peru",
          "Mexico",
          "Bolivia",
          "Brazil",
          "Haiti",
          "Vietnam",
          "Vietnam",
          "Vietnam",
          "Vietnam",
          "Vietnam",
          "Vietnam",
          "Vietnam",
          "Vietnam",
          "Vietnam",
          "Vietnam",
          "Vietnam",
          "Costa Rica",
          "Ghana",
          "Dominican Republic",
          "Dominican Republic",
          "Bolivia",
          "Haiti",
          "Colombia",
          "Venezuela",
          "Venezuela",
          "Dominican Republic",
          "Venezuela",
          "Papua New Guinea",
          "Venezuela",
          "Venezuela",
          "Peru",
          "Dominican Republic",
          "Belize",
          "Dominican Republic",
          "Venezuela",
          "Guatemala",
          "Tanzania",
          "Madagascar",
          "Papua New Guinea",
          "U.S.A.",
          "Belize",
          "Dominican Republic",
          "Peru",
          "Peru",
          "U.S.A.",
          "Vietnam",
          "Madagascar",
          "Dominican Republic",
          "Guatemala",
          "Belize",
          "Bolivia",
          "Venezuela",
          "Belize",
          "Nicaragua",
          "Dominican Republic",
          "Ecuador",
          "Dominican Republic",
          "Philippines",
          "Tanzania",
          "Madagascar",
          "Madagascar",
          "Honduras",
          "Nicaragua",
          "Honduras",
          "Nicaragua",
          "Brazil",
          "Brazil",
          "Madagascar",
          "Peru",
          "Dominican Republic",
          "Madagascar",
          "Papua New Guinea",
          "Venezuela",
          "Mexico",
          "Colombia",
          "Brazil",
          "Guatemala",
          "Bolivia",
          "Dominican Republic",
          "Belize",
          "Tanzania",
          "Belize",
          "Trinidad",
          "Nicaragua",
          "Dominican Republic",
          "Venezuela",
          "Dominican Republic",
          "India",
          "Peru",
          "Belize",
          "Ecuador",
          "Ecuador",
          "Ecuador",
          "India",
          "Brazil",
          "India",
          "Tanzania",
          "Brazil",
          "Vietnam",
          "Madagascar",
          "Peru",
          "Ecuador",
          "Ecuador",
          "Haiti",
          "Papua New Guinea",
          "Madagascar",
          "India",
          "Vietnam",
          "Tanzania",
          "Vietnam",
          "Brazil",
          "Brazil",
          "Colombia",
          "Belize",
          "Belize",
          "Belize",
          "Brazil",
          "Dominican Republic",
          "Tanzania",
          "Madagascar",
          "Dominican Republic",
          "Dominican Republic",
          "Peru",
          "Nicaragua",
          "Nicaragua",
          "Nicaragua",
          "Dominican Republic",
          "Philippines",
          "Papua New Guinea",
          "Mexico",
          "Peru",
          "Ecuador",
          "Ecuador",
          "Ecuador",
          "Ecuador",
          "Mexico",
          "Nicaragua",
          "Nicaragua",
          "Venezuela",
          "Dominican Republic",
          "Tanzania",
          "Madagascar",
          "Vietnam",
          "Costa Rica",
          "Costa Rica",
          "Peru",
          "Venezuela",
          "Venezuela",
          "Nicaragua",
          "Nicaragua",
          "U.S.A.",
          "Peru",
          "Dominican Republic",
          "Madagascar",
          "Ghana",
          "Dominican Republic",
          "Venezuela",
          "Trinidad",
          "Papua New Guinea",
          "Venezuela",
          "Dominican Republic",
          "Madagascar",
          "Peru",
          "Brazil",
          "Peru",
          "Ecuador",
          "Ecuador",
          "Peru",
          "Vietnam",
          "Tanzania",
          "Dominican Republic",
          "Colombia",
          "Ghana",
          "Belize",
          "Peru",
          "Venezuela",
          "Ecuador",
          "Nicaragua",
          "Nicaragua",
          "Ecuador",
          "Ecuador",
          "Venezuela",
          "Madagascar",
          "Ghana",
          "Dominican Republic",
          "Vietnam",
          "Brazil",
          "Jamaica",
          "Peru",
          "Peru",
          "Peru",
          "Papua New Guinea",
          "Papua New Guinea",
          "Papua New Guinea",
          "Papua New Guinea",
          "Guatemala",
          "Tanzania",
          "India",
          "Colombia",
          "Bolivia",
          "Vietnam",
          "Venezuela",
          "U.S.A.",
          "Peru",
          "Venezuela",
          "Haiti",
          "Trinidad",
          "Tanzania",
          "Bolivia",
          "Brazil",
          "Dominican Republic",
          "Ghana",
          "Ghana",
          "Papua New Guinea",
          "Madagascar",
          "Tanzania",
          "Nicaragua",
          "Madagascar",
          "Vietnam",
          "Tanzania",
          "Colombia",
          "Peru",
          "Peru",
          "Madagascar",
          "Belize",
          "Dominican Republic",
          "Nicaragua",
          "Dominican Republic",
          "Ecuador",
          "Peru",
          "Bolivia",
          "Bolivia",
          "Papua New Guinea",
          "U.S.A.",
          "U.S.A.",
          "Peru",
          "Peru",
          "Ecuador",
          "Ecuador",
          "Ecuador",
          "Ecuador",
          "Ecuador",
          "Ecuador",
          "Ecuador",
          "Peru",
          "Ecuador",
          "Ecuador",
          "Ecuador",
          "Ecuador",
          "Colombia",
          "Vietnam",
          "Haiti",
          "Bolivia",
          "Ecuador",
          "Madagascar",
          "Trinidad",
          "Bolivia",
          "Trinidad",
          "Tanzania",
          "Vietnam",
          "Guatemala",
          "Belize",
          "Peru",
          "Dominican Republic",
          "Haiti",
          "Peru",
          "Bolivia",
          "Philippines",
          "Belize",
          "Madagascar",
          "Dominican Republic",
          "Peru",
          "Bolivia",
          "Dominican Republic",
          "Guatemala",
          "Tanzania",
          "Guatemala",
          "Dominican Republic",
          "Colombia",
          "Peru",
          "Peru",
          "Madagascar",
          "Madagascar",
          "Venezuela",
          "Madagascar",
          "Peru",
          "Madagascar",
          "Madagascar",
          "Dominican Republic",
          "Peru",
          "Venezuela",
          "Mexico",
          "Ecuador",
          "Madagascar",
          "Brazil",
          "Mexico",
          "Venezuela",
          "Peru",
          "Trinidad",
          "Madagascar",
          "Vietnam",
          "Tanzania",
          "India",
          "Honduras",
          "Madagascar",
          "Ecuador",
          "Ecuador",
          "Nicaragua",
          "Nicaragua",
          "Nicaragua",
          "Nicaragua",
          "Nicaragua",
          "Bolivia",
          "Dominican Republic",
          "Tanzania",
          "Dominican Republic",
          "Peru",
          "Haiti",
          "Guatemala",
          "Ghana",
          "Costa Rica",
          "Peru",
          "Costa Rica",
          "Costa Rica",
          "Brazil",
          "Venezuela",
          "Dominican Republic",
          "Colombia",
          "Peru",
          "Brazil",
          "Jamaica",
          "Ecuador",
          "Dominican Republic",
          "Madagascar",
          "Brazil",
          "Venezuela",
          "Venezuela",
          "Venezuela",
          "Peru",
          "Papua New Guinea",
          "Venezuela",
          "Madagascar",
          "Colombia",
          "Trinidad",
          "Ghana",
          "Tanzania",
          "Ecuador",
          "Tanzania",
          "Peru",
          "Vietnam",
          "Venezuela",
          "Ecuador",
          "Ecuador",
          "Madagascar",
          "Honduras",
          "Madagascar",
          "Ecuador",
          "Jamaica",
          "Venezuela",
          "Ecuador",
          "Papua New Guinea",
          "Vietnam",
          "Philippines",
          "Dominican Republic",
          "Brazil",
          "Brazil",
          "Brazil",
          "Brazil",
          "Brazil",
          "Brazil",
          "Peru",
          "Peru",
          "Peru",
          "Peru",
          "Peru",
          "Mexico",
          "Mexico",
          "Dominican Republic",
          "Madagascar",
          "Peru",
          "Haiti",
          "Haiti",
          "Guatemala",
          "Ecuador",
          "Peru",
          "Peru",
          "Peru",
          "Mexico",
          "Peru",
          "Ecuador",
          "Tanzania",
          "Peru",
          "Dominican Republic",
          "Nicaragua",
          "Ghana",
          "Peru",
          "Ecuador",
          "Ecuador",
          "Ecuador",
          "Ecuador",
          "Ecuador",
          "Costa Rica",
          "Ecuador",
          "Trinidad",
          "Madagascar",
          "Peru",
          "Belize",
          "Ecuador",
          "Ecuador",
          "Mexico",
          "Nicaragua",
          "Trinidad",
          "Madagascar",
          "Tanzania",
          "Peru",
          "Costa Rica",
          "Costa Rica",
          "Costa Rica",
          "Madagascar",
          "Madagascar",
          "Dominican Republic",
          "Jamaica",
          "Madagascar",
          "Trinidad",
          "Venezuela",
          "Peru",
          "Bolivia",
          "Ecuador",
          "Madagascar",
          "Dominican Republic",
          "Jamaica",
          "Bolivia",
          "Venezuela",
          "Bolivia",
          "Venezuela",
          "Honduras",
          "Venezuela",
          "Venezuela",
          "Venezuela",
          "Venezuela",
          "Venezuela",
          "Madagascar",
          "Venezuela",
          "Peru",
          "Honduras",
          "Haiti",
          "Nicaragua",
          "Tanzania",
          "Dominican Republic",
          "Madagascar",
          "Brazil",
          "Ecuador",
          "Venezuela",
          "Ecuador",
          "Ecuador",
          "Colombia",
          "Colombia",
          "Colombia",
          "Colombia",
          "Colombia",
          "Jamaica",
          "Venezuela",
          "Brazil",
          "Vietnam",
          "Ghana",
          "Madagascar",
          "Papua New Guinea",
          "Peru",
          "Dominican Republic",
          "Honduras",
          "Dominican Republic",
          "Tanzania",
          "Trinidad",
          "Peru",
          "Vietnam",
          "India",
          "Guatemala",
          "Colombia",
          "Belize",
          "Ecuador",
          "Belize",
          "Venezuela",
          "Jamaica",
          "Papua New Guinea",
          "Dominican Republic",
          "U.S.A.",
          "U.S.A.",
          "Peru",
          "Peru",
          "Costa Rica",
          "Costa Rica",
          "Peru",
          "Belize",
          "Colombia",
          "Brazil",
          "Madagascar",
          "Madagascar",
          "Ecuador",
          "Madagascar",
          "Ecuador",
          "Guatemala",
          "Guatemala",
          "Haiti",
          "Bolivia",
          "Tanzania",
          "Ecuador",
          "Peru",
          "Mexico",
          "India",
          "Ghana",
          "Nicaragua",
          "Bolivia",
          "Peru",
          "Madagascar",
          "Madagascar",
          "Papua New Guinea",
          "Tanzania",
          "Trinidad",
          "Venezuela",
          "Ecuador",
          "Vietnam",
          "Guatemala",
          "Venezuela",
          "Belize",
          "Ecuador",
          "Dominican Republic",
          "Haiti",
          "Madagascar",
          "Ecuador",
          "Ghana",
          "India",
          "Madagascar",
          "Ecuador",
          "Dominican Republic",
          "Peru",
          "Philippines",
          "Madagascar",
          "Venezuela",
          "Bolivia",
          "Peru",
          "Tanzania",
          "India",
          "Vietnam",
          "Dominican Republic",
          "Dominican Republic",
          "Ghana",
          "Papua New Guinea",
          "Madagascar",
          "Venezuela",
          "Bolivia",
          "Venezuela",
          "Dominican Republic",
          "Peru",
          "Haiti",
          "Guatemala",
          "Papua New Guinea",
          "U.S.A.",
          "Venezuela",
          "Peru",
          "Venezuela",
          "Dominican Republic",
          "Trinidad",
          "Venezuela",
          "Venezuela",
          "Jamaica",
          "Nicaragua",
          "Nicaragua",
          "Ecuador",
          "Peru",
          "Venezuela",
          "Venezuela",
          "Ecuador",
          "Dominican Republic",
          "Madagascar",
          "Brazil",
          "Nicaragua",
          "Vietnam",
          "Colombia",
          "Haiti",
          "Madagascar",
          "Venezuela",
          "Madagascar",
          "Venezuela",
          "Vietnam",
          "Nicaragua",
          "U.S.A.",
          "Dominican Republic",
          "Ecuador",
          "Papua New Guinea",
          "Madagascar",
          "Venezuela",
          "Tanzania",
          "Dominican Republic",
          "Dominican Republic",
          "Dominican Republic",
          "Dominican Republic",
          "Ecuador",
          "Madagascar",
          "Peru",
          "Ecuador",
          "Dominican Republic",
          "Belize",
          "Madagascar",
          "Bolivia",
          "Dominican Republic",
          "Dominican Republic",
          "Ecuador",
          "Dominican Republic",
          "Guatemala",
          "Nicaragua",
          "Madagascar",
          "India",
          "Brazil",
          "Ecuador",
          "Ecuador",
          "Bolivia",
          "Philippines",
          "Philippines",
          "Philippines",
          "Madagascar",
          "Belize",
          "Peru",
          "Peru",
          "Venezuela",
          "Venezuela",
          "Tanzania",
          "Honduras",
          "Peru",
          "Trinidad",
          "Peru",
          "Tanzania",
          "Belize",
          "Brazil",
          "Venezuela",
          "Mexico",
          "Peru",
          "Papua New Guinea",
          "Venezuela",
          "Dominican Republic",
          "Madagascar",
          "Peru",
          "Nicaragua",
          "Madagascar",
          "Madagascar",
          "Venezuela",
          "Ecuador",
          "Madagascar",
          "Vietnam",
          "Brazil",
          "Ecuador",
          "Mexico",
          "Costa Rica",
          "Dominican Republic",
          "Peru",
          "Trinidad",
          "Colombia",
          "Papua New Guinea",
          "Vietnam",
          "Vietnam",
          "Vietnam",
          "Venezuela",
          "Peru",
          "Peru",
          "Madagascar",
          "Nicaragua",
          "Mexico",
          "Haiti",
          "Dominican Republic",
          "Mexico",
          "Bolivia",
          "Belize",
          "Ghana",
          "Peru",
          "Peru",
          "Madagascar",
          "Peru",
          "Madagascar",
          "Bolivia",
          "Brazil",
          "Papua New Guinea",
          "Madagascar",
          "Venezuela",
          "Ecuador",
          "Ecuador",
          "Mexico",
          "Bolivia",
          "Dominican Republic",
          "Brazil",
          "Ecuador",
          "Madagascar",
          "Peru",
          "Ecuador",
          "Dominican Republic",
          "Belize",
          "Madagascar",
          "Guatemala",
          "Haiti",
          "Belize",
          "Bolivia",
          "Peru",
          "Venezuela",
          "Ghana",
          "Madagascar",
          "Peru",
          "Ecuador",
          "Colombia",
          "Colombia",
          "Belize",
          "Tanzania",
          "Ecuador",
          "Ecuador",
          "Venezuela",
          "Dominican Republic",
          "Bolivia",
          "Haiti",
          "Bolivia",
          "Belize",
          "Colombia",
          "Ecuador",
          "Dominican Republic",
          "Dominican Republic",
          "Dominican Republic",
          "Nicaragua",
          "Haiti",
          "Guatemala",
          "Philippines",
          "Peru",
          "Peru",
          "Vietnam",
          "Honduras",
          "Peru",
          "Madagascar",
          "Dominican Republic",
          "Bolivia",
          "Dominican Republic",
          "Madagascar",
          "Dominican Republic",
          "Ecuador",
          "Tanzania",
          "Peru",
          "Dominican Republic",
          "Dominican Republic",
          "Tanzania",
          "Guatemala",
          "Nicaragua",
          "Dominican Republic",
          "Madagascar",
          "Tanzania",
          "Venezuela",
          "Colombia",
          "Nicaragua",
          "Belize",
          "Trinidad",
          "Venezuela",
          "Madagascar",
          "Venezuela",
          "Venezuela",
          "Madagascar",
          "Ghana",
          "Dominican Republic",
          "Ecuador",
          "Venezuela",
          "Venezuela",
          "Dominican Republic",
          "Peru",
          "Ghana",
          "Ghana",
          "Madagascar",
          "Madagascar",
          "Madagascar",
          "Madagascar",
          "Madagascar",
          "Madagascar",
          "Bolivia",
          "Bolivia",
          "Bolivia",
          "Guatemala",
          "Dominican Republic",
          "Dominican Republic",
          "Trinidad",
          "Ecuador",
          "Guatemala",
          "Dominican Republic",
          "Ecuador",
          "Vietnam",
          "Peru",
          "Ecuador",
          "Ecuador",
          "Ecuador",
          "Ecuador",
          "Madagascar",
          "Guatemala",
          "Belize",
          "Venezuela",
          "Peru",
          "Peru",
          "Venezuela",
          "Dominican Republic",
          "Bolivia",
          "Haiti",
          "Dominican Republic",
          "Peru",
          "Tanzania",
          "Bolivia",
          "Philippines",
          "Honduras",
          "Trinidad",
          "Ghana",
          "Peru",
          "Peru",
          "Peru",
          "Peru",
          "Peru",
          "Venezuela",
          "Madagascar",
          "Venezuela",
          "Colombia",
          "Colombia",
          "Venezuela",
          "Bolivia",
          "Ghana",
          "Belize",
          "Venezuela",
          "Dominican Republic",
          "Dominican Republic",
          "Venezuela",
          "Ecuador",
          "Costa Rica",
          "Madagascar",
          "Ecuador",
          "Trinidad",
          "Peru",
          "Tanzania",
          "Dominican Republic",
          "Tanzania",
          "Peru",
          "Nicaragua",
          "Dominican Republic",
          "Madagascar",
          "Trinidad",
          "Vietnam",
          "Dominican Republic",
          "Bolivia",
          "Papua New Guinea",
          "Dominican Republic",
          "Madagascar",
          "Peru",
          "Belize",
          "Ecuador",
          "Trinidad",
          "Tanzania",
          "Madagascar",
          "Tanzania",
          "Trinidad",
          "Bolivia",
          "Papua New Guinea",
          "Bolivia",
          "Nicaragua",
          "Nicaragua",
          "Nicaragua",
          "Brazil",
          "India",
          "India",
          "Peru",
          "Peru",
          "Ecuador",
          "Papua New Guinea",
          "Bolivia",
          "Peru",
          "Dominican Republic",
          "Dominican Republic",
          "Colombia",
          "Belize"
         ],
         "xaxis": "x",
         "yaxis": "y"
        }
       ],
       "layout": {
        "barmode": "relative",
        "font": {
         "color": "#6f1c0e"
        },
        "legend": {
         "tracegroupgap": 0
        },
        "plot_bgcolor": "#fff7ef",
        "template": {
         "data": {
          "bar": [
           {
            "error_x": {
             "color": "#2a3f5f"
            },
            "error_y": {
             "color": "#2a3f5f"
            },
            "marker": {
             "line": {
              "color": "#E5ECF6",
              "width": 0.5
             },
             "pattern": {
              "fillmode": "overlay",
              "size": 10,
              "solidity": 0.2
             }
            },
            "type": "bar"
           }
          ],
          "barpolar": [
           {
            "marker": {
             "line": {
              "color": "#E5ECF6",
              "width": 0.5
             },
             "pattern": {
              "fillmode": "overlay",
              "size": 10,
              "solidity": 0.2
             }
            },
            "type": "barpolar"
           }
          ],
          "carpet": [
           {
            "aaxis": {
             "endlinecolor": "#2a3f5f",
             "gridcolor": "white",
             "linecolor": "white",
             "minorgridcolor": "white",
             "startlinecolor": "#2a3f5f"
            },
            "baxis": {
             "endlinecolor": "#2a3f5f",
             "gridcolor": "white",
             "linecolor": "white",
             "minorgridcolor": "white",
             "startlinecolor": "#2a3f5f"
            },
            "type": "carpet"
           }
          ],
          "choropleth": [
           {
            "colorbar": {
             "outlinewidth": 0,
             "ticks": ""
            },
            "type": "choropleth"
           }
          ],
          "contour": [
           {
            "colorbar": {
             "outlinewidth": 0,
             "ticks": ""
            },
            "colorscale": [
             [
              0,
              "#0d0887"
             ],
             [
              0.1111111111111111,
              "#46039f"
             ],
             [
              0.2222222222222222,
              "#7201a8"
             ],
             [
              0.3333333333333333,
              "#9c179e"
             ],
             [
              0.4444444444444444,
              "#bd3786"
             ],
             [
              0.5555555555555556,
              "#d8576b"
             ],
             [
              0.6666666666666666,
              "#ed7953"
             ],
             [
              0.7777777777777778,
              "#fb9f3a"
             ],
             [
              0.8888888888888888,
              "#fdca26"
             ],
             [
              1,
              "#f0f921"
             ]
            ],
            "type": "contour"
           }
          ],
          "contourcarpet": [
           {
            "colorbar": {
             "outlinewidth": 0,
             "ticks": ""
            },
            "type": "contourcarpet"
           }
          ],
          "heatmap": [
           {
            "colorbar": {
             "outlinewidth": 0,
             "ticks": ""
            },
            "colorscale": [
             [
              0,
              "#0d0887"
             ],
             [
              0.1111111111111111,
              "#46039f"
             ],
             [
              0.2222222222222222,
              "#7201a8"
             ],
             [
              0.3333333333333333,
              "#9c179e"
             ],
             [
              0.4444444444444444,
              "#bd3786"
             ],
             [
              0.5555555555555556,
              "#d8576b"
             ],
             [
              0.6666666666666666,
              "#ed7953"
             ],
             [
              0.7777777777777778,
              "#fb9f3a"
             ],
             [
              0.8888888888888888,
              "#fdca26"
             ],
             [
              1,
              "#f0f921"
             ]
            ],
            "type": "heatmap"
           }
          ],
          "heatmapgl": [
           {
            "colorbar": {
             "outlinewidth": 0,
             "ticks": ""
            },
            "colorscale": [
             [
              0,
              "#0d0887"
             ],
             [
              0.1111111111111111,
              "#46039f"
             ],
             [
              0.2222222222222222,
              "#7201a8"
             ],
             [
              0.3333333333333333,
              "#9c179e"
             ],
             [
              0.4444444444444444,
              "#bd3786"
             ],
             [
              0.5555555555555556,
              "#d8576b"
             ],
             [
              0.6666666666666666,
              "#ed7953"
             ],
             [
              0.7777777777777778,
              "#fb9f3a"
             ],
             [
              0.8888888888888888,
              "#fdca26"
             ],
             [
              1,
              "#f0f921"
             ]
            ],
            "type": "heatmapgl"
           }
          ],
          "histogram": [
           {
            "marker": {
             "pattern": {
              "fillmode": "overlay",
              "size": 10,
              "solidity": 0.2
             }
            },
            "type": "histogram"
           }
          ],
          "histogram2d": [
           {
            "colorbar": {
             "outlinewidth": 0,
             "ticks": ""
            },
            "colorscale": [
             [
              0,
              "#0d0887"
             ],
             [
              0.1111111111111111,
              "#46039f"
             ],
             [
              0.2222222222222222,
              "#7201a8"
             ],
             [
              0.3333333333333333,
              "#9c179e"
             ],
             [
              0.4444444444444444,
              "#bd3786"
             ],
             [
              0.5555555555555556,
              "#d8576b"
             ],
             [
              0.6666666666666666,
              "#ed7953"
             ],
             [
              0.7777777777777778,
              "#fb9f3a"
             ],
             [
              0.8888888888888888,
              "#fdca26"
             ],
             [
              1,
              "#f0f921"
             ]
            ],
            "type": "histogram2d"
           }
          ],
          "histogram2dcontour": [
           {
            "colorbar": {
             "outlinewidth": 0,
             "ticks": ""
            },
            "colorscale": [
             [
              0,
              "#0d0887"
             ],
             [
              0.1111111111111111,
              "#46039f"
             ],
             [
              0.2222222222222222,
              "#7201a8"
             ],
             [
              0.3333333333333333,
              "#9c179e"
             ],
             [
              0.4444444444444444,
              "#bd3786"
             ],
             [
              0.5555555555555556,
              "#d8576b"
             ],
             [
              0.6666666666666666,
              "#ed7953"
             ],
             [
              0.7777777777777778,
              "#fb9f3a"
             ],
             [
              0.8888888888888888,
              "#fdca26"
             ],
             [
              1,
              "#f0f921"
             ]
            ],
            "type": "histogram2dcontour"
           }
          ],
          "mesh3d": [
           {
            "colorbar": {
             "outlinewidth": 0,
             "ticks": ""
            },
            "type": "mesh3d"
           }
          ],
          "parcoords": [
           {
            "line": {
             "colorbar": {
              "outlinewidth": 0,
              "ticks": ""
             }
            },
            "type": "parcoords"
           }
          ],
          "pie": [
           {
            "automargin": true,
            "type": "pie"
           }
          ],
          "scatter": [
           {
            "marker": {
             "colorbar": {
              "outlinewidth": 0,
              "ticks": ""
             }
            },
            "type": "scatter"
           }
          ],
          "scatter3d": [
           {
            "line": {
             "colorbar": {
              "outlinewidth": 0,
              "ticks": ""
             }
            },
            "marker": {
             "colorbar": {
              "outlinewidth": 0,
              "ticks": ""
             }
            },
            "type": "scatter3d"
           }
          ],
          "scattercarpet": [
           {
            "marker": {
             "colorbar": {
              "outlinewidth": 0,
              "ticks": ""
             }
            },
            "type": "scattercarpet"
           }
          ],
          "scattergeo": [
           {
            "marker": {
             "colorbar": {
              "outlinewidth": 0,
              "ticks": ""
             }
            },
            "type": "scattergeo"
           }
          ],
          "scattergl": [
           {
            "marker": {
             "colorbar": {
              "outlinewidth": 0,
              "ticks": ""
             }
            },
            "type": "scattergl"
           }
          ],
          "scattermapbox": [
           {
            "marker": {
             "colorbar": {
              "outlinewidth": 0,
              "ticks": ""
             }
            },
            "type": "scattermapbox"
           }
          ],
          "scatterpolar": [
           {
            "marker": {
             "colorbar": {
              "outlinewidth": 0,
              "ticks": ""
             }
            },
            "type": "scatterpolar"
           }
          ],
          "scatterpolargl": [
           {
            "marker": {
             "colorbar": {
              "outlinewidth": 0,
              "ticks": ""
             }
            },
            "type": "scatterpolargl"
           }
          ],
          "scatterternary": [
           {
            "marker": {
             "colorbar": {
              "outlinewidth": 0,
              "ticks": ""
             }
            },
            "type": "scatterternary"
           }
          ],
          "surface": [
           {
            "colorbar": {
             "outlinewidth": 0,
             "ticks": ""
            },
            "colorscale": [
             [
              0,
              "#0d0887"
             ],
             [
              0.1111111111111111,
              "#46039f"
             ],
             [
              0.2222222222222222,
              "#7201a8"
             ],
             [
              0.3333333333333333,
              "#9c179e"
             ],
             [
              0.4444444444444444,
              "#bd3786"
             ],
             [
              0.5555555555555556,
              "#d8576b"
             ],
             [
              0.6666666666666666,
              "#ed7953"
             ],
             [
              0.7777777777777778,
              "#fb9f3a"
             ],
             [
              0.8888888888888888,
              "#fdca26"
             ],
             [
              1,
              "#f0f921"
             ]
            ],
            "type": "surface"
           }
          ],
          "table": [
           {
            "cells": {
             "fill": {
              "color": "#EBF0F8"
             },
             "line": {
              "color": "white"
             }
            },
            "header": {
             "fill": {
              "color": "#C8D4E3"
             },
             "line": {
              "color": "white"
             }
            },
            "type": "table"
           }
          ]
         },
         "layout": {
          "annotationdefaults": {
           "arrowcolor": "#2a3f5f",
           "arrowhead": 0,
           "arrowwidth": 1
          },
          "autotypenumbers": "strict",
          "coloraxis": {
           "colorbar": {
            "outlinewidth": 0,
            "ticks": ""
           }
          },
          "colorscale": {
           "diverging": [
            [
             0,
             "#8e0152"
            ],
            [
             0.1,
             "#c51b7d"
            ],
            [
             0.2,
             "#de77ae"
            ],
            [
             0.3,
             "#f1b6da"
            ],
            [
             0.4,
             "#fde0ef"
            ],
            [
             0.5,
             "#f7f7f7"
            ],
            [
             0.6,
             "#e6f5d0"
            ],
            [
             0.7,
             "#b8e186"
            ],
            [
             0.8,
             "#7fbc41"
            ],
            [
             0.9,
             "#4d9221"
            ],
            [
             1,
             "#276419"
            ]
           ],
           "sequential": [
            [
             0,
             "#0d0887"
            ],
            [
             0.1111111111111111,
             "#46039f"
            ],
            [
             0.2222222222222222,
             "#7201a8"
            ],
            [
             0.3333333333333333,
             "#9c179e"
            ],
            [
             0.4444444444444444,
             "#bd3786"
            ],
            [
             0.5555555555555556,
             "#d8576b"
            ],
            [
             0.6666666666666666,
             "#ed7953"
            ],
            [
             0.7777777777777778,
             "#fb9f3a"
            ],
            [
             0.8888888888888888,
             "#fdca26"
            ],
            [
             1,
             "#f0f921"
            ]
           ],
           "sequentialminus": [
            [
             0,
             "#0d0887"
            ],
            [
             0.1111111111111111,
             "#46039f"
            ],
            [
             0.2222222222222222,
             "#7201a8"
            ],
            [
             0.3333333333333333,
             "#9c179e"
            ],
            [
             0.4444444444444444,
             "#bd3786"
            ],
            [
             0.5555555555555556,
             "#d8576b"
            ],
            [
             0.6666666666666666,
             "#ed7953"
            ],
            [
             0.7777777777777778,
             "#fb9f3a"
            ],
            [
             0.8888888888888888,
             "#fdca26"
            ],
            [
             1,
             "#f0f921"
            ]
           ]
          },
          "colorway": [
           "#636efa",
           "#EF553B",
           "#00cc96",
           "#ab63fa",
           "#FFA15A",
           "#19d3f3",
           "#FF6692",
           "#B6E880",
           "#FF97FF",
           "#FECB52"
          ],
          "font": {
           "color": "#2a3f5f"
          },
          "geo": {
           "bgcolor": "white",
           "lakecolor": "white",
           "landcolor": "#E5ECF6",
           "showlakes": true,
           "showland": true,
           "subunitcolor": "white"
          },
          "hoverlabel": {
           "align": "left"
          },
          "hovermode": "closest",
          "mapbox": {
           "style": "light"
          },
          "paper_bgcolor": "white",
          "plot_bgcolor": "#E5ECF6",
          "polar": {
           "angularaxis": {
            "gridcolor": "white",
            "linecolor": "white",
            "ticks": ""
           },
           "bgcolor": "#E5ECF6",
           "radialaxis": {
            "gridcolor": "white",
            "linecolor": "white",
            "ticks": ""
           }
          },
          "scene": {
           "xaxis": {
            "backgroundcolor": "#E5ECF6",
            "gridcolor": "white",
            "gridwidth": 2,
            "linecolor": "white",
            "showbackground": true,
            "ticks": "",
            "zerolinecolor": "white"
           },
           "yaxis": {
            "backgroundcolor": "#E5ECF6",
            "gridcolor": "white",
            "gridwidth": 2,
            "linecolor": "white",
            "showbackground": true,
            "ticks": "",
            "zerolinecolor": "white"
           },
           "zaxis": {
            "backgroundcolor": "#E5ECF6",
            "gridcolor": "white",
            "gridwidth": 2,
            "linecolor": "white",
            "showbackground": true,
            "ticks": "",
            "zerolinecolor": "white"
           }
          },
          "shapedefaults": {
           "line": {
            "color": "#2a3f5f"
           }
          },
          "ternary": {
           "aaxis": {
            "gridcolor": "white",
            "linecolor": "white",
            "ticks": ""
           },
           "baxis": {
            "gridcolor": "white",
            "linecolor": "white",
            "ticks": ""
           },
           "bgcolor": "#E5ECF6",
           "caxis": {
            "gridcolor": "white",
            "linecolor": "white",
            "ticks": ""
           }
          },
          "title": {
           "x": 0.05
          },
          "xaxis": {
           "automargin": true,
           "gridcolor": "white",
           "linecolor": "white",
           "ticks": "",
           "title": {
            "standoff": 15
           },
           "zerolinecolor": "white",
           "zerolinewidth": 2
          },
          "yaxis": {
           "automargin": true,
           "gridcolor": "white",
           "linecolor": "white",
           "ticks": "",
           "title": {
            "standoff": 15
           },
           "zerolinecolor": "white",
           "zerolinewidth": 2
          }
         }
        },
        "title": {
         "text": "Pays d'origine des fèves de cacao"
        },
        "xaxis": {
         "anchor": "y",
         "categoryorder": "total descending",
         "domain": [
          0,
          1
         ],
         "tickangle": 45,
         "title": {
          "text": ""
         }
        },
        "yaxis": {
         "anchor": "x",
         "domain": [
          0,
          1
         ],
         "title": {
          "text": "Nombre de chocolats évalués"
         }
        }
       }
      }
     },
     "metadata": {},
     "output_type": "display_data"
    }
   ],
   "source": [
    "\n",
    "databis = data.copy()\n",
    "#Selectionner les pays avec plus de 20 chocolats\n",
    "databis['country_of_bean_origin'] = databis['country_of_bean_origin'].apply(lambda x: x if databis['country_of_bean_origin'].value_counts()[x] > 20 else 'Blend')\n",
    "#Enlever \"Blend\"\n",
    "fig = px.histogram(databis[databis['country_of_bean_origin'] != 'Blend'], x='country_of_bean_origin', \n",
    "                   color_discrete_sequence=palette, title=\"Pays d'origine des fèves de cacao\")\n",
    "fig.update_xaxes(categoryorder='total descending', tickangle=45)\n",
    "fig.update_layout(xaxis_title='', yaxis_title='Nombre de chocolats évalués')\n",
    "fig.update_layout(plot_bgcolor=background_color, font_color=text_color)\n",
    "fig.update_traces(marker=dict(color=palette[0]))\n",
    "fig.show()"
   ]
  },
  {
   "cell_type": "markdown",
   "metadata": {},
   "source": [
    "### diag en barre top 5"
   ]
  },
  {
   "cell_type": "code",
   "execution_count": 24,
   "metadata": {},
   "outputs": [
    {
     "data": {
      "application/vnd.plotly.v1+json": {
       "config": {
        "plotlyServerURL": "https://plot.ly"
       },
       "data": [
        {
         "alignmentgroup": "True",
         "bingroup": "x",
         "hovertemplate": "country_of_bean_origin=%{x}<br>count=%{y}<extra></extra>",
         "legendgroup": "",
         "marker": {
          "color": "#874646",
          "pattern": {
           "shape": ""
          }
         },
         "name": "",
         "offsetgroup": "",
         "orientation": "v",
         "showlegend": false,
         "type": "histogram",
         "x": [
          "Dominican Republic",
          "Madagascar",
          "Venezuela",
          "Peru",
          "Madagascar",
          "Peru",
          "Peru",
          "Ecuador",
          "Venezuela",
          "Peru",
          "Venezuela",
          "Venezuela",
          "Venezuela",
          "Peru",
          "Peru",
          "Venezuela",
          "Peru",
          "Peru",
          "Peru",
          "Peru",
          "Ecuador",
          "Ecuador",
          "Madagascar",
          "Venezuela",
          "Peru",
          "Madagascar",
          "Ecuador",
          "Venezuela",
          "Dominican Republic",
          "Peru",
          "Peru",
          "Ecuador",
          "Peru",
          "Dominican Republic",
          "Venezuela",
          "Madagascar",
          "Venezuela",
          "Venezuela",
          "Venezuela",
          "Dominican Republic",
          "Ecuador",
          "Ecuador",
          "Ecuador",
          "Peru",
          "Peru",
          "Peru",
          "Peru",
          "Madagascar",
          "Dominican Republic",
          "Venezuela",
          "Peru",
          "Ecuador",
          "Venezuela",
          "Peru",
          "Madagascar",
          "Venezuela",
          "Venezuela",
          "Dominican Republic",
          "Ecuador",
          "Madagascar",
          "Venezuela",
          "Peru",
          "Dominican Republic",
          "Ecuador",
          "Ecuador",
          "Ecuador",
          "Ecuador",
          "Dominican Republic",
          "Peru",
          "Madagascar",
          "Peru",
          "Venezuela",
          "Madagascar",
          "Peru",
          "Dominican Republic",
          "Venezuela",
          "Madagascar",
          "Ecuador",
          "Dominican Republic",
          "Madagascar",
          "Peru",
          "Peru",
          "Dominican Republic",
          "Madagascar",
          "Peru",
          "Ecuador",
          "Dominican Republic",
          "Peru",
          "Dominican Republic",
          "Ecuador",
          "Ecuador",
          "Peru",
          "Ecuador",
          "Dominican Republic",
          "Madagascar",
          "Venezuela",
          "Venezuela",
          "Ecuador",
          "Venezuela",
          "Venezuela",
          "Venezuela",
          "Madagascar",
          "Venezuela",
          "Venezuela",
          "Ecuador",
          "Venezuela",
          "Venezuela",
          "Venezuela",
          "Madagascar",
          "Dominican Republic",
          "Dominican Republic",
          "Madagascar",
          "Dominican Republic",
          "Madagascar",
          "Madagascar",
          "Venezuela",
          "Dominican Republic",
          "Dominican Republic",
          "Venezuela",
          "Dominican Republic",
          "Madagascar",
          "Dominican Republic",
          "Madagascar",
          "Venezuela",
          "Madagascar",
          "Venezuela",
          "Venezuela",
          "Ecuador",
          "Venezuela",
          "Peru",
          "Peru",
          "Peru",
          "Madagascar",
          "Dominican Republic",
          "Peru",
          "Ecuador",
          "Ecuador",
          "Dominican Republic",
          "Ecuador",
          "Peru",
          "Dominican Republic",
          "Ecuador",
          "Venezuela",
          "Venezuela",
          "Dominican Republic",
          "Venezuela",
          "Dominican Republic",
          "Ecuador",
          "Madagascar",
          "Dominican Republic",
          "Dominican Republic",
          "Madagascar",
          "Madagascar",
          "Dominican Republic",
          "Ecuador",
          "Ecuador",
          "Dominican Republic",
          "Ecuador",
          "Ecuador",
          "Ecuador",
          "Venezuela",
          "Dominican Republic",
          "Dominican Republic",
          "Peru",
          "Venezuela",
          "Dominican Republic",
          "Venezuela",
          "Venezuela",
          "Venezuela",
          "Venezuela",
          "Venezuela",
          "Venezuela",
          "Venezuela",
          "Venezuela",
          "Venezuela",
          "Venezuela",
          "Venezuela",
          "Dominican Republic",
          "Dominican Republic",
          "Dominican Republic",
          "Dominican Republic",
          "Madagascar",
          "Venezuela",
          "Venezuela",
          "Ecuador",
          "Dominican Republic",
          "Peru",
          "Ecuador",
          "Madagascar",
          "Peru",
          "Dominican Republic",
          "Ecuador",
          "Peru",
          "Peru",
          "Peru",
          "Peru",
          "Ecuador",
          "Ecuador",
          "Ecuador",
          "Ecuador",
          "Ecuador",
          "Venezuela",
          "Ecuador",
          "Dominican Republic",
          "Venezuela",
          "Venezuela",
          "Ecuador",
          "Ecuador",
          "Ecuador",
          "Ecuador",
          "Ecuador",
          "Ecuador",
          "Peru",
          "Peru",
          "Peru",
          "Venezuela",
          "Venezuela",
          "Dominican Republic",
          "Dominican Republic",
          "Venezuela",
          "Dominican Republic",
          "Venezuela",
          "Peru",
          "Venezuela",
          "Ecuador",
          "Peru",
          "Venezuela",
          "Ecuador",
          "Madagascar",
          "Peru",
          "Venezuela",
          "Ecuador",
          "Ecuador",
          "Peru",
          "Ecuador",
          "Dominican Republic",
          "Ecuador",
          "Dominican Republic",
          "Peru",
          "Dominican Republic",
          "Peru",
          "Madagascar",
          "Madagascar",
          "Venezuela",
          "Peru",
          "Dominican Republic",
          "Dominican Republic",
          "Venezuela",
          "Ecuador",
          "Peru",
          "Dominican Republic",
          "Peru",
          "Ecuador",
          "Peru",
          "Madagascar",
          "Peru",
          "Peru",
          "Venezuela",
          "Venezuela",
          "Dominican Republic",
          "Peru",
          "Venezuela",
          "Dominican Republic",
          "Ecuador",
          "Venezuela",
          "Madagascar",
          "Venezuela",
          "Venezuela",
          "Venezuela",
          "Madagascar",
          "Peru",
          "Peru",
          "Ecuador",
          "Dominican Republic",
          "Peru",
          "Venezuela",
          "Venezuela",
          "Dominican Republic",
          "Ecuador",
          "Peru",
          "Peru",
          "Madagascar",
          "Venezuela",
          "Ecuador",
          "Venezuela",
          "Venezuela",
          "Ecuador",
          "Peru",
          "Madagascar",
          "Venezuela",
          "Peru",
          "Peru",
          "Venezuela",
          "Venezuela",
          "Ecuador",
          "Venezuela",
          "Venezuela",
          "Ecuador",
          "Madagascar",
          "Ecuador",
          "Ecuador",
          "Ecuador",
          "Dominican Republic",
          "Ecuador",
          "Dominican Republic",
          "Ecuador",
          "Peru",
          "Dominican Republic",
          "Venezuela",
          "Venezuela",
          "Venezuela",
          "Ecuador",
          "Dominican Republic",
          "Dominican Republic",
          "Peru",
          "Dominican Republic",
          "Dominican Republic",
          "Madagascar",
          "Dominican Republic",
          "Venezuela",
          "Madagascar",
          "Venezuela",
          "Peru",
          "Madagascar",
          "Venezuela",
          "Ecuador",
          "Dominican Republic",
          "Venezuela",
          "Madagascar",
          "Madagascar",
          "Ecuador",
          "Peru",
          "Venezuela",
          "Dominican Republic",
          "Dominican Republic",
          "Dominican Republic",
          "Dominican Republic",
          "Madagascar",
          "Venezuela",
          "Dominican Republic",
          "Ecuador",
          "Ecuador",
          "Ecuador",
          "Dominican Republic",
          "Madagascar",
          "Venezuela",
          "Venezuela",
          "Venezuela",
          "Peru",
          "Venezuela",
          "Venezuela",
          "Venezuela",
          "Madagascar",
          "Madagascar",
          "Venezuela",
          "Ecuador",
          "Venezuela",
          "Venezuela",
          "Venezuela",
          "Venezuela",
          "Venezuela",
          "Venezuela",
          "Ecuador",
          "Venezuela",
          "Venezuela",
          "Madagascar",
          "Peru",
          "Dominican Republic",
          "Dominican Republic",
          "Ecuador",
          "Ecuador",
          "Peru",
          "Dominican Republic",
          "Venezuela",
          "Venezuela",
          "Dominican Republic",
          "Madagascar",
          "Dominican Republic",
          "Venezuela",
          "Peru",
          "Venezuela",
          "Ecuador",
          "Peru",
          "Peru",
          "Madagascar",
          "Dominican Republic",
          "Peru",
          "Peru",
          "Venezuela",
          "Madagascar",
          "Venezuela",
          "Venezuela",
          "Venezuela",
          "Venezuela",
          "Venezuela",
          "Venezuela",
          "Venezuela",
          "Venezuela",
          "Peru",
          "Dominican Republic",
          "Madagascar",
          "Venezuela",
          "Venezuela",
          "Venezuela",
          "Venezuela",
          "Ecuador",
          "Dominican Republic",
          "Peru",
          "Venezuela",
          "Madagascar",
          "Venezuela",
          "Dominican Republic",
          "Ecuador",
          "Dominican Republic",
          "Dominican Republic",
          "Dominican Republic",
          "Dominican Republic",
          "Madagascar",
          "Peru",
          "Dominican Republic",
          "Dominican Republic",
          "Madagascar",
          "Ecuador",
          "Dominican Republic",
          "Madagascar",
          "Ecuador",
          "Peru",
          "Venezuela",
          "Venezuela",
          "Venezuela",
          "Venezuela",
          "Venezuela",
          "Venezuela",
          "Venezuela",
          "Venezuela",
          "Venezuela",
          "Madagascar",
          "Peru",
          "Peru",
          "Dominican Republic",
          "Peru",
          "Peru",
          "Peru",
          "Peru",
          "Peru",
          "Venezuela",
          "Madagascar",
          "Madagascar",
          "Dominican Republic",
          "Venezuela",
          "Dominican Republic",
          "Venezuela",
          "Madagascar",
          "Dominican Republic",
          "Dominican Republic",
          "Peru",
          "Peru",
          "Peru",
          "Peru",
          "Peru",
          "Peru",
          "Venezuela",
          "Venezuela",
          "Peru",
          "Peru",
          "Madagascar",
          "Venezuela",
          "Madagascar",
          "Peru",
          "Peru",
          "Ecuador",
          "Dominican Republic",
          "Peru",
          "Madagascar",
          "Dominican Republic",
          "Dominican Republic",
          "Peru",
          "Madagascar",
          "Venezuela",
          "Madagascar",
          "Dominican Republic",
          "Dominican Republic",
          "Madagascar",
          "Venezuela",
          "Venezuela",
          "Peru",
          "Ecuador",
          "Dominican Republic",
          "Madagascar",
          "Dominican Republic",
          "Madagascar",
          "Peru",
          "Ecuador",
          "Venezuela",
          "Madagascar",
          "Venezuela",
          "Madagascar",
          "Ecuador",
          "Peru",
          "Venezuela",
          "Ecuador",
          "Dominican Republic",
          "Ecuador",
          "Ecuador",
          "Ecuador",
          "Peru",
          "Dominican Republic",
          "Peru",
          "Venezuela",
          "Ecuador",
          "Ecuador",
          "Ecuador",
          "Venezuela",
          "Ecuador",
          "Madagascar",
          "Venezuela",
          "Ecuador",
          "Peru",
          "Peru",
          "Ecuador",
          "Madagascar",
          "Dominican Republic",
          "Madagascar",
          "Venezuela",
          "Dominican Republic",
          "Peru",
          "Venezuela",
          "Ecuador",
          "Ecuador",
          "Ecuador",
          "Ecuador",
          "Ecuador",
          "Ecuador",
          "Dominican Republic",
          "Peru",
          "Dominican Republic",
          "Ecuador",
          "Madagascar",
          "Venezuela",
          "Peru",
          "Ecuador",
          "Ecuador",
          "Venezuela",
          "Dominican Republic",
          "Ecuador",
          "Madagascar",
          "Ecuador",
          "Peru",
          "Dominican Republic",
          "Ecuador",
          "Madagascar",
          "Ecuador",
          "Venezuela",
          "Venezuela",
          "Dominican Republic",
          "Dominican Republic",
          "Venezuela",
          "Venezuela",
          "Venezuela",
          "Venezuela",
          "Venezuela",
          "Venezuela",
          "Venezuela",
          "Venezuela",
          "Venezuela",
          "Venezuela",
          "Peru",
          "Peru",
          "Peru",
          "Dominican Republic",
          "Madagascar",
          "Dominican Republic",
          "Venezuela",
          "Peru",
          "Venezuela",
          "Ecuador",
          "Madagascar",
          "Ecuador",
          "Madagascar",
          "Venezuela",
          "Dominican Republic",
          "Dominican Republic",
          "Dominican Republic",
          "Dominican Republic",
          "Dominican Republic",
          "Dominican Republic",
          "Dominican Republic",
          "Dominican Republic",
          "Dominican Republic",
          "Dominican Republic",
          "Dominican Republic",
          "Dominican Republic",
          "Peru",
          "Peru",
          "Ecuador",
          "Ecuador",
          "Ecuador",
          "Ecuador",
          "Ecuador",
          "Ecuador",
          "Ecuador",
          "Ecuador",
          "Ecuador",
          "Dominican Republic",
          "Dominican Republic",
          "Madagascar",
          "Peru",
          "Venezuela",
          "Madagascar",
          "Dominican Republic",
          "Dominican Republic",
          "Peru",
          "Ecuador",
          "Ecuador",
          "Dominican Republic",
          "Madagascar",
          "Madagascar",
          "Venezuela",
          "Dominican Republic",
          "Ecuador",
          "Peru",
          "Venezuela",
          "Peru",
          "Peru",
          "Peru",
          "Dominican Republic",
          "Peru",
          "Peru",
          "Venezuela",
          "Dominican Republic",
          "Ecuador",
          "Peru",
          "Ecuador",
          "Madagascar",
          "Peru",
          "Venezuela",
          "Venezuela",
          "Peru",
          "Peru",
          "Dominican Republic",
          "Peru",
          "Madagascar",
          "Madagascar",
          "Dominican Republic",
          "Peru",
          "Peru",
          "Madagascar",
          "Peru",
          "Peru",
          "Madagascar",
          "Madagascar",
          "Madagascar",
          "Madagascar",
          "Dominican Republic",
          "Ecuador",
          "Dominican Republic",
          "Ecuador",
          "Madagascar",
          "Madagascar",
          "Venezuela",
          "Dominican Republic",
          "Peru",
          "Venezuela",
          "Ecuador",
          "Peru",
          "Peru",
          "Dominican Republic",
          "Ecuador",
          "Venezuela",
          "Peru",
          "Dominican Republic",
          "Peru",
          "Ecuador",
          "Peru",
          "Dominican Republic",
          "Peru",
          "Peru",
          "Peru",
          "Dominican Republic",
          "Dominican Republic",
          "Venezuela",
          "Venezuela",
          "Dominican Republic",
          "Venezuela",
          "Venezuela",
          "Venezuela",
          "Peru",
          "Dominican Republic",
          "Dominican Republic",
          "Venezuela",
          "Madagascar",
          "Dominican Republic",
          "Peru",
          "Peru",
          "Madagascar",
          "Dominican Republic",
          "Venezuela",
          "Dominican Republic",
          "Ecuador",
          "Dominican Republic",
          "Madagascar",
          "Madagascar",
          "Madagascar",
          "Peru",
          "Dominican Republic",
          "Madagascar",
          "Venezuela",
          "Dominican Republic",
          "Dominican Republic",
          "Venezuela",
          "Dominican Republic",
          "Peru",
          "Ecuador",
          "Ecuador",
          "Ecuador",
          "Madagascar",
          "Peru",
          "Ecuador",
          "Ecuador",
          "Madagascar",
          "Dominican Republic",
          "Madagascar",
          "Dominican Republic",
          "Dominican Republic",
          "Peru",
          "Dominican Republic",
          "Peru",
          "Ecuador",
          "Ecuador",
          "Ecuador",
          "Ecuador",
          "Venezuela",
          "Dominican Republic",
          "Madagascar",
          "Peru",
          "Venezuela",
          "Venezuela",
          "Peru",
          "Dominican Republic",
          "Madagascar",
          "Dominican Republic",
          "Venezuela",
          "Venezuela",
          "Dominican Republic",
          "Madagascar",
          "Peru",
          "Peru",
          "Ecuador",
          "Ecuador",
          "Peru",
          "Dominican Republic",
          "Peru",
          "Venezuela",
          "Ecuador",
          "Ecuador",
          "Ecuador",
          "Venezuela",
          "Madagascar",
          "Dominican Republic",
          "Peru",
          "Peru",
          "Peru",
          "Venezuela",
          "Peru",
          "Venezuela",
          "Dominican Republic",
          "Madagascar",
          "Madagascar",
          "Peru",
          "Peru",
          "Madagascar",
          "Dominican Republic",
          "Dominican Republic",
          "Ecuador",
          "Peru",
          "Peru",
          "Peru",
          "Ecuador",
          "Ecuador",
          "Ecuador",
          "Ecuador",
          "Ecuador",
          "Ecuador",
          "Ecuador",
          "Peru",
          "Ecuador",
          "Ecuador",
          "Ecuador",
          "Ecuador",
          "Ecuador",
          "Madagascar",
          "Peru",
          "Dominican Republic",
          "Peru",
          "Madagascar",
          "Dominican Republic",
          "Peru",
          "Dominican Republic",
          "Dominican Republic",
          "Peru",
          "Peru",
          "Madagascar",
          "Madagascar",
          "Venezuela",
          "Madagascar",
          "Peru",
          "Madagascar",
          "Madagascar",
          "Dominican Republic",
          "Peru",
          "Venezuela",
          "Ecuador",
          "Madagascar",
          "Venezuela",
          "Peru",
          "Madagascar",
          "Madagascar",
          "Ecuador",
          "Ecuador",
          "Dominican Republic",
          "Dominican Republic",
          "Peru",
          "Peru",
          "Venezuela",
          "Dominican Republic",
          "Peru",
          "Ecuador",
          "Dominican Republic",
          "Madagascar",
          "Venezuela",
          "Venezuela",
          "Venezuela",
          "Peru",
          "Venezuela",
          "Madagascar",
          "Ecuador",
          "Peru",
          "Venezuela",
          "Ecuador",
          "Ecuador",
          "Madagascar",
          "Madagascar",
          "Ecuador",
          "Venezuela",
          "Ecuador",
          "Dominican Republic",
          "Peru",
          "Peru",
          "Peru",
          "Peru",
          "Peru",
          "Dominican Republic",
          "Madagascar",
          "Peru",
          "Ecuador",
          "Peru",
          "Peru",
          "Peru",
          "Peru",
          "Ecuador",
          "Peru",
          "Dominican Republic",
          "Peru",
          "Ecuador",
          "Ecuador",
          "Ecuador",
          "Ecuador",
          "Ecuador",
          "Ecuador",
          "Madagascar",
          "Peru",
          "Ecuador",
          "Ecuador",
          "Madagascar",
          "Peru",
          "Madagascar",
          "Madagascar",
          "Dominican Republic",
          "Madagascar",
          "Venezuela",
          "Peru",
          "Ecuador",
          "Madagascar",
          "Dominican Republic",
          "Venezuela",
          "Venezuela",
          "Venezuela",
          "Venezuela",
          "Venezuela",
          "Venezuela",
          "Venezuela",
          "Madagascar",
          "Venezuela",
          "Peru",
          "Dominican Republic",
          "Madagascar",
          "Ecuador",
          "Venezuela",
          "Ecuador",
          "Ecuador",
          "Venezuela",
          "Madagascar",
          "Peru",
          "Dominican Republic",
          "Dominican Republic",
          "Peru",
          "Ecuador",
          "Venezuela",
          "Dominican Republic",
          "Peru",
          "Peru",
          "Peru",
          "Madagascar",
          "Madagascar",
          "Ecuador",
          "Madagascar",
          "Ecuador",
          "Ecuador",
          "Peru",
          "Peru",
          "Madagascar",
          "Madagascar",
          "Venezuela",
          "Ecuador",
          "Venezuela",
          "Ecuador",
          "Dominican Republic",
          "Madagascar",
          "Ecuador",
          "Madagascar",
          "Ecuador",
          "Dominican Republic",
          "Peru",
          "Madagascar",
          "Venezuela",
          "Peru",
          "Dominican Republic",
          "Dominican Republic",
          "Madagascar",
          "Venezuela",
          "Venezuela",
          "Dominican Republic",
          "Peru",
          "Venezuela",
          "Peru",
          "Venezuela",
          "Dominican Republic",
          "Venezuela",
          "Venezuela",
          "Ecuador",
          "Peru",
          "Venezuela",
          "Venezuela",
          "Ecuador",
          "Dominican Republic",
          "Madagascar",
          "Madagascar",
          "Venezuela",
          "Madagascar",
          "Venezuela",
          "Dominican Republic",
          "Ecuador",
          "Madagascar",
          "Venezuela",
          "Dominican Republic",
          "Dominican Republic",
          "Dominican Republic",
          "Dominican Republic",
          "Ecuador",
          "Madagascar",
          "Peru",
          "Ecuador",
          "Dominican Republic",
          "Madagascar",
          "Dominican Republic",
          "Dominican Republic",
          "Ecuador",
          "Dominican Republic",
          "Madagascar",
          "Ecuador",
          "Ecuador",
          "Madagascar",
          "Peru",
          "Peru",
          "Venezuela",
          "Venezuela",
          "Peru",
          "Peru",
          "Venezuela",
          "Peru",
          "Venezuela",
          "Dominican Republic",
          "Madagascar",
          "Peru",
          "Madagascar",
          "Madagascar",
          "Venezuela",
          "Ecuador",
          "Madagascar",
          "Ecuador",
          "Dominican Republic",
          "Peru",
          "Venezuela",
          "Peru",
          "Peru",
          "Madagascar",
          "Dominican Republic",
          "Peru",
          "Peru",
          "Madagascar",
          "Peru",
          "Madagascar",
          "Madagascar",
          "Venezuela",
          "Ecuador",
          "Ecuador",
          "Dominican Republic",
          "Ecuador",
          "Madagascar",
          "Peru",
          "Ecuador",
          "Dominican Republic",
          "Madagascar",
          "Peru",
          "Venezuela",
          "Madagascar",
          "Peru",
          "Ecuador",
          "Ecuador",
          "Ecuador",
          "Venezuela",
          "Dominican Republic",
          "Ecuador",
          "Dominican Republic",
          "Dominican Republic",
          "Dominican Republic",
          "Peru",
          "Peru",
          "Peru",
          "Madagascar",
          "Dominican Republic",
          "Dominican Republic",
          "Madagascar",
          "Dominican Republic",
          "Ecuador",
          "Peru",
          "Dominican Republic",
          "Dominican Republic",
          "Dominican Republic",
          "Madagascar",
          "Venezuela",
          "Venezuela",
          "Madagascar",
          "Venezuela",
          "Venezuela",
          "Madagascar",
          "Dominican Republic",
          "Ecuador",
          "Venezuela",
          "Venezuela",
          "Dominican Republic",
          "Peru",
          "Madagascar",
          "Madagascar",
          "Madagascar",
          "Madagascar",
          "Madagascar",
          "Madagascar",
          "Dominican Republic",
          "Dominican Republic",
          "Ecuador",
          "Dominican Republic",
          "Ecuador",
          "Peru",
          "Ecuador",
          "Ecuador",
          "Ecuador",
          "Ecuador",
          "Madagascar",
          "Venezuela",
          "Peru",
          "Peru",
          "Venezuela",
          "Dominican Republic",
          "Dominican Republic",
          "Peru",
          "Peru",
          "Peru",
          "Peru",
          "Peru",
          "Peru",
          "Venezuela",
          "Madagascar",
          "Venezuela",
          "Venezuela",
          "Venezuela",
          "Dominican Republic",
          "Dominican Republic",
          "Venezuela",
          "Ecuador",
          "Madagascar",
          "Ecuador",
          "Peru",
          "Dominican Republic",
          "Peru",
          "Dominican Republic",
          "Madagascar",
          "Dominican Republic",
          "Dominican Republic",
          "Madagascar",
          "Peru",
          "Ecuador",
          "Madagascar",
          "Peru",
          "Peru",
          "Ecuador",
          "Peru",
          "Dominican Republic",
          "Dominican Republic"
         ],
         "xaxis": "x",
         "yaxis": "y"
        }
       ],
       "layout": {
        "autosize": false,
        "barmode": "relative",
        "font": {
         "color": "#6f1c0e"
        },
        "height": 400,
        "legend": {
         "tracegroupgap": 0
        },
        "plot_bgcolor": "#fff7ef",
        "template": {
         "data": {
          "bar": [
           {
            "error_x": {
             "color": "#2a3f5f"
            },
            "error_y": {
             "color": "#2a3f5f"
            },
            "marker": {
             "line": {
              "color": "#E5ECF6",
              "width": 0.5
             },
             "pattern": {
              "fillmode": "overlay",
              "size": 10,
              "solidity": 0.2
             }
            },
            "type": "bar"
           }
          ],
          "barpolar": [
           {
            "marker": {
             "line": {
              "color": "#E5ECF6",
              "width": 0.5
             },
             "pattern": {
              "fillmode": "overlay",
              "size": 10,
              "solidity": 0.2
             }
            },
            "type": "barpolar"
           }
          ],
          "carpet": [
           {
            "aaxis": {
             "endlinecolor": "#2a3f5f",
             "gridcolor": "white",
             "linecolor": "white",
             "minorgridcolor": "white",
             "startlinecolor": "#2a3f5f"
            },
            "baxis": {
             "endlinecolor": "#2a3f5f",
             "gridcolor": "white",
             "linecolor": "white",
             "minorgridcolor": "white",
             "startlinecolor": "#2a3f5f"
            },
            "type": "carpet"
           }
          ],
          "choropleth": [
           {
            "colorbar": {
             "outlinewidth": 0,
             "ticks": ""
            },
            "type": "choropleth"
           }
          ],
          "contour": [
           {
            "colorbar": {
             "outlinewidth": 0,
             "ticks": ""
            },
            "colorscale": [
             [
              0,
              "#0d0887"
             ],
             [
              0.1111111111111111,
              "#46039f"
             ],
             [
              0.2222222222222222,
              "#7201a8"
             ],
             [
              0.3333333333333333,
              "#9c179e"
             ],
             [
              0.4444444444444444,
              "#bd3786"
             ],
             [
              0.5555555555555556,
              "#d8576b"
             ],
             [
              0.6666666666666666,
              "#ed7953"
             ],
             [
              0.7777777777777778,
              "#fb9f3a"
             ],
             [
              0.8888888888888888,
              "#fdca26"
             ],
             [
              1,
              "#f0f921"
             ]
            ],
            "type": "contour"
           }
          ],
          "contourcarpet": [
           {
            "colorbar": {
             "outlinewidth": 0,
             "ticks": ""
            },
            "type": "contourcarpet"
           }
          ],
          "heatmap": [
           {
            "colorbar": {
             "outlinewidth": 0,
             "ticks": ""
            },
            "colorscale": [
             [
              0,
              "#0d0887"
             ],
             [
              0.1111111111111111,
              "#46039f"
             ],
             [
              0.2222222222222222,
              "#7201a8"
             ],
             [
              0.3333333333333333,
              "#9c179e"
             ],
             [
              0.4444444444444444,
              "#bd3786"
             ],
             [
              0.5555555555555556,
              "#d8576b"
             ],
             [
              0.6666666666666666,
              "#ed7953"
             ],
             [
              0.7777777777777778,
              "#fb9f3a"
             ],
             [
              0.8888888888888888,
              "#fdca26"
             ],
             [
              1,
              "#f0f921"
             ]
            ],
            "type": "heatmap"
           }
          ],
          "heatmapgl": [
           {
            "colorbar": {
             "outlinewidth": 0,
             "ticks": ""
            },
            "colorscale": [
             [
              0,
              "#0d0887"
             ],
             [
              0.1111111111111111,
              "#46039f"
             ],
             [
              0.2222222222222222,
              "#7201a8"
             ],
             [
              0.3333333333333333,
              "#9c179e"
             ],
             [
              0.4444444444444444,
              "#bd3786"
             ],
             [
              0.5555555555555556,
              "#d8576b"
             ],
             [
              0.6666666666666666,
              "#ed7953"
             ],
             [
              0.7777777777777778,
              "#fb9f3a"
             ],
             [
              0.8888888888888888,
              "#fdca26"
             ],
             [
              1,
              "#f0f921"
             ]
            ],
            "type": "heatmapgl"
           }
          ],
          "histogram": [
           {
            "marker": {
             "pattern": {
              "fillmode": "overlay",
              "size": 10,
              "solidity": 0.2
             }
            },
            "type": "histogram"
           }
          ],
          "histogram2d": [
           {
            "colorbar": {
             "outlinewidth": 0,
             "ticks": ""
            },
            "colorscale": [
             [
              0,
              "#0d0887"
             ],
             [
              0.1111111111111111,
              "#46039f"
             ],
             [
              0.2222222222222222,
              "#7201a8"
             ],
             [
              0.3333333333333333,
              "#9c179e"
             ],
             [
              0.4444444444444444,
              "#bd3786"
             ],
             [
              0.5555555555555556,
              "#d8576b"
             ],
             [
              0.6666666666666666,
              "#ed7953"
             ],
             [
              0.7777777777777778,
              "#fb9f3a"
             ],
             [
              0.8888888888888888,
              "#fdca26"
             ],
             [
              1,
              "#f0f921"
             ]
            ],
            "type": "histogram2d"
           }
          ],
          "histogram2dcontour": [
           {
            "colorbar": {
             "outlinewidth": 0,
             "ticks": ""
            },
            "colorscale": [
             [
              0,
              "#0d0887"
             ],
             [
              0.1111111111111111,
              "#46039f"
             ],
             [
              0.2222222222222222,
              "#7201a8"
             ],
             [
              0.3333333333333333,
              "#9c179e"
             ],
             [
              0.4444444444444444,
              "#bd3786"
             ],
             [
              0.5555555555555556,
              "#d8576b"
             ],
             [
              0.6666666666666666,
              "#ed7953"
             ],
             [
              0.7777777777777778,
              "#fb9f3a"
             ],
             [
              0.8888888888888888,
              "#fdca26"
             ],
             [
              1,
              "#f0f921"
             ]
            ],
            "type": "histogram2dcontour"
           }
          ],
          "mesh3d": [
           {
            "colorbar": {
             "outlinewidth": 0,
             "ticks": ""
            },
            "type": "mesh3d"
           }
          ],
          "parcoords": [
           {
            "line": {
             "colorbar": {
              "outlinewidth": 0,
              "ticks": ""
             }
            },
            "type": "parcoords"
           }
          ],
          "pie": [
           {
            "automargin": true,
            "type": "pie"
           }
          ],
          "scatter": [
           {
            "marker": {
             "colorbar": {
              "outlinewidth": 0,
              "ticks": ""
             }
            },
            "type": "scatter"
           }
          ],
          "scatter3d": [
           {
            "line": {
             "colorbar": {
              "outlinewidth": 0,
              "ticks": ""
             }
            },
            "marker": {
             "colorbar": {
              "outlinewidth": 0,
              "ticks": ""
             }
            },
            "type": "scatter3d"
           }
          ],
          "scattercarpet": [
           {
            "marker": {
             "colorbar": {
              "outlinewidth": 0,
              "ticks": ""
             }
            },
            "type": "scattercarpet"
           }
          ],
          "scattergeo": [
           {
            "marker": {
             "colorbar": {
              "outlinewidth": 0,
              "ticks": ""
             }
            },
            "type": "scattergeo"
           }
          ],
          "scattergl": [
           {
            "marker": {
             "colorbar": {
              "outlinewidth": 0,
              "ticks": ""
             }
            },
            "type": "scattergl"
           }
          ],
          "scattermapbox": [
           {
            "marker": {
             "colorbar": {
              "outlinewidth": 0,
              "ticks": ""
             }
            },
            "type": "scattermapbox"
           }
          ],
          "scatterpolar": [
           {
            "marker": {
             "colorbar": {
              "outlinewidth": 0,
              "ticks": ""
             }
            },
            "type": "scatterpolar"
           }
          ],
          "scatterpolargl": [
           {
            "marker": {
             "colorbar": {
              "outlinewidth": 0,
              "ticks": ""
             }
            },
            "type": "scatterpolargl"
           }
          ],
          "scatterternary": [
           {
            "marker": {
             "colorbar": {
              "outlinewidth": 0,
              "ticks": ""
             }
            },
            "type": "scatterternary"
           }
          ],
          "surface": [
           {
            "colorbar": {
             "outlinewidth": 0,
             "ticks": ""
            },
            "colorscale": [
             [
              0,
              "#0d0887"
             ],
             [
              0.1111111111111111,
              "#46039f"
             ],
             [
              0.2222222222222222,
              "#7201a8"
             ],
             [
              0.3333333333333333,
              "#9c179e"
             ],
             [
              0.4444444444444444,
              "#bd3786"
             ],
             [
              0.5555555555555556,
              "#d8576b"
             ],
             [
              0.6666666666666666,
              "#ed7953"
             ],
             [
              0.7777777777777778,
              "#fb9f3a"
             ],
             [
              0.8888888888888888,
              "#fdca26"
             ],
             [
              1,
              "#f0f921"
             ]
            ],
            "type": "surface"
           }
          ],
          "table": [
           {
            "cells": {
             "fill": {
              "color": "#EBF0F8"
             },
             "line": {
              "color": "white"
             }
            },
            "header": {
             "fill": {
              "color": "#C8D4E3"
             },
             "line": {
              "color": "white"
             }
            },
            "type": "table"
           }
          ]
         },
         "layout": {
          "annotationdefaults": {
           "arrowcolor": "#2a3f5f",
           "arrowhead": 0,
           "arrowwidth": 1
          },
          "autotypenumbers": "strict",
          "coloraxis": {
           "colorbar": {
            "outlinewidth": 0,
            "ticks": ""
           }
          },
          "colorscale": {
           "diverging": [
            [
             0,
             "#8e0152"
            ],
            [
             0.1,
             "#c51b7d"
            ],
            [
             0.2,
             "#de77ae"
            ],
            [
             0.3,
             "#f1b6da"
            ],
            [
             0.4,
             "#fde0ef"
            ],
            [
             0.5,
             "#f7f7f7"
            ],
            [
             0.6,
             "#e6f5d0"
            ],
            [
             0.7,
             "#b8e186"
            ],
            [
             0.8,
             "#7fbc41"
            ],
            [
             0.9,
             "#4d9221"
            ],
            [
             1,
             "#276419"
            ]
           ],
           "sequential": [
            [
             0,
             "#0d0887"
            ],
            [
             0.1111111111111111,
             "#46039f"
            ],
            [
             0.2222222222222222,
             "#7201a8"
            ],
            [
             0.3333333333333333,
             "#9c179e"
            ],
            [
             0.4444444444444444,
             "#bd3786"
            ],
            [
             0.5555555555555556,
             "#d8576b"
            ],
            [
             0.6666666666666666,
             "#ed7953"
            ],
            [
             0.7777777777777778,
             "#fb9f3a"
            ],
            [
             0.8888888888888888,
             "#fdca26"
            ],
            [
             1,
             "#f0f921"
            ]
           ],
           "sequentialminus": [
            [
             0,
             "#0d0887"
            ],
            [
             0.1111111111111111,
             "#46039f"
            ],
            [
             0.2222222222222222,
             "#7201a8"
            ],
            [
             0.3333333333333333,
             "#9c179e"
            ],
            [
             0.4444444444444444,
             "#bd3786"
            ],
            [
             0.5555555555555556,
             "#d8576b"
            ],
            [
             0.6666666666666666,
             "#ed7953"
            ],
            [
             0.7777777777777778,
             "#fb9f3a"
            ],
            [
             0.8888888888888888,
             "#fdca26"
            ],
            [
             1,
             "#f0f921"
            ]
           ]
          },
          "colorway": [
           "#636efa",
           "#EF553B",
           "#00cc96",
           "#ab63fa",
           "#FFA15A",
           "#19d3f3",
           "#FF6692",
           "#B6E880",
           "#FF97FF",
           "#FECB52"
          ],
          "font": {
           "color": "#2a3f5f"
          },
          "geo": {
           "bgcolor": "white",
           "lakecolor": "white",
           "landcolor": "#E5ECF6",
           "showlakes": true,
           "showland": true,
           "subunitcolor": "white"
          },
          "hoverlabel": {
           "align": "left"
          },
          "hovermode": "closest",
          "mapbox": {
           "style": "light"
          },
          "paper_bgcolor": "white",
          "plot_bgcolor": "#E5ECF6",
          "polar": {
           "angularaxis": {
            "gridcolor": "white",
            "linecolor": "white",
            "ticks": ""
           },
           "bgcolor": "#E5ECF6",
           "radialaxis": {
            "gridcolor": "white",
            "linecolor": "white",
            "ticks": ""
           }
          },
          "scene": {
           "xaxis": {
            "backgroundcolor": "#E5ECF6",
            "gridcolor": "white",
            "gridwidth": 2,
            "linecolor": "white",
            "showbackground": true,
            "ticks": "",
            "zerolinecolor": "white"
           },
           "yaxis": {
            "backgroundcolor": "#E5ECF6",
            "gridcolor": "white",
            "gridwidth": 2,
            "linecolor": "white",
            "showbackground": true,
            "ticks": "",
            "zerolinecolor": "white"
           },
           "zaxis": {
            "backgroundcolor": "#E5ECF6",
            "gridcolor": "white",
            "gridwidth": 2,
            "linecolor": "white",
            "showbackground": true,
            "ticks": "",
            "zerolinecolor": "white"
           }
          },
          "shapedefaults": {
           "line": {
            "color": "#2a3f5f"
           }
          },
          "ternary": {
           "aaxis": {
            "gridcolor": "white",
            "linecolor": "white",
            "ticks": ""
           },
           "baxis": {
            "gridcolor": "white",
            "linecolor": "white",
            "ticks": ""
           },
           "bgcolor": "#E5ECF6",
           "caxis": {
            "gridcolor": "white",
            "linecolor": "white",
            "ticks": ""
           }
          },
          "title": {
           "x": 0.05
          },
          "xaxis": {
           "automargin": true,
           "gridcolor": "white",
           "linecolor": "white",
           "ticks": "",
           "title": {
            "standoff": 15
           },
           "zerolinecolor": "white",
           "zerolinewidth": 2
          },
          "yaxis": {
           "automargin": true,
           "gridcolor": "white",
           "linecolor": "white",
           "ticks": "",
           "title": {
            "standoff": 15
           },
           "zerolinecolor": "white",
           "zerolinewidth": 2
          }
         }
        },
        "title": {
         "text": "Pays d'origine des fèves de cacao"
        },
        "width": 500,
        "xaxis": {
         "anchor": "y",
         "categoryorder": "total descending",
         "domain": [
          0,
          1
         ],
         "title": {
          "text": ""
         }
        },
        "yaxis": {
         "anchor": "x",
         "domain": [
          0,
          1
         ],
         "title": {
          "text": "Nombre de chocolats évalués"
         }
        }
       }
      }
     },
     "metadata": {},
     "output_type": "display_data"
    }
   ],
   "source": [
    "# version petite\n",
    "\n",
    "# histogramme nombre de chocolats par pays d'origine, en crénat un catégorie \"autre\" pour les pays avec moins de 10 chocolats\n",
    "\n",
    "\n",
    "databis['country_of_bean_origin'] = databis['country_of_bean_origin'].apply(lambda x: x if databis['country_of_bean_origin'].value_counts()[x] > 100 else 'Blend')\n",
    "\n",
    "fig = px.histogram(databis[databis['country_of_bean_origin'] != 'Blend'], x='country_of_bean_origin', \n",
    "                   color_discrete_sequence=palette, title=\"Pays d'origine des fèves de cacao\")\n",
    "fig.update_xaxes(categoryorder='total descending')\n",
    "fig.update_layout(xaxis_title='', yaxis_title='Nombre de chocolats évalués')\n",
    "fig.update_layout(plot_bgcolor=background_color, font_color=text_color)\n",
    "fig.update_traces(marker=dict(color=palette[0]))\n",
    "fig.update_layout(autosize=False, width=500, height=400)\n",
    "fig.show()"
   ]
  },
  {
   "cell_type": "code",
   "execution_count": 7,
   "metadata": {},
   "outputs": [],
   "source": [
    "# # Afficher le nombre de chocolats par pays d'origine\n",
    "# fig = px.histogram(data, x='country_of_bean_origin', title='Pays d\\'origine des fèves de cacao')\n",
    "# fig.update_xaxes(categoryorder='total descending', tickangle=45)\n",
    "# fig.update_layout(xaxis_title='', yaxis_title='Nombre de chocolats', plot_bgcolor=palette[1], paper_bgcolor=palette[1], font_color=palette[2]) #couleurs\n",
    "# #couleurs\n",
    "# fig.update_traces(marker=dict(color=palette[0]))\n",
    "# fig.show()\n"
   ]
  },
  {
   "cell_type": "markdown",
   "metadata": {},
   "source": [
    "### Donut (autres pays)"
   ]
  },
  {
   "cell_type": "code",
   "execution_count": 27,
   "metadata": {},
   "outputs": [],
   "source": [
    "# databis = data.copy()\n",
    "# databis['country_of_bean_origin'] = databis['country_of_bean_origin'].apply(lambda x: x if databis['country_of_bean_origin'].value_counts()[x] > 30 else 'Autre pays')\n",
    "\n",
    "# #On retire Blend\n",
    "# fig=px.pie(databis[databis['country_of_bean_origin'] != 'Blend'], names='country_of_bean_origin', \n",
    "#            title='Pays d\\'origine des fèves de cacao', hole=0.4, color_discrete_sequence=px.colors.sequential.solar)\n",
    "# fig.update_traces(textposition='inside', textinfo='percent+label')\n",
    "# fig.update_layout(margin=dict(l=40, r=20, t=50, b=10), showlegend=False)\n",
    "# fig.update_layout(plot_bgcolor=background_color, font_color=text_color)\n",
    "\n",
    "# fig.update_layout(width=500, height=500)\n",
    "\n",
    "# fig.show()"
   ]
  },
  {
   "cell_type": "code",
   "execution_count": 26,
   "metadata": {},
   "outputs": [
    {
     "data": {
      "application/vnd.plotly.v1+json": {
       "config": {
        "plotlyServerURL": "https://plot.ly"
       },
       "data": [
        {
         "domain": {
          "x": [
           0,
           1
          ],
          "y": [
           0,
           1
          ]
         },
         "hole": 0.4,
         "hovertemplate": "country_of_bean_origin=%{label}<extra></extra>",
         "labels": [
          "Tanzania",
          "Dominican Republic",
          "Madagascar",
          "Fiji",
          "Venezuela",
          "Uganda",
          "India",
          "Bolivia",
          "Peru",
          "Panama",
          "Colombia",
          "Madagascar",
          "Burma",
          "Brazil",
          "Papua New Guinea",
          "Peru",
          "Peru",
          "Ecuador",
          "Venezuela",
          "Peru",
          "Venezuela",
          "Cuba",
          "Venezuela",
          "Venezuela",
          "Peru",
          "Togo",
          "Togo",
          "Togo",
          "Peru",
          "Sao Tome",
          "Venezuela",
          "Peru",
          "Mexico",
          "Peru",
          "Peru",
          "Mexico",
          "Peru",
          "Fiji",
          "Fiji",
          "Fiji",
          "Fiji",
          "Vanuatu",
          "Vanuatu",
          "Vanuatu",
          "Vanuatu",
          "Ecuador",
          "Ecuador",
          "Mexico",
          "Madagascar",
          "Brazil",
          "Indonesia",
          "Venezuela",
          "Peru",
          "Trinidad",
          "Vietnam",
          "Madagascar",
          "Mexico",
          "Ecuador",
          "Nicaragua",
          "Tanzania",
          "Vietnam",
          "Venezuela",
          "Dominican Republic",
          "Bolivia",
          "Bolivia",
          "Peru",
          "Bolivia",
          "Peru",
          "Nicaragua",
          "Ecuador",
          "Peru",
          "Dominican Republic",
          "Venezuela",
          "Madagascar",
          "Venezuela",
          "Indonesia",
          "Venezuela",
          "Venezuela",
          "Dominican Republic",
          "Ecuador",
          "Papua New Guinea",
          "Ecuador",
          "Ecuador",
          "Ghana",
          "Ghana",
          "Peru",
          "Peru",
          "Peru",
          "Peru",
          "Belize",
          "Madagascar",
          "Dominican Republic",
          "Papua New Guinea",
          "Venezuela",
          "Peru",
          "Blend",
          "Ecuador",
          "Jamaica",
          "Grenada",
          "Trinidad",
          "Blend",
          "Venezuela",
          "Peru",
          "Madagascar",
          "Venezuela",
          "Venezuela",
          "Blend",
          "Blend",
          "Brazil",
          "Brazil",
          "Brazil",
          "Brazil",
          "Brazil",
          "Dominican Republic",
          "Bolivia",
          "Belize",
          "Guatemala",
          "Mexico",
          "Ecuador",
          "Madagascar",
          "Venezuela",
          "Brazil",
          "Guatemala",
          "Brazil",
          "Peru",
          "Dominican Republic",
          "Ecuador",
          "Ecuador",
          "Belize",
          "Nicaragua",
          "Ecuador",
          "Ecuador",
          "Fiji",
          "Vietnam",
          "Trinidad",
          "Vietnam",
          "Guatemala",
          "Honduras",
          "Tanzania",
          "Nicaragua",
          "Dominican Republic",
          "Costa Rica",
          "Peru",
          "India",
          "Madagascar",
          "Vietnam",
          "Peru",
          "Bolivia",
          "Haiti",
          "Trinidad",
          "Colombia",
          "India",
          "India",
          "Nicaragua",
          "Nicaragua",
          "Nicaragua",
          "Nicaragua",
          "Congo",
          "Brazil",
          "Venezuela",
          "Indonesia",
          "Madagascar",
          "Peru",
          "Dominican Republic",
          "Venezuela",
          "Costa Rica",
          "Vietnam",
          "Indonesia",
          "Jamaica",
          "Panama",
          "Haiti",
          "Colombia",
          "Trinidad",
          "Colombia",
          "India",
          "Madagascar",
          "Tanzania",
          "Mexico",
          "Ecuador",
          "Philippines",
          "Tanzania",
          "Honduras",
          "Tanzania",
          "Solomon Islands",
          "Philippines",
          "Philippines",
          "Philippines",
          "Philippines",
          "Colombia",
          "Dominican Republic",
          "Brazil",
          "Blend",
          "Madagascar",
          "Blend",
          "Papua New Guinea",
          "Brazil",
          "Peru",
          "Peru",
          "Belize",
          "Uganda",
          "Tanzania",
          "Dominican Republic",
          "Mexico",
          "Madagascar",
          "Peru",
          "Brazil",
          "Costa Rica",
          "Trinidad",
          "Costa Rica",
          "Ecuador",
          "Dominican Republic",
          "Brazil",
          "Peru",
          "Malaysia",
          "Malaysia",
          "Brazil",
          "Dominican Republic",
          "Ecuador",
          "Ecuador",
          "Costa Rica",
          "Papua New Guinea",
          "Peru",
          "Ecuador",
          "Bolivia",
          "Tanzania",
          "Dominican Republic",
          "Vietnam",
          "Vietnam",
          "Belize",
          "Belize",
          "Belize",
          "Vietnam",
          "India",
          "Malaysia",
          "Madagascar",
          "Indonesia",
          "Cuba",
          "Venezuela",
          "Venezuela",
          "Ecuador",
          "Blend",
          "Venezuela",
          "Venezuela",
          "Indonesia",
          "Venezuela",
          "Madagascar",
          "Venezuela",
          "Venezuela",
          "Ecuador",
          "Nicaragua",
          "Costa Rica",
          "Costa Rica",
          "Belize",
          "Venezuela",
          "Venezuela",
          "Venezuela",
          "Madagascar",
          "Ghana",
          "Panama",
          "Dominican Republic",
          "Dominican Republic",
          "Madagascar",
          "Dominican Republic",
          "Madagascar",
          "Indonesia",
          "Madagascar",
          "Venezuela",
          "Indonesia",
          "Blend",
          "Ghana",
          "Haiti",
          "Guatemala",
          "Dominican Republic",
          "Belize",
          "Dominican Republic",
          "Venezuela",
          "Nicaragua",
          "Dominican Republic",
          "Jamaica",
          "Colombia",
          "Belize",
          "Blend",
          "Congo",
          "Guatemala",
          "Madagascar",
          "Guatemala",
          "Dominican Republic",
          "Madagascar",
          "Tanzania",
          "Belize",
          "Malaysia",
          "Malaysia",
          "Malaysia",
          "Blend",
          "Sri Lanka",
          "Blend",
          "Venezuela",
          "Madagascar",
          "Venezuela",
          "Venezuela",
          "Ecuador",
          "Venezuela",
          "Peru",
          "Ivory Coast",
          "Mexico",
          "Mexico",
          "Jamaica",
          "Cuba",
          "Peru",
          "Peru",
          "Brazil",
          "Brazil",
          "Haiti",
          "Madagascar",
          "Gabon",
          "Brazil",
          "Dominican Republic",
          "Blend",
          "Brazil",
          "Mexico",
          "Peru",
          "Blend",
          "Nicaragua",
          "Ecuador",
          "Ecuador",
          "Belize",
          "Dominican Republic",
          "Ecuador",
          "Peru",
          "Bolivia",
          "Tanzania",
          "Dominican Republic",
          "Ecuador",
          "Ghana",
          "Venezuela",
          "Belize",
          "Venezuela",
          "Dominican Republic",
          "Venezuela",
          "Nicaragua",
          "Dominican Republic",
          "Ecuador",
          "Madagascar",
          "Dominican Republic",
          "Dominican Republic",
          "Belize",
          "Madagascar",
          "Guatemala",
          "Jamaica",
          "Trinidad",
          "Madagascar",
          "Dominican Republic",
          "Ecuador",
          "Ecuador",
          "Dominican Republic",
          "Bolivia",
          "Guatemala",
          "Ecuador",
          "Trinidad",
          "Belize",
          "Blend",
          "Ecuador",
          "Ecuador",
          "Taiwan",
          "Philippines",
          "Guatemala",
          "Guatemala",
          "Bolivia",
          "Puerto Rico",
          "Venezuela",
          "Dominican Republic",
          "Dominican Republic",
          "Peru",
          "Venezuela",
          "Mexico",
          "Tanzania",
          "Dominican Republic",
          "Haiti",
          "Colombia",
          "Colombia",
          "Colombia",
          "Venezuela",
          "Venezuela",
          "Venezuela",
          "Venezuela",
          "Venezuela",
          "Venezuela",
          "Venezuela",
          "Venezuela",
          "Venezuela",
          "Venezuela",
          "Venezuela",
          "Colombia",
          "Colombia",
          "Colombia",
          "Colombia",
          "Colombia",
          "Colombia",
          "Colombia",
          "Honduras",
          "Dominican Republic",
          "Dominican Republic",
          "Dominican Republic",
          "Dominican Republic",
          "Mexico",
          "Mexico",
          "Grenada",
          "Madagascar",
          "Venezuela",
          "Venezuela",
          "Ecuador",
          "Papua New Guinea",
          "Congo",
          "Dominican Republic",
          "Peru",
          "Ecuador",
          "Madagascar",
          "Peru",
          "Vietnam",
          "Ghana",
          "Dominican Republic",
          "Ecuador",
          "Peru",
          "Peru",
          "Peru",
          "Peru",
          "Ecuador",
          "Ecuador",
          "Ecuador",
          "Ecuador",
          "Ecuador",
          "Grenada",
          "Sao Tome",
          "Trinidad",
          "Venezuela",
          "Ecuador",
          "Cuba",
          "Dominican Republic",
          "Blend",
          "Venezuela",
          "Tanzania",
          "Venezuela",
          "Bolivia",
          "Brazil",
          "Colombia",
          "Colombia",
          "Colombia",
          "Colombia",
          "Ecuador",
          "Ecuador",
          "Ecuador",
          "Ecuador",
          "Ecuador",
          "Ecuador",
          "Papua New Guinea",
          "Papua New Guinea",
          "Nicaragua",
          "Tanzania",
          "Peru",
          "Mexico",
          "Costa Rica",
          "Costa Rica",
          "Costa Rica",
          "Guatemala",
          "Costa Rica",
          "Colombia",
          "Colombia",
          "Colombia",
          "Colombia",
          "Colombia",
          "Blend",
          "Brazil",
          "Brazil",
          "Peru",
          "Peru",
          "Bolivia",
          "Venezuela",
          "Venezuela",
          "Nicaragua",
          "Dominican Republic",
          "Dominican Republic",
          "Colombia",
          "Colombia",
          "Honduras",
          "Venezuela",
          "Dominican Republic",
          "Belize",
          "Venezuela",
          "Puerto Rico",
          "Mexico",
          "Peru",
          "Venezuela",
          "Ecuador",
          "Peru",
          "Venezuela",
          "Bolivia",
          "Ecuador",
          "Uganda",
          "Madagascar",
          "Belize",
          "Peru",
          "Bolivia",
          "Venezuela",
          "Belize",
          "Ecuador",
          "Ecuador",
          "Costa Rica",
          "Peru",
          "Ecuador",
          "Colombia",
          "Dominican Republic",
          "Blend",
          "Ecuador",
          "Belize",
          "Belize",
          "Vietnam",
          "Malaysia",
          "Nicaragua",
          "Dominican Republic",
          "Peru",
          "Dominican Republic",
          "Peru",
          "Madagascar",
          "Madagascar",
          "Venezuela",
          "Peru",
          "Blend",
          "Bolivia",
          "Uganda",
          "Nicaragua",
          "Dominican Republic",
          "Dominican Republic",
          "Venezuela",
          "Ecuador",
          "Peru",
          "Dominican Republic",
          "Congo",
          "Peru",
          "Ecuador",
          "Peru",
          "Madagascar",
          "Peru",
          "Peru",
          "Venezuela",
          "Venezuela",
          "Dominican Republic",
          "India",
          "Mexico",
          "India",
          "Guatemala",
          "Peru",
          "Venezuela",
          "Mexico",
          "Mexico",
          "Guatemala",
          "Dominican Republic",
          "Belize",
          "Ecuador",
          "Grenada",
          "Blend",
          "Venezuela",
          "Blend",
          "Blend",
          "Mexico",
          "Madagascar",
          "Mexico",
          "Mexico",
          "Venezuela",
          "Mexico",
          "Brazil",
          "Brazil",
          "Venezuela",
          "Guatemala",
          "Venezuela",
          "Belize",
          "Madagascar",
          "Tanzania",
          "Bolivia",
          "Martinique",
          "Peru",
          "Peru",
          "Vietnam",
          "Costa Rica",
          "Ecuador",
          "Tanzania",
          "Dominican Republic",
          "Brazil",
          "Peru",
          "Venezuela",
          "Venezuela",
          "Blend",
          "Blend",
          "Blend",
          "Blend",
          "Dominican Republic",
          "Haiti",
          "Ecuador",
          "Peru",
          "St. Lucia",
          "Peru",
          "Madagascar",
          "Colombia",
          "Venezuela",
          "Ecuador",
          "Bolivia",
          "Venezuela",
          "Venezuela",
          "Ecuador",
          "Vietnam",
          "Philippines",
          "Ivory Coast",
          "Peru",
          "Tanzania",
          "Madagascar",
          "Mexico",
          "Venezuela",
          "Peru",
          "Peru",
          "Venezuela",
          "Venezuela",
          "Ecuador",
          "Venezuela",
          "Trinidad",
          "Grenada",
          "Jamaica",
          "Venezuela",
          "Ecuador",
          "Ghana",
          "Madagascar",
          "Blend",
          "Ecuador",
          "Ghana",
          "Blend",
          "Tanzania",
          "Brazil",
          "Fiji",
          "Vanuatu",
          "Papua New Guinea",
          "Papua New Guinea",
          "Vanuatu",
          "Ecuador",
          "Ecuador",
          "Dominican Republic",
          "Colombia",
          "Ecuador",
          "Honduras",
          "India",
          "Guatemala",
          "Haiti",
          "Belize",
          "Mexico",
          "Mexico",
          "Australia",
          "Australia",
          "Dominican Republic",
          "Grenada",
          "Nicaragua",
          "Trinidad",
          "Ecuador",
          "Blend",
          "Puerto Rico",
          "India",
          "Peru",
          "Costa Rica",
          "Colombia",
          "Dominican Republic",
          "Venezuela",
          "Venezuela",
          "Venezuela",
          "Papua New Guinea",
          "Liberia",
          "Belize",
          "Ecuador",
          "Dominican Republic",
          "Belize",
          "Dominican Republic",
          "Costa Rica",
          "Sierra Leone",
          "Honduras",
          "India",
          "Vietnam",
          "Guatemala",
          "India",
          "Peru",
          "India",
          "Tanzania",
          "Dominican Republic",
          "Brazil",
          "Dominican Republic",
          "Madagascar",
          "Tanzania",
          "Dominican Republic",
          "Guatemala",
          "Guatemala",
          "Guatemala",
          "Venezuela",
          "Guatemala",
          "Guatemala",
          "Madagascar",
          "Guatemala",
          "Guatemala",
          "Venezuela",
          "Vietnam",
          "Blend",
          "Peru",
          "Vietnam",
          "Madagascar",
          "Tanzania",
          "Venezuela",
          "Ecuador",
          "Bolivia",
          "Blend",
          "Ghana",
          "Dominican Republic",
          "Venezuela",
          "Brazil",
          "Brazil",
          "Uganda",
          "Madagascar",
          "Madagascar",
          "Costa Rica",
          "Ecuador",
          "Ghana",
          "Papua New Guinea",
          "Peru",
          "Venezuela",
          "Papua New Guinea",
          "Dominican Republic",
          "Dominican Republic",
          "Dominican Republic",
          "Tanzania",
          "Guatemala",
          "Costa Rica",
          "Dominican Republic",
          "Bolivia",
          "Madagascar",
          "Venezuela",
          "Dominican Republic",
          "Ecuador",
          "Bolivia",
          "Ecuador",
          "Ecuador",
          "Dominican Republic",
          "Bolivia",
          "Vietnam",
          "Guatemala",
          "Brazil",
          "Solomon Islands",
          "Fiji",
          "Madagascar",
          "Belize",
          "Blend",
          "Jamaica",
          "Mexico",
          "Sao Tome",
          "Sao Tome",
          "Sao Tome",
          "Sao Tome",
          "Panama",
          "Venezuela",
          "Nicaragua",
          "Venezuela",
          "U.S.A.",
          "Blend",
          "Blend",
          "Venezuela",
          "Peru",
          "Venezuela",
          "Venezuela",
          "Venezuela",
          "Madagascar",
          "Madagascar",
          "Indonesia",
          "Venezuela",
          "Ecuador",
          "Venezuela",
          "Venezuela",
          "Colombia",
          "Blend",
          "Blend",
          "Venezuela",
          "Venezuela",
          "Tanzania",
          "Venezuela",
          "Venezuela",
          "Ecuador",
          "Venezuela",
          "Tanzania",
          "Venezuela",
          "Colombia",
          "Madagascar",
          "Grenada",
          "Philippines",
          "Guatemala",
          "Peru",
          "Belize",
          "Dominican Republic",
          "Tanzania",
          "Dominican Republic",
          "Ecuador",
          "Panama",
          "Ecuador",
          "Peru",
          "Panama",
          "Nicaragua",
          "Dominican Republic",
          "Venezuela",
          "Honduras",
          "Venezuela",
          "Nicaragua",
          "Nicaragua",
          "Guatemala",
          "Nigeria",
          "Guatemala",
          "Philippines",
          "Nicaragua",
          "Dominican Republic",
          "Madagascar",
          "Dominican Republic",
          "Venezuela",
          "Peru",
          "Venezuela",
          "Ecuador",
          "Peru",
          "Peru",
          "Madagascar",
          "Dominican Republic",
          "Colombia",
          "Colombia",
          "Peru",
          "Peru",
          "Venezuela",
          "Madagascar",
          "Colombia",
          "Bolivia",
          "Bolivia",
          "Venezuela",
          "Venezuela",
          "Venezuela",
          "Venezuela",
          "Venezuela",
          "Venezuela",
          "Venezuela",
          "Guatemala",
          "St. Lucia",
          "St. Lucia",
          "Venezuela",
          "Peru",
          "Dominican Republic",
          "Haiti",
          "Guatemala",
          "Madagascar",
          "Honduras",
          "Vietnam",
          "Sierra Leone",
          "Tanzania",
          "Trinidad",
          "Blend",
          "Vietnam",
          "Vietnam",
          "Vietnam",
          "Venezuela",
          "Costa Rica",
          "Blend",
          "Venezuela",
          "Venezuela",
          "Blend",
          "Colombia",
          "Blend",
          "Trinidad",
          "Venezuela",
          "Blend",
          "Blend",
          "Belize",
          "Ecuador",
          "Dominican Republic",
          "Guatemala",
          "Uganda",
          "Peru",
          "Brazil",
          "Venezuela",
          "Belize",
          "Jamaica",
          "Blend",
          "Madagascar",
          "Venezuela",
          "Dominican Republic",
          "Ecuador",
          "Bolivia",
          "Grenada",
          "Puerto Rico",
          "Dominican Republic",
          "Dominican Republic",
          "Dominican Republic",
          "Honduras",
          "Colombia",
          "Mexico",
          "Blend",
          "Philippines",
          "Papua New Guinea",
          "Solomon Islands",
          "Vanuatu",
          "Belize",
          "Guatemala",
          "Colombia",
          "Dominican Republic",
          "Madagascar",
          "India",
          "Tanzania",
          "Peru",
          "Dominican Republic",
          "Dominican Republic",
          "Madagascar",
          "Ecuador",
          "Tanzania",
          "Dominican Republic",
          "Bolivia",
          "Indonesia",
          "Philippines",
          "Haiti",
          "Mexico",
          "Madagascar",
          "Indonesia",
          "Malaysia",
          "Papua New Guinea",
          "Bolivia",
          "Vanuatu",
          "Colombia",
          "Tanzania",
          "Ecuador",
          "Peru",
          "Venezuela",
          "Venezuela",
          "Venezuela",
          "Venezuela",
          "Venezuela",
          "Venezuela",
          "Venezuela",
          "Venezuela",
          "Venezuela",
          "Ghana",
          "Madagascar",
          "Vietnam",
          "Costa Rica",
          "Peru",
          "Peru",
          "Dominican Republic",
          "Peru",
          "Peru",
          "Peru",
          "Peru",
          "Costa Rica",
          "Nicaragua",
          "Guatemala",
          "Peru",
          "India",
          "Jamaica",
          "Jamaica",
          "Jamaica",
          "Venezuela",
          "Ghana",
          "Madagascar",
          "Madagascar",
          "Jamaica",
          "Dominican Republic",
          "Venezuela",
          "Dominican Republic",
          "Jamaica",
          "Venezuela",
          "Papua New Guinea",
          "Papua New Guinea",
          "Papua New Guinea",
          "Madagascar",
          "Papua New Guinea",
          "Dominican Republic",
          "Dominican Republic",
          "Peru",
          "Peru",
          "Peru",
          "Peru",
          "Peru",
          "Peru",
          "Guatemala",
          "Guatemala",
          "Guatemala",
          "Venezuela",
          "Venezuela",
          "Peru",
          "Ghana",
          "Peru",
          "Ghana",
          "Nicaragua",
          "Madagascar",
          "Nicaragua",
          "Venezuela",
          "Brazil",
          "Tanzania",
          "Belize",
          "Madagascar",
          "Peru",
          "Nicaragua",
          "Nicaragua",
          "Nicaragua",
          "Nicaragua",
          "Nicaragua",
          "Nicaragua",
          "Nicaragua",
          "Nicaragua",
          "Nicaragua",
          "Nicaragua",
          "Nicaragua",
          "Guatemala",
          "Nicaragua",
          "Nicaragua",
          "Nicaragua",
          "Nicaragua",
          "Nicaragua",
          "Honduras",
          "Nicaragua",
          "Nicaragua",
          "Nicaragua",
          "Nicaragua",
          "Nicaragua",
          "Nicaragua",
          "Nicaragua",
          "Costa Rica",
          "Costa Rica",
          "Peru",
          "Ecuador",
          "Dominican Republic",
          "Peru",
          "Trinidad",
          "Bolivia",
          "Costa Rica",
          "Colombia",
          "Madagascar",
          "Dominican Republic",
          "Dominican Republic",
          "Peru",
          "Taiwan",
          "Madagascar",
          "Tanzania",
          "Venezuela",
          "U.S.A.",
          "Madagascar",
          "Dominican Republic",
          "Dominican Republic",
          "Madagascar",
          "Ghana",
          "St. Lucia",
          "Venezuela",
          "Guatemala",
          "Venezuela",
          "Brazil",
          "Belize",
          "Mexico",
          "Guatemala",
          "Nicaragua",
          "Peru",
          "Colombia",
          "Costa Rica",
          "Ecuador",
          "Belize",
          "India",
          "Bolivia",
          "Dominican Republic",
          "Vietnam",
          "Madagascar",
          "Tanzania",
          "Dominican Republic",
          "Vietnam",
          "Blend",
          "Madagascar",
          "Peru",
          "India",
          "Grenada",
          "Grenada",
          "Grenada",
          "Ecuador",
          "Ghana",
          "Blend",
          "Venezuela",
          "Blend",
          "Madagascar",
          "Venezuela",
          "Colombia",
          "Blend",
          "Madagascar",
          "Ecuador",
          "Blend",
          "Blend",
          "Peru",
          "Blend",
          "Venezuela",
          "U.S.A.",
          "Blend",
          "Blend",
          "Trinidad",
          "Blend",
          "Blend",
          "Blend",
          "Haiti",
          "Nicaragua",
          "Jamaica",
          "Ecuador",
          "Blend",
          "Blend",
          "Papua New Guinea",
          "Blend",
          "Blend",
          "Blend",
          "Blend",
          "Dominican Republic",
          "U.S.A.",
          "Blend",
          "Ecuador",
          "Ecuador",
          "Ecuador",
          "Blend",
          "Brazil",
          "Brazil",
          "Brazil",
          "Brazil",
          "Brazil",
          "India",
          "Vietnam",
          "Peru",
          "Tanzania",
          "Dominican Republic",
          "Mexico",
          "Peru",
          "Indonesia",
          "Blend",
          "Venezuela",
          "Belize",
          "Costa Rica",
          "Bolivia",
          "Bolivia",
          "Ecuador",
          "U.S.A.",
          "U.S.A.",
          "Ecuador",
          "Ecuador",
          "Bolivia",
          "Bolivia",
          "Uganda",
          "Venezuela",
          "Ecuador",
          "Nicaragua",
          "Tanzania",
          "Madagascar",
          "Venezuela",
          "Ecuador",
          "Peru",
          "Peru",
          "Ecuador",
          "Madagascar",
          "Tanzania",
          "Dominican Republic",
          "Madagascar",
          "Venezuela",
          "Dominican Republic",
          "Peru",
          "Venezuela",
          "Ecuador",
          "Ecuador",
          "Ecuador",
          "Ecuador",
          "Ecuador",
          "Ecuador",
          "Ivory Coast",
          "Dominican Republic",
          "Peru",
          "Dominican Republic",
          "Ecuador",
          "Madagascar",
          "Trinidad",
          "Venezuela",
          "Peru",
          "Ecuador",
          "St. Lucia",
          "St. Lucia",
          "St. Lucia",
          "Colombia",
          "Honduras",
          "Tanzania",
          "Uganda",
          "Tanzania",
          "St. Lucia",
          "Sao Tome",
          "Ecuador",
          "Venezuela",
          "Dominican Republic",
          "Ecuador",
          "St. Lucia",
          "St. Lucia",
          "Madagascar",
          "Ecuador",
          "Peru",
          "Dominican Republic",
          "Trinidad",
          "Ecuador",
          "Madagascar",
          "Vietnam",
          "Ecuador",
          "Venezuela",
          "Venezuela",
          "Bolivia",
          "Bolivia",
          "Nicaragua",
          "Dominican Republic",
          "Dominican Republic",
          "Vietnam",
          "Venezuela",
          "Venezuela",
          "Venezuela",
          "Venezuela",
          "Venezuela",
          "Venezuela",
          "Venezuela",
          "Venezuela",
          "Venezuela",
          "Venezuela",
          "India",
          "Honduras",
          "Vietnam",
          "Peru",
          "Peru",
          "Peru",
          "Belize",
          "Dominican Republic",
          "Madagascar",
          "St.Vincent-Grenadines",
          "Dominican Republic",
          "Belize",
          "Ghana",
          "Venezuela",
          "Jamaica",
          "Peru",
          "Venezuela",
          "Vietnam",
          "Ecuador",
          "Madagascar",
          "Ecuador",
          "India",
          "Colombia",
          "Trinidad",
          "Madagascar",
          "Venezuela",
          "Thailand",
          "Thailand",
          "Thailand",
          "Thailand",
          "Dominican Republic",
          "Dominican Republic",
          "Dominican Republic",
          "Dominican Republic",
          "Dominican Republic",
          "Dominican Republic",
          "Dominican Republic",
          "Dominican Republic",
          "Dominican Republic",
          "Dominican Republic",
          "Dominican Republic",
          "Dominican Republic",
          "Nicaragua",
          "Peru",
          "Tanzania",
          "Vanuatu",
          "Peru",
          "Ecuador",
          "Ecuador",
          "Ecuador",
          "Ecuador",
          "Ecuador",
          "Ecuador",
          "Ecuador",
          "Ecuador",
          "Blend",
          "Ecuador",
          "Philippines",
          "Papua New Guinea",
          "Dominican Republic",
          "Mexico",
          "Colombia",
          "Dominican Republic",
          "Belize",
          "Vietnam",
          "Mexico",
          "Madagascar",
          "Philippines",
          "Mexico",
          "Colombia",
          "Papua New Guinea",
          "Peru",
          "Venezuela",
          "Belize",
          "Madagascar",
          "Belize",
          "Dominican Republic",
          "Dominican Republic",
          "Peru",
          "Haiti",
          "Brazil",
          "Ecuador",
          "Uganda",
          "Ecuador",
          "Dominican Republic",
          "Madagascar",
          "Bolivia",
          "Madagascar",
          "Venezuela",
          "Grenada",
          "Dominican Republic",
          "Ecuador",
          "Peru",
          "Venezuela",
          "Brazil",
          "Fiji",
          "Peru",
          "Peru",
          "Belize",
          "Peru",
          "Dominican Republic",
          "Peru",
          "Belize",
          "Guatemala",
          "Belize",
          "Guatemala",
          "Peru",
          "Blend",
          "Blend",
          "Ghana",
          "Venezuela",
          "Blend",
          "Grenada",
          "Dominican Republic",
          "Blend",
          "Tobago",
          "Ecuador",
          "Peru",
          "Ecuador",
          "Mexico",
          "Mexico",
          "Mexico",
          "Cuba",
          "Blend",
          "Madagascar",
          "Vietnam",
          "Cuba",
          "Ivory Coast",
          "Peru",
          "Brazil",
          "Sao Tome",
          "Vietnam",
          "Brazil",
          "Tanzania",
          "Venezuela",
          "Venezuela",
          "Blend",
          "Nicaragua",
          "Nicaragua",
          "Honduras",
          "Nicaragua",
          "Bolivia",
          "Colombia",
          "Costa Rica",
          "Peru",
          "Peru",
          "Costa Rica",
          "Bolivia",
          "Dominican Republic",
          "Trinidad",
          "Tanzania",
          "Liberia",
          "Belize",
          "Honduras",
          "Peru",
          "Ghana",
          "Jamaica",
          "Bolivia",
          "Sao Tome & Principe",
          "U.S.A.",
          "Madagascar",
          "Madagascar",
          "Blend",
          "Dominican Republic",
          "Peru",
          "Bolivia",
          "Bolivia",
          "Peru",
          "Blend",
          "Sierra Leone",
          "India",
          "Vietnam",
          "Puerto Rico",
          "U.S.A.",
          "U.S.A.",
          "U.S.A.",
          "U.S.A.",
          "U.S.A.",
          "U.S.A.",
          "Bolivia",
          "Belize",
          "Nicaragua",
          "Nicaragua",
          "Sumatra",
          "Nicaragua",
          "Nicaragua",
          "Brazil",
          "Brazil",
          "Brazil",
          "Papua New Guinea",
          "Blend",
          "Blend",
          "Blend",
          "Colombia",
          "India",
          "Madagascar",
          "Tanzania",
          "Uganda",
          "Ivory Coast",
          "Peru",
          "Peru",
          "Uganda",
          "Ghana",
          "Madagascar",
          "Madagascar",
          "Madagascar",
          "Madagascar",
          "Colombia",
          "Mexico",
          "Dominican Republic",
          "Costa Rica",
          "U.S.A.",
          "U.S.A.",
          "U.S.A.",
          "Puerto Rico",
          "U.S.A.",
          "Mexico",
          "Brazil",
          "Solomon Islands",
          "Tanzania",
          "Ecuador",
          "Cuba",
          "Dominican Republic",
          "Ecuador",
          "Madagascar",
          "Madagascar",
          "Philippines",
          "Thailand",
          "U.S.A.",
          "U.S.A.",
          "Venezuela",
          "Dominican Republic",
          "Peru",
          "Venezuela",
          "Ecuador",
          "Colombia",
          "U.S.A.",
          "Peru",
          "Liberia",
          "U.S.A.",
          "U.S.A.",
          "Papua New Guinea",
          "Costa Rica",
          "Peru",
          "U.S.A.",
          "Dominican Republic",
          "Ecuador",
          "Ghana",
          "Colombia",
          "Venezuela",
          "Peru",
          "Nicaragua",
          "Trinidad",
          "Colombia",
          "Tanzania",
          "Dominican Republic",
          "Peru",
          "Ecuador",
          "Nicaragua",
          "Peru",
          "Honduras",
          "Vietnam",
          "Vietnam",
          "Blend",
          "Mexico",
          "Dominican Republic",
          "Peru",
          "Peru",
          "Peru",
          "Mexico",
          "Bolivia",
          "Brazil",
          "Blend",
          "Haiti",
          "Vietnam",
          "Vietnam",
          "Vietnam",
          "Vietnam",
          "Vietnam",
          "Vietnam",
          "Vietnam",
          "Vietnam",
          "Vietnam",
          "Vietnam",
          "Vietnam",
          "Costa Rica",
          "Ivory Coast",
          "Nigeria",
          "Ghana",
          "Dominican Republic",
          "Dominican Republic",
          "Bolivia",
          "Haiti",
          "Colombia",
          "Venezuela",
          "Venezuela",
          "Dominican Republic",
          "Venezuela",
          "Papua New Guinea",
          "Venezuela",
          "Venezuela",
          "Peru",
          "Dominican Republic",
          "Blend",
          "Belize",
          "Dominican Republic",
          "Blend",
          "Venezuela",
          "Blend",
          "Blend",
          "Guatemala",
          "Tanzania",
          "Vanuatu",
          "Blend",
          "Madagascar",
          "Papua New Guinea",
          "U.S.A.",
          "Belize",
          "Dominican Republic",
          "Peru",
          "Peru",
          "U.S.A.",
          "Vietnam",
          "Madagascar",
          "Dominican Republic",
          "Guatemala",
          "Belize",
          "Bolivia",
          "Venezuela",
          "Belize",
          "Nicaragua",
          "Dominican Republic",
          "Ecuador",
          "Dominican Republic",
          "Philippines",
          "Tanzania",
          "Madagascar",
          "Madagascar",
          "Honduras",
          "Nicaragua",
          "Honduras",
          "Nicaragua",
          "El Salvador",
          "El Salvador",
          "Brazil",
          "Brazil",
          "Madagascar",
          "Solomon Islands",
          "Solomon Islands",
          "Blend",
          "Peru",
          "Blend",
          "Blend",
          "Blend",
          "Sao Tome",
          "Dominican Republic",
          "Madagascar",
          "Papua New Guinea",
          "Venezuela",
          "Sao Tome",
          "Mexico",
          "Colombia",
          "Brazil",
          "Guatemala",
          "Blend",
          "Bolivia",
          "Indonesia",
          "Dominican Republic",
          "Belize",
          "Tanzania",
          "Belize",
          "Trinidad",
          "Nicaragua",
          "Dominican Republic",
          "Venezuela",
          "Dominican Republic",
          "India",
          "Peru",
          "Belize",
          "Ecuador",
          "Ecuador",
          "Ecuador",
          "India",
          "Brazil",
          "Panama",
          "India",
          "Tanzania",
          "Brazil",
          "Vietnam",
          "Madagascar",
          "Peru",
          "Ecuador",
          "Ecuador",
          "Haiti",
          "Papua New Guinea",
          "Madagascar",
          "India",
          "Vietnam",
          "Tanzania",
          "Vietnam",
          "Brazil",
          "Brazil",
          "Puerto Rico",
          "Colombia",
          "Belize",
          "Belize",
          "Belize",
          "Brazil",
          "Cameroon",
          "Sierra Leone",
          "Dominican Republic",
          "Tanzania",
          "Madagascar",
          "Dominican Republic",
          "Indonesia",
          "Dominican Republic",
          "Peru",
          "Nicaragua",
          "Nicaragua",
          "Nicaragua",
          "Dominican Republic",
          "Philippines",
          "Papua New Guinea",
          "Mexico",
          "Peru",
          "Ecuador",
          "Ecuador",
          "Ecuador",
          "Ecuador",
          "Mexico",
          "Nicaragua",
          "Nicaragua",
          "Venezuela",
          "Dominican Republic",
          "Tanzania",
          "Madagascar",
          "Vietnam",
          "Costa Rica",
          "Costa Rica",
          "Grenada",
          "Blend",
          "Peru",
          "Venezuela",
          "Venezuela",
          "Nicaragua",
          "Nicaragua",
          "El Salvador",
          "U.S.A.",
          "Peru",
          "Dominican Republic",
          "Madagascar",
          "Ghana",
          "Dominican Republic",
          "Blend",
          "Sao Tome",
          "Venezuela",
          "Blend",
          "Trinidad",
          "Papua New Guinea",
          "Venezuela",
          "Dominican Republic",
          "Madagascar",
          "Peru",
          "Brazil",
          "Peru",
          "Ecuador",
          "Ecuador",
          "Peru",
          "Vietnam",
          "Tanzania",
          "Dominican Republic",
          "Fiji",
          "Colombia",
          "Ghana",
          "Belize",
          "Peru",
          "Venezuela",
          "Ecuador",
          "Nicaragua",
          "Nicaragua",
          "Ecuador",
          "Ecuador",
          "Venezuela",
          "Madagascar",
          "Ghana",
          "Dominican Republic",
          "Nigeria",
          "Vietnam",
          "Brazil",
          "Jamaica",
          "Peru",
          "Peru",
          "Congo",
          "Peru",
          "Papua New Guinea",
          "Papua New Guinea",
          "Papua New Guinea",
          "Papua New Guinea",
          "Samoa",
          "Samoa",
          "Guatemala",
          "Tanzania",
          "Uganda",
          "India",
          "Colombia",
          "Bolivia",
          "Vietnam",
          "Blend",
          "Venezuela",
          "U.S.A.",
          "Peru",
          "Venezuela",
          "Haiti",
          "Trinidad",
          "Tanzania",
          "Bolivia",
          "Brazil",
          "Blend",
          "Blend",
          "Dominican Republic",
          "Ghana",
          "Blend",
          "Blend",
          "Blend",
          "Blend",
          "Ghana",
          "Papua New Guinea",
          "Madagascar",
          "Tanzania",
          "Nicaragua",
          "Madagascar",
          "Vietnam",
          "Tanzania",
          "Colombia",
          "Peru",
          "Peru",
          "Madagascar",
          "Belize",
          "Dominican Republic",
          "Nicaragua",
          "Dominican Republic",
          "Ecuador",
          "Panama",
          "Congo",
          "Peru",
          "Bolivia",
          "Bolivia",
          "Papua New Guinea",
          "Blend",
          "U.S.A.",
          "U.S.A.",
          "Peru",
          "Peru",
          "Ecuador",
          "Ecuador",
          "Ecuador",
          "Ecuador",
          "Ecuador",
          "Ecuador",
          "Ecuador",
          "Peru",
          "Ecuador",
          "Ecuador",
          "Ecuador",
          "Ecuador",
          "Colombia",
          "Vietnam",
          "Haiti",
          "Cuba",
          "Bolivia",
          "Ecuador",
          "Blend",
          "Madagascar",
          "Trinidad",
          "Bolivia",
          "Trinidad",
          "Tanzania",
          "Vietnam",
          "Guatemala",
          "Belize",
          "Peru",
          "Dominican Republic",
          "Haiti",
          "Peru",
          "Fiji",
          "Bolivia",
          "Philippines",
          "Belize",
          "Madagascar",
          "Dominican Republic",
          "Peru",
          "Blend",
          "Bolivia",
          "Dominican Republic",
          "Guatemala",
          "Tanzania",
          "Guatemala",
          "Dominican Republic",
          "Colombia",
          "Peru",
          "Peru",
          "Madagascar",
          "Madagascar",
          "Venezuela",
          "Madagascar",
          "Blend",
          "Peru",
          "Madagascar",
          "Madagascar",
          "Dominican Republic",
          "Fiji",
          "Peru",
          "Indonesia",
          "Venezuela",
          "Mexico",
          "Blend",
          "Ecuador",
          "Blend",
          "Madagascar",
          "Brazil",
          "Mexico",
          "Venezuela",
          "Peru",
          "Trinidad",
          "Cuba",
          "Cameroon",
          "Madagascar",
          "Cameroon",
          "China",
          "Vietnam",
          "Tanzania",
          "India",
          "Honduras",
          "Fiji",
          "Madagascar",
          "Ecuador",
          "Ecuador",
          "Nicaragua",
          "Nicaragua",
          "Nicaragua",
          "Nicaragua",
          "Nicaragua",
          "Bolivia",
          "Dominican Republic",
          "Tanzania",
          "Dominican Republic",
          "Peru",
          "Haiti",
          "Guatemala",
          "Ghana",
          "Costa Rica",
          "Peru",
          "Costa Rica",
          "Costa Rica",
          "Brazil",
          "Venezuela",
          "Dominican Republic",
          "Colombia",
          "Uganda",
          "Peru",
          "Vanuatu",
          "Cuba",
          "Blend",
          "Brazil",
          "Blend",
          "Jamaica",
          "Ecuador",
          "Sao Tome",
          "Dominican Republic",
          "Madagascar",
          "Brazil",
          "Venezuela",
          "Venezuela",
          "Venezuela",
          "Peru",
          "Papua New Guinea",
          "Indonesia",
          "Venezuela",
          "Madagascar",
          "Colombia",
          "Trinidad",
          "Ghana",
          "Sao Tome & Principe",
          "Tanzania",
          "Ecuador",
          "Tanzania",
          "Peru",
          "Vietnam",
          "Venezuela",
          "Ecuador",
          "Ecuador",
          "Madagascar",
          "Honduras",
          "Grenada",
          "Madagascar",
          "Ecuador",
          "Jamaica",
          "Solomon Islands",
          "Venezuela",
          "Ecuador",
          "Papua New Guinea",
          "Vietnam",
          "Philippines",
          "Dominican Republic",
          "Brazil",
          "Brazil",
          "Brazil",
          "Brazil",
          "Brazil",
          "Brazil",
          "Peru",
          "Peru",
          "Peru",
          "Peru",
          "Peru",
          "Mexico",
          "Mexico",
          "Dominican Republic",
          "Madagascar",
          "Congo",
          "Peru",
          "Haiti",
          "Haiti",
          "Guatemala",
          "Ecuador",
          "Peru",
          "Peru",
          "Peru",
          "Mexico",
          "Peru",
          "Ecuador",
          "Tanzania",
          "Peru",
          "Dominican Republic",
          "Nicaragua",
          "Ghana",
          "Peru",
          "Ecuador",
          "Ecuador",
          "Ecuador",
          "Ecuador",
          "Ecuador",
          "Costa Rica",
          "Ecuador",
          "Trinidad",
          "Madagascar",
          "Peru",
          "Belize",
          "Ecuador",
          "Blend",
          "Ecuador",
          "Mexico",
          "Nicaragua",
          "Trinidad",
          "Madagascar",
          "Tanzania",
          "Fiji",
          "Peru",
          "Costa Rica",
          "Costa Rica",
          "Costa Rica",
          "Madagascar",
          "Madagascar",
          "Grenada",
          "Dominican Republic",
          "Jamaica",
          "Madagascar",
          "Trinidad",
          "Venezuela",
          "Peru",
          "Bolivia",
          "Ecuador",
          "Madagascar",
          "Dominican Republic",
          "Jamaica",
          "Bolivia",
          "Venezuela",
          "Bolivia",
          "Venezuela",
          "Honduras",
          "Venezuela",
          "Principe",
          "Venezuela",
          "Venezuela",
          "Venezuela",
          "Venezuela",
          "Madagascar",
          "Venezuela",
          "Peru",
          "Honduras",
          "Haiti",
          "Nicaragua",
          "Indonesia",
          "Tanzania",
          "Blend",
          "Dominican Republic",
          "Madagascar",
          "Blend",
          "Blend",
          "Blend",
          "Blend",
          "Brazil",
          "Ecuador",
          "Venezuela",
          "Ecuador",
          "Ecuador",
          "Colombia",
          "Colombia",
          "Colombia",
          "Colombia",
          "Colombia",
          "Sao Tome",
          "Blend",
          "Blend",
          "Jamaica",
          "Blend",
          "Blend",
          "Blend",
          "Blend",
          "Blend",
          "Venezuela",
          "Blend",
          "Brazil",
          "Vietnam",
          "Ghana",
          "Grenada",
          "Madagascar",
          "Papua New Guinea",
          "Peru",
          "Dominican Republic",
          "Grenada",
          "Honduras",
          "Dominican Republic",
          "Tanzania",
          "Fiji",
          "Uganda",
          "Trinidad",
          "Peru",
          "Vietnam",
          "India",
          "Guatemala",
          "Colombia",
          "Belize",
          "Ecuador",
          "Belize",
          "Venezuela",
          "Jamaica",
          "Papua New Guinea",
          "Dominican Republic",
          "U.S.A.",
          "U.S.A.",
          "Peru",
          "Peru",
          "Costa Rica",
          "Costa Rica",
          "Peru",
          "Belize",
          "Colombia",
          "Sao Tome",
          "Brazil",
          "Madagascar",
          "Madagascar",
          "Ecuador",
          "Madagascar",
          "Ecuador",
          "Guatemala",
          "Guatemala",
          "Haiti",
          "Bolivia",
          "Tanzania",
          "Ecuador",
          "Peru",
          "Mexico",
          "India",
          "Ghana",
          "Nicaragua",
          "Bolivia",
          "Peru",
          "Madagascar",
          "Madagascar",
          "Papua New Guinea",
          "Tanzania",
          "Trinidad",
          "Venezuela",
          "Ecuador",
          "Vietnam",
          "Guatemala",
          "Venezuela",
          "Belize",
          "Australia",
          "Ecuador",
          "Dominican Republic",
          "Haiti",
          "Madagascar",
          "Ecuador",
          "Ghana",
          "Sulawesi",
          "India",
          "Madagascar",
          "Ecuador",
          "Dominican Republic",
          "Peru",
          "Philippines",
          "Solomon Islands",
          "Solomon Islands",
          "Madagascar",
          "Venezuela",
          "Bolivia",
          "Peru",
          "Blend",
          "Uganda",
          "Tanzania",
          "India",
          "Vietnam",
          "Dominican Republic",
          "Dominican Republic",
          "Ghana",
          "Papua New Guinea",
          "Madagascar",
          "Venezuela",
          "Blend",
          "Grenada",
          "Bolivia",
          "Venezuela",
          "Dominican Republic",
          "Blend",
          "Peru",
          "Haiti",
          "Guatemala",
          "Blend",
          "Papua New Guinea",
          "U.S.A.",
          "Venezuela",
          "Blend",
          "Blend",
          "Peru",
          "Indonesia",
          "Blend",
          "Venezuela",
          "Dominican Republic",
          "Trinidad",
          "Venezuela",
          "Blend",
          "Venezuela",
          "Blend",
          "Jamaica",
          "Nicaragua",
          "Blend",
          "Nicaragua",
          "Ecuador",
          "Peru",
          "Vanuatu",
          "Venezuela",
          "Venezuela",
          "Ecuador",
          "Dominican Republic",
          "Madagascar",
          "Brazil",
          "Nicaragua",
          "Blend",
          "Vietnam",
          "Fiji",
          "Colombia",
          "Haiti",
          "Madagascar",
          "Venezuela",
          "Blend",
          "Madagascar",
          "Venezuela",
          "Vietnam",
          "Nicaragua",
          "U.S.A.",
          "Dominican Republic",
          "Ecuador",
          "Papua New Guinea",
          "Madagascar",
          "Venezuela",
          "Tanzania",
          "Dominican Republic",
          "Dominican Republic",
          "Dominican Republic",
          "Vanuatu",
          "Dominican Republic",
          "Ecuador",
          "Madagascar",
          "Peru",
          "Ecuador",
          "Dominican Republic",
          "Belize",
          "Madagascar",
          "Uganda",
          "Bolivia",
          "Dominican Republic",
          "Dominican Republic",
          "Ecuador",
          "Dominican Republic",
          "Guatemala",
          "Nicaragua",
          "Madagascar",
          "India",
          "Brazil",
          "Ecuador",
          "Ecuador",
          "Bolivia",
          "Philippines",
          "Philippines",
          "Philippines",
          "Madagascar",
          "Belize",
          "Peru",
          "Peru",
          "Venezuela",
          "Venezuela",
          "Sri Lanka",
          "Tanzania",
          "Honduras",
          "Peru",
          "Uganda",
          "Trinidad",
          "Peru",
          "Tanzania",
          "Belize",
          "Brazil",
          "Venezuela",
          "Mexico",
          "Peru",
          "Papua New Guinea",
          "Venezuela",
          "Dominican Republic",
          "Madagascar",
          "Peru",
          "Nicaragua",
          "Madagascar",
          "Madagascar",
          "Venezuela",
          "Cuba",
          "Ecuador",
          "Cuba",
          "Madagascar",
          "Vietnam",
          "Brazil",
          "Ecuador",
          "Mexico",
          "Costa Rica",
          "Dominican Republic",
          "Peru",
          "Trinidad",
          "Colombia",
          "Papua New Guinea",
          "Vietnam",
          "Vietnam",
          "Vietnam",
          "Suriname",
          "Venezuela",
          "Peru",
          "Peru",
          "Madagascar",
          "Nicaragua",
          "Mexico",
          "Haiti",
          "Dominican Republic",
          "Mexico",
          "Bolivia",
          "Belize",
          "Ghana",
          "Peru",
          "Peru",
          "Madagascar",
          "Blend",
          "Blend",
          "Blend",
          "Blend",
          "Peru",
          "Madagascar",
          "Bolivia",
          "Brazil",
          "Blend",
          "Papua New Guinea",
          "Madagascar",
          "Venezuela",
          "Ecuador",
          "Ecuador",
          "Mexico",
          "Bolivia",
          "Dominican Republic",
          "Brazil",
          "Ecuador",
          "Madagascar",
          "Uganda",
          "Peru",
          "Ecuador",
          "Dominican Republic",
          "Belize",
          "Madagascar",
          "Guatemala",
          "Haiti",
          "Belize",
          "Bolivia",
          "Peru",
          "Venezuela",
          "Ivory Coast",
          "Ghana",
          "Blend",
          "Madagascar",
          "Congo",
          "Peru",
          "Ecuador",
          "Colombia",
          "Colombia",
          "Belize",
          "Tanzania",
          "Ecuador",
          "Ecuador",
          "Tobago",
          "Venezuela",
          "Dominican Republic",
          "Bolivia",
          "Haiti",
          "Bolivia",
          "Belize",
          "Colombia",
          "Ecuador",
          "Dominican Republic",
          "Dominican Republic",
          "Dominican Republic",
          "Nicaragua",
          "Haiti",
          "Guatemala",
          "Philippines",
          "Peru",
          "Peru",
          "Vietnam",
          "Honduras",
          "Peru",
          "Madagascar",
          "Dominican Republic",
          "Bolivia",
          "Dominican Republic",
          "Madagascar",
          "Dominican Republic",
          "Ecuador",
          "Tanzania",
          "Peru",
          "Dominican Republic",
          "Dominican Republic",
          "Tanzania",
          "Guatemala",
          "Nicaragua",
          "Dominican Republic",
          "Madagascar",
          "Tanzania",
          "Venezuela",
          "Colombia",
          "Nicaragua",
          "Belize",
          "Trinidad",
          "Blend",
          "Venezuela",
          "Madagascar",
          "Blend",
          "Blend",
          "Blend",
          "Blend",
          "Blend",
          "Venezuela",
          "Venezuela",
          "Madagascar",
          "Ghana",
          "Dominican Republic",
          "Ecuador",
          "Blend",
          "Venezuela",
          "Venezuela",
          "Blend",
          "Dominican Republic",
          "Peru",
          "Blend",
          "Ghana",
          "Ghana",
          "Madagascar",
          "Madagascar",
          "Madagascar",
          "Madagascar",
          "Madagascar",
          "Madagascar",
          "Bolivia",
          "Bolivia",
          "Bolivia",
          "Guatemala",
          "Dominican Republic",
          "Blend",
          "Blend",
          "Dominican Republic",
          "Trinidad",
          "Ecuador",
          "Guatemala",
          "Dominican Republic",
          "Blend",
          "Ecuador",
          "Vietnam",
          "Peru",
          "Ecuador",
          "Ecuador",
          "Ecuador",
          "Ecuador",
          "Madagascar",
          "Guatemala",
          "Belize",
          "Venezuela",
          "Peru",
          "Peru",
          "Venezuela",
          "Dominican Republic",
          "Bolivia",
          "Haiti",
          "Dominican Republic",
          "Peru",
          "Samoa",
          "Tanzania",
          "Bolivia",
          "Philippines",
          "Uganda",
          "Honduras",
          "Trinidad",
          "Ghana",
          "Peru",
          "Peru",
          "Peru",
          "Peru",
          "Peru",
          "Venezuela",
          "Madagascar",
          "Venezuela",
          "Indonesia",
          "Indonesia",
          "Colombia",
          "Colombia",
          "Venezuela",
          "Bolivia",
          "Ghana",
          "Belize",
          "Venezuela",
          "Dominican Republic",
          "Dominican Republic",
          "Venezuela",
          "Ecuador",
          "Costa Rica",
          "Madagascar",
          "Ecuador",
          "Trinidad",
          "Peru",
          "Tanzania",
          "Dominican Republic",
          "El Salvador",
          "El Salvador",
          "El Salvador",
          "Tanzania",
          "Peru",
          "Nicaragua",
          "Dominican Republic",
          "Madagascar",
          "Trinidad",
          "Vietnam",
          "Dominican Republic",
          "Bolivia",
          "Papua New Guinea",
          "Blend",
          "Dominican Republic",
          "Madagascar",
          "Peru",
          "Belize",
          "Ecuador",
          "Trinidad",
          "Tanzania",
          "Madagascar",
          "Tanzania",
          "Trinidad",
          "Bolivia",
          "Papua New Guinea",
          "Bolivia",
          "Blend",
          "Solomon Islands",
          "Nicaragua",
          "DR Congo",
          "Nicaragua",
          "Nicaragua",
          "Brazil",
          "Congo",
          "India",
          "India",
          "Peru",
          "Peru",
          "Ecuador",
          "Papua New Guinea",
          "Bolivia",
          "Congo",
          "Panama",
          "Blend",
          "Peru",
          "Blend",
          "Dominican Republic",
          "Dominican Republic",
          "Blend",
          "Colombia",
          "Blend",
          "Congo",
          "Belize"
         ],
         "legendgroup": "",
         "name": "",
         "showlegend": true,
         "textinfo": "percent+label",
         "textposition": "inside",
         "type": "pie"
        }
       ],
       "layout": {
        "font": {
         "color": "#2b0808"
        },
        "legend": {
         "tracegroupgap": 0
        },
        "margin": {
         "b": 10,
         "l": 40,
         "r": 20,
         "t": 50
        },
        "paper_bgcolor": "#f6eddb",
        "piecolorway": [
         "rgb(51, 19, 23)",
         "rgb(79, 28, 33)",
         "rgb(108, 36, 36)",
         "rgb(135, 47, 32)",
         "rgb(157, 66, 25)",
         "rgb(174, 88, 20)",
         "rgb(188, 111, 19)",
         "rgb(199, 137, 22)",
         "rgb(209, 164, 32)",
         "rgb(217, 192, 44)",
         "rgb(222, 222, 59)",
         "rgb(224, 253, 74)"
        ],
        "plot_bgcolor": "#f6eddb",
        "template": {
         "data": {
          "bar": [
           {
            "error_x": {
             "color": "#2a3f5f"
            },
            "error_y": {
             "color": "#2a3f5f"
            },
            "marker": {
             "line": {
              "color": "#E5ECF6",
              "width": 0.5
             },
             "pattern": {
              "fillmode": "overlay",
              "size": 10,
              "solidity": 0.2
             }
            },
            "type": "bar"
           }
          ],
          "barpolar": [
           {
            "marker": {
             "line": {
              "color": "#E5ECF6",
              "width": 0.5
             },
             "pattern": {
              "fillmode": "overlay",
              "size": 10,
              "solidity": 0.2
             }
            },
            "type": "barpolar"
           }
          ],
          "carpet": [
           {
            "aaxis": {
             "endlinecolor": "#2a3f5f",
             "gridcolor": "white",
             "linecolor": "white",
             "minorgridcolor": "white",
             "startlinecolor": "#2a3f5f"
            },
            "baxis": {
             "endlinecolor": "#2a3f5f",
             "gridcolor": "white",
             "linecolor": "white",
             "minorgridcolor": "white",
             "startlinecolor": "#2a3f5f"
            },
            "type": "carpet"
           }
          ],
          "choropleth": [
           {
            "colorbar": {
             "outlinewidth": 0,
             "ticks": ""
            },
            "type": "choropleth"
           }
          ],
          "contour": [
           {
            "colorbar": {
             "outlinewidth": 0,
             "ticks": ""
            },
            "colorscale": [
             [
              0,
              "#0d0887"
             ],
             [
              0.1111111111111111,
              "#46039f"
             ],
             [
              0.2222222222222222,
              "#7201a8"
             ],
             [
              0.3333333333333333,
              "#9c179e"
             ],
             [
              0.4444444444444444,
              "#bd3786"
             ],
             [
              0.5555555555555556,
              "#d8576b"
             ],
             [
              0.6666666666666666,
              "#ed7953"
             ],
             [
              0.7777777777777778,
              "#fb9f3a"
             ],
             [
              0.8888888888888888,
              "#fdca26"
             ],
             [
              1,
              "#f0f921"
             ]
            ],
            "type": "contour"
           }
          ],
          "contourcarpet": [
           {
            "colorbar": {
             "outlinewidth": 0,
             "ticks": ""
            },
            "type": "contourcarpet"
           }
          ],
          "heatmap": [
           {
            "colorbar": {
             "outlinewidth": 0,
             "ticks": ""
            },
            "colorscale": [
             [
              0,
              "#0d0887"
             ],
             [
              0.1111111111111111,
              "#46039f"
             ],
             [
              0.2222222222222222,
              "#7201a8"
             ],
             [
              0.3333333333333333,
              "#9c179e"
             ],
             [
              0.4444444444444444,
              "#bd3786"
             ],
             [
              0.5555555555555556,
              "#d8576b"
             ],
             [
              0.6666666666666666,
              "#ed7953"
             ],
             [
              0.7777777777777778,
              "#fb9f3a"
             ],
             [
              0.8888888888888888,
              "#fdca26"
             ],
             [
              1,
              "#f0f921"
             ]
            ],
            "type": "heatmap"
           }
          ],
          "heatmapgl": [
           {
            "colorbar": {
             "outlinewidth": 0,
             "ticks": ""
            },
            "colorscale": [
             [
              0,
              "#0d0887"
             ],
             [
              0.1111111111111111,
              "#46039f"
             ],
             [
              0.2222222222222222,
              "#7201a8"
             ],
             [
              0.3333333333333333,
              "#9c179e"
             ],
             [
              0.4444444444444444,
              "#bd3786"
             ],
             [
              0.5555555555555556,
              "#d8576b"
             ],
             [
              0.6666666666666666,
              "#ed7953"
             ],
             [
              0.7777777777777778,
              "#fb9f3a"
             ],
             [
              0.8888888888888888,
              "#fdca26"
             ],
             [
              1,
              "#f0f921"
             ]
            ],
            "type": "heatmapgl"
           }
          ],
          "histogram": [
           {
            "marker": {
             "pattern": {
              "fillmode": "overlay",
              "size": 10,
              "solidity": 0.2
             }
            },
            "type": "histogram"
           }
          ],
          "histogram2d": [
           {
            "colorbar": {
             "outlinewidth": 0,
             "ticks": ""
            },
            "colorscale": [
             [
              0,
              "#0d0887"
             ],
             [
              0.1111111111111111,
              "#46039f"
             ],
             [
              0.2222222222222222,
              "#7201a8"
             ],
             [
              0.3333333333333333,
              "#9c179e"
             ],
             [
              0.4444444444444444,
              "#bd3786"
             ],
             [
              0.5555555555555556,
              "#d8576b"
             ],
             [
              0.6666666666666666,
              "#ed7953"
             ],
             [
              0.7777777777777778,
              "#fb9f3a"
             ],
             [
              0.8888888888888888,
              "#fdca26"
             ],
             [
              1,
              "#f0f921"
             ]
            ],
            "type": "histogram2d"
           }
          ],
          "histogram2dcontour": [
           {
            "colorbar": {
             "outlinewidth": 0,
             "ticks": ""
            },
            "colorscale": [
             [
              0,
              "#0d0887"
             ],
             [
              0.1111111111111111,
              "#46039f"
             ],
             [
              0.2222222222222222,
              "#7201a8"
             ],
             [
              0.3333333333333333,
              "#9c179e"
             ],
             [
              0.4444444444444444,
              "#bd3786"
             ],
             [
              0.5555555555555556,
              "#d8576b"
             ],
             [
              0.6666666666666666,
              "#ed7953"
             ],
             [
              0.7777777777777778,
              "#fb9f3a"
             ],
             [
              0.8888888888888888,
              "#fdca26"
             ],
             [
              1,
              "#f0f921"
             ]
            ],
            "type": "histogram2dcontour"
           }
          ],
          "mesh3d": [
           {
            "colorbar": {
             "outlinewidth": 0,
             "ticks": ""
            },
            "type": "mesh3d"
           }
          ],
          "parcoords": [
           {
            "line": {
             "colorbar": {
              "outlinewidth": 0,
              "ticks": ""
             }
            },
            "type": "parcoords"
           }
          ],
          "pie": [
           {
            "automargin": true,
            "type": "pie"
           }
          ],
          "scatter": [
           {
            "marker": {
             "colorbar": {
              "outlinewidth": 0,
              "ticks": ""
             }
            },
            "type": "scatter"
           }
          ],
          "scatter3d": [
           {
            "line": {
             "colorbar": {
              "outlinewidth": 0,
              "ticks": ""
             }
            },
            "marker": {
             "colorbar": {
              "outlinewidth": 0,
              "ticks": ""
             }
            },
            "type": "scatter3d"
           }
          ],
          "scattercarpet": [
           {
            "marker": {
             "colorbar": {
              "outlinewidth": 0,
              "ticks": ""
             }
            },
            "type": "scattercarpet"
           }
          ],
          "scattergeo": [
           {
            "marker": {
             "colorbar": {
              "outlinewidth": 0,
              "ticks": ""
             }
            },
            "type": "scattergeo"
           }
          ],
          "scattergl": [
           {
            "marker": {
             "colorbar": {
              "outlinewidth": 0,
              "ticks": ""
             }
            },
            "type": "scattergl"
           }
          ],
          "scattermapbox": [
           {
            "marker": {
             "colorbar": {
              "outlinewidth": 0,
              "ticks": ""
             }
            },
            "type": "scattermapbox"
           }
          ],
          "scatterpolar": [
           {
            "marker": {
             "colorbar": {
              "outlinewidth": 0,
              "ticks": ""
             }
            },
            "type": "scatterpolar"
           }
          ],
          "scatterpolargl": [
           {
            "marker": {
             "colorbar": {
              "outlinewidth": 0,
              "ticks": ""
             }
            },
            "type": "scatterpolargl"
           }
          ],
          "scatterternary": [
           {
            "marker": {
             "colorbar": {
              "outlinewidth": 0,
              "ticks": ""
             }
            },
            "type": "scatterternary"
           }
          ],
          "surface": [
           {
            "colorbar": {
             "outlinewidth": 0,
             "ticks": ""
            },
            "colorscale": [
             [
              0,
              "#0d0887"
             ],
             [
              0.1111111111111111,
              "#46039f"
             ],
             [
              0.2222222222222222,
              "#7201a8"
             ],
             [
              0.3333333333333333,
              "#9c179e"
             ],
             [
              0.4444444444444444,
              "#bd3786"
             ],
             [
              0.5555555555555556,
              "#d8576b"
             ],
             [
              0.6666666666666666,
              "#ed7953"
             ],
             [
              0.7777777777777778,
              "#fb9f3a"
             ],
             [
              0.8888888888888888,
              "#fdca26"
             ],
             [
              1,
              "#f0f921"
             ]
            ],
            "type": "surface"
           }
          ],
          "table": [
           {
            "cells": {
             "fill": {
              "color": "#EBF0F8"
             },
             "line": {
              "color": "white"
             }
            },
            "header": {
             "fill": {
              "color": "#C8D4E3"
             },
             "line": {
              "color": "white"
             }
            },
            "type": "table"
           }
          ]
         },
         "layout": {
          "annotationdefaults": {
           "arrowcolor": "#2a3f5f",
           "arrowhead": 0,
           "arrowwidth": 1
          },
          "autotypenumbers": "strict",
          "coloraxis": {
           "colorbar": {
            "outlinewidth": 0,
            "ticks": ""
           }
          },
          "colorscale": {
           "diverging": [
            [
             0,
             "#8e0152"
            ],
            [
             0.1,
             "#c51b7d"
            ],
            [
             0.2,
             "#de77ae"
            ],
            [
             0.3,
             "#f1b6da"
            ],
            [
             0.4,
             "#fde0ef"
            ],
            [
             0.5,
             "#f7f7f7"
            ],
            [
             0.6,
             "#e6f5d0"
            ],
            [
             0.7,
             "#b8e186"
            ],
            [
             0.8,
             "#7fbc41"
            ],
            [
             0.9,
             "#4d9221"
            ],
            [
             1,
             "#276419"
            ]
           ],
           "sequential": [
            [
             0,
             "#0d0887"
            ],
            [
             0.1111111111111111,
             "#46039f"
            ],
            [
             0.2222222222222222,
             "#7201a8"
            ],
            [
             0.3333333333333333,
             "#9c179e"
            ],
            [
             0.4444444444444444,
             "#bd3786"
            ],
            [
             0.5555555555555556,
             "#d8576b"
            ],
            [
             0.6666666666666666,
             "#ed7953"
            ],
            [
             0.7777777777777778,
             "#fb9f3a"
            ],
            [
             0.8888888888888888,
             "#fdca26"
            ],
            [
             1,
             "#f0f921"
            ]
           ],
           "sequentialminus": [
            [
             0,
             "#0d0887"
            ],
            [
             0.1111111111111111,
             "#46039f"
            ],
            [
             0.2222222222222222,
             "#7201a8"
            ],
            [
             0.3333333333333333,
             "#9c179e"
            ],
            [
             0.4444444444444444,
             "#bd3786"
            ],
            [
             0.5555555555555556,
             "#d8576b"
            ],
            [
             0.6666666666666666,
             "#ed7953"
            ],
            [
             0.7777777777777778,
             "#fb9f3a"
            ],
            [
             0.8888888888888888,
             "#fdca26"
            ],
            [
             1,
             "#f0f921"
            ]
           ]
          },
          "colorway": [
           "#636efa",
           "#EF553B",
           "#00cc96",
           "#ab63fa",
           "#FFA15A",
           "#19d3f3",
           "#FF6692",
           "#B6E880",
           "#FF97FF",
           "#FECB52"
          ],
          "font": {
           "color": "#2a3f5f"
          },
          "geo": {
           "bgcolor": "white",
           "lakecolor": "white",
           "landcolor": "#E5ECF6",
           "showlakes": true,
           "showland": true,
           "subunitcolor": "white"
          },
          "hoverlabel": {
           "align": "left"
          },
          "hovermode": "closest",
          "mapbox": {
           "style": "light"
          },
          "paper_bgcolor": "white",
          "plot_bgcolor": "#E5ECF6",
          "polar": {
           "angularaxis": {
            "gridcolor": "white",
            "linecolor": "white",
            "ticks": ""
           },
           "bgcolor": "#E5ECF6",
           "radialaxis": {
            "gridcolor": "white",
            "linecolor": "white",
            "ticks": ""
           }
          },
          "scene": {
           "xaxis": {
            "backgroundcolor": "#E5ECF6",
            "gridcolor": "white",
            "gridwidth": 2,
            "linecolor": "white",
            "showbackground": true,
            "ticks": "",
            "zerolinecolor": "white"
           },
           "yaxis": {
            "backgroundcolor": "#E5ECF6",
            "gridcolor": "white",
            "gridwidth": 2,
            "linecolor": "white",
            "showbackground": true,
            "ticks": "",
            "zerolinecolor": "white"
           },
           "zaxis": {
            "backgroundcolor": "#E5ECF6",
            "gridcolor": "white",
            "gridwidth": 2,
            "linecolor": "white",
            "showbackground": true,
            "ticks": "",
            "zerolinecolor": "white"
           }
          },
          "shapedefaults": {
           "line": {
            "color": "#2a3f5f"
           }
          },
          "ternary": {
           "aaxis": {
            "gridcolor": "white",
            "linecolor": "white",
            "ticks": ""
           },
           "baxis": {
            "gridcolor": "white",
            "linecolor": "white",
            "ticks": ""
           },
           "bgcolor": "#E5ECF6",
           "caxis": {
            "gridcolor": "white",
            "linecolor": "white",
            "ticks": ""
           }
          },
          "title": {
           "x": 0.05
          },
          "xaxis": {
           "automargin": true,
           "gridcolor": "white",
           "linecolor": "white",
           "ticks": "",
           "title": {
            "standoff": 15
           },
           "zerolinecolor": "white",
           "zerolinewidth": 2
          },
          "yaxis": {
           "automargin": true,
           "gridcolor": "white",
           "linecolor": "white",
           "ticks": "",
           "title": {
            "standoff": 15
           },
           "zerolinecolor": "white",
           "zerolinewidth": 2
          }
         }
        },
        "title": {
         "text": "Pays d'origine des fèves de cacao"
        }
       }
      }
     },
     "metadata": {},
     "output_type": "display_data"
    }
   ],
   "source": [
    "\n",
    "fig=px.pie(data, names='country_of_bean_origin', title='Pays d\\'origine des fèves de cacao', hole=0.4,color_discrete_sequence=px.colors.sequential.solar)\n",
    "fig.update_traces(textposition='inside', textinfo='percent+label')\n",
    "fig.update_layout(margin=dict(l=40, r=20, t=50, b=10))\n",
    "fig.update_layout(plot_bgcolor=palette[1], paper_bgcolor=palette[1], font_color=palette[2]) #couleurs\n",
    "\n",
    "fig.show()"
   ]
  },
  {
   "cell_type": "markdown",
   "metadata": {},
   "source": [
    "### Carte"
   ]
  },
  {
   "cell_type": "code",
   "execution_count": 10,
   "metadata": {},
   "outputs": [
    {
     "data": {
      "application/vnd.plotly.v1+json": {
       "config": {
        "plotlyServerURL": "https://plot.ly"
       },
       "data": [
        {
         "geo": "geo",
         "hovertemplate": "<b>%{hovertext}</b><br><br>size=%{marker.size}<br>index=%{location}<br>color=%{marker.color}<extra></extra>",
         "hovertext": [
          "Venezuela",
          "Peru",
          "Dominican Republic",
          "Ecuador",
          "Madagascar",
          "Blend",
          "Nicaragua",
          "Bolivia",
          "Tanzania",
          "Colombia",
          "Brazil",
          "Belize",
          "Vietnam",
          "Guatemala",
          "Mexico",
          "Papua New Guinea",
          "Costa Rica",
          "Trinidad",
          "Ghana",
          "India",
          "U.S.A.",
          "Haiti",
          "Honduras",
          "Philippines",
          "Jamaica",
          "Indonesia",
          "Uganda",
          "Grenada",
          "Fiji",
          "Sao Tome",
          "Vanuatu",
          "Cuba",
          "Congo",
          "St. Lucia",
          "Solomon Islands",
          "Panama",
          "Malaysia",
          "Puerto Rico",
          "Ivory Coast",
          "El Salvador",
          "Thailand",
          "Sierra Leone",
          "Liberia",
          "Nigeria",
          "Cameroon",
          "Australia",
          "Samoa",
          "Togo",
          "Taiwan",
          "Tobago",
          "Sao Tome & Principe",
          "Sri Lanka",
          "Suriname",
          "Sulawesi",
          "Principe",
          "China",
          "Gabon",
          "Sumatra",
          "St.Vincent-Grenadines",
          "Martinique",
          "Burma",
          "DR Congo"
         ],
         "legendgroup": "",
         "locationmode": "country names",
         "locations": [
          "Venezuela",
          "Peru",
          "Dominican Republic",
          "Ecuador",
          "Madagascar",
          "Blend",
          "Nicaragua",
          "Bolivia",
          "Tanzania",
          "Colombia",
          "Brazil",
          "Belize",
          "Vietnam",
          "Guatemala",
          "Mexico",
          "Papua New Guinea",
          "Costa Rica",
          "Trinidad",
          "Ghana",
          "India",
          "U.S.A.",
          "Haiti",
          "Honduras",
          "Philippines",
          "Jamaica",
          "Indonesia",
          "Uganda",
          "Grenada",
          "Fiji",
          "Sao Tome",
          "Vanuatu",
          "Cuba",
          "Congo",
          "St. Lucia",
          "Solomon Islands",
          "Panama",
          "Malaysia",
          "Puerto Rico",
          "Ivory Coast",
          "El Salvador",
          "Thailand",
          "Sierra Leone",
          "Liberia",
          "Nigeria",
          "Cameroon",
          "Australia",
          "Samoa",
          "Togo",
          "Taiwan",
          "Tobago",
          "Sao Tome & Principe",
          "Sri Lanka",
          "Suriname",
          "Sulawesi",
          "Principe",
          "China",
          "Gabon",
          "Sumatra",
          "St.Vincent-Grenadines",
          "Martinique",
          "Burma",
          "DR Congo"
         ],
         "marker": {
          "color": [
           10,
           9.644268774703557,
           8.932806324110672,
           8.65612648221344,
           6.996047430830039,
           6.16600790513834,
           3.9525691699604746,
           3.1620553359683794,
           3.122529644268775,
           3.122529644268775,
           3.08300395256917,
           3.0039525691699605,
           2.8853754940711465,
           2.450592885375494,
           2.1739130434782608,
           1.9762845849802373,
           1.699604743083004,
           1.6600790513833994,
           1.6205533596837944,
           1.383399209486166,
           1.3043478260869565,
           1.185770750988142,
           0.9881422924901186,
           0.9486166007905139,
           0.9486166007905139,
           0.7905138339920948,
           0.7509881422924901,
           0.7509881422924901,
           0.6324110671936759,
           0.5533596837944664,
           0.5138339920948617,
           0.47430830039525695,
           0.43478260869565216,
           0.3952569169960474,
           0.3952569169960474,
           0.3557312252964427,
           0.31620553359683795,
           0.2766798418972332,
           0.2766798418972332,
           0.23715415019762848,
           0.1976284584980237,
           0.15810276679841898,
           0.11857707509881424,
           0.11857707509881424,
           0.11857707509881424,
           0.11857707509881424,
           0.11857707509881424,
           0.11857707509881424,
           0.07905138339920949,
           0.07905138339920949,
           0.07905138339920949,
           0.07905138339920949,
           0.039525691699604744,
           0.039525691699604744,
           0.039525691699604744,
           0.039525691699604744,
           0.039525691699604744,
           0.039525691699604744,
           0.039525691699604744,
           0.039525691699604744,
           0.039525691699604744,
           0.039525691699604744
          ],
          "coloraxis": "coloraxis",
          "line": {
           "color": "Black",
           "width": 1
          },
          "size": [
           10,
           9.644268774703557,
           8.932806324110672,
           8.65612648221344,
           6.996047430830039,
           6.16600790513834,
           3.9525691699604746,
           3.1620553359683794,
           3.122529644268775,
           3.122529644268775,
           3.08300395256917,
           3.0039525691699605,
           2.8853754940711465,
           2.450592885375494,
           2.1739130434782608,
           1.9762845849802373,
           1.699604743083004,
           1.6600790513833994,
           1.6205533596837944,
           1.383399209486166,
           1.3043478260869565,
           1.185770750988142,
           0.9881422924901186,
           0.9486166007905139,
           0.9486166007905139,
           0.7905138339920948,
           0.7509881422924901,
           0.7509881422924901,
           0.6324110671936759,
           0.5533596837944664,
           0.5138339920948617,
           0.47430830039525695,
           0.43478260869565216,
           0.3952569169960474,
           0.3952569169960474,
           0.3557312252964427,
           0.31620553359683795,
           0.2766798418972332,
           0.2766798418972332,
           0.23715415019762848,
           0.1976284584980237,
           0.15810276679841898,
           0.11857707509881424,
           0.11857707509881424,
           0.11857707509881424,
           0.11857707509881424,
           0.11857707509881424,
           0.11857707509881424,
           0.07905138339920949,
           0.07905138339920949,
           0.07905138339920949,
           0.07905138339920949,
           0.039525691699604744,
           0.039525691699604744,
           0.039525691699604744,
           0.039525691699604744,
           0.039525691699604744,
           0.039525691699604744,
           0.039525691699604744,
           0.039525691699604744,
           0.039525691699604744,
           0.039525691699604744
          ],
          "sizemode": "area",
          "sizeref": 0.025,
          "symbol": "circle"
         },
         "mode": "markers",
         "name": "",
         "showlegend": false,
         "type": "scattergeo"
        }
       ],
       "layout": {
        "coloraxis": {
         "colorbar": {
          "title": {
           "text": "Nombre de chocolats évalués"
          }
         },
         "colorscale": [
          [
           0,
           "#71260A"
          ],
          [
           0.25,
           "#96421D"
          ],
          [
           0.5,
           "#C06530"
          ],
          [
           0.75,
           "#DA8A56"
          ],
          [
           1,
           "#E9D5CC"
          ]
         ]
        },
        "font": {
         "color": "#6f1c0e"
        },
        "geo": {
         "center": {},
         "domain": {
          "x": [
           0,
           1
          ],
          "y": [
           0,
           1
          ]
         },
         "projection": {
          "type": "natural earth"
         }
        },
        "legend": {
         "itemsizing": "constant",
         "tracegroupgap": 0
        },
        "margin": {
         "b": 10,
         "l": 40,
         "r": 20,
         "t": 50
        },
        "template": {
         "data": {
          "bar": [
           {
            "error_x": {
             "color": "#2a3f5f"
            },
            "error_y": {
             "color": "#2a3f5f"
            },
            "marker": {
             "line": {
              "color": "#E5ECF6",
              "width": 0.5
             },
             "pattern": {
              "fillmode": "overlay",
              "size": 10,
              "solidity": 0.2
             }
            },
            "type": "bar"
           }
          ],
          "barpolar": [
           {
            "marker": {
             "line": {
              "color": "#E5ECF6",
              "width": 0.5
             },
             "pattern": {
              "fillmode": "overlay",
              "size": 10,
              "solidity": 0.2
             }
            },
            "type": "barpolar"
           }
          ],
          "carpet": [
           {
            "aaxis": {
             "endlinecolor": "#2a3f5f",
             "gridcolor": "white",
             "linecolor": "white",
             "minorgridcolor": "white",
             "startlinecolor": "#2a3f5f"
            },
            "baxis": {
             "endlinecolor": "#2a3f5f",
             "gridcolor": "white",
             "linecolor": "white",
             "minorgridcolor": "white",
             "startlinecolor": "#2a3f5f"
            },
            "type": "carpet"
           }
          ],
          "choropleth": [
           {
            "colorbar": {
             "outlinewidth": 0,
             "ticks": ""
            },
            "type": "choropleth"
           }
          ],
          "contour": [
           {
            "colorbar": {
             "outlinewidth": 0,
             "ticks": ""
            },
            "colorscale": [
             [
              0,
              "#0d0887"
             ],
             [
              0.1111111111111111,
              "#46039f"
             ],
             [
              0.2222222222222222,
              "#7201a8"
             ],
             [
              0.3333333333333333,
              "#9c179e"
             ],
             [
              0.4444444444444444,
              "#bd3786"
             ],
             [
              0.5555555555555556,
              "#d8576b"
             ],
             [
              0.6666666666666666,
              "#ed7953"
             ],
             [
              0.7777777777777778,
              "#fb9f3a"
             ],
             [
              0.8888888888888888,
              "#fdca26"
             ],
             [
              1,
              "#f0f921"
             ]
            ],
            "type": "contour"
           }
          ],
          "contourcarpet": [
           {
            "colorbar": {
             "outlinewidth": 0,
             "ticks": ""
            },
            "type": "contourcarpet"
           }
          ],
          "heatmap": [
           {
            "colorbar": {
             "outlinewidth": 0,
             "ticks": ""
            },
            "colorscale": [
             [
              0,
              "#0d0887"
             ],
             [
              0.1111111111111111,
              "#46039f"
             ],
             [
              0.2222222222222222,
              "#7201a8"
             ],
             [
              0.3333333333333333,
              "#9c179e"
             ],
             [
              0.4444444444444444,
              "#bd3786"
             ],
             [
              0.5555555555555556,
              "#d8576b"
             ],
             [
              0.6666666666666666,
              "#ed7953"
             ],
             [
              0.7777777777777778,
              "#fb9f3a"
             ],
             [
              0.8888888888888888,
              "#fdca26"
             ],
             [
              1,
              "#f0f921"
             ]
            ],
            "type": "heatmap"
           }
          ],
          "heatmapgl": [
           {
            "colorbar": {
             "outlinewidth": 0,
             "ticks": ""
            },
            "colorscale": [
             [
              0,
              "#0d0887"
             ],
             [
              0.1111111111111111,
              "#46039f"
             ],
             [
              0.2222222222222222,
              "#7201a8"
             ],
             [
              0.3333333333333333,
              "#9c179e"
             ],
             [
              0.4444444444444444,
              "#bd3786"
             ],
             [
              0.5555555555555556,
              "#d8576b"
             ],
             [
              0.6666666666666666,
              "#ed7953"
             ],
             [
              0.7777777777777778,
              "#fb9f3a"
             ],
             [
              0.8888888888888888,
              "#fdca26"
             ],
             [
              1,
              "#f0f921"
             ]
            ],
            "type": "heatmapgl"
           }
          ],
          "histogram": [
           {
            "marker": {
             "pattern": {
              "fillmode": "overlay",
              "size": 10,
              "solidity": 0.2
             }
            },
            "type": "histogram"
           }
          ],
          "histogram2d": [
           {
            "colorbar": {
             "outlinewidth": 0,
             "ticks": ""
            },
            "colorscale": [
             [
              0,
              "#0d0887"
             ],
             [
              0.1111111111111111,
              "#46039f"
             ],
             [
              0.2222222222222222,
              "#7201a8"
             ],
             [
              0.3333333333333333,
              "#9c179e"
             ],
             [
              0.4444444444444444,
              "#bd3786"
             ],
             [
              0.5555555555555556,
              "#d8576b"
             ],
             [
              0.6666666666666666,
              "#ed7953"
             ],
             [
              0.7777777777777778,
              "#fb9f3a"
             ],
             [
              0.8888888888888888,
              "#fdca26"
             ],
             [
              1,
              "#f0f921"
             ]
            ],
            "type": "histogram2d"
           }
          ],
          "histogram2dcontour": [
           {
            "colorbar": {
             "outlinewidth": 0,
             "ticks": ""
            },
            "colorscale": [
             [
              0,
              "#0d0887"
             ],
             [
              0.1111111111111111,
              "#46039f"
             ],
             [
              0.2222222222222222,
              "#7201a8"
             ],
             [
              0.3333333333333333,
              "#9c179e"
             ],
             [
              0.4444444444444444,
              "#bd3786"
             ],
             [
              0.5555555555555556,
              "#d8576b"
             ],
             [
              0.6666666666666666,
              "#ed7953"
             ],
             [
              0.7777777777777778,
              "#fb9f3a"
             ],
             [
              0.8888888888888888,
              "#fdca26"
             ],
             [
              1,
              "#f0f921"
             ]
            ],
            "type": "histogram2dcontour"
           }
          ],
          "mesh3d": [
           {
            "colorbar": {
             "outlinewidth": 0,
             "ticks": ""
            },
            "type": "mesh3d"
           }
          ],
          "parcoords": [
           {
            "line": {
             "colorbar": {
              "outlinewidth": 0,
              "ticks": ""
             }
            },
            "type": "parcoords"
           }
          ],
          "pie": [
           {
            "automargin": true,
            "type": "pie"
           }
          ],
          "scatter": [
           {
            "marker": {
             "colorbar": {
              "outlinewidth": 0,
              "ticks": ""
             }
            },
            "type": "scatter"
           }
          ],
          "scatter3d": [
           {
            "line": {
             "colorbar": {
              "outlinewidth": 0,
              "ticks": ""
             }
            },
            "marker": {
             "colorbar": {
              "outlinewidth": 0,
              "ticks": ""
             }
            },
            "type": "scatter3d"
           }
          ],
          "scattercarpet": [
           {
            "marker": {
             "colorbar": {
              "outlinewidth": 0,
              "ticks": ""
             }
            },
            "type": "scattercarpet"
           }
          ],
          "scattergeo": [
           {
            "marker": {
             "colorbar": {
              "outlinewidth": 0,
              "ticks": ""
             }
            },
            "type": "scattergeo"
           }
          ],
          "scattergl": [
           {
            "marker": {
             "colorbar": {
              "outlinewidth": 0,
              "ticks": ""
             }
            },
            "type": "scattergl"
           }
          ],
          "scattermapbox": [
           {
            "marker": {
             "colorbar": {
              "outlinewidth": 0,
              "ticks": ""
             }
            },
            "type": "scattermapbox"
           }
          ],
          "scatterpolar": [
           {
            "marker": {
             "colorbar": {
              "outlinewidth": 0,
              "ticks": ""
             }
            },
            "type": "scatterpolar"
           }
          ],
          "scatterpolargl": [
           {
            "marker": {
             "colorbar": {
              "outlinewidth": 0,
              "ticks": ""
             }
            },
            "type": "scatterpolargl"
           }
          ],
          "scatterternary": [
           {
            "marker": {
             "colorbar": {
              "outlinewidth": 0,
              "ticks": ""
             }
            },
            "type": "scatterternary"
           }
          ],
          "surface": [
           {
            "colorbar": {
             "outlinewidth": 0,
             "ticks": ""
            },
            "colorscale": [
             [
              0,
              "#0d0887"
             ],
             [
              0.1111111111111111,
              "#46039f"
             ],
             [
              0.2222222222222222,
              "#7201a8"
             ],
             [
              0.3333333333333333,
              "#9c179e"
             ],
             [
              0.4444444444444444,
              "#bd3786"
             ],
             [
              0.5555555555555556,
              "#d8576b"
             ],
             [
              0.6666666666666666,
              "#ed7953"
             ],
             [
              0.7777777777777778,
              "#fb9f3a"
             ],
             [
              0.8888888888888888,
              "#fdca26"
             ],
             [
              1,
              "#f0f921"
             ]
            ],
            "type": "surface"
           }
          ],
          "table": [
           {
            "cells": {
             "fill": {
              "color": "#EBF0F8"
             },
             "line": {
              "color": "white"
             }
            },
            "header": {
             "fill": {
              "color": "#C8D4E3"
             },
             "line": {
              "color": "white"
             }
            },
            "type": "table"
           }
          ]
         },
         "layout": {
          "annotationdefaults": {
           "arrowcolor": "#2a3f5f",
           "arrowhead": 0,
           "arrowwidth": 1
          },
          "autotypenumbers": "strict",
          "coloraxis": {
           "colorbar": {
            "outlinewidth": 0,
            "ticks": ""
           }
          },
          "colorscale": {
           "diverging": [
            [
             0,
             "#8e0152"
            ],
            [
             0.1,
             "#c51b7d"
            ],
            [
             0.2,
             "#de77ae"
            ],
            [
             0.3,
             "#f1b6da"
            ],
            [
             0.4,
             "#fde0ef"
            ],
            [
             0.5,
             "#f7f7f7"
            ],
            [
             0.6,
             "#e6f5d0"
            ],
            [
             0.7,
             "#b8e186"
            ],
            [
             0.8,
             "#7fbc41"
            ],
            [
             0.9,
             "#4d9221"
            ],
            [
             1,
             "#276419"
            ]
           ],
           "sequential": [
            [
             0,
             "#0d0887"
            ],
            [
             0.1111111111111111,
             "#46039f"
            ],
            [
             0.2222222222222222,
             "#7201a8"
            ],
            [
             0.3333333333333333,
             "#9c179e"
            ],
            [
             0.4444444444444444,
             "#bd3786"
            ],
            [
             0.5555555555555556,
             "#d8576b"
            ],
            [
             0.6666666666666666,
             "#ed7953"
            ],
            [
             0.7777777777777778,
             "#fb9f3a"
            ],
            [
             0.8888888888888888,
             "#fdca26"
            ],
            [
             1,
             "#f0f921"
            ]
           ],
           "sequentialminus": [
            [
             0,
             "#0d0887"
            ],
            [
             0.1111111111111111,
             "#46039f"
            ],
            [
             0.2222222222222222,
             "#7201a8"
            ],
            [
             0.3333333333333333,
             "#9c179e"
            ],
            [
             0.4444444444444444,
             "#bd3786"
            ],
            [
             0.5555555555555556,
             "#d8576b"
            ],
            [
             0.6666666666666666,
             "#ed7953"
            ],
            [
             0.7777777777777778,
             "#fb9f3a"
            ],
            [
             0.8888888888888888,
             "#fdca26"
            ],
            [
             1,
             "#f0f921"
            ]
           ]
          },
          "colorway": [
           "#636efa",
           "#EF553B",
           "#00cc96",
           "#ab63fa",
           "#FFA15A",
           "#19d3f3",
           "#FF6692",
           "#B6E880",
           "#FF97FF",
           "#FECB52"
          ],
          "font": {
           "color": "#2a3f5f"
          },
          "geo": {
           "bgcolor": "white",
           "lakecolor": "white",
           "landcolor": "#E5ECF6",
           "showlakes": true,
           "showland": true,
           "subunitcolor": "white"
          },
          "hoverlabel": {
           "align": "left"
          },
          "hovermode": "closest",
          "mapbox": {
           "style": "light"
          },
          "paper_bgcolor": "white",
          "plot_bgcolor": "#E5ECF6",
          "polar": {
           "angularaxis": {
            "gridcolor": "white",
            "linecolor": "white",
            "ticks": ""
           },
           "bgcolor": "#E5ECF6",
           "radialaxis": {
            "gridcolor": "white",
            "linecolor": "white",
            "ticks": ""
           }
          },
          "scene": {
           "xaxis": {
            "backgroundcolor": "#E5ECF6",
            "gridcolor": "white",
            "gridwidth": 2,
            "linecolor": "white",
            "showbackground": true,
            "ticks": "",
            "zerolinecolor": "white"
           },
           "yaxis": {
            "backgroundcolor": "#E5ECF6",
            "gridcolor": "white",
            "gridwidth": 2,
            "linecolor": "white",
            "showbackground": true,
            "ticks": "",
            "zerolinecolor": "white"
           },
           "zaxis": {
            "backgroundcolor": "#E5ECF6",
            "gridcolor": "white",
            "gridwidth": 2,
            "linecolor": "white",
            "showbackground": true,
            "ticks": "",
            "zerolinecolor": "white"
           }
          },
          "shapedefaults": {
           "line": {
            "color": "#2a3f5f"
           }
          },
          "ternary": {
           "aaxis": {
            "gridcolor": "white",
            "linecolor": "white",
            "ticks": ""
           },
           "baxis": {
            "gridcolor": "white",
            "linecolor": "white",
            "ticks": ""
           },
           "bgcolor": "#E5ECF6",
           "caxis": {
            "gridcolor": "white",
            "linecolor": "white",
            "ticks": ""
           }
          },
          "title": {
           "x": 0.05
          },
          "xaxis": {
           "automargin": true,
           "gridcolor": "white",
           "linecolor": "white",
           "ticks": "",
           "title": {
            "standoff": 15
           },
           "zerolinecolor": "white",
           "zerolinewidth": 2
          },
          "yaxis": {
           "automargin": true,
           "gridcolor": "white",
           "linecolor": "white",
           "ticks": "",
           "title": {
            "standoff": 15
           },
           "zerolinecolor": "white",
           "zerolinewidth": 2
          }
         }
        },
        "title": {
         "text": "Pays d'origine des fèves de cacao"
        }
       }
      }
     },
     "metadata": {},
     "output_type": "display_data"
    }
   ],
   "source": [
    "tab=data['country_of_bean_origin'].value_counts()\n",
    "\n",
    "# Avoir le pourcentage des chocolats par pays\n",
    "tab=tab/tab.sum()*100\n",
    "\n",
    "# Origine des fèves de cacao par pays\n",
    "fig = px.scatter_geo(tab, locations=tab.index, hover_name=tab.index, locationmode='country names', \n",
    "                     size=tab.values, title='Pays d\\'origine des fèves de cacao' , color=tab.values, \n",
    "                     projection=\"natural earth\", color_continuous_scale=palette_degrade)\n",
    "#projection=\"orthographic\"\n",
    "fig.update_layout(margin=dict(l=40, r=20, t=50, b=10),coloraxis_colorbar=dict(title='Nombre de chocolats évalués'))\n",
    "fig.update_traces(marker=dict(line=dict(width=1, color='Black')))\n",
    "fig.update_layout(font_color=text_color) #couleurs\n",
    "\n",
    "\n",
    "fig.show()"
   ]
  },
  {
   "cell_type": "markdown",
   "metadata": {},
   "source": [
    "# Pays importateurs"
   ]
  },
  {
   "cell_type": "markdown",
   "metadata": {},
   "source": [
    "### donut"
   ]
  },
  {
   "cell_type": "code",
   "execution_count": 11,
   "metadata": {},
   "outputs": [
    {
     "data": {
      "application/vnd.plotly.v1+json": {
       "config": {
        "plotlyServerURL": "https://plot.ly"
       },
       "data": [
        {
         "domain": {
          "x": [
           0,
           1
          ],
          "y": [
           0,
           1
          ]
         },
         "hole": 0.4,
         "hovertemplate": "company_location=%{label}<extra></extra>",
         "labels": [
          "U.S.A.",
          "U.S.A.",
          "U.S.A.",
          "U.S.A.",
          "U.S.A.",
          "U.S.A.",
          "U.S.A.",
          "France",
          "France",
          "France",
          "France",
          "France",
          "France",
          "France",
          "France",
          "France",
          "France",
          "France",
          "France",
          "France",
          "France",
          "France",
          "France",
          "France",
          "France",
          "France",
          "France",
          "France",
          "France",
          "France",
          "France",
          "France",
          "France",
          "U.S.A.",
          "U.S.A.",
          "U.S.A.",
          "U.S.A.",
          "Autre pays",
          "Autre pays",
          "Autre pays",
          "Autre pays",
          "Autre pays",
          "Autre pays",
          "Autre pays",
          "Autre pays",
          "Ecuador",
          "Ecuador",
          "Autre pays",
          "U.K.",
          "U.K.",
          "U.K.",
          "France",
          "France",
          "France",
          "France",
          "France",
          "France",
          "Autre pays",
          "Autre pays",
          "Autre pays",
          "Autre pays",
          "U.S.A.",
          "U.S.A.",
          "U.S.A.",
          "U.S.A.",
          "U.S.A.",
          "U.S.A.",
          "U.S.A.",
          "U.S.A.",
          "U.S.A.",
          "U.S.A.",
          "U.S.A.",
          "U.S.A.",
          "U.S.A.",
          "U.S.A.",
          "U.S.A.",
          "U.S.A.",
          "U.S.A.",
          "U.S.A.",
          "U.S.A.",
          "U.S.A.",
          "Spain",
          "Spain",
          "Spain",
          "Spain",
          "Autre pays",
          "Autre pays",
          "Autre pays",
          "Autre pays",
          "Canada",
          "Canada",
          "Canada",
          "Canada",
          "Canada",
          "Canada",
          "Italy",
          "Italy",
          "Italy",
          "Italy",
          "Italy",
          "Italy",
          "Italy",
          "Italy",
          "Italy",
          "Italy",
          "Italy",
          "Italy",
          "Italy",
          "Autre pays",
          "Autre pays",
          "Autre pays",
          "Autre pays",
          "Autre pays",
          "U.S.A.",
          "U.S.A.",
          "U.S.A.",
          "U.S.A.",
          "France",
          "France",
          "France",
          "France",
          "U.S.A.",
          "U.S.A.",
          "U.S.A.",
          "U.S.A.",
          "U.S.A.",
          "U.S.A.",
          "U.S.A.",
          "U.S.A.",
          "U.S.A.",
          "U.S.A.",
          "U.S.A.",
          "U.S.A.",
          "U.S.A.",
          "U.S.A.",
          "U.S.A.",
          "U.S.A.",
          "U.S.A.",
          "U.S.A.",
          "U.S.A.",
          "U.S.A.",
          "U.S.A.",
          "U.S.A.",
          "U.S.A.",
          "U.S.A.",
          "U.S.A.",
          "U.S.A.",
          "U.S.A.",
          "U.S.A.",
          "U.S.A.",
          "U.S.A.",
          "U.S.A.",
          "U.S.A.",
          "Autre pays",
          "Autre pays",
          "Autre pays",
          "Autre pays",
          "U.K.",
          "U.K.",
          "U.K.",
          "U.K.",
          "U.K.",
          "U.K.",
          "U.K.",
          "U.K.",
          "U.K.",
          "U.K.",
          "U.K.",
          "U.K.",
          "U.K.",
          "U.K.",
          "U.K.",
          "U.K.",
          "U.K.",
          "Italy",
          "Italy",
          "Italy",
          "U.S.A.",
          "U.S.A.",
          "U.S.A.",
          "U.S.A.",
          "U.S.A.",
          "U.S.A.",
          "Australia",
          "Autre pays",
          "Autre pays",
          "Autre pays",
          "Autre pays",
          "Canada",
          "Canada",
          "Australia",
          "Australia",
          "Australia",
          "Australia",
          "Australia",
          "Autre pays",
          "Autre pays",
          "Autre pays",
          "U.S.A.",
          "U.S.A.",
          "U.S.A.",
          "U.S.A.",
          "U.S.A.",
          "U.S.A.",
          "U.S.A.",
          "U.S.A.",
          "U.S.A.",
          "U.S.A.",
          "Autre pays",
          "U.S.A.",
          "U.S.A.",
          "U.S.A.",
          "U.K.",
          "U.K.",
          "U.K.",
          "U.S.A.",
          "U.S.A.",
          "U.S.A.",
          "U.S.A.",
          "Belgium",
          "Belgium",
          "Belgium",
          "Belgium",
          "U.S.A.",
          "U.S.A.",
          "U.S.A.",
          "Autre pays",
          "Autre pays",
          "Germany",
          "Germany",
          "Germany",
          "Autre pays",
          "Autre pays",
          "Autre pays",
          "Belgium",
          "Belgium",
          "Belgium",
          "Belgium",
          "Belgium",
          "Belgium",
          "France",
          "Switzerland",
          "Switzerland",
          "Switzerland",
          "Switzerland",
          "Switzerland",
          "Switzerland",
          "Switzerland",
          "Switzerland",
          "U.S.A.",
          "U.S.A.",
          "U.S.A.",
          "U.S.A.",
          "Venezuela",
          "Venezuela",
          "Venezuela",
          "U.S.A.",
          "U.S.A.",
          "U.S.A.",
          "U.S.A.",
          "U.S.A.",
          "U.S.A.",
          "U.S.A.",
          "U.S.A.",
          "U.S.A.",
          "U.S.A.",
          "U.S.A.",
          "U.S.A.",
          "U.S.A.",
          "U.S.A.",
          "U.S.A.",
          "U.S.A.",
          "U.S.A.",
          "U.S.A.",
          "U.S.A.",
          "U.S.A.",
          "U.S.A.",
          "U.S.A.",
          "U.K.",
          "U.S.A.",
          "U.S.A.",
          "Spain",
          "Spain",
          "U.S.A.",
          "U.S.A.",
          "U.S.A.",
          "U.S.A.",
          "U.S.A.",
          "U.S.A.",
          "U.S.A.",
          "Autre pays",
          "Autre pays",
          "Autre pays",
          "France",
          "France",
          "France",
          "France",
          "France",
          "France",
          "France",
          "France",
          "France",
          "France",
          "France",
          "France",
          "France",
          "France",
          "France",
          "France",
          "France",
          "France",
          "France",
          "France",
          "France",
          "France",
          "France",
          "France",
          "France",
          "France",
          "France",
          "France",
          "France",
          "France",
          "Ecuador",
          "Ecuador",
          "U.S.A.",
          "U.S.A.",
          "U.S.A.",
          "U.S.A.",
          "U.S.A.",
          "U.S.A.",
          "U.S.A.",
          "U.S.A.",
          "U.S.A.",
          "U.S.A.",
          "U.S.A.",
          "U.S.A.",
          "U.S.A.",
          "U.S.A.",
          "U.S.A.",
          "U.S.A.",
          "U.S.A.",
          "U.S.A.",
          "U.S.A.",
          "U.S.A.",
          "U.S.A.",
          "U.S.A.",
          "U.S.A.",
          "U.S.A.",
          "Australia",
          "Australia",
          "Australia",
          "Australia",
          "Autre pays",
          "U.S.A.",
          "U.K.",
          "U.K.",
          "U.S.A.",
          "U.S.A.",
          "U.S.A.",
          "U.S.A.",
          "U.S.A.",
          "Autre pays",
          "Autre pays",
          "Autre pays",
          "Canada",
          "Canada",
          "Canada",
          "Autre pays",
          "U.S.A.",
          "U.S.A.",
          "U.S.A.",
          "U.S.A.",
          "France",
          "France",
          "France",
          "France",
          "France",
          "Switzerland",
          "Switzerland",
          "Switzerland",
          "Venezuela",
          "Venezuela",
          "Venezuela",
          "Venezuela",
          "Venezuela",
          "Venezuela",
          "Venezuela",
          "Venezuela",
          "Venezuela",
          "Venezuela",
          "U.S.A.",
          "Autre pays",
          "Autre pays",
          "Autre pays",
          "Autre pays",
          "Autre pays",
          "Autre pays",
          "Autre pays",
          "U.S.A.",
          "U.S.A.",
          "U.S.A.",
          "U.S.A.",
          "U.S.A.",
          "Spain",
          "Spain",
          "Spain",
          "Spain",
          "Spain",
          "Spain",
          "Spain",
          "Spain",
          "Spain",
          "U.S.A.",
          "U.S.A.",
          "U.S.A.",
          "Japan",
          "Japan",
          "Japan",
          "Autre pays",
          "Autre pays",
          "Autre pays",
          "Autre pays",
          "Autre pays",
          "Autre pays",
          "Autre pays",
          "Ecuador",
          "Ecuador",
          "Ecuador",
          "Ecuador",
          "Belgium",
          "Belgium",
          "Italy",
          "Italy",
          "Italy",
          "Italy",
          "Italy",
          "Italy",
          "Italy",
          "U.S.A.",
          "U.S.A.",
          "U.S.A.",
          "U.S.A.",
          "U.S.A.",
          "Autre pays",
          "Autre pays",
          "Autre pays",
          "Autre pays",
          "Ecuador",
          "Ecuador",
          "Ecuador",
          "Ecuador",
          "Ecuador",
          "Ecuador",
          "Autre pays",
          "Autre pays",
          "U.S.A.",
          "U.S.A.",
          "U.S.A.",
          "U.S.A.",
          "Autre pays",
          "Autre pays",
          "Autre pays",
          "Autre pays",
          "Autre pays",
          "Autre pays",
          "Autre pays",
          "Autre pays",
          "Autre pays",
          "Autre pays",
          "U.S.A.",
          "Autre pays",
          "Autre pays",
          "U.S.A.",
          "U.S.A.",
          "U.S.A.",
          "U.S.A.",
          "U.S.A.",
          "U.S.A.",
          "U.S.A.",
          "U.S.A.",
          "U.S.A.",
          "U.S.A.",
          "U.S.A.",
          "U.S.A.",
          "U.S.A.",
          "U.S.A.",
          "U.S.A.",
          "U.S.A.",
          "U.S.A.",
          "U.S.A.",
          "U.S.A.",
          "U.S.A.",
          "U.S.A.",
          "U.S.A.",
          "U.S.A.",
          "France",
          "Canada",
          "Canada",
          "Canada",
          "Canada",
          "France",
          "France",
          "U.S.A.",
          "Ecuador",
          "Ecuador",
          "U.S.A.",
          "U.S.A.",
          "U.S.A.",
          "U.S.A.",
          "U.S.A.",
          "France",
          "U.K.",
          "Germany",
          "Germany",
          "Autre pays",
          "Autre pays",
          "Autre pays",
          "Autre pays",
          "U.K.",
          "U.K.",
          "U.K.",
          "U.K.",
          "U.S.A.",
          "U.S.A.",
          "U.S.A.",
          "U.S.A.",
          "U.S.A.",
          "U.S.A.",
          "U.S.A.",
          "U.S.A.",
          "U.S.A.",
          "U.S.A.",
          "U.S.A.",
          "U.S.A.",
          "Autre pays",
          "Autre pays",
          "Autre pays",
          "Autre pays",
          "Autre pays",
          "Autre pays",
          "Autre pays",
          "Autre pays",
          "Autre pays",
          "Autre pays",
          "U.S.A.",
          "Belgium",
          "Canada",
          "U.S.A.",
          "U.S.A.",
          "U.S.A.",
          "Japan",
          "Canada",
          "Canada",
          "U.S.A.",
          "U.S.A.",
          "U.S.A.",
          "Spain",
          "Spain",
          "Spain",
          "Spain",
          "Spain",
          "Spain",
          "Spain",
          "Spain",
          "U.S.A.",
          "U.S.A.",
          "Canada",
          "Canada",
          "Canada",
          "Canada",
          "Canada",
          "U.S.A.",
          "U.S.A.",
          "U.S.A.",
          "U.S.A.",
          "U.S.A.",
          "U.S.A.",
          "Autre pays",
          "U.S.A.",
          "U.S.A.",
          "U.S.A.",
          "U.S.A.",
          "U.S.A.",
          "U.S.A.",
          "U.S.A.",
          "U.S.A.",
          "Canada",
          "U.S.A.",
          "U.S.A.",
          "Autre pays",
          "Autre pays",
          "Autre pays",
          "Autre pays",
          "U.S.A.",
          "U.S.A.",
          "U.S.A.",
          "Canada",
          "Autre pays",
          "U.S.A.",
          "U.S.A.",
          "U.S.A.",
          "Autre pays",
          "Autre pays",
          "Autre pays",
          "Autre pays",
          "Autre pays",
          "U.S.A.",
          "U.S.A.",
          "U.S.A.",
          "U.S.A.",
          "U.S.A.",
          "U.S.A.",
          "Germany",
          "Germany",
          "Germany",
          "Germany",
          "Germany",
          "Germany",
          "Germany",
          "Germany",
          "Germany",
          "Germany",
          "Germany",
          "Germany",
          "Germany",
          "Germany",
          "Germany",
          "Germany",
          "Germany",
          "Germany",
          "Germany",
          "Belgium",
          "Australia",
          "Australia",
          "Australia",
          "Australia",
          "Australia",
          "Australia",
          "Australia",
          "U.S.A.",
          "U.S.A.",
          "U.S.A.",
          "U.S.A.",
          "U.S.A.",
          "U.S.A.",
          "U.S.A.",
          "U.S.A.",
          "U.S.A.",
          "U.S.A.",
          "U.S.A.",
          "Autre pays",
          "Australia",
          "Australia",
          "U.S.A.",
          "U.K.",
          "U.K.",
          "U.K.",
          "U.K.",
          "U.K.",
          "U.S.A.",
          "U.S.A.",
          "U.S.A.",
          "U.S.A.",
          "U.S.A.",
          "U.S.A.",
          "U.S.A.",
          "U.S.A.",
          "U.S.A.",
          "U.S.A.",
          "U.S.A.",
          "U.S.A.",
          "U.S.A.",
          "U.S.A.",
          "U.S.A.",
          "U.S.A.",
          "U.S.A.",
          "U.S.A.",
          "U.S.A.",
          "U.S.A.",
          "U.S.A.",
          "U.S.A.",
          "U.S.A.",
          "U.S.A.",
          "U.S.A.",
          "U.S.A.",
          "U.S.A.",
          "U.S.A.",
          "U.S.A.",
          "U.S.A.",
          "U.S.A.",
          "U.S.A.",
          "Autre pays",
          "Autre pays",
          "Autre pays",
          "Autre pays",
          "Autre pays",
          "Autre pays",
          "Autre pays",
          "Autre pays",
          "Autre pays",
          "U.S.A.",
          "U.S.A.",
          "U.S.A.",
          "Belgium",
          "Belgium",
          "U.S.A.",
          "U.S.A.",
          "U.S.A.",
          "U.S.A.",
          "U.S.A.",
          "U.S.A.",
          "U.S.A.",
          "U.S.A.",
          "U.S.A.",
          "Autre pays",
          "Autre pays",
          "Autre pays",
          "Autre pays",
          "U.S.A.",
          "U.S.A.",
          "U.S.A.",
          "U.S.A.",
          "U.S.A.",
          "U.S.A.",
          "France",
          "France",
          "Autre pays",
          "Autre pays",
          "Autre pays",
          "Canada",
          "Canada",
          "U.S.A.",
          "U.S.A.",
          "U.S.A.",
          "U.S.A.",
          "U.S.A.",
          "U.S.A.",
          "U.S.A.",
          "U.S.A.",
          "U.S.A.",
          "U.S.A.",
          "U.S.A.",
          "U.S.A.",
          "U.S.A.",
          "U.S.A.",
          "U.S.A.",
          "U.S.A.",
          "U.S.A.",
          "U.S.A.",
          "U.S.A.",
          "U.S.A.",
          "U.S.A.",
          "U.S.A.",
          "Autre pays",
          "Autre pays",
          "Autre pays",
          "Autre pays",
          "U.K.",
          "U.K.",
          "U.K.",
          "U.K.",
          "U.S.A.",
          "Belgium",
          "Belgium",
          "Italy",
          "Italy",
          "Italy",
          "Italy",
          "Italy",
          "Italy",
          "Italy",
          "Italy",
          "Italy",
          "Italy",
          "Italy",
          "Italy",
          "Italy",
          "Italy",
          "Italy",
          "Italy",
          "Italy",
          "Italy",
          "Italy",
          "Italy",
          "Italy",
          "Italy",
          "Italy",
          "U.K.",
          "U.K.",
          "U.K.",
          "U.K.",
          "U.K.",
          "U.K.",
          "U.K.",
          "U.K.",
          "U.S.A.",
          "U.S.A.",
          "U.S.A.",
          "U.K.",
          "U.K.",
          "U.K.",
          "U.K.",
          "U.K.",
          "U.K.",
          "U.K.",
          "U.K.",
          "U.K.",
          "U.K.",
          "U.K.",
          "U.K.",
          "U.K.",
          "U.K.",
          "U.K.",
          "U.K.",
          "U.K.",
          "U.S.A.",
          "France",
          "U.S.A.",
          "U.S.A.",
          "U.S.A.",
          "U.S.A.",
          "U.S.A.",
          "U.S.A.",
          "Canada",
          "Canada",
          "Canada",
          "Canada",
          "Canada",
          "U.S.A.",
          "U.S.A.",
          "Germany",
          "U.S.A.",
          "U.S.A.",
          "Autre pays",
          "Autre pays",
          "Venezuela",
          "Venezuela",
          "Venezuela",
          "Venezuela",
          "Venezuela",
          "Venezuela",
          "Venezuela",
          "U.S.A.",
          "Autre pays",
          "Autre pays",
          "Japan",
          "Japan",
          "France",
          "France",
          "France",
          "France",
          "U.S.A.",
          "U.S.A.",
          "U.S.A.",
          "U.S.A.",
          "U.S.A.",
          "Spain",
          "France",
          "France",
          "France",
          "U.S.A.",
          "U.S.A.",
          "U.S.A.",
          "U.S.A.",
          "U.S.A.",
          "U.S.A.",
          "U.S.A.",
          "U.S.A.",
          "U.S.A.",
          "U.S.A.",
          "U.S.A.",
          "U.S.A.",
          "U.S.A.",
          "U.S.A.",
          "U.S.A.",
          "U.S.A.",
          "U.S.A.",
          "U.S.A.",
          "U.S.A.",
          "Autre pays",
          "Autre pays",
          "Autre pays",
          "Switzerland",
          "Switzerland",
          "Switzerland",
          "Switzerland",
          "Switzerland",
          "Switzerland",
          "Switzerland",
          "U.S.A.",
          "U.S.A.",
          "U.S.A.",
          "U.S.A.",
          "Canada",
          "Canada",
          "Canada",
          "Canada",
          "U.K.",
          "U.K.",
          "U.K.",
          "U.K.",
          "U.S.A.",
          "U.S.A.",
          "U.S.A.",
          "U.S.A.",
          "Autre pays",
          "Autre pays",
          "Autre pays",
          "U.K.",
          "Autre pays",
          "Autre pays",
          "Autre pays",
          "Autre pays",
          "Autre pays",
          "Autre pays",
          "Autre pays",
          "Autre pays",
          "Autre pays",
          "Autre pays",
          "Autre pays",
          "Autre pays",
          "Autre pays",
          "Autre pays",
          "Autre pays",
          "Autre pays",
          "Autre pays",
          "Autre pays",
          "Autre pays",
          "Autre pays",
          "Autre pays",
          "Venezuela",
          "Venezuela",
          "Venezuela",
          "Venezuela",
          "Venezuela",
          "Venezuela",
          "Venezuela",
          "Venezuela",
          "Venezuela",
          "Belgium",
          "Belgium",
          "Belgium",
          "Belgium",
          "Belgium",
          "U.S.A.",
          "U.S.A.",
          "U.S.A.",
          "U.S.A.",
          "U.S.A.",
          "U.S.A.",
          "U.S.A.",
          "U.S.A.",
          "U.S.A.",
          "U.S.A.",
          "U.S.A.",
          "U.S.A.",
          "U.S.A.",
          "U.S.A.",
          "U.S.A.",
          "U.S.A.",
          "U.S.A.",
          "U.S.A.",
          "U.S.A.",
          "U.S.A.",
          "U.S.A.",
          "U.S.A.",
          "U.S.A.",
          "U.S.A.",
          "U.S.A.",
          "U.S.A.",
          "U.S.A.",
          "U.S.A.",
          "U.S.A.",
          "U.S.A.",
          "U.S.A.",
          "U.S.A.",
          "U.S.A.",
          "U.S.A.",
          "U.S.A.",
          "U.S.A.",
          "U.S.A.",
          "U.S.A.",
          "U.S.A.",
          "U.S.A.",
          "U.S.A.",
          "U.S.A.",
          "U.S.A.",
          "U.S.A.",
          "U.S.A.",
          "U.S.A.",
          "U.S.A.",
          "U.S.A.",
          "U.S.A.",
          "U.S.A.",
          "U.S.A.",
          "U.S.A.",
          "U.S.A.",
          "U.S.A.",
          "U.S.A.",
          "Denmark",
          "Denmark",
          "Denmark",
          "Denmark",
          "Denmark",
          "Denmark",
          "Denmark",
          "Denmark",
          "Denmark",
          "Denmark",
          "Denmark",
          "Denmark",
          "Denmark",
          "Denmark",
          "Denmark",
          "Denmark",
          "Denmark",
          "Denmark",
          "Denmark",
          "Denmark",
          "Denmark",
          "Denmark",
          "Denmark",
          "Denmark",
          "Denmark",
          "U.S.A.",
          "U.S.A.",
          "U.S.A.",
          "U.S.A.",
          "U.S.A.",
          "U.S.A.",
          "U.S.A.",
          "U.S.A.",
          "U.S.A.",
          "U.S.A.",
          "U.S.A.",
          "U.S.A.",
          "U.S.A.",
          "U.S.A.",
          "Autre pays",
          "Autre pays",
          "Autre pays",
          "Autre pays",
          "U.S.A.",
          "Germany",
          "Germany",
          "Germany",
          "Germany",
          "Germany",
          "Germany",
          "Germany",
          "Germany",
          "Germany",
          "U.S.A.",
          "U.S.A.",
          "U.S.A.",
          "U.S.A.",
          "U.S.A.",
          "U.S.A.",
          "U.S.A.",
          "U.S.A.",
          "U.S.A.",
          "U.S.A.",
          "U.S.A.",
          "U.S.A.",
          "U.S.A.",
          "Autre pays",
          "U.S.A.",
          "U.S.A.",
          "U.S.A.",
          "U.S.A.",
          "U.K.",
          "Japan",
          "Japan",
          "U.K.",
          "Autre pays",
          "Autre pays",
          "Autre pays",
          "Italy",
          "Italy",
          "Italy",
          "Italy",
          "Italy",
          "Italy",
          "U.S.A.",
          "U.S.A.",
          "U.S.A.",
          "U.S.A.",
          "U.S.A.",
          "U.S.A.",
          "U.S.A.",
          "U.S.A.",
          "U.S.A.",
          "U.S.A.",
          "U.S.A.",
          "U.S.A.",
          "U.S.A.",
          "U.S.A.",
          "U.S.A.",
          "U.S.A.",
          "U.S.A.",
          "U.S.A.",
          "U.S.A.",
          "U.S.A.",
          "U.S.A.",
          "U.S.A.",
          "Canada",
          "Canada",
          "Canada",
          "Canada",
          "Canada",
          "Canada",
          "Canada",
          "Canada",
          "Canada",
          "Germany",
          "Ecuador",
          "Ecuador",
          "Australia",
          "U.S.A.",
          "U.S.A.",
          "U.S.A.",
          "U.S.A.",
          "U.S.A.",
          "U.K.",
          "U.K.",
          "U.S.A.",
          "U.S.A.",
          "U.S.A.",
          "Autre pays",
          "Germany",
          "Autre pays",
          "Autre pays",
          "Autre pays",
          "U.S.A.",
          "U.S.A.",
          "U.S.A.",
          "U.S.A.",
          "U.S.A.",
          "U.S.A.",
          "U.S.A.",
          "U.S.A.",
          "U.S.A.",
          "U.S.A.",
          "U.S.A.",
          "U.S.A.",
          "U.S.A.",
          "U.S.A.",
          "U.S.A.",
          "U.S.A.",
          "U.S.A.",
          "U.S.A.",
          "U.S.A.",
          "U.S.A.",
          "U.S.A.",
          "U.S.A.",
          "U.S.A.",
          "U.S.A.",
          "U.S.A.",
          "Autre pays",
          "Autre pays",
          "Autre pays",
          "Autre pays",
          "Autre pays",
          "Autre pays",
          "Ecuador",
          "Ecuador",
          "Ecuador",
          "Ecuador",
          "Ecuador",
          "Autre pays",
          "Autre pays",
          "Autre pays",
          "Autre pays",
          "Autre pays",
          "Autre pays",
          "Autre pays",
          "Autre pays",
          "Autre pays",
          "Autre pays",
          "U.K.",
          "U.K.",
          "U.K.",
          "U.K.",
          "U.K.",
          "U.K.",
          "U.K.",
          "U.K.",
          "U.K.",
          "U.K.",
          "U.K.",
          "U.K.",
          "U.K.",
          "U.K.",
          "U.K.",
          "U.K.",
          "U.K.",
          "U.K.",
          "U.K.",
          "U.K.",
          "U.K.",
          "U.K.",
          "U.K.",
          "U.K.",
          "U.K.",
          "Canada",
          "Canada",
          "Canada",
          "Canada",
          "Canada",
          "Canada",
          "Canada",
          "Canada",
          "Switzerland",
          "Switzerland",
          "Switzerland",
          "Switzerland",
          "Switzerland",
          "Switzerland",
          "Switzerland",
          "Switzerland",
          "Switzerland",
          "Switzerland",
          "Autre pays",
          "U.S.A.",
          "U.S.A.",
          "Autre pays",
          "Autre pays",
          "U.S.A.",
          "U.S.A.",
          "U.S.A.",
          "U.S.A.",
          "Autre pays",
          "U.S.A.",
          "U.S.A.",
          "U.S.A.",
          "U.S.A.",
          "U.S.A.",
          "U.S.A.",
          "U.S.A.",
          "U.S.A.",
          "U.S.A.",
          "U.S.A.",
          "U.S.A.",
          "U.S.A.",
          "U.S.A.",
          "U.S.A.",
          "Autre pays",
          "Autre pays",
          "Autre pays",
          "Autre pays",
          "Autre pays",
          "Autre pays",
          "Autre pays",
          "Autre pays",
          "Autre pays",
          "Autre pays",
          "U.S.A.",
          "U.S.A.",
          "U.S.A.",
          "Autre pays",
          "U.S.A.",
          "Autre pays",
          "Autre pays",
          "U.S.A.",
          "Spain",
          "Spain",
          "Spain",
          "Germany",
          "Germany",
          "Ecuador",
          "Ecuador",
          "Ecuador",
          "Ecuador",
          "Ecuador",
          "Ecuador",
          "Ecuador",
          "Ecuador",
          "France",
          "France",
          "Canada",
          "Canada",
          "U.S.A.",
          "Autre pays",
          "Canada",
          "U.S.A.",
          "Autre pays",
          "Autre pays",
          "Autre pays",
          "Autre pays",
          "Autre pays",
          "Autre pays",
          "Autre pays",
          "Autre pays",
          "U.S.A.",
          "U.S.A.",
          "U.S.A.",
          "U.S.A.",
          "U.S.A.",
          "U.S.A.",
          "U.S.A.",
          "U.S.A.",
          "U.S.A.",
          "U.S.A.",
          "U.S.A.",
          "U.S.A.",
          "U.S.A.",
          "U.S.A.",
          "U.S.A.",
          "U.S.A.",
          "U.S.A.",
          "U.S.A.",
          "U.S.A.",
          "U.S.A.",
          "U.S.A.",
          "U.S.A.",
          "U.S.A.",
          "U.S.A.",
          "U.S.A.",
          "Japan",
          "Japan",
          "Japan",
          "Japan",
          "U.S.A.",
          "U.S.A.",
          "U.S.A.",
          "U.S.A.",
          "France",
          "France",
          "France",
          "France",
          "France",
          "France",
          "France",
          "France",
          "France",
          "France",
          "France",
          "France",
          "France",
          "Autre pays",
          "Ecuador",
          "Autre pays",
          "Autre pays",
          "Autre pays",
          "France",
          "France",
          "France",
          "France",
          "France",
          "France",
          "France",
          "France",
          "France",
          "France",
          "Autre pays",
          "U.S.A.",
          "U.S.A.",
          "U.S.A.",
          "U.S.A.",
          "U.S.A.",
          "U.K.",
          "U.K.",
          "U.K.",
          "U.S.A.",
          "Belgium",
          "Belgium",
          "Belgium",
          "U.S.A.",
          "U.S.A.",
          "U.S.A.",
          "U.S.A.",
          "U.S.A.",
          "U.S.A.",
          "U.S.A.",
          "U.S.A.",
          "U.S.A.",
          "U.S.A.",
          "U.S.A.",
          "U.S.A.",
          "U.S.A.",
          "U.S.A.",
          "U.S.A.",
          "Autre pays",
          "Autre pays",
          "U.S.A.",
          "U.S.A.",
          "U.S.A.",
          "U.S.A.",
          "U.S.A.",
          "U.S.A.",
          "Switzerland",
          "U.S.A.",
          "U.S.A.",
          "U.S.A.",
          "Autre pays",
          "U.S.A.",
          "U.S.A.",
          "U.S.A.",
          "U.S.A.",
          "U.S.A.",
          "U.S.A.",
          "U.S.A.",
          "U.S.A.",
          "U.S.A.",
          "Autre pays",
          "Autre pays",
          "Autre pays",
          "Autre pays",
          "Autre pays",
          "Autre pays",
          "Autre pays",
          "U.K.",
          "Autre pays",
          "Autre pays",
          "Autre pays",
          "Autre pays",
          "U.S.A.",
          "U.S.A.",
          "U.S.A.",
          "U.S.A.",
          "U.S.A.",
          "Autre pays",
          "Autre pays",
          "U.S.A.",
          "U.S.A.",
          "Autre pays",
          "Autre pays",
          "Autre pays",
          "Autre pays",
          "U.S.A.",
          "U.S.A.",
          "U.S.A.",
          "U.S.A.",
          "U.S.A.",
          "U.S.A.",
          "U.S.A.",
          "U.S.A.",
          "U.S.A.",
          "U.S.A.",
          "U.S.A.",
          "U.S.A.",
          "Italy",
          "Italy",
          "Italy",
          "Italy",
          "Italy",
          "Autre pays",
          "Autre pays",
          "Autre pays",
          "Autre pays",
          "U.S.A.",
          "U.S.A.",
          "Autre pays",
          "U.S.A.",
          "U.S.A.",
          "U.S.A.",
          "U.S.A.",
          "Autre pays",
          "U.S.A.",
          "U.S.A.",
          "U.S.A.",
          "U.S.A.",
          "U.S.A.",
          "U.S.A.",
          "U.S.A.",
          "U.S.A.",
          "U.S.A.",
          "Autre pays",
          "Autre pays",
          "Autre pays",
          "Autre pays",
          "Autre pays",
          "Autre pays",
          "Autre pays",
          "U.S.A.",
          "U.S.A.",
          "U.S.A.",
          "U.S.A.",
          "U.S.A.",
          "U.S.A.",
          "U.S.A.",
          "U.S.A.",
          "U.S.A.",
          "U.S.A.",
          "U.S.A.",
          "U.S.A.",
          "U.S.A.",
          "U.S.A.",
          "Autre pays",
          "Autre pays",
          "Autre pays",
          "U.S.A.",
          "U.S.A.",
          "U.S.A.",
          "Canada",
          "U.S.A.",
          "Autre pays",
          "Autre pays",
          "Autre pays",
          "Autre pays",
          "Autre pays",
          "Autre pays",
          "Autre pays",
          "Autre pays",
          "Autre pays",
          "Autre pays",
          "Autre pays",
          "U.S.A.",
          "U.S.A.",
          "U.S.A.",
          "U.S.A.",
          "U.S.A.",
          "U.S.A.",
          "Autre pays",
          "Autre pays",
          "Autre pays",
          "U.S.A.",
          "U.S.A.",
          "U.S.A.",
          "U.S.A.",
          "U.S.A.",
          "U.S.A.",
          "U.S.A.",
          "U.S.A.",
          "U.S.A.",
          "U.S.A.",
          "U.S.A.",
          "U.S.A.",
          "U.S.A.",
          "U.S.A.",
          "U.S.A.",
          "U.S.A.",
          "U.S.A.",
          "U.S.A.",
          "Australia",
          "Australia",
          "Australia",
          "Australia",
          "U.S.A.",
          "U.S.A.",
          "U.S.A.",
          "U.S.A.",
          "U.S.A.",
          "U.S.A.",
          "U.S.A.",
          "U.S.A.",
          "U.S.A.",
          "Canada",
          "Canada",
          "U.S.A.",
          "U.S.A.",
          "U.S.A.",
          "U.S.A.",
          "U.S.A.",
          "Denmark",
          "Denmark",
          "Denmark",
          "Denmark",
          "Autre pays",
          "Autre pays",
          "Autre pays",
          "Autre pays",
          "Autre pays",
          "Autre pays",
          "Autre pays",
          "Autre pays",
          "Autre pays",
          "Autre pays",
          "Autre pays",
          "Australia",
          "Australia",
          "Autre pays",
          "Germany",
          "France",
          "France",
          "France",
          "France",
          "France",
          "France",
          "France",
          "France",
          "France",
          "France",
          "France",
          "France",
          "France",
          "U.S.A.",
          "U.S.A.",
          "U.S.A.",
          "U.S.A.",
          "U.S.A.",
          "U.S.A.",
          "U.S.A.",
          "U.S.A.",
          "U.S.A.",
          "U.S.A.",
          "U.S.A.",
          "Belgium",
          "Belgium",
          "Belgium",
          "Belgium",
          "U.S.A.",
          "U.S.A.",
          "Belgium",
          "Belgium",
          "Belgium",
          "Belgium",
          "Belgium",
          "Belgium",
          "Japan",
          "Japan",
          "Japan",
          "Japan",
          "U.S.A.",
          "U.S.A.",
          "Japan",
          "Autre pays",
          "Autre pays",
          "Autre pays",
          "Autre pays",
          "Autre pays",
          "Autre pays",
          "Autre pays",
          "Autre pays",
          "Autre pays",
          "Autre pays",
          "U.S.A.",
          "U.S.A.",
          "U.S.A.",
          "U.S.A.",
          "U.S.A.",
          "U.S.A.",
          "U.S.A.",
          "U.S.A.",
          "U.S.A.",
          "U.S.A.",
          "U.S.A.",
          "U.S.A.",
          "U.S.A.",
          "Autre pays",
          "Autre pays",
          "Autre pays",
          "Canada",
          "Canada",
          "Australia",
          "U.S.A.",
          "U.S.A.",
          "U.S.A.",
          "Ecuador",
          "Ecuador",
          "Ecuador",
          "Autre pays",
          "U.S.A.",
          "U.S.A.",
          "Japan",
          "U.S.A.",
          "U.S.A.",
          "U.S.A.",
          "U.S.A.",
          "Autre pays",
          "Autre pays",
          "Autre pays",
          "Autre pays",
          "Autre pays",
          "Autre pays",
          "Autre pays",
          "Autre pays",
          "Autre pays",
          "Autre pays",
          "U.S.A.",
          "U.S.A.",
          "U.S.A.",
          "U.S.A.",
          "U.S.A.",
          "Autre pays",
          "Belgium",
          "Belgium",
          "Belgium",
          "Belgium",
          "Belgium",
          "Belgium",
          "U.S.A.",
          "U.S.A.",
          "U.S.A.",
          "U.S.A.",
          "U.S.A.",
          "U.S.A.",
          "U.S.A.",
          "Ecuador",
          "Autre pays",
          "U.S.A.",
          "U.S.A.",
          "U.S.A.",
          "U.S.A.",
          "U.S.A.",
          "U.S.A.",
          "U.S.A.",
          "U.S.A.",
          "U.S.A.",
          "U.S.A.",
          "Autre pays",
          "Autre pays",
          "Autre pays",
          "U.S.A.",
          "U.S.A.",
          "U.S.A.",
          "U.S.A.",
          "U.S.A.",
          "U.S.A.",
          "U.S.A.",
          "Autre pays",
          "U.S.A.",
          "Autre pays",
          "Autre pays",
          "Autre pays",
          "Autre pays",
          "Autre pays",
          "Autre pays",
          "Autre pays",
          "Autre pays",
          "Autre pays",
          "Autre pays",
          "U.S.A.",
          "U.S.A.",
          "U.S.A.",
          "U.S.A.",
          "U.S.A.",
          "U.S.A.",
          "U.S.A.",
          "U.S.A.",
          "U.S.A.",
          "U.S.A.",
          "U.S.A.",
          "U.S.A.",
          "U.S.A.",
          "U.S.A.",
          "U.S.A.",
          "Germany",
          "Germany",
          "U.S.A.",
          "U.S.A.",
          "U.S.A.",
          "U.S.A.",
          "Canada",
          "Canada",
          "Canada",
          "Canada",
          "Autre pays",
          "Autre pays",
          "Autre pays",
          "Autre pays",
          "Autre pays",
          "U.S.A.",
          "U.S.A.",
          "U.S.A.",
          "Switzerland",
          "Switzerland",
          "Switzerland",
          "Switzerland",
          "Canada",
          "Canada",
          "Canada",
          "Canada",
          "Canada",
          "Autre pays",
          "Switzerland",
          "Switzerland",
          "Switzerland",
          "Switzerland",
          "Switzerland",
          "Switzerland",
          "U.S.A.",
          "U.S.A.",
          "Autre pays",
          "Autre pays",
          "Ecuador",
          "Ecuador",
          "Ecuador",
          "Ecuador",
          "Ecuador",
          "Ecuador",
          "Ecuador",
          "Ecuador",
          "Ecuador",
          "Ecuador",
          "Ecuador",
          "Ecuador",
          "Ecuador",
          "Japan",
          "Japan",
          "Japan",
          "Canada",
          "Canada",
          "Canada",
          "Canada",
          "Canada",
          "Canada",
          "Canada",
          "Canada",
          "Canada",
          "Canada",
          "Canada",
          "Canada",
          "Canada",
          "Canada",
          "Canada",
          "Spain",
          "Spain",
          "Spain",
          "Spain",
          "Spain",
          "Spain",
          "Spain",
          "U.S.A.",
          "U.S.A.",
          "U.S.A.",
          "U.S.A.",
          "U.S.A.",
          "U.S.A.",
          "U.S.A.",
          "U.S.A.",
          "Autre pays",
          "Autre pays",
          "U.S.A.",
          "U.S.A.",
          "U.S.A.",
          "U.S.A.",
          "U.S.A.",
          "U.S.A.",
          "U.K.",
          "U.K.",
          "U.S.A.",
          "U.S.A.",
          "Canada",
          "Belgium",
          "Belgium",
          "Belgium",
          "Belgium",
          "Belgium",
          "Belgium",
          "Belgium",
          "Belgium",
          "Belgium",
          "Belgium",
          "Belgium",
          "Belgium",
          "Belgium",
          "Belgium",
          "Belgium",
          "Belgium",
          "Belgium",
          "U.S.A.",
          "U.S.A.",
          "U.S.A.",
          "U.S.A.",
          "U.S.A.",
          "U.S.A.",
          "U.S.A.",
          "U.S.A.",
          "U.S.A.",
          "U.S.A.",
          "U.S.A.",
          "U.S.A.",
          "U.S.A.",
          "U.S.A.",
          "U.S.A.",
          "U.S.A.",
          "U.S.A.",
          "U.S.A.",
          "U.S.A.",
          "U.S.A.",
          "U.S.A.",
          "U.S.A.",
          "U.S.A.",
          "U.S.A.",
          "U.S.A.",
          "U.S.A.",
          "U.S.A.",
          "U.S.A.",
          "U.S.A.",
          "U.S.A.",
          "U.S.A.",
          "France",
          "France",
          "France",
          "France",
          "France",
          "France",
          "France",
          "France",
          "France",
          "France",
          "France",
          "France",
          "France",
          "France",
          "France",
          "France",
          "France",
          "France",
          "France",
          "France",
          "France",
          "France",
          "France",
          "France",
          "France",
          "U.S.A.",
          "U.S.A.",
          "Autre pays",
          "U.K.",
          "U.K.",
          "U.K.",
          "U.K.",
          "U.K.",
          "U.K.",
          "U.K.",
          "U.K.",
          "U.K.",
          "U.K.",
          "Italy",
          "Italy",
          "Italy",
          "Italy",
          "Italy",
          "Italy",
          "Autre pays",
          "Autre pays",
          "Autre pays",
          "Autre pays",
          "Autre pays",
          "Autre pays",
          "Canada",
          "Canada",
          "Canada",
          "Canada",
          "Canada",
          "Autre pays",
          "Autre pays",
          "U.S.A.",
          "U.S.A.",
          "U.S.A.",
          "U.S.A.",
          "U.S.A.",
          "U.S.A.",
          "Autre pays",
          "Ecuador",
          "U.S.A.",
          "U.S.A.",
          "U.S.A.",
          "U.S.A.",
          "France",
          "U.S.A.",
          "U.S.A.",
          "U.S.A.",
          "U.S.A.",
          "U.S.A.",
          "U.S.A.",
          "Autre pays",
          "Ecuador",
          "Ecuador",
          "Ecuador",
          "Ecuador",
          "Ecuador",
          "U.S.A.",
          "U.S.A.",
          "U.S.A.",
          "U.S.A.",
          "U.S.A.",
          "U.S.A.",
          "U.S.A.",
          "U.S.A.",
          "U.S.A.",
          "U.S.A.",
          "U.S.A.",
          "U.S.A.",
          "U.S.A.",
          "U.S.A.",
          "U.S.A.",
          "U.S.A.",
          "Autre pays",
          "Autre pays",
          "Autre pays",
          "Autre pays",
          "Autre pays",
          "U.K.",
          "U.S.A.",
          "U.S.A.",
          "U.S.A.",
          "U.S.A.",
          "U.S.A.",
          "U.S.A.",
          "U.S.A.",
          "U.S.A.",
          "U.S.A.",
          "U.S.A.",
          "U.S.A.",
          "U.S.A.",
          "U.S.A.",
          "U.S.A.",
          "U.S.A.",
          "U.S.A.",
          "Autre pays",
          "Autre pays",
          "Autre pays",
          "Autre pays",
          "Autre pays",
          "Autre pays",
          "Autre pays",
          "Autre pays",
          "Autre pays",
          "Italy",
          "Italy",
          "Italy",
          "Italy",
          "Italy",
          "Italy",
          "Italy",
          "Italy",
          "Italy",
          "Italy",
          "U.S.A.",
          "U.S.A.",
          "Autre pays",
          "Autre pays",
          "Autre pays",
          "Autre pays",
          "Ecuador",
          "Autre pays",
          "Autre pays",
          "Autre pays",
          "Autre pays",
          "Autre pays",
          "France",
          "U.S.A.",
          "U.S.A.",
          "U.S.A.",
          "U.S.A.",
          "U.S.A.",
          "U.S.A.",
          "U.S.A.",
          "U.S.A.",
          "U.S.A.",
          "U.S.A.",
          "U.S.A.",
          "U.S.A.",
          "U.S.A.",
          "U.S.A.",
          "U.S.A.",
          "U.S.A.",
          "U.S.A.",
          "U.K.",
          "U.K.",
          "U.S.A.",
          "U.S.A.",
          "U.S.A.",
          "U.S.A.",
          "U.S.A.",
          "U.S.A.",
          "U.S.A.",
          "U.S.A.",
          "U.S.A.",
          "U.S.A.",
          "U.S.A.",
          "U.S.A.",
          "U.S.A.",
          "U.S.A.",
          "U.S.A.",
          "U.S.A.",
          "U.S.A.",
          "U.S.A.",
          "U.S.A.",
          "U.S.A.",
          "Autre pays",
          "Autre pays",
          "Autre pays",
          "Autre pays",
          "U.S.A.",
          "Italy",
          "Italy",
          "Italy",
          "Italy",
          "Canada",
          "Canada",
          "Canada",
          "Canada",
          "Canada",
          "Canada",
          "Canada",
          "Canada",
          "Canada",
          "Canada",
          "Canada",
          "Canada",
          "Canada",
          "Canada",
          "U.S.A.",
          "U.S.A.",
          "Australia",
          "Australia",
          "Australia",
          "Australia",
          "Australia",
          "Australia",
          "Australia",
          "Australia",
          "Australia",
          "Australia",
          "Australia",
          "Australia",
          "Australia",
          "Australia",
          "Australia",
          "Australia",
          "Australia",
          "U.S.A.",
          "U.S.A.",
          "U.S.A.",
          "Autre pays",
          "Autre pays",
          "U.S.A.",
          "U.S.A.",
          "U.K.",
          "U.K.",
          "U.K.",
          "Autre pays",
          "Autre pays",
          "U.S.A.",
          "U.S.A.",
          "U.S.A.",
          "U.S.A.",
          "U.S.A.",
          "U.S.A.",
          "U.S.A.",
          "U.S.A.",
          "U.S.A.",
          "Canada",
          "Canada",
          "Canada",
          "Canada",
          "Canada",
          "Canada",
          "Canada",
          "Canada",
          "Canada",
          "Canada",
          "Canada",
          "Canada",
          "Canada",
          "Canada",
          "Canada",
          "Canada",
          "Canada",
          "Canada",
          "Canada",
          "Canada",
          "Canada",
          "Canada",
          "Canada",
          "Canada",
          "Canada",
          "Canada",
          "Canada",
          "Canada",
          "Canada",
          "Canada",
          "Canada",
          "Canada",
          "Canada",
          "Canada",
          "Canada",
          "Canada",
          "Canada",
          "Canada",
          "Canada",
          "Canada",
          "Canada",
          "Canada",
          "Canada",
          "Canada",
          "Canada",
          "Canada",
          "Canada",
          "Canada",
          "Canada",
          "Canada",
          "Canada",
          "Canada",
          "Canada",
          "Canada",
          "Canada",
          "Canada",
          "U.S.A.",
          "U.S.A.",
          "Canada",
          "Canada",
          "Canada",
          "Canada",
          "Canada",
          "Canada",
          "U.S.A.",
          "U.S.A.",
          "U.S.A.",
          "Australia",
          "Australia",
          "Australia",
          "Australia",
          "U.S.A.",
          "U.S.A.",
          "U.S.A.",
          "U.S.A.",
          "U.S.A.",
          "U.S.A.",
          "Switzerland",
          "U.S.A.",
          "U.S.A.",
          "U.S.A.",
          "U.S.A.",
          "U.S.A.",
          "U.S.A.",
          "U.S.A.",
          "Switzerland",
          "Switzerland",
          "U.S.A.",
          "U.S.A.",
          "U.S.A.",
          "U.S.A.",
          "U.S.A.",
          "U.S.A.",
          "U.S.A.",
          "U.S.A.",
          "Denmark",
          "Denmark",
          "Venezuela",
          "Venezuela",
          "Autre pays",
          "Autre pays",
          "U.S.A.",
          "U.S.A.",
          "U.S.A.",
          "U.S.A.",
          "Japan",
          "Japan",
          "Japan",
          "Japan",
          "Japan",
          "Canada",
          "Canada",
          "Canada",
          "Autre pays",
          "Autre pays",
          "Autre pays",
          "Autre pays",
          "Autre pays",
          "Autre pays",
          "Autre pays",
          "Autre pays",
          "Autre pays",
          "Autre pays",
          "Autre pays",
          "Autre pays",
          "Autre pays",
          "Autre pays",
          "Autre pays",
          "U.S.A.",
          "U.S.A.",
          "U.S.A.",
          "U.S.A.",
          "Japan",
          "Japan",
          "Japan",
          "Japan",
          "Autre pays",
          "Autre pays",
          "Autre pays",
          "U.S.A.",
          "U.S.A.",
          "U.S.A.",
          "U.S.A.",
          "Switzerland",
          "Switzerland",
          "U.S.A.",
          "U.S.A.",
          "U.S.A.",
          "U.S.A.",
          "U.S.A.",
          "U.S.A.",
          "U.S.A.",
          "U.S.A.",
          "U.S.A.",
          "U.S.A.",
          "U.S.A.",
          "U.S.A.",
          "U.S.A.",
          "U.S.A.",
          "U.S.A.",
          "U.S.A.",
          "U.S.A.",
          "U.S.A.",
          "U.S.A.",
          "U.S.A.",
          "U.S.A.",
          "U.S.A.",
          "U.S.A.",
          "U.S.A.",
          "U.S.A.",
          "U.S.A.",
          "U.S.A.",
          "U.S.A.",
          "U.S.A.",
          "U.S.A.",
          "U.S.A.",
          "U.S.A.",
          "U.S.A.",
          "U.S.A.",
          "U.S.A.",
          "U.S.A.",
          "U.S.A.",
          "U.S.A.",
          "U.S.A.",
          "Autre pays",
          "U.S.A.",
          "U.S.A.",
          "U.S.A.",
          "U.S.A.",
          "U.S.A.",
          "U.S.A.",
          "Japan",
          "U.S.A.",
          "Autre pays",
          "Autre pays",
          "Germany",
          "U.S.A.",
          "Ecuador",
          "Ecuador",
          "France",
          "U.S.A.",
          "U.S.A.",
          "U.S.A.",
          "U.K.",
          "U.K.",
          "U.K.",
          "U.K.",
          "Autre pays",
          "U.S.A.",
          "U.S.A.",
          "U.S.A.",
          "U.S.A.",
          "U.S.A.",
          "U.S.A.",
          "U.S.A.",
          "Autre pays",
          "Autre pays",
          "Canada",
          "Canada",
          "Canada",
          "Autre pays",
          "U.S.A.",
          "U.S.A.",
          "U.S.A.",
          "U.S.A.",
          "U.S.A.",
          "U.S.A.",
          "U.S.A.",
          "U.S.A.",
          "France",
          "Canada",
          "Canada",
          "Canada",
          "U.S.A.",
          "U.S.A.",
          "U.S.A.",
          "U.S.A.",
          "Italy",
          "Spain",
          "Spain",
          "Canada",
          "France",
          "France",
          "France",
          "France",
          "France",
          "France",
          "France",
          "France",
          "France",
          "France",
          "France",
          "France",
          "France",
          "France",
          "France",
          "France",
          "France",
          "France",
          "France",
          "France",
          "France",
          "France",
          "U.S.A.",
          "U.S.A.",
          "Autre pays",
          "Autre pays",
          "Autre pays",
          "Autre pays",
          "Autre pays",
          "Autre pays",
          "U.S.A.",
          "U.S.A.",
          "U.S.A.",
          "U.S.A.",
          "U.S.A.",
          "U.S.A.",
          "U.S.A.",
          "U.S.A.",
          "U.S.A.",
          "U.S.A.",
          "U.S.A.",
          "U.S.A.",
          "U.S.A.",
          "U.S.A.",
          "France",
          "U.S.A.",
          "U.S.A.",
          "U.S.A.",
          "U.S.A.",
          "U.S.A.",
          "U.S.A.",
          "U.S.A.",
          "U.S.A.",
          "U.S.A.",
          "U.S.A.",
          "U.S.A.",
          "U.S.A.",
          "U.S.A.",
          "U.S.A.",
          "U.S.A.",
          "Autre pays",
          "Autre pays",
          "Autre pays",
          "U.S.A.",
          "U.S.A.",
          "U.S.A.",
          "U.S.A.",
          "U.S.A.",
          "U.S.A.",
          "Autre pays",
          "Autre pays",
          "Autre pays",
          "Autre pays",
          "Autre pays",
          "U.K.",
          "U.K.",
          "U.K.",
          "U.K.",
          "U.K.",
          "U.K.",
          "U.K.",
          "U.K.",
          "U.S.A.",
          "U.S.A.",
          "U.S.A.",
          "U.S.A.",
          "U.S.A.",
          "U.S.A.",
          "U.S.A.",
          "U.S.A.",
          "U.S.A.",
          "U.S.A.",
          "U.S.A.",
          "U.S.A.",
          "U.S.A.",
          "U.S.A.",
          "U.S.A.",
          "Autre pays",
          "Autre pays",
          "Autre pays",
          "Autre pays",
          "U.S.A.",
          "U.S.A.",
          "U.S.A.",
          "U.S.A.",
          "U.S.A.",
          "U.S.A.",
          "U.S.A.",
          "U.S.A.",
          "U.S.A.",
          "U.S.A.",
          "U.S.A.",
          "U.S.A.",
          "U.S.A.",
          "U.S.A.",
          "U.S.A.",
          "Autre pays",
          "Autre pays",
          "Autre pays",
          "Autre pays",
          "Autre pays",
          "Autre pays",
          "Australia",
          "Australia",
          "Australia",
          "Australia",
          "Australia",
          "Belgium",
          "Belgium",
          "Belgium",
          "Belgium",
          "Autre pays",
          "Autre pays",
          "Autre pays",
          "Autre pays",
          "Autre pays",
          "Autre pays",
          "Autre pays",
          "Autre pays",
          "Autre pays",
          "Autre pays",
          "Autre pays",
          "Autre pays",
          "Autre pays",
          "Autre pays",
          "Autre pays",
          "Autre pays",
          "Autre pays",
          "Autre pays",
          "Autre pays",
          "Autre pays",
          "Autre pays"
         ],
         "legendgroup": "",
         "name": "",
         "showlegend": true,
         "textinfo": "percent+label",
         "textposition": "inside",
         "type": "pie"
        }
       ],
       "layout": {
        "font": {
         "color": "#6f1c0e"
        },
        "height": 500,
        "legend": {
         "tracegroupgap": 0
        },
        "margin": {
         "b": 10,
         "l": 40,
         "r": 20,
         "t": 50
        },
        "piecolorway": [
         "rgb(51, 19, 23)",
         "rgb(79, 28, 33)",
         "rgb(108, 36, 36)",
         "rgb(135, 47, 32)",
         "rgb(157, 66, 25)",
         "rgb(174, 88, 20)",
         "rgb(188, 111, 19)",
         "rgb(199, 137, 22)",
         "rgb(209, 164, 32)",
         "rgb(217, 192, 44)",
         "rgb(222, 222, 59)",
         "rgb(224, 253, 74)"
        ],
        "plot_bgcolor": "#fff7ef",
        "showlegend": false,
        "template": {
         "data": {
          "bar": [
           {
            "error_x": {
             "color": "#2a3f5f"
            },
            "error_y": {
             "color": "#2a3f5f"
            },
            "marker": {
             "line": {
              "color": "#E5ECF6",
              "width": 0.5
             },
             "pattern": {
              "fillmode": "overlay",
              "size": 10,
              "solidity": 0.2
             }
            },
            "type": "bar"
           }
          ],
          "barpolar": [
           {
            "marker": {
             "line": {
              "color": "#E5ECF6",
              "width": 0.5
             },
             "pattern": {
              "fillmode": "overlay",
              "size": 10,
              "solidity": 0.2
             }
            },
            "type": "barpolar"
           }
          ],
          "carpet": [
           {
            "aaxis": {
             "endlinecolor": "#2a3f5f",
             "gridcolor": "white",
             "linecolor": "white",
             "minorgridcolor": "white",
             "startlinecolor": "#2a3f5f"
            },
            "baxis": {
             "endlinecolor": "#2a3f5f",
             "gridcolor": "white",
             "linecolor": "white",
             "minorgridcolor": "white",
             "startlinecolor": "#2a3f5f"
            },
            "type": "carpet"
           }
          ],
          "choropleth": [
           {
            "colorbar": {
             "outlinewidth": 0,
             "ticks": ""
            },
            "type": "choropleth"
           }
          ],
          "contour": [
           {
            "colorbar": {
             "outlinewidth": 0,
             "ticks": ""
            },
            "colorscale": [
             [
              0,
              "#0d0887"
             ],
             [
              0.1111111111111111,
              "#46039f"
             ],
             [
              0.2222222222222222,
              "#7201a8"
             ],
             [
              0.3333333333333333,
              "#9c179e"
             ],
             [
              0.4444444444444444,
              "#bd3786"
             ],
             [
              0.5555555555555556,
              "#d8576b"
             ],
             [
              0.6666666666666666,
              "#ed7953"
             ],
             [
              0.7777777777777778,
              "#fb9f3a"
             ],
             [
              0.8888888888888888,
              "#fdca26"
             ],
             [
              1,
              "#f0f921"
             ]
            ],
            "type": "contour"
           }
          ],
          "contourcarpet": [
           {
            "colorbar": {
             "outlinewidth": 0,
             "ticks": ""
            },
            "type": "contourcarpet"
           }
          ],
          "heatmap": [
           {
            "colorbar": {
             "outlinewidth": 0,
             "ticks": ""
            },
            "colorscale": [
             [
              0,
              "#0d0887"
             ],
             [
              0.1111111111111111,
              "#46039f"
             ],
             [
              0.2222222222222222,
              "#7201a8"
             ],
             [
              0.3333333333333333,
              "#9c179e"
             ],
             [
              0.4444444444444444,
              "#bd3786"
             ],
             [
              0.5555555555555556,
              "#d8576b"
             ],
             [
              0.6666666666666666,
              "#ed7953"
             ],
             [
              0.7777777777777778,
              "#fb9f3a"
             ],
             [
              0.8888888888888888,
              "#fdca26"
             ],
             [
              1,
              "#f0f921"
             ]
            ],
            "type": "heatmap"
           }
          ],
          "heatmapgl": [
           {
            "colorbar": {
             "outlinewidth": 0,
             "ticks": ""
            },
            "colorscale": [
             [
              0,
              "#0d0887"
             ],
             [
              0.1111111111111111,
              "#46039f"
             ],
             [
              0.2222222222222222,
              "#7201a8"
             ],
             [
              0.3333333333333333,
              "#9c179e"
             ],
             [
              0.4444444444444444,
              "#bd3786"
             ],
             [
              0.5555555555555556,
              "#d8576b"
             ],
             [
              0.6666666666666666,
              "#ed7953"
             ],
             [
              0.7777777777777778,
              "#fb9f3a"
             ],
             [
              0.8888888888888888,
              "#fdca26"
             ],
             [
              1,
              "#f0f921"
             ]
            ],
            "type": "heatmapgl"
           }
          ],
          "histogram": [
           {
            "marker": {
             "pattern": {
              "fillmode": "overlay",
              "size": 10,
              "solidity": 0.2
             }
            },
            "type": "histogram"
           }
          ],
          "histogram2d": [
           {
            "colorbar": {
             "outlinewidth": 0,
             "ticks": ""
            },
            "colorscale": [
             [
              0,
              "#0d0887"
             ],
             [
              0.1111111111111111,
              "#46039f"
             ],
             [
              0.2222222222222222,
              "#7201a8"
             ],
             [
              0.3333333333333333,
              "#9c179e"
             ],
             [
              0.4444444444444444,
              "#bd3786"
             ],
             [
              0.5555555555555556,
              "#d8576b"
             ],
             [
              0.6666666666666666,
              "#ed7953"
             ],
             [
              0.7777777777777778,
              "#fb9f3a"
             ],
             [
              0.8888888888888888,
              "#fdca26"
             ],
             [
              1,
              "#f0f921"
             ]
            ],
            "type": "histogram2d"
           }
          ],
          "histogram2dcontour": [
           {
            "colorbar": {
             "outlinewidth": 0,
             "ticks": ""
            },
            "colorscale": [
             [
              0,
              "#0d0887"
             ],
             [
              0.1111111111111111,
              "#46039f"
             ],
             [
              0.2222222222222222,
              "#7201a8"
             ],
             [
              0.3333333333333333,
              "#9c179e"
             ],
             [
              0.4444444444444444,
              "#bd3786"
             ],
             [
              0.5555555555555556,
              "#d8576b"
             ],
             [
              0.6666666666666666,
              "#ed7953"
             ],
             [
              0.7777777777777778,
              "#fb9f3a"
             ],
             [
              0.8888888888888888,
              "#fdca26"
             ],
             [
              1,
              "#f0f921"
             ]
            ],
            "type": "histogram2dcontour"
           }
          ],
          "mesh3d": [
           {
            "colorbar": {
             "outlinewidth": 0,
             "ticks": ""
            },
            "type": "mesh3d"
           }
          ],
          "parcoords": [
           {
            "line": {
             "colorbar": {
              "outlinewidth": 0,
              "ticks": ""
             }
            },
            "type": "parcoords"
           }
          ],
          "pie": [
           {
            "automargin": true,
            "type": "pie"
           }
          ],
          "scatter": [
           {
            "marker": {
             "colorbar": {
              "outlinewidth": 0,
              "ticks": ""
             }
            },
            "type": "scatter"
           }
          ],
          "scatter3d": [
           {
            "line": {
             "colorbar": {
              "outlinewidth": 0,
              "ticks": ""
             }
            },
            "marker": {
             "colorbar": {
              "outlinewidth": 0,
              "ticks": ""
             }
            },
            "type": "scatter3d"
           }
          ],
          "scattercarpet": [
           {
            "marker": {
             "colorbar": {
              "outlinewidth": 0,
              "ticks": ""
             }
            },
            "type": "scattercarpet"
           }
          ],
          "scattergeo": [
           {
            "marker": {
             "colorbar": {
              "outlinewidth": 0,
              "ticks": ""
             }
            },
            "type": "scattergeo"
           }
          ],
          "scattergl": [
           {
            "marker": {
             "colorbar": {
              "outlinewidth": 0,
              "ticks": ""
             }
            },
            "type": "scattergl"
           }
          ],
          "scattermapbox": [
           {
            "marker": {
             "colorbar": {
              "outlinewidth": 0,
              "ticks": ""
             }
            },
            "type": "scattermapbox"
           }
          ],
          "scatterpolar": [
           {
            "marker": {
             "colorbar": {
              "outlinewidth": 0,
              "ticks": ""
             }
            },
            "type": "scatterpolar"
           }
          ],
          "scatterpolargl": [
           {
            "marker": {
             "colorbar": {
              "outlinewidth": 0,
              "ticks": ""
             }
            },
            "type": "scatterpolargl"
           }
          ],
          "scatterternary": [
           {
            "marker": {
             "colorbar": {
              "outlinewidth": 0,
              "ticks": ""
             }
            },
            "type": "scatterternary"
           }
          ],
          "surface": [
           {
            "colorbar": {
             "outlinewidth": 0,
             "ticks": ""
            },
            "colorscale": [
             [
              0,
              "#0d0887"
             ],
             [
              0.1111111111111111,
              "#46039f"
             ],
             [
              0.2222222222222222,
              "#7201a8"
             ],
             [
              0.3333333333333333,
              "#9c179e"
             ],
             [
              0.4444444444444444,
              "#bd3786"
             ],
             [
              0.5555555555555556,
              "#d8576b"
             ],
             [
              0.6666666666666666,
              "#ed7953"
             ],
             [
              0.7777777777777778,
              "#fb9f3a"
             ],
             [
              0.8888888888888888,
              "#fdca26"
             ],
             [
              1,
              "#f0f921"
             ]
            ],
            "type": "surface"
           }
          ],
          "table": [
           {
            "cells": {
             "fill": {
              "color": "#EBF0F8"
             },
             "line": {
              "color": "white"
             }
            },
            "header": {
             "fill": {
              "color": "#C8D4E3"
             },
             "line": {
              "color": "white"
             }
            },
            "type": "table"
           }
          ]
         },
         "layout": {
          "annotationdefaults": {
           "arrowcolor": "#2a3f5f",
           "arrowhead": 0,
           "arrowwidth": 1
          },
          "autotypenumbers": "strict",
          "coloraxis": {
           "colorbar": {
            "outlinewidth": 0,
            "ticks": ""
           }
          },
          "colorscale": {
           "diverging": [
            [
             0,
             "#8e0152"
            ],
            [
             0.1,
             "#c51b7d"
            ],
            [
             0.2,
             "#de77ae"
            ],
            [
             0.3,
             "#f1b6da"
            ],
            [
             0.4,
             "#fde0ef"
            ],
            [
             0.5,
             "#f7f7f7"
            ],
            [
             0.6,
             "#e6f5d0"
            ],
            [
             0.7,
             "#b8e186"
            ],
            [
             0.8,
             "#7fbc41"
            ],
            [
             0.9,
             "#4d9221"
            ],
            [
             1,
             "#276419"
            ]
           ],
           "sequential": [
            [
             0,
             "#0d0887"
            ],
            [
             0.1111111111111111,
             "#46039f"
            ],
            [
             0.2222222222222222,
             "#7201a8"
            ],
            [
             0.3333333333333333,
             "#9c179e"
            ],
            [
             0.4444444444444444,
             "#bd3786"
            ],
            [
             0.5555555555555556,
             "#d8576b"
            ],
            [
             0.6666666666666666,
             "#ed7953"
            ],
            [
             0.7777777777777778,
             "#fb9f3a"
            ],
            [
             0.8888888888888888,
             "#fdca26"
            ],
            [
             1,
             "#f0f921"
            ]
           ],
           "sequentialminus": [
            [
             0,
             "#0d0887"
            ],
            [
             0.1111111111111111,
             "#46039f"
            ],
            [
             0.2222222222222222,
             "#7201a8"
            ],
            [
             0.3333333333333333,
             "#9c179e"
            ],
            [
             0.4444444444444444,
             "#bd3786"
            ],
            [
             0.5555555555555556,
             "#d8576b"
            ],
            [
             0.6666666666666666,
             "#ed7953"
            ],
            [
             0.7777777777777778,
             "#fb9f3a"
            ],
            [
             0.8888888888888888,
             "#fdca26"
            ],
            [
             1,
             "#f0f921"
            ]
           ]
          },
          "colorway": [
           "#636efa",
           "#EF553B",
           "#00cc96",
           "#ab63fa",
           "#FFA15A",
           "#19d3f3",
           "#FF6692",
           "#B6E880",
           "#FF97FF",
           "#FECB52"
          ],
          "font": {
           "color": "#2a3f5f"
          },
          "geo": {
           "bgcolor": "white",
           "lakecolor": "white",
           "landcolor": "#E5ECF6",
           "showlakes": true,
           "showland": true,
           "subunitcolor": "white"
          },
          "hoverlabel": {
           "align": "left"
          },
          "hovermode": "closest",
          "mapbox": {
           "style": "light"
          },
          "paper_bgcolor": "white",
          "plot_bgcolor": "#E5ECF6",
          "polar": {
           "angularaxis": {
            "gridcolor": "white",
            "linecolor": "white",
            "ticks": ""
           },
           "bgcolor": "#E5ECF6",
           "radialaxis": {
            "gridcolor": "white",
            "linecolor": "white",
            "ticks": ""
           }
          },
          "scene": {
           "xaxis": {
            "backgroundcolor": "#E5ECF6",
            "gridcolor": "white",
            "gridwidth": 2,
            "linecolor": "white",
            "showbackground": true,
            "ticks": "",
            "zerolinecolor": "white"
           },
           "yaxis": {
            "backgroundcolor": "#E5ECF6",
            "gridcolor": "white",
            "gridwidth": 2,
            "linecolor": "white",
            "showbackground": true,
            "ticks": "",
            "zerolinecolor": "white"
           },
           "zaxis": {
            "backgroundcolor": "#E5ECF6",
            "gridcolor": "white",
            "gridwidth": 2,
            "linecolor": "white",
            "showbackground": true,
            "ticks": "",
            "zerolinecolor": "white"
           }
          },
          "shapedefaults": {
           "line": {
            "color": "#2a3f5f"
           }
          },
          "ternary": {
           "aaxis": {
            "gridcolor": "white",
            "linecolor": "white",
            "ticks": ""
           },
           "baxis": {
            "gridcolor": "white",
            "linecolor": "white",
            "ticks": ""
           },
           "bgcolor": "#E5ECF6",
           "caxis": {
            "gridcolor": "white",
            "linecolor": "white",
            "ticks": ""
           }
          },
          "title": {
           "x": 0.05
          },
          "xaxis": {
           "automargin": true,
           "gridcolor": "white",
           "linecolor": "white",
           "ticks": "",
           "title": {
            "standoff": 15
           },
           "zerolinecolor": "white",
           "zerolinewidth": 2
          },
          "yaxis": {
           "automargin": true,
           "gridcolor": "white",
           "linecolor": "white",
           "ticks": "",
           "title": {
            "standoff": 15
           },
           "zerolinecolor": "white",
           "zerolinewidth": 2
          }
         }
        },
        "title": {
         "text": "Pays importateurs de fèves de cacao"
        },
        "width": 500
       }
      }
     },
     "metadata": {},
     "output_type": "display_data"
    }
   ],
   "source": [
    "# Fabricants\n",
    "\n",
    "databis = data.copy()\n",
    "databis['company_location'] = databis['company_location'].apply(lambda x: x if databis['company_location'].value_counts()[x] > 30 else 'Autre pays')\n",
    "\n",
    "\n",
    "fig=px.pie(databis, names='company_location', title='Pays importateurs de fèves de cacao', hole=0.4,color_discrete_sequence=px.colors.sequential.solar)\n",
    "\n",
    "fig.update_traces(textposition='inside', textinfo='percent+label')\n",
    "fig.update_layout(margin=dict(l=40, r=20, t=50, b=10), showlegend=False)\n",
    "fig.update_layout(plot_bgcolor=background_color, font_color=text_color)\n",
    "\n",
    "fig.update_layout(width=500, height=500)\n",
    "\n",
    "fig.show()"
   ]
  },
  {
   "cell_type": "markdown",
   "metadata": {},
   "source": [
    "### diagramme en barre"
   ]
  },
  {
   "cell_type": "code",
   "execution_count": 12,
   "metadata": {},
   "outputs": [
    {
     "data": {
      "application/vnd.plotly.v1+json": {
       "config": {
        "plotlyServerURL": "https://plot.ly"
       },
       "data": [
        {
         "alignmentgroup": "True",
         "bingroup": "x",
         "hovertemplate": "company_location=%{x}<br>count=%{y}<extra></extra>",
         "legendgroup": "",
         "marker": {
          "color": "#874646",
          "pattern": {
           "shape": ""
          }
         },
         "name": "",
         "offsetgroup": "",
         "orientation": "v",
         "showlegend": false,
         "type": "histogram",
         "x": [
          "U.S.A.",
          "U.S.A.",
          "U.S.A.",
          "U.S.A.",
          "U.S.A.",
          "U.S.A.",
          "U.S.A.",
          "France",
          "France",
          "France",
          "France",
          "France",
          "France",
          "France",
          "France",
          "France",
          "France",
          "France",
          "France",
          "France",
          "France",
          "France",
          "France",
          "France",
          "France",
          "France",
          "France",
          "France",
          "France",
          "France",
          "France",
          "France",
          "France",
          "U.S.A.",
          "U.S.A.",
          "U.S.A.",
          "U.S.A.",
          "Ecuador",
          "Ecuador",
          "U.K.",
          "U.K.",
          "U.K.",
          "France",
          "France",
          "France",
          "France",
          "France",
          "France",
          "U.S.A.",
          "U.S.A.",
          "U.S.A.",
          "U.S.A.",
          "U.S.A.",
          "U.S.A.",
          "U.S.A.",
          "U.S.A.",
          "U.S.A.",
          "U.S.A.",
          "U.S.A.",
          "U.S.A.",
          "U.S.A.",
          "U.S.A.",
          "U.S.A.",
          "U.S.A.",
          "U.S.A.",
          "U.S.A.",
          "U.S.A.",
          "U.S.A.",
          "Spain",
          "Spain",
          "Spain",
          "Spain",
          "Peru",
          "Peru",
          "Canada",
          "Canada",
          "Canada",
          "Canada",
          "Canada",
          "Canada",
          "Italy",
          "Italy",
          "Italy",
          "Italy",
          "Italy",
          "Italy",
          "Italy",
          "Italy",
          "Italy",
          "Italy",
          "Italy",
          "Italy",
          "Italy",
          "Brazil",
          "Brazil",
          "Brazil",
          "Brazil",
          "Brazil",
          "U.S.A.",
          "U.S.A.",
          "U.S.A.",
          "U.S.A.",
          "France",
          "France",
          "France",
          "France",
          "U.S.A.",
          "U.S.A.",
          "U.S.A.",
          "U.S.A.",
          "U.S.A.",
          "U.S.A.",
          "U.S.A.",
          "U.S.A.",
          "U.S.A.",
          "U.S.A.",
          "U.S.A.",
          "U.S.A.",
          "U.S.A.",
          "U.S.A.",
          "U.S.A.",
          "U.S.A.",
          "U.S.A.",
          "U.S.A.",
          "U.S.A.",
          "U.S.A.",
          "U.S.A.",
          "U.S.A.",
          "U.S.A.",
          "U.S.A.",
          "U.S.A.",
          "U.S.A.",
          "U.S.A.",
          "U.S.A.",
          "U.S.A.",
          "U.S.A.",
          "U.S.A.",
          "U.S.A.",
          "U.K.",
          "U.K.",
          "U.K.",
          "U.K.",
          "U.K.",
          "U.K.",
          "U.K.",
          "U.K.",
          "U.K.",
          "U.K.",
          "U.K.",
          "U.K.",
          "U.K.",
          "U.K.",
          "U.K.",
          "U.K.",
          "U.K.",
          "Italy",
          "Italy",
          "Italy",
          "U.S.A.",
          "U.S.A.",
          "U.S.A.",
          "U.S.A.",
          "U.S.A.",
          "U.S.A.",
          "Australia",
          "Canada",
          "Canada",
          "Australia",
          "Australia",
          "Australia",
          "Australia",
          "Australia",
          "Brazil",
          "Peru",
          "Peru",
          "U.S.A.",
          "U.S.A.",
          "U.S.A.",
          "U.S.A.",
          "U.S.A.",
          "U.S.A.",
          "U.S.A.",
          "U.S.A.",
          "U.S.A.",
          "U.S.A.",
          "U.S.A.",
          "U.S.A.",
          "U.S.A.",
          "U.K.",
          "U.K.",
          "U.K.",
          "U.S.A.",
          "U.S.A.",
          "U.S.A.",
          "U.S.A.",
          "Belgium",
          "Belgium",
          "Belgium",
          "Belgium",
          "U.S.A.",
          "U.S.A.",
          "U.S.A.",
          "Germany",
          "Germany",
          "Germany",
          "Belgium",
          "Belgium",
          "Belgium",
          "Belgium",
          "Belgium",
          "Belgium",
          "France",
          "Switzerland",
          "Switzerland",
          "Switzerland",
          "Switzerland",
          "Switzerland",
          "Switzerland",
          "Switzerland",
          "Switzerland",
          "U.S.A.",
          "U.S.A.",
          "U.S.A.",
          "U.S.A.",
          "Venezuela",
          "Venezuela",
          "Venezuela",
          "U.S.A.",
          "U.S.A.",
          "U.S.A.",
          "U.S.A.",
          "U.S.A.",
          "U.S.A.",
          "U.S.A.",
          "U.S.A.",
          "U.S.A.",
          "U.S.A.",
          "U.S.A.",
          "U.S.A.",
          "U.S.A.",
          "U.S.A.",
          "U.S.A.",
          "U.S.A.",
          "U.S.A.",
          "U.S.A.",
          "U.S.A.",
          "U.S.A.",
          "U.S.A.",
          "U.S.A.",
          "U.K.",
          "U.S.A.",
          "U.S.A.",
          "Spain",
          "Spain",
          "U.S.A.",
          "U.S.A.",
          "U.S.A.",
          "U.S.A.",
          "U.S.A.",
          "U.S.A.",
          "U.S.A.",
          "France",
          "France",
          "France",
          "France",
          "France",
          "France",
          "France",
          "France",
          "France",
          "France",
          "France",
          "France",
          "France",
          "France",
          "France",
          "France",
          "France",
          "France",
          "France",
          "France",
          "France",
          "France",
          "France",
          "France",
          "France",
          "France",
          "France",
          "France",
          "France",
          "France",
          "Ecuador",
          "Ecuador",
          "U.S.A.",
          "U.S.A.",
          "U.S.A.",
          "U.S.A.",
          "U.S.A.",
          "U.S.A.",
          "U.S.A.",
          "U.S.A.",
          "U.S.A.",
          "U.S.A.",
          "U.S.A.",
          "U.S.A.",
          "U.S.A.",
          "U.S.A.",
          "U.S.A.",
          "U.S.A.",
          "U.S.A.",
          "U.S.A.",
          "U.S.A.",
          "U.S.A.",
          "U.S.A.",
          "U.S.A.",
          "U.S.A.",
          "U.S.A.",
          "Australia",
          "Australia",
          "Australia",
          "Australia",
          "U.S.A.",
          "U.K.",
          "U.K.",
          "U.S.A.",
          "U.S.A.",
          "U.S.A.",
          "U.S.A.",
          "U.S.A.",
          "Canada",
          "Canada",
          "Canada",
          "U.S.A.",
          "U.S.A.",
          "U.S.A.",
          "U.S.A.",
          "France",
          "France",
          "France",
          "France",
          "France",
          "Switzerland",
          "Switzerland",
          "Switzerland",
          "Venezuela",
          "Venezuela",
          "Venezuela",
          "Venezuela",
          "Venezuela",
          "Venezuela",
          "Venezuela",
          "Venezuela",
          "Venezuela",
          "Venezuela",
          "U.S.A.",
          "Colombia",
          "Colombia",
          "Colombia",
          "Colombia",
          "Colombia",
          "Colombia",
          "Colombia",
          "U.S.A.",
          "U.S.A.",
          "U.S.A.",
          "U.S.A.",
          "U.S.A.",
          "Spain",
          "Spain",
          "Spain",
          "Spain",
          "Spain",
          "Spain",
          "Spain",
          "Spain",
          "Spain",
          "U.S.A.",
          "U.S.A.",
          "U.S.A.",
          "Japan",
          "Japan",
          "Japan",
          "Peru",
          "Peru",
          "Peru",
          "Peru",
          "Ecuador",
          "Ecuador",
          "Ecuador",
          "Ecuador",
          "Belgium",
          "Belgium",
          "Italy",
          "Italy",
          "Italy",
          "Italy",
          "Italy",
          "Italy",
          "Italy",
          "U.S.A.",
          "U.S.A.",
          "U.S.A.",
          "U.S.A.",
          "U.S.A.",
          "Colombia",
          "Colombia",
          "Colombia",
          "Colombia",
          "Ecuador",
          "Ecuador",
          "Ecuador",
          "Ecuador",
          "Ecuador",
          "Ecuador",
          "New Zealand",
          "New Zealand",
          "U.S.A.",
          "U.S.A.",
          "U.S.A.",
          "U.S.A.",
          "Colombia",
          "Colombia",
          "Colombia",
          "Colombia",
          "Colombia",
          "U.S.A.",
          "Brazil",
          "Brazil",
          "U.S.A.",
          "U.S.A.",
          "U.S.A.",
          "U.S.A.",
          "U.S.A.",
          "U.S.A.",
          "U.S.A.",
          "U.S.A.",
          "U.S.A.",
          "U.S.A.",
          "U.S.A.",
          "U.S.A.",
          "U.S.A.",
          "U.S.A.",
          "U.S.A.",
          "U.S.A.",
          "U.S.A.",
          "U.S.A.",
          "U.S.A.",
          "U.S.A.",
          "U.S.A.",
          "U.S.A.",
          "U.S.A.",
          "France",
          "Canada",
          "Canada",
          "Canada",
          "Canada",
          "France",
          "France",
          "U.S.A.",
          "Ecuador",
          "Ecuador",
          "U.S.A.",
          "U.S.A.",
          "U.S.A.",
          "U.S.A.",
          "U.S.A.",
          "France",
          "U.K.",
          "Germany",
          "Germany",
          "Hungary",
          "Hungary",
          "U.K.",
          "U.K.",
          "U.K.",
          "U.K.",
          "U.S.A.",
          "U.S.A.",
          "U.S.A.",
          "U.S.A.",
          "U.S.A.",
          "U.S.A.",
          "U.S.A.",
          "U.S.A.",
          "U.S.A.",
          "U.S.A.",
          "U.S.A.",
          "U.S.A.",
          "U.S.A.",
          "Belgium",
          "Canada",
          "U.S.A.",
          "U.S.A.",
          "U.S.A.",
          "Japan",
          "Canada",
          "Canada",
          "U.S.A.",
          "U.S.A.",
          "U.S.A.",
          "Spain",
          "Spain",
          "Spain",
          "Spain",
          "Spain",
          "Spain",
          "Spain",
          "Spain",
          "U.S.A.",
          "U.S.A.",
          "Canada",
          "Canada",
          "Canada",
          "Canada",
          "Canada",
          "U.S.A.",
          "U.S.A.",
          "U.S.A.",
          "U.S.A.",
          "U.S.A.",
          "U.S.A.",
          "U.S.A.",
          "U.S.A.",
          "U.S.A.",
          "U.S.A.",
          "U.S.A.",
          "U.S.A.",
          "U.S.A.",
          "U.S.A.",
          "Canada",
          "U.S.A.",
          "U.S.A.",
          "U.S.A.",
          "U.S.A.",
          "U.S.A.",
          "Canada",
          "U.S.A.",
          "U.S.A.",
          "U.S.A.",
          "U.S.A.",
          "U.S.A.",
          "U.S.A.",
          "U.S.A.",
          "U.S.A.",
          "U.S.A.",
          "Germany",
          "Germany",
          "Germany",
          "Germany",
          "Germany",
          "Germany",
          "Germany",
          "Germany",
          "Germany",
          "Germany",
          "Germany",
          "Germany",
          "Germany",
          "Germany",
          "Germany",
          "Germany",
          "Germany",
          "Germany",
          "Germany",
          "Belgium",
          "Australia",
          "Australia",
          "Australia",
          "Australia",
          "Australia",
          "Australia",
          "Australia",
          "U.S.A.",
          "U.S.A.",
          "U.S.A.",
          "U.S.A.",
          "U.S.A.",
          "U.S.A.",
          "U.S.A.",
          "U.S.A.",
          "U.S.A.",
          "U.S.A.",
          "U.S.A.",
          "Australia",
          "Australia",
          "U.S.A.",
          "U.K.",
          "U.K.",
          "U.K.",
          "U.K.",
          "U.K.",
          "U.S.A.",
          "U.S.A.",
          "U.S.A.",
          "U.S.A.",
          "U.S.A.",
          "U.S.A.",
          "U.S.A.",
          "U.S.A.",
          "U.S.A.",
          "U.S.A.",
          "U.S.A.",
          "U.S.A.",
          "U.S.A.",
          "U.S.A.",
          "U.S.A.",
          "U.S.A.",
          "U.S.A.",
          "U.S.A.",
          "U.S.A.",
          "U.S.A.",
          "U.S.A.",
          "U.S.A.",
          "U.S.A.",
          "U.S.A.",
          "U.S.A.",
          "U.S.A.",
          "U.S.A.",
          "U.S.A.",
          "U.S.A.",
          "U.S.A.",
          "U.S.A.",
          "U.S.A.",
          "U.S.A.",
          "U.S.A.",
          "U.S.A.",
          "Belgium",
          "Belgium",
          "U.S.A.",
          "U.S.A.",
          "U.S.A.",
          "U.S.A.",
          "U.S.A.",
          "U.S.A.",
          "U.S.A.",
          "U.S.A.",
          "U.S.A.",
          "Brazil",
          "Brazil",
          "U.S.A.",
          "U.S.A.",
          "U.S.A.",
          "U.S.A.",
          "U.S.A.",
          "U.S.A.",
          "France",
          "France",
          "Canada",
          "Canada",
          "U.S.A.",
          "U.S.A.",
          "U.S.A.",
          "U.S.A.",
          "U.S.A.",
          "U.S.A.",
          "U.S.A.",
          "U.S.A.",
          "U.S.A.",
          "U.S.A.",
          "U.S.A.",
          "U.S.A.",
          "U.S.A.",
          "U.S.A.",
          "U.S.A.",
          "U.S.A.",
          "U.S.A.",
          "U.S.A.",
          "U.S.A.",
          "U.S.A.",
          "U.S.A.",
          "U.S.A.",
          "U.K.",
          "U.K.",
          "U.K.",
          "U.K.",
          "U.S.A.",
          "Belgium",
          "Belgium",
          "Italy",
          "Italy",
          "Italy",
          "Italy",
          "Italy",
          "Italy",
          "Italy",
          "Italy",
          "Italy",
          "Italy",
          "Italy",
          "Italy",
          "Italy",
          "Italy",
          "Italy",
          "Italy",
          "Italy",
          "Italy",
          "Italy",
          "Italy",
          "Italy",
          "Italy",
          "Italy",
          "U.K.",
          "U.K.",
          "U.K.",
          "U.K.",
          "U.K.",
          "U.K.",
          "U.K.",
          "U.K.",
          "U.S.A.",
          "U.S.A.",
          "U.S.A.",
          "U.K.",
          "U.K.",
          "U.K.",
          "U.K.",
          "U.K.",
          "U.K.",
          "U.K.",
          "U.K.",
          "U.K.",
          "U.K.",
          "U.K.",
          "U.K.",
          "U.K.",
          "U.K.",
          "U.K.",
          "U.K.",
          "U.K.",
          "U.S.A.",
          "France",
          "U.S.A.",
          "U.S.A.",
          "U.S.A.",
          "U.S.A.",
          "U.S.A.",
          "U.S.A.",
          "Canada",
          "Canada",
          "Canada",
          "Canada",
          "Canada",
          "U.S.A.",
          "U.S.A.",
          "Germany",
          "U.S.A.",
          "U.S.A.",
          "Venezuela",
          "Venezuela",
          "Venezuela",
          "Venezuela",
          "Venezuela",
          "Venezuela",
          "Venezuela",
          "U.S.A.",
          "Japan",
          "Japan",
          "France",
          "France",
          "France",
          "France",
          "U.S.A.",
          "U.S.A.",
          "U.S.A.",
          "U.S.A.",
          "U.S.A.",
          "Spain",
          "France",
          "France",
          "France",
          "U.S.A.",
          "U.S.A.",
          "U.S.A.",
          "U.S.A.",
          "U.S.A.",
          "U.S.A.",
          "U.S.A.",
          "U.S.A.",
          "U.S.A.",
          "U.S.A.",
          "U.S.A.",
          "U.S.A.",
          "U.S.A.",
          "U.S.A.",
          "U.S.A.",
          "U.S.A.",
          "U.S.A.",
          "U.S.A.",
          "U.S.A.",
          "Switzerland",
          "Switzerland",
          "Switzerland",
          "Switzerland",
          "Switzerland",
          "Switzerland",
          "Switzerland",
          "U.S.A.",
          "U.S.A.",
          "U.S.A.",
          "U.S.A.",
          "Canada",
          "Canada",
          "Canada",
          "Canada",
          "U.K.",
          "U.K.",
          "U.K.",
          "U.K.",
          "U.S.A.",
          "U.S.A.",
          "U.S.A.",
          "U.S.A.",
          "U.K.",
          "New Zealand",
          "New Zealand",
          "New Zealand",
          "New Zealand",
          "New Zealand",
          "New Zealand",
          "New Zealand",
          "Venezuela",
          "Venezuela",
          "Venezuela",
          "Venezuela",
          "Venezuela",
          "Venezuela",
          "Venezuela",
          "Venezuela",
          "Venezuela",
          "Belgium",
          "Belgium",
          "Belgium",
          "Belgium",
          "Belgium",
          "U.S.A.",
          "U.S.A.",
          "U.S.A.",
          "U.S.A.",
          "U.S.A.",
          "U.S.A.",
          "U.S.A.",
          "U.S.A.",
          "U.S.A.",
          "U.S.A.",
          "U.S.A.",
          "U.S.A.",
          "U.S.A.",
          "U.S.A.",
          "U.S.A.",
          "U.S.A.",
          "U.S.A.",
          "U.S.A.",
          "U.S.A.",
          "U.S.A.",
          "U.S.A.",
          "U.S.A.",
          "U.S.A.",
          "U.S.A.",
          "U.S.A.",
          "U.S.A.",
          "U.S.A.",
          "U.S.A.",
          "U.S.A.",
          "U.S.A.",
          "U.S.A.",
          "U.S.A.",
          "U.S.A.",
          "U.S.A.",
          "U.S.A.",
          "U.S.A.",
          "U.S.A.",
          "U.S.A.",
          "U.S.A.",
          "U.S.A.",
          "U.S.A.",
          "U.S.A.",
          "U.S.A.",
          "U.S.A.",
          "U.S.A.",
          "U.S.A.",
          "U.S.A.",
          "U.S.A.",
          "U.S.A.",
          "U.S.A.",
          "U.S.A.",
          "U.S.A.",
          "U.S.A.",
          "U.S.A.",
          "U.S.A.",
          "Denmark",
          "Denmark",
          "Denmark",
          "Denmark",
          "Denmark",
          "Denmark",
          "Denmark",
          "Denmark",
          "Denmark",
          "Denmark",
          "Denmark",
          "Denmark",
          "Denmark",
          "Denmark",
          "Denmark",
          "Denmark",
          "Denmark",
          "Denmark",
          "Denmark",
          "Denmark",
          "Denmark",
          "Denmark",
          "Denmark",
          "Denmark",
          "Denmark",
          "U.S.A.",
          "U.S.A.",
          "U.S.A.",
          "U.S.A.",
          "U.S.A.",
          "U.S.A.",
          "U.S.A.",
          "U.S.A.",
          "U.S.A.",
          "U.S.A.",
          "U.S.A.",
          "U.S.A.",
          "U.S.A.",
          "U.S.A.",
          "U.S.A.",
          "Germany",
          "Germany",
          "Germany",
          "Germany",
          "Germany",
          "Germany",
          "Germany",
          "Germany",
          "Germany",
          "U.S.A.",
          "U.S.A.",
          "U.S.A.",
          "U.S.A.",
          "U.S.A.",
          "U.S.A.",
          "U.S.A.",
          "U.S.A.",
          "U.S.A.",
          "U.S.A.",
          "U.S.A.",
          "U.S.A.",
          "U.S.A.",
          "U.S.A.",
          "U.S.A.",
          "U.S.A.",
          "U.S.A.",
          "U.K.",
          "Japan",
          "Japan",
          "U.K.",
          "Italy",
          "Italy",
          "Italy",
          "Italy",
          "Italy",
          "Italy",
          "U.S.A.",
          "U.S.A.",
          "U.S.A.",
          "U.S.A.",
          "U.S.A.",
          "U.S.A.",
          "U.S.A.",
          "U.S.A.",
          "U.S.A.",
          "U.S.A.",
          "U.S.A.",
          "U.S.A.",
          "U.S.A.",
          "U.S.A.",
          "U.S.A.",
          "U.S.A.",
          "U.S.A.",
          "U.S.A.",
          "U.S.A.",
          "U.S.A.",
          "U.S.A.",
          "U.S.A.",
          "Canada",
          "Canada",
          "Canada",
          "Canada",
          "Canada",
          "Canada",
          "Canada",
          "Canada",
          "Canada",
          "Germany",
          "Ecuador",
          "Ecuador",
          "Australia",
          "U.S.A.",
          "U.S.A.",
          "U.S.A.",
          "U.S.A.",
          "U.S.A.",
          "U.K.",
          "U.K.",
          "U.S.A.",
          "U.S.A.",
          "U.S.A.",
          "Germany",
          "U.S.A.",
          "U.S.A.",
          "U.S.A.",
          "U.S.A.",
          "U.S.A.",
          "U.S.A.",
          "U.S.A.",
          "U.S.A.",
          "U.S.A.",
          "U.S.A.",
          "U.S.A.",
          "U.S.A.",
          "U.S.A.",
          "U.S.A.",
          "U.S.A.",
          "U.S.A.",
          "U.S.A.",
          "U.S.A.",
          "U.S.A.",
          "U.S.A.",
          "U.S.A.",
          "U.S.A.",
          "U.S.A.",
          "U.S.A.",
          "U.S.A.",
          "New Zealand",
          "New Zealand",
          "New Zealand",
          "New Zealand",
          "New Zealand",
          "New Zealand",
          "Ecuador",
          "Ecuador",
          "Ecuador",
          "Ecuador",
          "Ecuador",
          "U.K.",
          "U.K.",
          "U.K.",
          "U.K.",
          "U.K.",
          "U.K.",
          "U.K.",
          "U.K.",
          "U.K.",
          "U.K.",
          "U.K.",
          "U.K.",
          "U.K.",
          "U.K.",
          "U.K.",
          "U.K.",
          "U.K.",
          "U.K.",
          "U.K.",
          "U.K.",
          "U.K.",
          "U.K.",
          "U.K.",
          "U.K.",
          "U.K.",
          "Canada",
          "Canada",
          "Canada",
          "Canada",
          "Canada",
          "Canada",
          "Canada",
          "Canada",
          "Switzerland",
          "Switzerland",
          "Switzerland",
          "Switzerland",
          "Switzerland",
          "Switzerland",
          "Switzerland",
          "Switzerland",
          "Switzerland",
          "Switzerland",
          "U.S.A.",
          "U.S.A.",
          "U.S.A.",
          "U.S.A.",
          "U.S.A.",
          "U.S.A.",
          "U.S.A.",
          "U.S.A.",
          "U.S.A.",
          "U.S.A.",
          "U.S.A.",
          "U.S.A.",
          "U.S.A.",
          "U.S.A.",
          "U.S.A.",
          "U.S.A.",
          "U.S.A.",
          "U.S.A.",
          "U.S.A.",
          "U.S.A.",
          "U.S.A.",
          "U.S.A.",
          "U.S.A.",
          "U.S.A.",
          "U.S.A.",
          "Spain",
          "Spain",
          "Spain",
          "Germany",
          "Germany",
          "Ecuador",
          "Ecuador",
          "Ecuador",
          "Ecuador",
          "Ecuador",
          "Ecuador",
          "Ecuador",
          "Ecuador",
          "France",
          "France",
          "Canada",
          "Canada",
          "U.S.A.",
          "Canada",
          "U.S.A.",
          "U.S.A.",
          "U.S.A.",
          "U.S.A.",
          "U.S.A.",
          "U.S.A.",
          "U.S.A.",
          "U.S.A.",
          "U.S.A.",
          "U.S.A.",
          "U.S.A.",
          "U.S.A.",
          "U.S.A.",
          "U.S.A.",
          "U.S.A.",
          "U.S.A.",
          "U.S.A.",
          "U.S.A.",
          "U.S.A.",
          "U.S.A.",
          "U.S.A.",
          "U.S.A.",
          "U.S.A.",
          "U.S.A.",
          "U.S.A.",
          "U.S.A.",
          "Japan",
          "Japan",
          "Japan",
          "Japan",
          "U.S.A.",
          "U.S.A.",
          "U.S.A.",
          "U.S.A.",
          "France",
          "France",
          "France",
          "France",
          "France",
          "France",
          "France",
          "France",
          "France",
          "France",
          "France",
          "France",
          "France",
          "Peru",
          "Ecuador",
          "France",
          "France",
          "France",
          "France",
          "France",
          "France",
          "France",
          "France",
          "France",
          "France",
          "Brazil",
          "U.S.A.",
          "U.S.A.",
          "U.S.A.",
          "U.S.A.",
          "U.S.A.",
          "U.K.",
          "U.K.",
          "U.K.",
          "U.S.A.",
          "Belgium",
          "Belgium",
          "Belgium",
          "U.S.A.",
          "U.S.A.",
          "U.S.A.",
          "U.S.A.",
          "U.S.A.",
          "U.S.A.",
          "U.S.A.",
          "U.S.A.",
          "U.S.A.",
          "U.S.A.",
          "U.S.A.",
          "U.S.A.",
          "U.S.A.",
          "U.S.A.",
          "U.S.A.",
          "U.S.A.",
          "U.S.A.",
          "U.S.A.",
          "U.S.A.",
          "U.S.A.",
          "U.S.A.",
          "Switzerland",
          "U.S.A.",
          "U.S.A.",
          "U.S.A.",
          "U.S.A.",
          "U.S.A.",
          "U.S.A.",
          "U.S.A.",
          "U.S.A.",
          "U.S.A.",
          "U.S.A.",
          "U.S.A.",
          "U.S.A.",
          "Brazil",
          "Brazil",
          "Brazil",
          "U.K.",
          "Colombia",
          "Colombia",
          "Colombia",
          "Colombia",
          "U.S.A.",
          "U.S.A.",
          "U.S.A.",
          "U.S.A.",
          "U.S.A.",
          "Peru",
          "Peru",
          "U.S.A.",
          "U.S.A.",
          "U.S.A.",
          "U.S.A.",
          "U.S.A.",
          "U.S.A.",
          "U.S.A.",
          "U.S.A.",
          "U.S.A.",
          "U.S.A.",
          "U.S.A.",
          "U.S.A.",
          "U.S.A.",
          "U.S.A.",
          "Italy",
          "Italy",
          "Italy",
          "Italy",
          "Italy",
          "U.S.A.",
          "U.S.A.",
          "U.S.A.",
          "U.S.A.",
          "U.S.A.",
          "U.S.A.",
          "Colombia",
          "U.S.A.",
          "U.S.A.",
          "U.S.A.",
          "U.S.A.",
          "U.S.A.",
          "U.S.A.",
          "U.S.A.",
          "U.S.A.",
          "U.S.A.",
          "U.S.A.",
          "U.S.A.",
          "U.S.A.",
          "U.S.A.",
          "U.S.A.",
          "U.S.A.",
          "U.S.A.",
          "U.S.A.",
          "U.S.A.",
          "U.S.A.",
          "U.S.A.",
          "U.S.A.",
          "U.S.A.",
          "U.S.A.",
          "Peru",
          "Peru",
          "Peru",
          "U.S.A.",
          "U.S.A.",
          "U.S.A.",
          "Canada",
          "U.S.A.",
          "U.S.A.",
          "U.S.A.",
          "U.S.A.",
          "U.S.A.",
          "U.S.A.",
          "U.S.A.",
          "Austria",
          "Austria",
          "Austria",
          "U.S.A.",
          "U.S.A.",
          "U.S.A.",
          "U.S.A.",
          "U.S.A.",
          "U.S.A.",
          "U.S.A.",
          "U.S.A.",
          "U.S.A.",
          "U.S.A.",
          "U.S.A.",
          "U.S.A.",
          "U.S.A.",
          "U.S.A.",
          "U.S.A.",
          "U.S.A.",
          "U.S.A.",
          "U.S.A.",
          "Australia",
          "Australia",
          "Australia",
          "Australia",
          "U.S.A.",
          "U.S.A.",
          "U.S.A.",
          "U.S.A.",
          "U.S.A.",
          "U.S.A.",
          "U.S.A.",
          "U.S.A.",
          "U.S.A.",
          "Canada",
          "Canada",
          "U.S.A.",
          "U.S.A.",
          "U.S.A.",
          "U.S.A.",
          "U.S.A.",
          "Denmark",
          "Denmark",
          "Denmark",
          "Denmark",
          "Brazil",
          "Australia",
          "Australia",
          "Germany",
          "France",
          "France",
          "France",
          "France",
          "France",
          "France",
          "France",
          "France",
          "France",
          "France",
          "France",
          "France",
          "France",
          "U.S.A.",
          "U.S.A.",
          "U.S.A.",
          "U.S.A.",
          "U.S.A.",
          "U.S.A.",
          "U.S.A.",
          "U.S.A.",
          "U.S.A.",
          "U.S.A.",
          "U.S.A.",
          "Belgium",
          "Belgium",
          "Belgium",
          "Belgium",
          "U.S.A.",
          "U.S.A.",
          "Belgium",
          "Belgium",
          "Belgium",
          "Belgium",
          "Belgium",
          "Belgium",
          "Japan",
          "Japan",
          "Japan",
          "Japan",
          "U.S.A.",
          "U.S.A.",
          "Japan",
          "Brazil",
          "Brazil",
          "Brazil",
          "Colombia",
          "U.S.A.",
          "U.S.A.",
          "U.S.A.",
          "U.S.A.",
          "U.S.A.",
          "U.S.A.",
          "U.S.A.",
          "U.S.A.",
          "U.S.A.",
          "U.S.A.",
          "U.S.A.",
          "U.S.A.",
          "U.S.A.",
          "Canada",
          "Canada",
          "Australia",
          "U.S.A.",
          "U.S.A.",
          "U.S.A.",
          "Ecuador",
          "Ecuador",
          "Ecuador",
          "U.S.A.",
          "U.S.A.",
          "Japan",
          "U.S.A.",
          "U.S.A.",
          "U.S.A.",
          "U.S.A.",
          "U.S.A.",
          "U.S.A.",
          "U.S.A.",
          "U.S.A.",
          "U.S.A.",
          "Belgium",
          "Belgium",
          "Belgium",
          "Belgium",
          "Belgium",
          "Belgium",
          "U.S.A.",
          "U.S.A.",
          "U.S.A.",
          "U.S.A.",
          "U.S.A.",
          "U.S.A.",
          "U.S.A.",
          "Ecuador",
          "Peru",
          "U.S.A.",
          "U.S.A.",
          "U.S.A.",
          "U.S.A.",
          "U.S.A.",
          "U.S.A.",
          "U.S.A.",
          "U.S.A.",
          "U.S.A.",
          "U.S.A.",
          "U.S.A.",
          "U.S.A.",
          "U.S.A.",
          "U.S.A.",
          "U.S.A.",
          "U.S.A.",
          "U.S.A.",
          "Brazil",
          "U.S.A.",
          "New Zealand",
          "New Zealand",
          "New Zealand",
          "New Zealand",
          "New Zealand",
          "New Zealand",
          "U.S.A.",
          "U.S.A.",
          "U.S.A.",
          "U.S.A.",
          "U.S.A.",
          "U.S.A.",
          "U.S.A.",
          "U.S.A.",
          "U.S.A.",
          "U.S.A.",
          "U.S.A.",
          "U.S.A.",
          "U.S.A.",
          "U.S.A.",
          "U.S.A.",
          "Germany",
          "Germany",
          "U.S.A.",
          "U.S.A.",
          "U.S.A.",
          "U.S.A.",
          "Canada",
          "Canada",
          "Canada",
          "Canada",
          "U.S.A.",
          "U.S.A.",
          "U.S.A.",
          "Switzerland",
          "Switzerland",
          "Switzerland",
          "Switzerland",
          "Canada",
          "Canada",
          "Canada",
          "Canada",
          "Canada",
          "Switzerland",
          "Switzerland",
          "Switzerland",
          "Switzerland",
          "Switzerland",
          "Switzerland",
          "U.S.A.",
          "U.S.A.",
          "Peru",
          "Peru",
          "Ecuador",
          "Ecuador",
          "Ecuador",
          "Ecuador",
          "Ecuador",
          "Ecuador",
          "Ecuador",
          "Ecuador",
          "Ecuador",
          "Ecuador",
          "Ecuador",
          "Ecuador",
          "Ecuador",
          "Japan",
          "Japan",
          "Japan",
          "Canada",
          "Canada",
          "Canada",
          "Canada",
          "Canada",
          "Canada",
          "Canada",
          "Canada",
          "Canada",
          "Canada",
          "Canada",
          "Canada",
          "Canada",
          "Canada",
          "Canada",
          "Spain",
          "Spain",
          "Spain",
          "Spain",
          "Spain",
          "Spain",
          "Spain",
          "U.S.A.",
          "U.S.A.",
          "U.S.A.",
          "U.S.A.",
          "U.S.A.",
          "U.S.A.",
          "U.S.A.",
          "U.S.A.",
          "Peru",
          "Peru",
          "U.S.A.",
          "U.S.A.",
          "U.S.A.",
          "U.S.A.",
          "U.S.A.",
          "U.S.A.",
          "U.K.",
          "U.K.",
          "U.S.A.",
          "U.S.A.",
          "Canada",
          "Belgium",
          "Belgium",
          "Belgium",
          "Belgium",
          "Belgium",
          "Belgium",
          "Belgium",
          "Belgium",
          "Belgium",
          "Belgium",
          "Belgium",
          "Belgium",
          "Belgium",
          "Belgium",
          "Belgium",
          "Belgium",
          "Belgium",
          "U.S.A.",
          "U.S.A.",
          "U.S.A.",
          "U.S.A.",
          "U.S.A.",
          "U.S.A.",
          "U.S.A.",
          "U.S.A.",
          "U.S.A.",
          "U.S.A.",
          "U.S.A.",
          "U.S.A.",
          "U.S.A.",
          "U.S.A.",
          "U.S.A.",
          "U.S.A.",
          "U.S.A.",
          "U.S.A.",
          "U.S.A.",
          "U.S.A.",
          "U.S.A.",
          "U.S.A.",
          "U.S.A.",
          "U.S.A.",
          "U.S.A.",
          "U.S.A.",
          "U.S.A.",
          "U.S.A.",
          "U.S.A.",
          "U.S.A.",
          "U.S.A.",
          "France",
          "France",
          "France",
          "France",
          "France",
          "France",
          "France",
          "France",
          "France",
          "France",
          "France",
          "France",
          "France",
          "France",
          "France",
          "France",
          "France",
          "France",
          "France",
          "France",
          "France",
          "France",
          "France",
          "France",
          "France",
          "U.S.A.",
          "U.S.A.",
          "U.K.",
          "U.K.",
          "U.K.",
          "U.K.",
          "U.K.",
          "U.K.",
          "U.K.",
          "U.K.",
          "U.K.",
          "U.K.",
          "Italy",
          "Italy",
          "Italy",
          "Italy",
          "Italy",
          "Italy",
          "Brazil",
          "Brazil",
          "Brazil",
          "Brazil",
          "Brazil",
          "Brazil",
          "Canada",
          "Canada",
          "Canada",
          "Canada",
          "Canada",
          "U.S.A.",
          "U.S.A.",
          "U.S.A.",
          "U.S.A.",
          "U.S.A.",
          "U.S.A.",
          "Ecuador",
          "U.S.A.",
          "U.S.A.",
          "U.S.A.",
          "U.S.A.",
          "France",
          "U.S.A.",
          "U.S.A.",
          "U.S.A.",
          "U.S.A.",
          "U.S.A.",
          "U.S.A.",
          "Ecuador",
          "Ecuador",
          "Ecuador",
          "Ecuador",
          "Ecuador",
          "U.S.A.",
          "U.S.A.",
          "U.S.A.",
          "U.S.A.",
          "U.S.A.",
          "U.S.A.",
          "U.S.A.",
          "U.S.A.",
          "U.S.A.",
          "U.S.A.",
          "U.S.A.",
          "U.S.A.",
          "U.S.A.",
          "U.S.A.",
          "U.S.A.",
          "U.S.A.",
          "U.K.",
          "U.S.A.",
          "U.S.A.",
          "U.S.A.",
          "U.S.A.",
          "U.S.A.",
          "U.S.A.",
          "U.S.A.",
          "U.S.A.",
          "U.S.A.",
          "U.S.A.",
          "U.S.A.",
          "U.S.A.",
          "U.S.A.",
          "U.S.A.",
          "U.S.A.",
          "U.S.A.",
          "Hungary",
          "Hungary",
          "Hungary",
          "Hungary",
          "Hungary",
          "Hungary",
          "Hungary",
          "Hungary",
          "Hungary",
          "Italy",
          "Italy",
          "Italy",
          "Italy",
          "Italy",
          "Italy",
          "Italy",
          "Italy",
          "Italy",
          "Italy",
          "U.S.A.",
          "U.S.A.",
          "Ecuador",
          "Colombia",
          "Colombia",
          "Colombia",
          "Colombia",
          "Colombia",
          "France",
          "U.S.A.",
          "U.S.A.",
          "U.S.A.",
          "U.S.A.",
          "U.S.A.",
          "U.S.A.",
          "U.S.A.",
          "U.S.A.",
          "U.S.A.",
          "U.S.A.",
          "U.S.A.",
          "U.S.A.",
          "U.S.A.",
          "U.S.A.",
          "U.S.A.",
          "U.S.A.",
          "U.S.A.",
          "U.K.",
          "U.K.",
          "U.S.A.",
          "U.S.A.",
          "U.S.A.",
          "U.S.A.",
          "U.S.A.",
          "U.S.A.",
          "U.S.A.",
          "U.S.A.",
          "U.S.A.",
          "U.S.A.",
          "U.S.A.",
          "U.S.A.",
          "U.S.A.",
          "U.S.A.",
          "U.S.A.",
          "U.S.A.",
          "U.S.A.",
          "U.S.A.",
          "U.S.A.",
          "U.S.A.",
          "Peru",
          "Peru",
          "U.S.A.",
          "Italy",
          "Italy",
          "Italy",
          "Italy",
          "Canada",
          "Canada",
          "Canada",
          "Canada",
          "Canada",
          "Canada",
          "Canada",
          "Canada",
          "Canada",
          "Canada",
          "Canada",
          "Canada",
          "Canada",
          "Canada",
          "U.S.A.",
          "U.S.A.",
          "Australia",
          "Australia",
          "Australia",
          "Australia",
          "Australia",
          "Australia",
          "Australia",
          "Australia",
          "Australia",
          "Australia",
          "Australia",
          "Australia",
          "Australia",
          "Australia",
          "Australia",
          "Australia",
          "Australia",
          "U.S.A.",
          "U.S.A.",
          "U.S.A.",
          "U.S.A.",
          "U.S.A.",
          "U.K.",
          "U.K.",
          "U.K.",
          "New Zealand",
          "New Zealand",
          "U.S.A.",
          "U.S.A.",
          "U.S.A.",
          "U.S.A.",
          "U.S.A.",
          "U.S.A.",
          "U.S.A.",
          "U.S.A.",
          "U.S.A.",
          "Canada",
          "Canada",
          "Canada",
          "Canada",
          "Canada",
          "Canada",
          "Canada",
          "Canada",
          "Canada",
          "Canada",
          "Canada",
          "Canada",
          "Canada",
          "Canada",
          "Canada",
          "Canada",
          "Canada",
          "Canada",
          "Canada",
          "Canada",
          "Canada",
          "Canada",
          "Canada",
          "Canada",
          "Canada",
          "Canada",
          "Canada",
          "Canada",
          "Canada",
          "Canada",
          "Canada",
          "Canada",
          "Canada",
          "Canada",
          "Canada",
          "Canada",
          "Canada",
          "Canada",
          "Canada",
          "Canada",
          "Canada",
          "Canada",
          "Canada",
          "Canada",
          "Canada",
          "Canada",
          "Canada",
          "Canada",
          "Canada",
          "Canada",
          "Canada",
          "Canada",
          "Canada",
          "Canada",
          "Canada",
          "Canada",
          "U.S.A.",
          "U.S.A.",
          "Canada",
          "Canada",
          "Canada",
          "Canada",
          "Canada",
          "Canada",
          "U.S.A.",
          "U.S.A.",
          "U.S.A.",
          "Australia",
          "Australia",
          "Australia",
          "Australia",
          "U.S.A.",
          "U.S.A.",
          "U.S.A.",
          "U.S.A.",
          "U.S.A.",
          "U.S.A.",
          "Switzerland",
          "U.S.A.",
          "U.S.A.",
          "U.S.A.",
          "U.S.A.",
          "U.S.A.",
          "U.S.A.",
          "U.S.A.",
          "Switzerland",
          "Switzerland",
          "U.S.A.",
          "U.S.A.",
          "U.S.A.",
          "U.S.A.",
          "U.S.A.",
          "U.S.A.",
          "U.S.A.",
          "U.S.A.",
          "Denmark",
          "Denmark",
          "Venezuela",
          "Venezuela",
          "U.S.A.",
          "U.S.A.",
          "U.S.A.",
          "U.S.A.",
          "Japan",
          "Japan",
          "Japan",
          "Japan",
          "Japan",
          "Canada",
          "Canada",
          "Canada",
          "Hungary",
          "Hungary",
          "Hungary",
          "Hungary",
          "Hungary",
          "Hungary",
          "Hungary",
          "Hungary",
          "Hungary",
          "Hungary",
          "Hungary",
          "Hungary",
          "Hungary",
          "Hungary",
          "Hungary",
          "U.S.A.",
          "U.S.A.",
          "U.S.A.",
          "U.S.A.",
          "Japan",
          "Japan",
          "Japan",
          "Japan",
          "U.S.A.",
          "U.S.A.",
          "U.S.A.",
          "U.S.A.",
          "Switzerland",
          "Switzerland",
          "U.S.A.",
          "U.S.A.",
          "U.S.A.",
          "U.S.A.",
          "U.S.A.",
          "U.S.A.",
          "U.S.A.",
          "U.S.A.",
          "U.S.A.",
          "U.S.A.",
          "U.S.A.",
          "U.S.A.",
          "U.S.A.",
          "U.S.A.",
          "U.S.A.",
          "U.S.A.",
          "U.S.A.",
          "U.S.A.",
          "U.S.A.",
          "U.S.A.",
          "U.S.A.",
          "U.S.A.",
          "U.S.A.",
          "U.S.A.",
          "U.S.A.",
          "U.S.A.",
          "U.S.A.",
          "U.S.A.",
          "U.S.A.",
          "U.S.A.",
          "U.S.A.",
          "U.S.A.",
          "U.S.A.",
          "U.S.A.",
          "U.S.A.",
          "U.S.A.",
          "U.S.A.",
          "U.S.A.",
          "U.S.A.",
          "U.S.A.",
          "U.S.A.",
          "U.S.A.",
          "U.S.A.",
          "U.S.A.",
          "U.S.A.",
          "Japan",
          "U.S.A.",
          "Colombia",
          "Colombia",
          "Germany",
          "U.S.A.",
          "Ecuador",
          "Ecuador",
          "France",
          "U.S.A.",
          "U.S.A.",
          "U.S.A.",
          "U.K.",
          "U.K.",
          "U.K.",
          "U.K.",
          "U.S.A.",
          "U.S.A.",
          "U.S.A.",
          "U.S.A.",
          "U.S.A.",
          "U.S.A.",
          "U.S.A.",
          "Peru",
          "Peru",
          "Canada",
          "Canada",
          "Canada",
          "U.S.A.",
          "U.S.A.",
          "U.S.A.",
          "U.S.A.",
          "U.S.A.",
          "U.S.A.",
          "U.S.A.",
          "U.S.A.",
          "France",
          "Canada",
          "Canada",
          "Canada",
          "U.S.A.",
          "U.S.A.",
          "U.S.A.",
          "U.S.A.",
          "Italy",
          "Spain",
          "Spain",
          "Canada",
          "France",
          "France",
          "France",
          "France",
          "France",
          "France",
          "France",
          "France",
          "France",
          "France",
          "France",
          "France",
          "France",
          "France",
          "France",
          "France",
          "France",
          "France",
          "France",
          "France",
          "France",
          "France",
          "U.S.A.",
          "U.S.A.",
          "U.S.A.",
          "U.S.A.",
          "U.S.A.",
          "U.S.A.",
          "U.S.A.",
          "U.S.A.",
          "U.S.A.",
          "U.S.A.",
          "U.S.A.",
          "U.S.A.",
          "U.S.A.",
          "U.S.A.",
          "U.S.A.",
          "U.S.A.",
          "France",
          "U.S.A.",
          "U.S.A.",
          "U.S.A.",
          "U.S.A.",
          "U.S.A.",
          "U.S.A.",
          "U.S.A.",
          "U.S.A.",
          "U.S.A.",
          "U.S.A.",
          "U.S.A.",
          "U.S.A.",
          "U.S.A.",
          "U.S.A.",
          "U.S.A.",
          "New Zealand",
          "New Zealand",
          "New Zealand",
          "U.S.A.",
          "U.S.A.",
          "U.S.A.",
          "U.S.A.",
          "U.S.A.",
          "U.S.A.",
          "New Zealand",
          "U.K.",
          "U.K.",
          "U.K.",
          "U.K.",
          "U.K.",
          "U.K.",
          "U.K.",
          "U.K.",
          "U.S.A.",
          "U.S.A.",
          "U.S.A.",
          "U.S.A.",
          "U.S.A.",
          "U.S.A.",
          "U.S.A.",
          "U.S.A.",
          "U.S.A.",
          "U.S.A.",
          "U.S.A.",
          "U.S.A.",
          "U.S.A.",
          "U.S.A.",
          "U.S.A.",
          "U.S.A.",
          "U.S.A.",
          "U.S.A.",
          "U.S.A.",
          "U.S.A.",
          "U.S.A.",
          "U.S.A.",
          "U.S.A.",
          "U.S.A.",
          "U.S.A.",
          "U.S.A.",
          "U.S.A.",
          "U.S.A.",
          "U.S.A.",
          "U.S.A.",
          "Austria",
          "Austria",
          "Austria",
          "Austria",
          "Austria",
          "Austria",
          "Australia",
          "Australia",
          "Australia",
          "Australia",
          "Australia",
          "Belgium",
          "Belgium",
          "Belgium",
          "Belgium",
          "Austria",
          "Austria",
          "Austria",
          "Austria",
          "Austria",
          "Austria",
          "Austria",
          "Austria",
          "Austria",
          "Austria",
          "Austria",
          "Austria",
          "Austria",
          "Austria",
          "Austria",
          "Austria",
          "Austria",
          "Austria",
          "Austria",
          "Austria",
          "Austria"
         ],
         "xaxis": "x",
         "yaxis": "y"
        }
       ],
       "layout": {
        "barmode": "relative",
        "font": {
         "color": "#6f1c0e"
        },
        "legend": {
         "tracegroupgap": 0
        },
        "plot_bgcolor": "#fff7ef",
        "template": {
         "data": {
          "bar": [
           {
            "error_x": {
             "color": "#2a3f5f"
            },
            "error_y": {
             "color": "#2a3f5f"
            },
            "marker": {
             "line": {
              "color": "#E5ECF6",
              "width": 0.5
             },
             "pattern": {
              "fillmode": "overlay",
              "size": 10,
              "solidity": 0.2
             }
            },
            "type": "bar"
           }
          ],
          "barpolar": [
           {
            "marker": {
             "line": {
              "color": "#E5ECF6",
              "width": 0.5
             },
             "pattern": {
              "fillmode": "overlay",
              "size": 10,
              "solidity": 0.2
             }
            },
            "type": "barpolar"
           }
          ],
          "carpet": [
           {
            "aaxis": {
             "endlinecolor": "#2a3f5f",
             "gridcolor": "white",
             "linecolor": "white",
             "minorgridcolor": "white",
             "startlinecolor": "#2a3f5f"
            },
            "baxis": {
             "endlinecolor": "#2a3f5f",
             "gridcolor": "white",
             "linecolor": "white",
             "minorgridcolor": "white",
             "startlinecolor": "#2a3f5f"
            },
            "type": "carpet"
           }
          ],
          "choropleth": [
           {
            "colorbar": {
             "outlinewidth": 0,
             "ticks": ""
            },
            "type": "choropleth"
           }
          ],
          "contour": [
           {
            "colorbar": {
             "outlinewidth": 0,
             "ticks": ""
            },
            "colorscale": [
             [
              0,
              "#0d0887"
             ],
             [
              0.1111111111111111,
              "#46039f"
             ],
             [
              0.2222222222222222,
              "#7201a8"
             ],
             [
              0.3333333333333333,
              "#9c179e"
             ],
             [
              0.4444444444444444,
              "#bd3786"
             ],
             [
              0.5555555555555556,
              "#d8576b"
             ],
             [
              0.6666666666666666,
              "#ed7953"
             ],
             [
              0.7777777777777778,
              "#fb9f3a"
             ],
             [
              0.8888888888888888,
              "#fdca26"
             ],
             [
              1,
              "#f0f921"
             ]
            ],
            "type": "contour"
           }
          ],
          "contourcarpet": [
           {
            "colorbar": {
             "outlinewidth": 0,
             "ticks": ""
            },
            "type": "contourcarpet"
           }
          ],
          "heatmap": [
           {
            "colorbar": {
             "outlinewidth": 0,
             "ticks": ""
            },
            "colorscale": [
             [
              0,
              "#0d0887"
             ],
             [
              0.1111111111111111,
              "#46039f"
             ],
             [
              0.2222222222222222,
              "#7201a8"
             ],
             [
              0.3333333333333333,
              "#9c179e"
             ],
             [
              0.4444444444444444,
              "#bd3786"
             ],
             [
              0.5555555555555556,
              "#d8576b"
             ],
             [
              0.6666666666666666,
              "#ed7953"
             ],
             [
              0.7777777777777778,
              "#fb9f3a"
             ],
             [
              0.8888888888888888,
              "#fdca26"
             ],
             [
              1,
              "#f0f921"
             ]
            ],
            "type": "heatmap"
           }
          ],
          "heatmapgl": [
           {
            "colorbar": {
             "outlinewidth": 0,
             "ticks": ""
            },
            "colorscale": [
             [
              0,
              "#0d0887"
             ],
             [
              0.1111111111111111,
              "#46039f"
             ],
             [
              0.2222222222222222,
              "#7201a8"
             ],
             [
              0.3333333333333333,
              "#9c179e"
             ],
             [
              0.4444444444444444,
              "#bd3786"
             ],
             [
              0.5555555555555556,
              "#d8576b"
             ],
             [
              0.6666666666666666,
              "#ed7953"
             ],
             [
              0.7777777777777778,
              "#fb9f3a"
             ],
             [
              0.8888888888888888,
              "#fdca26"
             ],
             [
              1,
              "#f0f921"
             ]
            ],
            "type": "heatmapgl"
           }
          ],
          "histogram": [
           {
            "marker": {
             "pattern": {
              "fillmode": "overlay",
              "size": 10,
              "solidity": 0.2
             }
            },
            "type": "histogram"
           }
          ],
          "histogram2d": [
           {
            "colorbar": {
             "outlinewidth": 0,
             "ticks": ""
            },
            "colorscale": [
             [
              0,
              "#0d0887"
             ],
             [
              0.1111111111111111,
              "#46039f"
             ],
             [
              0.2222222222222222,
              "#7201a8"
             ],
             [
              0.3333333333333333,
              "#9c179e"
             ],
             [
              0.4444444444444444,
              "#bd3786"
             ],
             [
              0.5555555555555556,
              "#d8576b"
             ],
             [
              0.6666666666666666,
              "#ed7953"
             ],
             [
              0.7777777777777778,
              "#fb9f3a"
             ],
             [
              0.8888888888888888,
              "#fdca26"
             ],
             [
              1,
              "#f0f921"
             ]
            ],
            "type": "histogram2d"
           }
          ],
          "histogram2dcontour": [
           {
            "colorbar": {
             "outlinewidth": 0,
             "ticks": ""
            },
            "colorscale": [
             [
              0,
              "#0d0887"
             ],
             [
              0.1111111111111111,
              "#46039f"
             ],
             [
              0.2222222222222222,
              "#7201a8"
             ],
             [
              0.3333333333333333,
              "#9c179e"
             ],
             [
              0.4444444444444444,
              "#bd3786"
             ],
             [
              0.5555555555555556,
              "#d8576b"
             ],
             [
              0.6666666666666666,
              "#ed7953"
             ],
             [
              0.7777777777777778,
              "#fb9f3a"
             ],
             [
              0.8888888888888888,
              "#fdca26"
             ],
             [
              1,
              "#f0f921"
             ]
            ],
            "type": "histogram2dcontour"
           }
          ],
          "mesh3d": [
           {
            "colorbar": {
             "outlinewidth": 0,
             "ticks": ""
            },
            "type": "mesh3d"
           }
          ],
          "parcoords": [
           {
            "line": {
             "colorbar": {
              "outlinewidth": 0,
              "ticks": ""
             }
            },
            "type": "parcoords"
           }
          ],
          "pie": [
           {
            "automargin": true,
            "type": "pie"
           }
          ],
          "scatter": [
           {
            "marker": {
             "colorbar": {
              "outlinewidth": 0,
              "ticks": ""
             }
            },
            "type": "scatter"
           }
          ],
          "scatter3d": [
           {
            "line": {
             "colorbar": {
              "outlinewidth": 0,
              "ticks": ""
             }
            },
            "marker": {
             "colorbar": {
              "outlinewidth": 0,
              "ticks": ""
             }
            },
            "type": "scatter3d"
           }
          ],
          "scattercarpet": [
           {
            "marker": {
             "colorbar": {
              "outlinewidth": 0,
              "ticks": ""
             }
            },
            "type": "scattercarpet"
           }
          ],
          "scattergeo": [
           {
            "marker": {
             "colorbar": {
              "outlinewidth": 0,
              "ticks": ""
             }
            },
            "type": "scattergeo"
           }
          ],
          "scattergl": [
           {
            "marker": {
             "colorbar": {
              "outlinewidth": 0,
              "ticks": ""
             }
            },
            "type": "scattergl"
           }
          ],
          "scattermapbox": [
           {
            "marker": {
             "colorbar": {
              "outlinewidth": 0,
              "ticks": ""
             }
            },
            "type": "scattermapbox"
           }
          ],
          "scatterpolar": [
           {
            "marker": {
             "colorbar": {
              "outlinewidth": 0,
              "ticks": ""
             }
            },
            "type": "scatterpolar"
           }
          ],
          "scatterpolargl": [
           {
            "marker": {
             "colorbar": {
              "outlinewidth": 0,
              "ticks": ""
             }
            },
            "type": "scatterpolargl"
           }
          ],
          "scatterternary": [
           {
            "marker": {
             "colorbar": {
              "outlinewidth": 0,
              "ticks": ""
             }
            },
            "type": "scatterternary"
           }
          ],
          "surface": [
           {
            "colorbar": {
             "outlinewidth": 0,
             "ticks": ""
            },
            "colorscale": [
             [
              0,
              "#0d0887"
             ],
             [
              0.1111111111111111,
              "#46039f"
             ],
             [
              0.2222222222222222,
              "#7201a8"
             ],
             [
              0.3333333333333333,
              "#9c179e"
             ],
             [
              0.4444444444444444,
              "#bd3786"
             ],
             [
              0.5555555555555556,
              "#d8576b"
             ],
             [
              0.6666666666666666,
              "#ed7953"
             ],
             [
              0.7777777777777778,
              "#fb9f3a"
             ],
             [
              0.8888888888888888,
              "#fdca26"
             ],
             [
              1,
              "#f0f921"
             ]
            ],
            "type": "surface"
           }
          ],
          "table": [
           {
            "cells": {
             "fill": {
              "color": "#EBF0F8"
             },
             "line": {
              "color": "white"
             }
            },
            "header": {
             "fill": {
              "color": "#C8D4E3"
             },
             "line": {
              "color": "white"
             }
            },
            "type": "table"
           }
          ]
         },
         "layout": {
          "annotationdefaults": {
           "arrowcolor": "#2a3f5f",
           "arrowhead": 0,
           "arrowwidth": 1
          },
          "autotypenumbers": "strict",
          "coloraxis": {
           "colorbar": {
            "outlinewidth": 0,
            "ticks": ""
           }
          },
          "colorscale": {
           "diverging": [
            [
             0,
             "#8e0152"
            ],
            [
             0.1,
             "#c51b7d"
            ],
            [
             0.2,
             "#de77ae"
            ],
            [
             0.3,
             "#f1b6da"
            ],
            [
             0.4,
             "#fde0ef"
            ],
            [
             0.5,
             "#f7f7f7"
            ],
            [
             0.6,
             "#e6f5d0"
            ],
            [
             0.7,
             "#b8e186"
            ],
            [
             0.8,
             "#7fbc41"
            ],
            [
             0.9,
             "#4d9221"
            ],
            [
             1,
             "#276419"
            ]
           ],
           "sequential": [
            [
             0,
             "#0d0887"
            ],
            [
             0.1111111111111111,
             "#46039f"
            ],
            [
             0.2222222222222222,
             "#7201a8"
            ],
            [
             0.3333333333333333,
             "#9c179e"
            ],
            [
             0.4444444444444444,
             "#bd3786"
            ],
            [
             0.5555555555555556,
             "#d8576b"
            ],
            [
             0.6666666666666666,
             "#ed7953"
            ],
            [
             0.7777777777777778,
             "#fb9f3a"
            ],
            [
             0.8888888888888888,
             "#fdca26"
            ],
            [
             1,
             "#f0f921"
            ]
           ],
           "sequentialminus": [
            [
             0,
             "#0d0887"
            ],
            [
             0.1111111111111111,
             "#46039f"
            ],
            [
             0.2222222222222222,
             "#7201a8"
            ],
            [
             0.3333333333333333,
             "#9c179e"
            ],
            [
             0.4444444444444444,
             "#bd3786"
            ],
            [
             0.5555555555555556,
             "#d8576b"
            ],
            [
             0.6666666666666666,
             "#ed7953"
            ],
            [
             0.7777777777777778,
             "#fb9f3a"
            ],
            [
             0.8888888888888888,
             "#fdca26"
            ],
            [
             1,
             "#f0f921"
            ]
           ]
          },
          "colorway": [
           "#636efa",
           "#EF553B",
           "#00cc96",
           "#ab63fa",
           "#FFA15A",
           "#19d3f3",
           "#FF6692",
           "#B6E880",
           "#FF97FF",
           "#FECB52"
          ],
          "font": {
           "color": "#2a3f5f"
          },
          "geo": {
           "bgcolor": "white",
           "lakecolor": "white",
           "landcolor": "#E5ECF6",
           "showlakes": true,
           "showland": true,
           "subunitcolor": "white"
          },
          "hoverlabel": {
           "align": "left"
          },
          "hovermode": "closest",
          "mapbox": {
           "style": "light"
          },
          "paper_bgcolor": "white",
          "plot_bgcolor": "#E5ECF6",
          "polar": {
           "angularaxis": {
            "gridcolor": "white",
            "linecolor": "white",
            "ticks": ""
           },
           "bgcolor": "#E5ECF6",
           "radialaxis": {
            "gridcolor": "white",
            "linecolor": "white",
            "ticks": ""
           }
          },
          "scene": {
           "xaxis": {
            "backgroundcolor": "#E5ECF6",
            "gridcolor": "white",
            "gridwidth": 2,
            "linecolor": "white",
            "showbackground": true,
            "ticks": "",
            "zerolinecolor": "white"
           },
           "yaxis": {
            "backgroundcolor": "#E5ECF6",
            "gridcolor": "white",
            "gridwidth": 2,
            "linecolor": "white",
            "showbackground": true,
            "ticks": "",
            "zerolinecolor": "white"
           },
           "zaxis": {
            "backgroundcolor": "#E5ECF6",
            "gridcolor": "white",
            "gridwidth": 2,
            "linecolor": "white",
            "showbackground": true,
            "ticks": "",
            "zerolinecolor": "white"
           }
          },
          "shapedefaults": {
           "line": {
            "color": "#2a3f5f"
           }
          },
          "ternary": {
           "aaxis": {
            "gridcolor": "white",
            "linecolor": "white",
            "ticks": ""
           },
           "baxis": {
            "gridcolor": "white",
            "linecolor": "white",
            "ticks": ""
           },
           "bgcolor": "#E5ECF6",
           "caxis": {
            "gridcolor": "white",
            "linecolor": "white",
            "ticks": ""
           }
          },
          "title": {
           "x": 0.05
          },
          "xaxis": {
           "automargin": true,
           "gridcolor": "white",
           "linecolor": "white",
           "ticks": "",
           "title": {
            "standoff": 15
           },
           "zerolinecolor": "white",
           "zerolinewidth": 2
          },
          "yaxis": {
           "automargin": true,
           "gridcolor": "white",
           "linecolor": "white",
           "ticks": "",
           "title": {
            "standoff": 15
           },
           "zerolinecolor": "white",
           "zerolinewidth": 2
          }
         }
        },
        "title": {
         "text": "Localisation des fabricants de chocolat parmis les chocolats évalués"
        },
        "xaxis": {
         "anchor": "y",
         "categoryorder": "total descending",
         "domain": [
          0,
          1
         ],
         "tickangle": 45,
         "title": {
          "text": "Pays d'origine des fèves de cacao"
         }
        },
        "yaxis": {
         "anchor": "x",
         "domain": [
          0,
          1
         ],
         "title": {
          "text": "Nombre de chocolats évalués"
         }
        }
       }
      }
     },
     "metadata": {},
     "output_type": "display_data"
    }
   ],
   "source": [
    "databis = data.copy()\n",
    "databis['company_location'] = databis['company_location'].apply(lambda x: x if databis['company_location'].value_counts()[x] > 20 else 'Blend')\n",
    "\n",
    "fig = px.histogram(databis[databis['company_location'] != 'Blend'], x='company_location', \n",
    "                   color_discrete_sequence=palette, title=\"Localisation des fabricants de chocolat parmis les chocolats évalués\")\n",
    "fig.update_xaxes(categoryorder='total descending', tickangle=45)\n",
    "fig.update_layout(xaxis_title='Pays d\\'origine des fèves de cacao', yaxis_title='Nombre de chocolats évalués')\n",
    "fig.update_layout(plot_bgcolor=background_color, font_color=text_color)\n",
    "fig.update_traces(marker=dict(color=palette[0]))\n",
    "fig.show()"
   ]
  },
  {
   "cell_type": "markdown",
   "metadata": {},
   "source": [
    "### diag barre top 5"
   ]
  },
  {
   "cell_type": "code",
   "execution_count": 13,
   "metadata": {},
   "outputs": [
    {
     "data": {
      "application/vnd.plotly.v1+json": {
       "config": {
        "plotlyServerURL": "https://plot.ly"
       },
       "data": [
        {
         "alignmentgroup": "True",
         "bingroup": "x",
         "hovertemplate": "company_location=%{x}<br>count=%{y}<extra></extra>",
         "legendgroup": "",
         "marker": {
          "color": "#874646",
          "pattern": {
           "shape": ""
          }
         },
         "name": "",
         "offsetgroup": "",
         "orientation": "v",
         "showlegend": false,
         "type": "histogram",
         "x": [
          "U.S.A.",
          "U.S.A.",
          "U.S.A.",
          "U.S.A.",
          "U.S.A.",
          "U.S.A.",
          "U.S.A.",
          "France",
          "France",
          "France",
          "France",
          "France",
          "France",
          "France",
          "France",
          "France",
          "France",
          "France",
          "France",
          "France",
          "France",
          "France",
          "France",
          "France",
          "France",
          "France",
          "France",
          "France",
          "France",
          "France",
          "France",
          "France",
          "France",
          "U.S.A.",
          "U.S.A.",
          "U.S.A.",
          "U.S.A.",
          "U.K.",
          "U.K.",
          "U.K.",
          "France",
          "France",
          "France",
          "France",
          "France",
          "France",
          "U.S.A.",
          "U.S.A.",
          "U.S.A.",
          "U.S.A.",
          "U.S.A.",
          "U.S.A.",
          "U.S.A.",
          "U.S.A.",
          "U.S.A.",
          "U.S.A.",
          "U.S.A.",
          "U.S.A.",
          "U.S.A.",
          "U.S.A.",
          "U.S.A.",
          "U.S.A.",
          "U.S.A.",
          "U.S.A.",
          "U.S.A.",
          "U.S.A.",
          "Canada",
          "Canada",
          "Canada",
          "Canada",
          "Canada",
          "Canada",
          "Italy",
          "Italy",
          "Italy",
          "Italy",
          "Italy",
          "Italy",
          "Italy",
          "Italy",
          "Italy",
          "Italy",
          "Italy",
          "Italy",
          "Italy",
          "U.S.A.",
          "U.S.A.",
          "U.S.A.",
          "U.S.A.",
          "France",
          "France",
          "France",
          "France",
          "U.S.A.",
          "U.S.A.",
          "U.S.A.",
          "U.S.A.",
          "U.S.A.",
          "U.S.A.",
          "U.S.A.",
          "U.S.A.",
          "U.S.A.",
          "U.S.A.",
          "U.S.A.",
          "U.S.A.",
          "U.S.A.",
          "U.S.A.",
          "U.S.A.",
          "U.S.A.",
          "U.S.A.",
          "U.S.A.",
          "U.S.A.",
          "U.S.A.",
          "U.S.A.",
          "U.S.A.",
          "U.S.A.",
          "U.S.A.",
          "U.S.A.",
          "U.S.A.",
          "U.S.A.",
          "U.S.A.",
          "U.S.A.",
          "U.S.A.",
          "U.S.A.",
          "U.S.A.",
          "U.K.",
          "U.K.",
          "U.K.",
          "U.K.",
          "U.K.",
          "U.K.",
          "U.K.",
          "U.K.",
          "U.K.",
          "U.K.",
          "U.K.",
          "U.K.",
          "U.K.",
          "U.K.",
          "U.K.",
          "U.K.",
          "U.K.",
          "Italy",
          "Italy",
          "Italy",
          "U.S.A.",
          "U.S.A.",
          "U.S.A.",
          "U.S.A.",
          "U.S.A.",
          "U.S.A.",
          "Canada",
          "Canada",
          "U.S.A.",
          "U.S.A.",
          "U.S.A.",
          "U.S.A.",
          "U.S.A.",
          "U.S.A.",
          "U.S.A.",
          "U.S.A.",
          "U.S.A.",
          "U.S.A.",
          "U.S.A.",
          "U.S.A.",
          "U.S.A.",
          "U.K.",
          "U.K.",
          "U.K.",
          "U.S.A.",
          "U.S.A.",
          "U.S.A.",
          "U.S.A.",
          "U.S.A.",
          "U.S.A.",
          "U.S.A.",
          "France",
          "U.S.A.",
          "U.S.A.",
          "U.S.A.",
          "U.S.A.",
          "U.S.A.",
          "U.S.A.",
          "U.S.A.",
          "U.S.A.",
          "U.S.A.",
          "U.S.A.",
          "U.S.A.",
          "U.S.A.",
          "U.S.A.",
          "U.S.A.",
          "U.S.A.",
          "U.S.A.",
          "U.S.A.",
          "U.S.A.",
          "U.S.A.",
          "U.S.A.",
          "U.S.A.",
          "U.S.A.",
          "U.S.A.",
          "U.S.A.",
          "U.S.A.",
          "U.S.A.",
          "U.K.",
          "U.S.A.",
          "U.S.A.",
          "U.S.A.",
          "U.S.A.",
          "U.S.A.",
          "U.S.A.",
          "U.S.A.",
          "U.S.A.",
          "U.S.A.",
          "France",
          "France",
          "France",
          "France",
          "France",
          "France",
          "France",
          "France",
          "France",
          "France",
          "France",
          "France",
          "France",
          "France",
          "France",
          "France",
          "France",
          "France",
          "France",
          "France",
          "France",
          "France",
          "France",
          "France",
          "France",
          "France",
          "France",
          "France",
          "France",
          "France",
          "U.S.A.",
          "U.S.A.",
          "U.S.A.",
          "U.S.A.",
          "U.S.A.",
          "U.S.A.",
          "U.S.A.",
          "U.S.A.",
          "U.S.A.",
          "U.S.A.",
          "U.S.A.",
          "U.S.A.",
          "U.S.A.",
          "U.S.A.",
          "U.S.A.",
          "U.S.A.",
          "U.S.A.",
          "U.S.A.",
          "U.S.A.",
          "U.S.A.",
          "U.S.A.",
          "U.S.A.",
          "U.S.A.",
          "U.S.A.",
          "U.S.A.",
          "U.K.",
          "U.K.",
          "U.S.A.",
          "U.S.A.",
          "U.S.A.",
          "U.S.A.",
          "U.S.A.",
          "Canada",
          "Canada",
          "Canada",
          "U.S.A.",
          "U.S.A.",
          "U.S.A.",
          "U.S.A.",
          "France",
          "France",
          "France",
          "France",
          "France",
          "U.S.A.",
          "U.S.A.",
          "U.S.A.",
          "U.S.A.",
          "U.S.A.",
          "U.S.A.",
          "U.S.A.",
          "U.S.A.",
          "U.S.A.",
          "Italy",
          "Italy",
          "Italy",
          "Italy",
          "Italy",
          "Italy",
          "Italy",
          "U.S.A.",
          "U.S.A.",
          "U.S.A.",
          "U.S.A.",
          "U.S.A.",
          "U.S.A.",
          "U.S.A.",
          "U.S.A.",
          "U.S.A.",
          "U.S.A.",
          "U.S.A.",
          "U.S.A.",
          "U.S.A.",
          "U.S.A.",
          "U.S.A.",
          "U.S.A.",
          "U.S.A.",
          "U.S.A.",
          "U.S.A.",
          "U.S.A.",
          "U.S.A.",
          "U.S.A.",
          "U.S.A.",
          "U.S.A.",
          "U.S.A.",
          "U.S.A.",
          "U.S.A.",
          "U.S.A.",
          "U.S.A.",
          "U.S.A.",
          "U.S.A.",
          "U.S.A.",
          "U.S.A.",
          "France",
          "Canada",
          "Canada",
          "Canada",
          "Canada",
          "France",
          "France",
          "U.S.A.",
          "U.S.A.",
          "U.S.A.",
          "U.S.A.",
          "U.S.A.",
          "U.S.A.",
          "France",
          "U.K.",
          "U.K.",
          "U.K.",
          "U.K.",
          "U.K.",
          "U.S.A.",
          "U.S.A.",
          "U.S.A.",
          "U.S.A.",
          "U.S.A.",
          "U.S.A.",
          "U.S.A.",
          "U.S.A.",
          "U.S.A.",
          "U.S.A.",
          "U.S.A.",
          "U.S.A.",
          "U.S.A.",
          "Canada",
          "U.S.A.",
          "U.S.A.",
          "U.S.A.",
          "Canada",
          "Canada",
          "U.S.A.",
          "U.S.A.",
          "U.S.A.",
          "U.S.A.",
          "U.S.A.",
          "Canada",
          "Canada",
          "Canada",
          "Canada",
          "Canada",
          "U.S.A.",
          "U.S.A.",
          "U.S.A.",
          "U.S.A.",
          "U.S.A.",
          "U.S.A.",
          "U.S.A.",
          "U.S.A.",
          "U.S.A.",
          "U.S.A.",
          "U.S.A.",
          "U.S.A.",
          "U.S.A.",
          "U.S.A.",
          "Canada",
          "U.S.A.",
          "U.S.A.",
          "U.S.A.",
          "U.S.A.",
          "U.S.A.",
          "Canada",
          "U.S.A.",
          "U.S.A.",
          "U.S.A.",
          "U.S.A.",
          "U.S.A.",
          "U.S.A.",
          "U.S.A.",
          "U.S.A.",
          "U.S.A.",
          "U.S.A.",
          "U.S.A.",
          "U.S.A.",
          "U.S.A.",
          "U.S.A.",
          "U.S.A.",
          "U.S.A.",
          "U.S.A.",
          "U.S.A.",
          "U.S.A.",
          "U.S.A.",
          "U.S.A.",
          "U.K.",
          "U.K.",
          "U.K.",
          "U.K.",
          "U.K.",
          "U.S.A.",
          "U.S.A.",
          "U.S.A.",
          "U.S.A.",
          "U.S.A.",
          "U.S.A.",
          "U.S.A.",
          "U.S.A.",
          "U.S.A.",
          "U.S.A.",
          "U.S.A.",
          "U.S.A.",
          "U.S.A.",
          "U.S.A.",
          "U.S.A.",
          "U.S.A.",
          "U.S.A.",
          "U.S.A.",
          "U.S.A.",
          "U.S.A.",
          "U.S.A.",
          "U.S.A.",
          "U.S.A.",
          "U.S.A.",
          "U.S.A.",
          "U.S.A.",
          "U.S.A.",
          "U.S.A.",
          "U.S.A.",
          "U.S.A.",
          "U.S.A.",
          "U.S.A.",
          "U.S.A.",
          "U.S.A.",
          "U.S.A.",
          "U.S.A.",
          "U.S.A.",
          "U.S.A.",
          "U.S.A.",
          "U.S.A.",
          "U.S.A.",
          "U.S.A.",
          "U.S.A.",
          "U.S.A.",
          "U.S.A.",
          "U.S.A.",
          "U.S.A.",
          "U.S.A.",
          "U.S.A.",
          "U.S.A.",
          "France",
          "France",
          "Canada",
          "Canada",
          "U.S.A.",
          "U.S.A.",
          "U.S.A.",
          "U.S.A.",
          "U.S.A.",
          "U.S.A.",
          "U.S.A.",
          "U.S.A.",
          "U.S.A.",
          "U.S.A.",
          "U.S.A.",
          "U.S.A.",
          "U.S.A.",
          "U.S.A.",
          "U.S.A.",
          "U.S.A.",
          "U.S.A.",
          "U.S.A.",
          "U.S.A.",
          "U.S.A.",
          "U.S.A.",
          "U.S.A.",
          "U.K.",
          "U.K.",
          "U.K.",
          "U.K.",
          "U.S.A.",
          "Italy",
          "Italy",
          "Italy",
          "Italy",
          "Italy",
          "Italy",
          "Italy",
          "Italy",
          "Italy",
          "Italy",
          "Italy",
          "Italy",
          "Italy",
          "Italy",
          "Italy",
          "Italy",
          "Italy",
          "Italy",
          "Italy",
          "Italy",
          "Italy",
          "Italy",
          "Italy",
          "U.K.",
          "U.K.",
          "U.K.",
          "U.K.",
          "U.K.",
          "U.K.",
          "U.K.",
          "U.K.",
          "U.S.A.",
          "U.S.A.",
          "U.S.A.",
          "U.K.",
          "U.K.",
          "U.K.",
          "U.K.",
          "U.K.",
          "U.K.",
          "U.K.",
          "U.K.",
          "U.K.",
          "U.K.",
          "U.K.",
          "U.K.",
          "U.K.",
          "U.K.",
          "U.K.",
          "U.K.",
          "U.K.",
          "U.S.A.",
          "France",
          "U.S.A.",
          "U.S.A.",
          "U.S.A.",
          "U.S.A.",
          "U.S.A.",
          "U.S.A.",
          "Canada",
          "Canada",
          "Canada",
          "Canada",
          "Canada",
          "U.S.A.",
          "U.S.A.",
          "U.S.A.",
          "U.S.A.",
          "U.S.A.",
          "France",
          "France",
          "France",
          "France",
          "U.S.A.",
          "U.S.A.",
          "U.S.A.",
          "U.S.A.",
          "U.S.A.",
          "France",
          "France",
          "France",
          "U.S.A.",
          "U.S.A.",
          "U.S.A.",
          "U.S.A.",
          "U.S.A.",
          "U.S.A.",
          "U.S.A.",
          "U.S.A.",
          "U.S.A.",
          "U.S.A.",
          "U.S.A.",
          "U.S.A.",
          "U.S.A.",
          "U.S.A.",
          "U.S.A.",
          "U.S.A.",
          "U.S.A.",
          "U.S.A.",
          "U.S.A.",
          "U.S.A.",
          "U.S.A.",
          "U.S.A.",
          "U.S.A.",
          "Canada",
          "Canada",
          "Canada",
          "Canada",
          "U.K.",
          "U.K.",
          "U.K.",
          "U.K.",
          "U.S.A.",
          "U.S.A.",
          "U.S.A.",
          "U.S.A.",
          "U.K.",
          "U.S.A.",
          "U.S.A.",
          "U.S.A.",
          "U.S.A.",
          "U.S.A.",
          "U.S.A.",
          "U.S.A.",
          "U.S.A.",
          "U.S.A.",
          "U.S.A.",
          "U.S.A.",
          "U.S.A.",
          "U.S.A.",
          "U.S.A.",
          "U.S.A.",
          "U.S.A.",
          "U.S.A.",
          "U.S.A.",
          "U.S.A.",
          "U.S.A.",
          "U.S.A.",
          "U.S.A.",
          "U.S.A.",
          "U.S.A.",
          "U.S.A.",
          "U.S.A.",
          "U.S.A.",
          "U.S.A.",
          "U.S.A.",
          "U.S.A.",
          "U.S.A.",
          "U.S.A.",
          "U.S.A.",
          "U.S.A.",
          "U.S.A.",
          "U.S.A.",
          "U.S.A.",
          "U.S.A.",
          "U.S.A.",
          "U.S.A.",
          "U.S.A.",
          "U.S.A.",
          "U.S.A.",
          "U.S.A.",
          "U.S.A.",
          "U.S.A.",
          "U.S.A.",
          "U.S.A.",
          "U.S.A.",
          "U.S.A.",
          "U.S.A.",
          "U.S.A.",
          "U.S.A.",
          "U.S.A.",
          "U.S.A.",
          "U.S.A.",
          "U.S.A.",
          "U.S.A.",
          "U.S.A.",
          "U.S.A.",
          "U.S.A.",
          "U.S.A.",
          "U.S.A.",
          "U.S.A.",
          "U.S.A.",
          "U.S.A.",
          "U.S.A.",
          "U.S.A.",
          "U.S.A.",
          "U.S.A.",
          "U.S.A.",
          "U.S.A.",
          "U.S.A.",
          "U.S.A.",
          "U.S.A.",
          "U.S.A.",
          "U.S.A.",
          "U.S.A.",
          "U.S.A.",
          "U.S.A.",
          "U.S.A.",
          "U.S.A.",
          "U.S.A.",
          "U.S.A.",
          "U.S.A.",
          "U.S.A.",
          "U.S.A.",
          "U.K.",
          "U.K.",
          "Italy",
          "Italy",
          "Italy",
          "Italy",
          "Italy",
          "Italy",
          "U.S.A.",
          "U.S.A.",
          "U.S.A.",
          "U.S.A.",
          "U.S.A.",
          "U.S.A.",
          "U.S.A.",
          "U.S.A.",
          "U.S.A.",
          "U.S.A.",
          "U.S.A.",
          "U.S.A.",
          "U.S.A.",
          "U.S.A.",
          "U.S.A.",
          "U.S.A.",
          "U.S.A.",
          "U.S.A.",
          "U.S.A.",
          "U.S.A.",
          "U.S.A.",
          "U.S.A.",
          "Canada",
          "Canada",
          "Canada",
          "Canada",
          "Canada",
          "Canada",
          "Canada",
          "Canada",
          "Canada",
          "U.S.A.",
          "U.S.A.",
          "U.S.A.",
          "U.S.A.",
          "U.S.A.",
          "U.K.",
          "U.K.",
          "U.S.A.",
          "U.S.A.",
          "U.S.A.",
          "U.S.A.",
          "U.S.A.",
          "U.S.A.",
          "U.S.A.",
          "U.S.A.",
          "U.S.A.",
          "U.S.A.",
          "U.S.A.",
          "U.S.A.",
          "U.S.A.",
          "U.S.A.",
          "U.S.A.",
          "U.S.A.",
          "U.S.A.",
          "U.S.A.",
          "U.S.A.",
          "U.S.A.",
          "U.S.A.",
          "U.S.A.",
          "U.S.A.",
          "U.S.A.",
          "U.S.A.",
          "U.S.A.",
          "U.S.A.",
          "U.S.A.",
          "U.K.",
          "U.K.",
          "U.K.",
          "U.K.",
          "U.K.",
          "U.K.",
          "U.K.",
          "U.K.",
          "U.K.",
          "U.K.",
          "U.K.",
          "U.K.",
          "U.K.",
          "U.K.",
          "U.K.",
          "U.K.",
          "U.K.",
          "U.K.",
          "U.K.",
          "U.K.",
          "U.K.",
          "U.K.",
          "U.K.",
          "U.K.",
          "U.K.",
          "Canada",
          "Canada",
          "Canada",
          "Canada",
          "Canada",
          "Canada",
          "Canada",
          "Canada",
          "U.S.A.",
          "U.S.A.",
          "U.S.A.",
          "U.S.A.",
          "U.S.A.",
          "U.S.A.",
          "U.S.A.",
          "U.S.A.",
          "U.S.A.",
          "U.S.A.",
          "U.S.A.",
          "U.S.A.",
          "U.S.A.",
          "U.S.A.",
          "U.S.A.",
          "U.S.A.",
          "U.S.A.",
          "U.S.A.",
          "U.S.A.",
          "U.S.A.",
          "U.S.A.",
          "U.S.A.",
          "U.S.A.",
          "U.S.A.",
          "U.S.A.",
          "France",
          "France",
          "Canada",
          "Canada",
          "U.S.A.",
          "Canada",
          "U.S.A.",
          "U.S.A.",
          "U.S.A.",
          "U.S.A.",
          "U.S.A.",
          "U.S.A.",
          "U.S.A.",
          "U.S.A.",
          "U.S.A.",
          "U.S.A.",
          "U.S.A.",
          "U.S.A.",
          "U.S.A.",
          "U.S.A.",
          "U.S.A.",
          "U.S.A.",
          "U.S.A.",
          "U.S.A.",
          "U.S.A.",
          "U.S.A.",
          "U.S.A.",
          "U.S.A.",
          "U.S.A.",
          "U.S.A.",
          "U.S.A.",
          "U.S.A.",
          "U.S.A.",
          "U.S.A.",
          "U.S.A.",
          "U.S.A.",
          "France",
          "France",
          "France",
          "France",
          "France",
          "France",
          "France",
          "France",
          "France",
          "France",
          "France",
          "France",
          "France",
          "France",
          "France",
          "France",
          "France",
          "France",
          "France",
          "France",
          "France",
          "France",
          "France",
          "U.S.A.",
          "U.S.A.",
          "U.S.A.",
          "U.S.A.",
          "U.S.A.",
          "U.K.",
          "U.K.",
          "U.K.",
          "U.S.A.",
          "U.S.A.",
          "U.S.A.",
          "U.S.A.",
          "U.S.A.",
          "U.S.A.",
          "U.S.A.",
          "U.S.A.",
          "U.S.A.",
          "U.S.A.",
          "U.S.A.",
          "U.S.A.",
          "U.S.A.",
          "U.S.A.",
          "U.S.A.",
          "U.S.A.",
          "U.S.A.",
          "U.S.A.",
          "U.S.A.",
          "U.S.A.",
          "U.S.A.",
          "U.S.A.",
          "U.S.A.",
          "U.S.A.",
          "U.S.A.",
          "U.S.A.",
          "U.S.A.",
          "U.S.A.",
          "U.S.A.",
          "U.S.A.",
          "U.S.A.",
          "U.S.A.",
          "U.S.A.",
          "U.S.A.",
          "U.K.",
          "U.S.A.",
          "U.S.A.",
          "U.S.A.",
          "U.S.A.",
          "U.S.A.",
          "U.S.A.",
          "U.S.A.",
          "U.S.A.",
          "U.S.A.",
          "U.S.A.",
          "U.S.A.",
          "U.S.A.",
          "U.S.A.",
          "U.S.A.",
          "U.S.A.",
          "U.S.A.",
          "U.S.A.",
          "U.S.A.",
          "U.S.A.",
          "Italy",
          "Italy",
          "Italy",
          "Italy",
          "Italy",
          "U.S.A.",
          "U.S.A.",
          "U.S.A.",
          "U.S.A.",
          "U.S.A.",
          "U.S.A.",
          "U.S.A.",
          "U.S.A.",
          "U.S.A.",
          "U.S.A.",
          "U.S.A.",
          "U.S.A.",
          "U.S.A.",
          "U.S.A.",
          "U.S.A.",
          "U.S.A.",
          "U.S.A.",
          "U.S.A.",
          "U.S.A.",
          "U.S.A.",
          "U.S.A.",
          "U.S.A.",
          "U.S.A.",
          "U.S.A.",
          "U.S.A.",
          "U.S.A.",
          "U.S.A.",
          "U.S.A.",
          "U.S.A.",
          "U.S.A.",
          "U.S.A.",
          "U.S.A.",
          "Canada",
          "U.S.A.",
          "U.S.A.",
          "U.S.A.",
          "U.S.A.",
          "U.S.A.",
          "U.S.A.",
          "U.S.A.",
          "U.S.A.",
          "U.S.A.",
          "U.S.A.",
          "U.S.A.",
          "U.S.A.",
          "U.S.A.",
          "U.S.A.",
          "U.S.A.",
          "U.S.A.",
          "U.S.A.",
          "U.S.A.",
          "U.S.A.",
          "U.S.A.",
          "U.S.A.",
          "U.S.A.",
          "U.S.A.",
          "U.S.A.",
          "U.S.A.",
          "U.S.A.",
          "U.S.A.",
          "U.S.A.",
          "U.S.A.",
          "U.S.A.",
          "U.S.A.",
          "U.S.A.",
          "U.S.A.",
          "U.S.A.",
          "Canada",
          "Canada",
          "U.S.A.",
          "U.S.A.",
          "U.S.A.",
          "U.S.A.",
          "U.S.A.",
          "France",
          "France",
          "France",
          "France",
          "France",
          "France",
          "France",
          "France",
          "France",
          "France",
          "France",
          "France",
          "France",
          "U.S.A.",
          "U.S.A.",
          "U.S.A.",
          "U.S.A.",
          "U.S.A.",
          "U.S.A.",
          "U.S.A.",
          "U.S.A.",
          "U.S.A.",
          "U.S.A.",
          "U.S.A.",
          "U.S.A.",
          "U.S.A.",
          "U.S.A.",
          "U.S.A.",
          "U.S.A.",
          "U.S.A.",
          "U.S.A.",
          "U.S.A.",
          "U.S.A.",
          "U.S.A.",
          "U.S.A.",
          "U.S.A.",
          "U.S.A.",
          "U.S.A.",
          "U.S.A.",
          "U.S.A.",
          "U.S.A.",
          "Canada",
          "Canada",
          "U.S.A.",
          "U.S.A.",
          "U.S.A.",
          "U.S.A.",
          "U.S.A.",
          "U.S.A.",
          "U.S.A.",
          "U.S.A.",
          "U.S.A.",
          "U.S.A.",
          "U.S.A.",
          "U.S.A.",
          "U.S.A.",
          "U.S.A.",
          "U.S.A.",
          "U.S.A.",
          "U.S.A.",
          "U.S.A.",
          "U.S.A.",
          "U.S.A.",
          "U.S.A.",
          "U.S.A.",
          "U.S.A.",
          "U.S.A.",
          "U.S.A.",
          "U.S.A.",
          "U.S.A.",
          "U.S.A.",
          "U.S.A.",
          "U.S.A.",
          "U.S.A.",
          "U.S.A.",
          "U.S.A.",
          "U.S.A.",
          "U.S.A.",
          "U.S.A.",
          "U.S.A.",
          "U.S.A.",
          "U.S.A.",
          "U.S.A.",
          "U.S.A.",
          "U.S.A.",
          "U.S.A.",
          "U.S.A.",
          "U.S.A.",
          "U.S.A.",
          "U.S.A.",
          "U.S.A.",
          "U.S.A.",
          "U.S.A.",
          "U.S.A.",
          "U.S.A.",
          "U.S.A.",
          "U.S.A.",
          "U.S.A.",
          "U.S.A.",
          "U.S.A.",
          "U.S.A.",
          "Canada",
          "Canada",
          "Canada",
          "Canada",
          "U.S.A.",
          "U.S.A.",
          "U.S.A.",
          "Canada",
          "Canada",
          "Canada",
          "Canada",
          "Canada",
          "U.S.A.",
          "U.S.A.",
          "Canada",
          "Canada",
          "Canada",
          "Canada",
          "Canada",
          "Canada",
          "Canada",
          "Canada",
          "Canada",
          "Canada",
          "Canada",
          "Canada",
          "Canada",
          "Canada",
          "Canada",
          "U.S.A.",
          "U.S.A.",
          "U.S.A.",
          "U.S.A.",
          "U.S.A.",
          "U.S.A.",
          "U.S.A.",
          "U.S.A.",
          "U.S.A.",
          "U.S.A.",
          "U.S.A.",
          "U.S.A.",
          "U.S.A.",
          "U.S.A.",
          "U.K.",
          "U.K.",
          "U.S.A.",
          "U.S.A.",
          "Canada",
          "U.S.A.",
          "U.S.A.",
          "U.S.A.",
          "U.S.A.",
          "U.S.A.",
          "U.S.A.",
          "U.S.A.",
          "U.S.A.",
          "U.S.A.",
          "U.S.A.",
          "U.S.A.",
          "U.S.A.",
          "U.S.A.",
          "U.S.A.",
          "U.S.A.",
          "U.S.A.",
          "U.S.A.",
          "U.S.A.",
          "U.S.A.",
          "U.S.A.",
          "U.S.A.",
          "U.S.A.",
          "U.S.A.",
          "U.S.A.",
          "U.S.A.",
          "U.S.A.",
          "U.S.A.",
          "U.S.A.",
          "U.S.A.",
          "U.S.A.",
          "U.S.A.",
          "France",
          "France",
          "France",
          "France",
          "France",
          "France",
          "France",
          "France",
          "France",
          "France",
          "France",
          "France",
          "France",
          "France",
          "France",
          "France",
          "France",
          "France",
          "France",
          "France",
          "France",
          "France",
          "France",
          "France",
          "France",
          "U.S.A.",
          "U.S.A.",
          "U.K.",
          "U.K.",
          "U.K.",
          "U.K.",
          "U.K.",
          "U.K.",
          "U.K.",
          "U.K.",
          "U.K.",
          "U.K.",
          "Italy",
          "Italy",
          "Italy",
          "Italy",
          "Italy",
          "Italy",
          "Canada",
          "Canada",
          "Canada",
          "Canada",
          "Canada",
          "U.S.A.",
          "U.S.A.",
          "U.S.A.",
          "U.S.A.",
          "U.S.A.",
          "U.S.A.",
          "U.S.A.",
          "U.S.A.",
          "U.S.A.",
          "U.S.A.",
          "France",
          "U.S.A.",
          "U.S.A.",
          "U.S.A.",
          "U.S.A.",
          "U.S.A.",
          "U.S.A.",
          "U.S.A.",
          "U.S.A.",
          "U.S.A.",
          "U.S.A.",
          "U.S.A.",
          "U.S.A.",
          "U.S.A.",
          "U.S.A.",
          "U.S.A.",
          "U.S.A.",
          "U.S.A.",
          "U.S.A.",
          "U.S.A.",
          "U.S.A.",
          "U.S.A.",
          "U.S.A.",
          "U.K.",
          "U.S.A.",
          "U.S.A.",
          "U.S.A.",
          "U.S.A.",
          "U.S.A.",
          "U.S.A.",
          "U.S.A.",
          "U.S.A.",
          "U.S.A.",
          "U.S.A.",
          "U.S.A.",
          "U.S.A.",
          "U.S.A.",
          "U.S.A.",
          "U.S.A.",
          "U.S.A.",
          "Italy",
          "Italy",
          "Italy",
          "Italy",
          "Italy",
          "Italy",
          "Italy",
          "Italy",
          "Italy",
          "Italy",
          "U.S.A.",
          "U.S.A.",
          "France",
          "U.S.A.",
          "U.S.A.",
          "U.S.A.",
          "U.S.A.",
          "U.S.A.",
          "U.S.A.",
          "U.S.A.",
          "U.S.A.",
          "U.S.A.",
          "U.S.A.",
          "U.S.A.",
          "U.S.A.",
          "U.S.A.",
          "U.S.A.",
          "U.S.A.",
          "U.S.A.",
          "U.S.A.",
          "U.K.",
          "U.K.",
          "U.S.A.",
          "U.S.A.",
          "U.S.A.",
          "U.S.A.",
          "U.S.A.",
          "U.S.A.",
          "U.S.A.",
          "U.S.A.",
          "U.S.A.",
          "U.S.A.",
          "U.S.A.",
          "U.S.A.",
          "U.S.A.",
          "U.S.A.",
          "U.S.A.",
          "U.S.A.",
          "U.S.A.",
          "U.S.A.",
          "U.S.A.",
          "U.S.A.",
          "U.S.A.",
          "Italy",
          "Italy",
          "Italy",
          "Italy",
          "Canada",
          "Canada",
          "Canada",
          "Canada",
          "Canada",
          "Canada",
          "Canada",
          "Canada",
          "Canada",
          "Canada",
          "Canada",
          "Canada",
          "Canada",
          "Canada",
          "U.S.A.",
          "U.S.A.",
          "U.S.A.",
          "U.S.A.",
          "U.S.A.",
          "U.S.A.",
          "U.S.A.",
          "U.K.",
          "U.K.",
          "U.K.",
          "U.S.A.",
          "U.S.A.",
          "U.S.A.",
          "U.S.A.",
          "U.S.A.",
          "U.S.A.",
          "U.S.A.",
          "U.S.A.",
          "U.S.A.",
          "Canada",
          "Canada",
          "Canada",
          "Canada",
          "Canada",
          "Canada",
          "Canada",
          "Canada",
          "Canada",
          "Canada",
          "Canada",
          "Canada",
          "Canada",
          "Canada",
          "Canada",
          "Canada",
          "Canada",
          "Canada",
          "Canada",
          "Canada",
          "Canada",
          "Canada",
          "Canada",
          "Canada",
          "Canada",
          "Canada",
          "Canada",
          "Canada",
          "Canada",
          "Canada",
          "Canada",
          "Canada",
          "Canada",
          "Canada",
          "Canada",
          "Canada",
          "Canada",
          "Canada",
          "Canada",
          "Canada",
          "Canada",
          "Canada",
          "Canada",
          "Canada",
          "Canada",
          "Canada",
          "Canada",
          "Canada",
          "Canada",
          "Canada",
          "Canada",
          "Canada",
          "Canada",
          "Canada",
          "Canada",
          "Canada",
          "U.S.A.",
          "U.S.A.",
          "Canada",
          "Canada",
          "Canada",
          "Canada",
          "Canada",
          "Canada",
          "U.S.A.",
          "U.S.A.",
          "U.S.A.",
          "U.S.A.",
          "U.S.A.",
          "U.S.A.",
          "U.S.A.",
          "U.S.A.",
          "U.S.A.",
          "U.S.A.",
          "U.S.A.",
          "U.S.A.",
          "U.S.A.",
          "U.S.A.",
          "U.S.A.",
          "U.S.A.",
          "U.S.A.",
          "U.S.A.",
          "U.S.A.",
          "U.S.A.",
          "U.S.A.",
          "U.S.A.",
          "U.S.A.",
          "U.S.A.",
          "U.S.A.",
          "U.S.A.",
          "U.S.A.",
          "U.S.A.",
          "Canada",
          "Canada",
          "Canada",
          "U.S.A.",
          "U.S.A.",
          "U.S.A.",
          "U.S.A.",
          "U.S.A.",
          "U.S.A.",
          "U.S.A.",
          "U.S.A.",
          "U.S.A.",
          "U.S.A.",
          "U.S.A.",
          "U.S.A.",
          "U.S.A.",
          "U.S.A.",
          "U.S.A.",
          "U.S.A.",
          "U.S.A.",
          "U.S.A.",
          "U.S.A.",
          "U.S.A.",
          "U.S.A.",
          "U.S.A.",
          "U.S.A.",
          "U.S.A.",
          "U.S.A.",
          "U.S.A.",
          "U.S.A.",
          "U.S.A.",
          "U.S.A.",
          "U.S.A.",
          "U.S.A.",
          "U.S.A.",
          "U.S.A.",
          "U.S.A.",
          "U.S.A.",
          "U.S.A.",
          "U.S.A.",
          "U.S.A.",
          "U.S.A.",
          "U.S.A.",
          "U.S.A.",
          "U.S.A.",
          "U.S.A.",
          "U.S.A.",
          "U.S.A.",
          "U.S.A.",
          "U.S.A.",
          "U.S.A.",
          "U.S.A.",
          "U.S.A.",
          "U.S.A.",
          "U.S.A.",
          "U.S.A.",
          "U.S.A.",
          "U.S.A.",
          "France",
          "U.S.A.",
          "U.S.A.",
          "U.S.A.",
          "U.K.",
          "U.K.",
          "U.K.",
          "U.K.",
          "U.S.A.",
          "U.S.A.",
          "U.S.A.",
          "U.S.A.",
          "U.S.A.",
          "U.S.A.",
          "U.S.A.",
          "Canada",
          "Canada",
          "Canada",
          "U.S.A.",
          "U.S.A.",
          "U.S.A.",
          "U.S.A.",
          "U.S.A.",
          "U.S.A.",
          "U.S.A.",
          "U.S.A.",
          "France",
          "Canada",
          "Canada",
          "Canada",
          "U.S.A.",
          "U.S.A.",
          "U.S.A.",
          "U.S.A.",
          "Italy",
          "Canada",
          "France",
          "France",
          "France",
          "France",
          "France",
          "France",
          "France",
          "France",
          "France",
          "France",
          "France",
          "France",
          "France",
          "France",
          "France",
          "France",
          "France",
          "France",
          "France",
          "France",
          "France",
          "France",
          "U.S.A.",
          "U.S.A.",
          "U.S.A.",
          "U.S.A.",
          "U.S.A.",
          "U.S.A.",
          "U.S.A.",
          "U.S.A.",
          "U.S.A.",
          "U.S.A.",
          "U.S.A.",
          "U.S.A.",
          "U.S.A.",
          "U.S.A.",
          "U.S.A.",
          "U.S.A.",
          "France",
          "U.S.A.",
          "U.S.A.",
          "U.S.A.",
          "U.S.A.",
          "U.S.A.",
          "U.S.A.",
          "U.S.A.",
          "U.S.A.",
          "U.S.A.",
          "U.S.A.",
          "U.S.A.",
          "U.S.A.",
          "U.S.A.",
          "U.S.A.",
          "U.S.A.",
          "U.S.A.",
          "U.S.A.",
          "U.S.A.",
          "U.S.A.",
          "U.S.A.",
          "U.S.A.",
          "U.K.",
          "U.K.",
          "U.K.",
          "U.K.",
          "U.K.",
          "U.K.",
          "U.K.",
          "U.K.",
          "U.S.A.",
          "U.S.A.",
          "U.S.A.",
          "U.S.A.",
          "U.S.A.",
          "U.S.A.",
          "U.S.A.",
          "U.S.A.",
          "U.S.A.",
          "U.S.A.",
          "U.S.A.",
          "U.S.A.",
          "U.S.A.",
          "U.S.A.",
          "U.S.A.",
          "U.S.A.",
          "U.S.A.",
          "U.S.A.",
          "U.S.A.",
          "U.S.A.",
          "U.S.A.",
          "U.S.A.",
          "U.S.A.",
          "U.S.A.",
          "U.S.A.",
          "U.S.A.",
          "U.S.A.",
          "U.S.A.",
          "U.S.A.",
          "U.S.A."
         ],
         "xaxis": "x",
         "yaxis": "y"
        }
       ],
       "layout": {
        "autosize": false,
        "barmode": "relative",
        "font": {
         "color": "#6f1c0e"
        },
        "height": 400,
        "legend": {
         "tracegroupgap": 0
        },
        "plot_bgcolor": "#fff7ef",
        "template": {
         "data": {
          "bar": [
           {
            "error_x": {
             "color": "#2a3f5f"
            },
            "error_y": {
             "color": "#2a3f5f"
            },
            "marker": {
             "line": {
              "color": "#E5ECF6",
              "width": 0.5
             },
             "pattern": {
              "fillmode": "overlay",
              "size": 10,
              "solidity": 0.2
             }
            },
            "type": "bar"
           }
          ],
          "barpolar": [
           {
            "marker": {
             "line": {
              "color": "#E5ECF6",
              "width": 0.5
             },
             "pattern": {
              "fillmode": "overlay",
              "size": 10,
              "solidity": 0.2
             }
            },
            "type": "barpolar"
           }
          ],
          "carpet": [
           {
            "aaxis": {
             "endlinecolor": "#2a3f5f",
             "gridcolor": "white",
             "linecolor": "white",
             "minorgridcolor": "white",
             "startlinecolor": "#2a3f5f"
            },
            "baxis": {
             "endlinecolor": "#2a3f5f",
             "gridcolor": "white",
             "linecolor": "white",
             "minorgridcolor": "white",
             "startlinecolor": "#2a3f5f"
            },
            "type": "carpet"
           }
          ],
          "choropleth": [
           {
            "colorbar": {
             "outlinewidth": 0,
             "ticks": ""
            },
            "type": "choropleth"
           }
          ],
          "contour": [
           {
            "colorbar": {
             "outlinewidth": 0,
             "ticks": ""
            },
            "colorscale": [
             [
              0,
              "#0d0887"
             ],
             [
              0.1111111111111111,
              "#46039f"
             ],
             [
              0.2222222222222222,
              "#7201a8"
             ],
             [
              0.3333333333333333,
              "#9c179e"
             ],
             [
              0.4444444444444444,
              "#bd3786"
             ],
             [
              0.5555555555555556,
              "#d8576b"
             ],
             [
              0.6666666666666666,
              "#ed7953"
             ],
             [
              0.7777777777777778,
              "#fb9f3a"
             ],
             [
              0.8888888888888888,
              "#fdca26"
             ],
             [
              1,
              "#f0f921"
             ]
            ],
            "type": "contour"
           }
          ],
          "contourcarpet": [
           {
            "colorbar": {
             "outlinewidth": 0,
             "ticks": ""
            },
            "type": "contourcarpet"
           }
          ],
          "heatmap": [
           {
            "colorbar": {
             "outlinewidth": 0,
             "ticks": ""
            },
            "colorscale": [
             [
              0,
              "#0d0887"
             ],
             [
              0.1111111111111111,
              "#46039f"
             ],
             [
              0.2222222222222222,
              "#7201a8"
             ],
             [
              0.3333333333333333,
              "#9c179e"
             ],
             [
              0.4444444444444444,
              "#bd3786"
             ],
             [
              0.5555555555555556,
              "#d8576b"
             ],
             [
              0.6666666666666666,
              "#ed7953"
             ],
             [
              0.7777777777777778,
              "#fb9f3a"
             ],
             [
              0.8888888888888888,
              "#fdca26"
             ],
             [
              1,
              "#f0f921"
             ]
            ],
            "type": "heatmap"
           }
          ],
          "heatmapgl": [
           {
            "colorbar": {
             "outlinewidth": 0,
             "ticks": ""
            },
            "colorscale": [
             [
              0,
              "#0d0887"
             ],
             [
              0.1111111111111111,
              "#46039f"
             ],
             [
              0.2222222222222222,
              "#7201a8"
             ],
             [
              0.3333333333333333,
              "#9c179e"
             ],
             [
              0.4444444444444444,
              "#bd3786"
             ],
             [
              0.5555555555555556,
              "#d8576b"
             ],
             [
              0.6666666666666666,
              "#ed7953"
             ],
             [
              0.7777777777777778,
              "#fb9f3a"
             ],
             [
              0.8888888888888888,
              "#fdca26"
             ],
             [
              1,
              "#f0f921"
             ]
            ],
            "type": "heatmapgl"
           }
          ],
          "histogram": [
           {
            "marker": {
             "pattern": {
              "fillmode": "overlay",
              "size": 10,
              "solidity": 0.2
             }
            },
            "type": "histogram"
           }
          ],
          "histogram2d": [
           {
            "colorbar": {
             "outlinewidth": 0,
             "ticks": ""
            },
            "colorscale": [
             [
              0,
              "#0d0887"
             ],
             [
              0.1111111111111111,
              "#46039f"
             ],
             [
              0.2222222222222222,
              "#7201a8"
             ],
             [
              0.3333333333333333,
              "#9c179e"
             ],
             [
              0.4444444444444444,
              "#bd3786"
             ],
             [
              0.5555555555555556,
              "#d8576b"
             ],
             [
              0.6666666666666666,
              "#ed7953"
             ],
             [
              0.7777777777777778,
              "#fb9f3a"
             ],
             [
              0.8888888888888888,
              "#fdca26"
             ],
             [
              1,
              "#f0f921"
             ]
            ],
            "type": "histogram2d"
           }
          ],
          "histogram2dcontour": [
           {
            "colorbar": {
             "outlinewidth": 0,
             "ticks": ""
            },
            "colorscale": [
             [
              0,
              "#0d0887"
             ],
             [
              0.1111111111111111,
              "#46039f"
             ],
             [
              0.2222222222222222,
              "#7201a8"
             ],
             [
              0.3333333333333333,
              "#9c179e"
             ],
             [
              0.4444444444444444,
              "#bd3786"
             ],
             [
              0.5555555555555556,
              "#d8576b"
             ],
             [
              0.6666666666666666,
              "#ed7953"
             ],
             [
              0.7777777777777778,
              "#fb9f3a"
             ],
             [
              0.8888888888888888,
              "#fdca26"
             ],
             [
              1,
              "#f0f921"
             ]
            ],
            "type": "histogram2dcontour"
           }
          ],
          "mesh3d": [
           {
            "colorbar": {
             "outlinewidth": 0,
             "ticks": ""
            },
            "type": "mesh3d"
           }
          ],
          "parcoords": [
           {
            "line": {
             "colorbar": {
              "outlinewidth": 0,
              "ticks": ""
             }
            },
            "type": "parcoords"
           }
          ],
          "pie": [
           {
            "automargin": true,
            "type": "pie"
           }
          ],
          "scatter": [
           {
            "marker": {
             "colorbar": {
              "outlinewidth": 0,
              "ticks": ""
             }
            },
            "type": "scatter"
           }
          ],
          "scatter3d": [
           {
            "line": {
             "colorbar": {
              "outlinewidth": 0,
              "ticks": ""
             }
            },
            "marker": {
             "colorbar": {
              "outlinewidth": 0,
              "ticks": ""
             }
            },
            "type": "scatter3d"
           }
          ],
          "scattercarpet": [
           {
            "marker": {
             "colorbar": {
              "outlinewidth": 0,
              "ticks": ""
             }
            },
            "type": "scattercarpet"
           }
          ],
          "scattergeo": [
           {
            "marker": {
             "colorbar": {
              "outlinewidth": 0,
              "ticks": ""
             }
            },
            "type": "scattergeo"
           }
          ],
          "scattergl": [
           {
            "marker": {
             "colorbar": {
              "outlinewidth": 0,
              "ticks": ""
             }
            },
            "type": "scattergl"
           }
          ],
          "scattermapbox": [
           {
            "marker": {
             "colorbar": {
              "outlinewidth": 0,
              "ticks": ""
             }
            },
            "type": "scattermapbox"
           }
          ],
          "scatterpolar": [
           {
            "marker": {
             "colorbar": {
              "outlinewidth": 0,
              "ticks": ""
             }
            },
            "type": "scatterpolar"
           }
          ],
          "scatterpolargl": [
           {
            "marker": {
             "colorbar": {
              "outlinewidth": 0,
              "ticks": ""
             }
            },
            "type": "scatterpolargl"
           }
          ],
          "scatterternary": [
           {
            "marker": {
             "colorbar": {
              "outlinewidth": 0,
              "ticks": ""
             }
            },
            "type": "scatterternary"
           }
          ],
          "surface": [
           {
            "colorbar": {
             "outlinewidth": 0,
             "ticks": ""
            },
            "colorscale": [
             [
              0,
              "#0d0887"
             ],
             [
              0.1111111111111111,
              "#46039f"
             ],
             [
              0.2222222222222222,
              "#7201a8"
             ],
             [
              0.3333333333333333,
              "#9c179e"
             ],
             [
              0.4444444444444444,
              "#bd3786"
             ],
             [
              0.5555555555555556,
              "#d8576b"
             ],
             [
              0.6666666666666666,
              "#ed7953"
             ],
             [
              0.7777777777777778,
              "#fb9f3a"
             ],
             [
              0.8888888888888888,
              "#fdca26"
             ],
             [
              1,
              "#f0f921"
             ]
            ],
            "type": "surface"
           }
          ],
          "table": [
           {
            "cells": {
             "fill": {
              "color": "#EBF0F8"
             },
             "line": {
              "color": "white"
             }
            },
            "header": {
             "fill": {
              "color": "#C8D4E3"
             },
             "line": {
              "color": "white"
             }
            },
            "type": "table"
           }
          ]
         },
         "layout": {
          "annotationdefaults": {
           "arrowcolor": "#2a3f5f",
           "arrowhead": 0,
           "arrowwidth": 1
          },
          "autotypenumbers": "strict",
          "coloraxis": {
           "colorbar": {
            "outlinewidth": 0,
            "ticks": ""
           }
          },
          "colorscale": {
           "diverging": [
            [
             0,
             "#8e0152"
            ],
            [
             0.1,
             "#c51b7d"
            ],
            [
             0.2,
             "#de77ae"
            ],
            [
             0.3,
             "#f1b6da"
            ],
            [
             0.4,
             "#fde0ef"
            ],
            [
             0.5,
             "#f7f7f7"
            ],
            [
             0.6,
             "#e6f5d0"
            ],
            [
             0.7,
             "#b8e186"
            ],
            [
             0.8,
             "#7fbc41"
            ],
            [
             0.9,
             "#4d9221"
            ],
            [
             1,
             "#276419"
            ]
           ],
           "sequential": [
            [
             0,
             "#0d0887"
            ],
            [
             0.1111111111111111,
             "#46039f"
            ],
            [
             0.2222222222222222,
             "#7201a8"
            ],
            [
             0.3333333333333333,
             "#9c179e"
            ],
            [
             0.4444444444444444,
             "#bd3786"
            ],
            [
             0.5555555555555556,
             "#d8576b"
            ],
            [
             0.6666666666666666,
             "#ed7953"
            ],
            [
             0.7777777777777778,
             "#fb9f3a"
            ],
            [
             0.8888888888888888,
             "#fdca26"
            ],
            [
             1,
             "#f0f921"
            ]
           ],
           "sequentialminus": [
            [
             0,
             "#0d0887"
            ],
            [
             0.1111111111111111,
             "#46039f"
            ],
            [
             0.2222222222222222,
             "#7201a8"
            ],
            [
             0.3333333333333333,
             "#9c179e"
            ],
            [
             0.4444444444444444,
             "#bd3786"
            ],
            [
             0.5555555555555556,
             "#d8576b"
            ],
            [
             0.6666666666666666,
             "#ed7953"
            ],
            [
             0.7777777777777778,
             "#fb9f3a"
            ],
            [
             0.8888888888888888,
             "#fdca26"
            ],
            [
             1,
             "#f0f921"
            ]
           ]
          },
          "colorway": [
           "#636efa",
           "#EF553B",
           "#00cc96",
           "#ab63fa",
           "#FFA15A",
           "#19d3f3",
           "#FF6692",
           "#B6E880",
           "#FF97FF",
           "#FECB52"
          ],
          "font": {
           "color": "#2a3f5f"
          },
          "geo": {
           "bgcolor": "white",
           "lakecolor": "white",
           "landcolor": "#E5ECF6",
           "showlakes": true,
           "showland": true,
           "subunitcolor": "white"
          },
          "hoverlabel": {
           "align": "left"
          },
          "hovermode": "closest",
          "mapbox": {
           "style": "light"
          },
          "paper_bgcolor": "white",
          "plot_bgcolor": "#E5ECF6",
          "polar": {
           "angularaxis": {
            "gridcolor": "white",
            "linecolor": "white",
            "ticks": ""
           },
           "bgcolor": "#E5ECF6",
           "radialaxis": {
            "gridcolor": "white",
            "linecolor": "white",
            "ticks": ""
           }
          },
          "scene": {
           "xaxis": {
            "backgroundcolor": "#E5ECF6",
            "gridcolor": "white",
            "gridwidth": 2,
            "linecolor": "white",
            "showbackground": true,
            "ticks": "",
            "zerolinecolor": "white"
           },
           "yaxis": {
            "backgroundcolor": "#E5ECF6",
            "gridcolor": "white",
            "gridwidth": 2,
            "linecolor": "white",
            "showbackground": true,
            "ticks": "",
            "zerolinecolor": "white"
           },
           "zaxis": {
            "backgroundcolor": "#E5ECF6",
            "gridcolor": "white",
            "gridwidth": 2,
            "linecolor": "white",
            "showbackground": true,
            "ticks": "",
            "zerolinecolor": "white"
           }
          },
          "shapedefaults": {
           "line": {
            "color": "#2a3f5f"
           }
          },
          "ternary": {
           "aaxis": {
            "gridcolor": "white",
            "linecolor": "white",
            "ticks": ""
           },
           "baxis": {
            "gridcolor": "white",
            "linecolor": "white",
            "ticks": ""
           },
           "bgcolor": "#E5ECF6",
           "caxis": {
            "gridcolor": "white",
            "linecolor": "white",
            "ticks": ""
           }
          },
          "title": {
           "x": 0.05
          },
          "xaxis": {
           "automargin": true,
           "gridcolor": "white",
           "linecolor": "white",
           "ticks": "",
           "title": {
            "standoff": 15
           },
           "zerolinecolor": "white",
           "zerolinewidth": 2
          },
          "yaxis": {
           "automargin": true,
           "gridcolor": "white",
           "linecolor": "white",
           "ticks": "",
           "title": {
            "standoff": 15
           },
           "zerolinecolor": "white",
           "zerolinewidth": 2
          }
         }
        },
        "title": {
         "text": "Localisation des fabricants de chocolat"
        },
        "width": 500,
        "xaxis": {
         "anchor": "y",
         "categoryorder": "total descending",
         "domain": [
          0,
          1
         ],
         "tickangle": 45,
         "title": {
          "text": "Pays d'origine des fèves de cacao"
         }
        },
        "yaxis": {
         "anchor": "x",
         "domain": [
          0,
          1
         ],
         "title": {
          "text": "Nombre de chocolats évalués"
         }
        }
       }
      }
     },
     "metadata": {},
     "output_type": "display_data"
    }
   ],
   "source": [
    "# version petite \n",
    "\n",
    "databis = data.copy()\n",
    "databis['company_location'] = databis['company_location'].apply(lambda x: x if databis['company_location'].value_counts()[x] > 70 else 'Blend')\n",
    "\n",
    "fig = px.histogram(databis[databis['company_location'] != 'Blend'], x='company_location', color_discrete_sequence=palette, \n",
    "                   title=\"Localisation des fabricants de chocolat\")\n",
    "fig.update_xaxes(categoryorder='total descending', tickangle=45)\n",
    "fig.update_layout(xaxis_title='Pays d\\'origine des fèves de cacao', yaxis_title='Nombre de chocolats évalués')\n",
    "fig.update_layout(plot_bgcolor=background_color, font_color=text_color)\n",
    "fig.update_layout(autosize=False, width=500, height=400)\n",
    "\n",
    "fig.update_traces(marker=dict(color=palette[0]))\n",
    "fig.show()"
   ]
  },
  {
   "cell_type": "markdown",
   "metadata": {},
   "source": [
    "### carte"
   ]
  },
  {
   "cell_type": "code",
   "execution_count": 14,
   "metadata": {},
   "outputs": [
    {
     "data": {
      "application/vnd.plotly.v1+json": {
       "config": {
        "plotlyServerURL": "https://plot.ly"
       },
       "data": [
        {
         "geo": "geo",
         "hovertemplate": "<b>%{hovertext}</b><br><br>size=%{marker.size}<br>index=%{location}<br>color=%{marker.color}<extra></extra>",
         "hovertext": [
          "U.S.A.",
          "Canada",
          "France",
          "U.K.",
          "Italy",
          "Belgium",
          "Ecuador",
          "Australia",
          "Switzerland",
          "Germany",
          "Spain",
          "Venezuela",
          "Japan",
          "Denmark",
          "Austria",
          "Colombia",
          "New Zealand",
          "Hungary",
          "Brazil",
          "Peru",
          "Madagascar",
          "Vietnam",
          "Singapore",
          "Amsterdam",
          "Scotland",
          "South Korea",
          "Dominican Republic",
          "Taiwan",
          "Nicaragua",
          "Mexico",
          "Guatemala",
          "Argentina",
          "Israel",
          "Costa Rica",
          "Netherlands",
          "Lithuania",
          "Poland",
          "Honduras",
          "Sweden",
          "Thailand",
          "Ireland",
          "Philippines",
          "U.A.E.",
          "Fiji",
          "Vanuatu",
          "Sao Tome & Principe",
          "South Africa",
          "Sao Tome",
          "Iceland",
          "Puerto Rico",
          "Malaysia",
          "Norway",
          "Czech Republic",
          "Grenada",
          "Portugal",
          "St. Lucia",
          "Russia",
          "El Salvador",
          "Finland",
          "India",
          "Bolivia",
          "Chile",
          "St.Vincent-Grenadines",
          "Martinique",
          "Ghana",
          "Wales",
          "Suriname"
         ],
         "legendgroup": "",
         "locationmode": "country names",
         "locations": [
          "U.S.A.",
          "Canada",
          "France",
          "U.K.",
          "Italy",
          "Belgium",
          "Ecuador",
          "Australia",
          "Switzerland",
          "Germany",
          "Spain",
          "Venezuela",
          "Japan",
          "Denmark",
          "Austria",
          "Colombia",
          "New Zealand",
          "Hungary",
          "Brazil",
          "Peru",
          "Madagascar",
          "Vietnam",
          "Singapore",
          "Amsterdam",
          "Scotland",
          "South Korea",
          "Dominican Republic",
          "Taiwan",
          "Nicaragua",
          "Mexico",
          "Guatemala",
          "Argentina",
          "Israel",
          "Costa Rica",
          "Netherlands",
          "Lithuania",
          "Poland",
          "Honduras",
          "Sweden",
          "Thailand",
          "Ireland",
          "Philippines",
          "U.A.E.",
          "Fiji",
          "Vanuatu",
          "Sao Tome & Principe",
          "South Africa",
          "Sao Tome",
          "Iceland",
          "Puerto Rico",
          "Malaysia",
          "Norway",
          "Czech Republic",
          "Grenada",
          "Portugal",
          "St. Lucia",
          "Russia",
          "El Salvador",
          "Finland",
          "India",
          "Bolivia",
          "Chile",
          "St.Vincent-Grenadines",
          "Martinique",
          "Ghana",
          "Wales",
          "Suriname"
         ],
         "marker": {
          "color": [
           44.90118577075099,
           6.996047430830039,
           6.956521739130435,
           5.256916996047431,
           3.08300395256917,
           2.4901185770750986,
           2.292490118577075,
           2.0948616600790513,
           1.7391304347826086,
           1.6600790513833994,
           1.4229249011857708,
           1.225296442687747,
           1.225296442687747,
           1.225296442687747,
           1.185770750988142,
           1.1462450592885376,
           1.0671936758893281,
           1.0276679841897234,
           0.9881422924901186,
           0.9090909090909091,
           0.6719367588932806,
           0.6324110671936759,
           0.592885375494071,
           0.47430830039525695,
           0.43478260869565216,
           0.43478260869565216,
           0.43478260869565216,
           0.3952569169960474,
           0.3952569169960474,
           0.3952569169960474,
           0.3952569169960474,
           0.3557312252964427,
           0.3557312252964427,
           0.3557312252964427,
           0.31620553359683795,
           0.31620553359683795,
           0.31620553359683795,
           0.23715415019762848,
           0.23715415019762848,
           0.1976284584980237,
           0.1976284584980237,
           0.1976284584980237,
           0.1976284584980237,
           0.15810276679841898,
           0.15810276679841898,
           0.15810276679841898,
           0.15810276679841898,
           0.15810276679841898,
           0.15810276679841898,
           0.15810276679841898,
           0.11857707509881424,
           0.11857707509881424,
           0.11857707509881424,
           0.11857707509881424,
           0.11857707509881424,
           0.11857707509881424,
           0.11857707509881424,
           0.11857707509881424,
           0.07905138339920949,
           0.07905138339920949,
           0.07905138339920949,
           0.07905138339920949,
           0.039525691699604744,
           0.039525691699604744,
           0.039525691699604744,
           0.039525691699604744,
           0.039525691699604744
          ],
          "coloraxis": "coloraxis",
          "line": {
           "color": "Black",
           "width": 1
          },
          "size": [
           44.90118577075099,
           6.996047430830039,
           6.956521739130435,
           5.256916996047431,
           3.08300395256917,
           2.4901185770750986,
           2.292490118577075,
           2.0948616600790513,
           1.7391304347826086,
           1.6600790513833994,
           1.4229249011857708,
           1.225296442687747,
           1.225296442687747,
           1.225296442687747,
           1.185770750988142,
           1.1462450592885376,
           1.0671936758893281,
           1.0276679841897234,
           0.9881422924901186,
           0.9090909090909091,
           0.6719367588932806,
           0.6324110671936759,
           0.592885375494071,
           0.47430830039525695,
           0.43478260869565216,
           0.43478260869565216,
           0.43478260869565216,
           0.3952569169960474,
           0.3952569169960474,
           0.3952569169960474,
           0.3952569169960474,
           0.3557312252964427,
           0.3557312252964427,
           0.3557312252964427,
           0.31620553359683795,
           0.31620553359683795,
           0.31620553359683795,
           0.23715415019762848,
           0.23715415019762848,
           0.1976284584980237,
           0.1976284584980237,
           0.1976284584980237,
           0.1976284584980237,
           0.15810276679841898,
           0.15810276679841898,
           0.15810276679841898,
           0.15810276679841898,
           0.15810276679841898,
           0.15810276679841898,
           0.15810276679841898,
           0.11857707509881424,
           0.11857707509881424,
           0.11857707509881424,
           0.11857707509881424,
           0.11857707509881424,
           0.11857707509881424,
           0.11857707509881424,
           0.11857707509881424,
           0.07905138339920949,
           0.07905138339920949,
           0.07905138339920949,
           0.07905138339920949,
           0.039525691699604744,
           0.039525691699604744,
           0.039525691699604744,
           0.039525691699604744,
           0.039525691699604744
          ],
          "sizemode": "area",
          "sizeref": 0.017960474308300396,
          "symbol": "circle"
         },
         "mode": "markers",
         "name": "",
         "showlegend": false,
         "type": "scattergeo"
        }
       ],
       "layout": {
        "coloraxis": {
         "colorbar": {
          "title": {
           "text": "Nombre de chocolats évalués"
          }
         },
         "colorscale": [
          [
           0,
           "#71260A"
          ],
          [
           0.25,
           "#96421D"
          ],
          [
           0.5,
           "#C06530"
          ],
          [
           0.75,
           "#DA8A56"
          ],
          [
           1,
           "#E9D5CC"
          ]
         ]
        },
        "font": {
         "color": "#6f1c0e"
        },
        "geo": {
         "center": {},
         "domain": {
          "x": [
           0,
           1
          ],
          "y": [
           0,
           1
          ]
         },
         "projection": {
          "type": "natural earth"
         }
        },
        "legend": {
         "itemsizing": "constant",
         "tracegroupgap": 0
        },
        "margin": {
         "b": 10,
         "l": 40,
         "r": 20,
         "t": 50
        },
        "template": {
         "data": {
          "bar": [
           {
            "error_x": {
             "color": "#2a3f5f"
            },
            "error_y": {
             "color": "#2a3f5f"
            },
            "marker": {
             "line": {
              "color": "#E5ECF6",
              "width": 0.5
             },
             "pattern": {
              "fillmode": "overlay",
              "size": 10,
              "solidity": 0.2
             }
            },
            "type": "bar"
           }
          ],
          "barpolar": [
           {
            "marker": {
             "line": {
              "color": "#E5ECF6",
              "width": 0.5
             },
             "pattern": {
              "fillmode": "overlay",
              "size": 10,
              "solidity": 0.2
             }
            },
            "type": "barpolar"
           }
          ],
          "carpet": [
           {
            "aaxis": {
             "endlinecolor": "#2a3f5f",
             "gridcolor": "white",
             "linecolor": "white",
             "minorgridcolor": "white",
             "startlinecolor": "#2a3f5f"
            },
            "baxis": {
             "endlinecolor": "#2a3f5f",
             "gridcolor": "white",
             "linecolor": "white",
             "minorgridcolor": "white",
             "startlinecolor": "#2a3f5f"
            },
            "type": "carpet"
           }
          ],
          "choropleth": [
           {
            "colorbar": {
             "outlinewidth": 0,
             "ticks": ""
            },
            "type": "choropleth"
           }
          ],
          "contour": [
           {
            "colorbar": {
             "outlinewidth": 0,
             "ticks": ""
            },
            "colorscale": [
             [
              0,
              "#0d0887"
             ],
             [
              0.1111111111111111,
              "#46039f"
             ],
             [
              0.2222222222222222,
              "#7201a8"
             ],
             [
              0.3333333333333333,
              "#9c179e"
             ],
             [
              0.4444444444444444,
              "#bd3786"
             ],
             [
              0.5555555555555556,
              "#d8576b"
             ],
             [
              0.6666666666666666,
              "#ed7953"
             ],
             [
              0.7777777777777778,
              "#fb9f3a"
             ],
             [
              0.8888888888888888,
              "#fdca26"
             ],
             [
              1,
              "#f0f921"
             ]
            ],
            "type": "contour"
           }
          ],
          "contourcarpet": [
           {
            "colorbar": {
             "outlinewidth": 0,
             "ticks": ""
            },
            "type": "contourcarpet"
           }
          ],
          "heatmap": [
           {
            "colorbar": {
             "outlinewidth": 0,
             "ticks": ""
            },
            "colorscale": [
             [
              0,
              "#0d0887"
             ],
             [
              0.1111111111111111,
              "#46039f"
             ],
             [
              0.2222222222222222,
              "#7201a8"
             ],
             [
              0.3333333333333333,
              "#9c179e"
             ],
             [
              0.4444444444444444,
              "#bd3786"
             ],
             [
              0.5555555555555556,
              "#d8576b"
             ],
             [
              0.6666666666666666,
              "#ed7953"
             ],
             [
              0.7777777777777778,
              "#fb9f3a"
             ],
             [
              0.8888888888888888,
              "#fdca26"
             ],
             [
              1,
              "#f0f921"
             ]
            ],
            "type": "heatmap"
           }
          ],
          "heatmapgl": [
           {
            "colorbar": {
             "outlinewidth": 0,
             "ticks": ""
            },
            "colorscale": [
             [
              0,
              "#0d0887"
             ],
             [
              0.1111111111111111,
              "#46039f"
             ],
             [
              0.2222222222222222,
              "#7201a8"
             ],
             [
              0.3333333333333333,
              "#9c179e"
             ],
             [
              0.4444444444444444,
              "#bd3786"
             ],
             [
              0.5555555555555556,
              "#d8576b"
             ],
             [
              0.6666666666666666,
              "#ed7953"
             ],
             [
              0.7777777777777778,
              "#fb9f3a"
             ],
             [
              0.8888888888888888,
              "#fdca26"
             ],
             [
              1,
              "#f0f921"
             ]
            ],
            "type": "heatmapgl"
           }
          ],
          "histogram": [
           {
            "marker": {
             "pattern": {
              "fillmode": "overlay",
              "size": 10,
              "solidity": 0.2
             }
            },
            "type": "histogram"
           }
          ],
          "histogram2d": [
           {
            "colorbar": {
             "outlinewidth": 0,
             "ticks": ""
            },
            "colorscale": [
             [
              0,
              "#0d0887"
             ],
             [
              0.1111111111111111,
              "#46039f"
             ],
             [
              0.2222222222222222,
              "#7201a8"
             ],
             [
              0.3333333333333333,
              "#9c179e"
             ],
             [
              0.4444444444444444,
              "#bd3786"
             ],
             [
              0.5555555555555556,
              "#d8576b"
             ],
             [
              0.6666666666666666,
              "#ed7953"
             ],
             [
              0.7777777777777778,
              "#fb9f3a"
             ],
             [
              0.8888888888888888,
              "#fdca26"
             ],
             [
              1,
              "#f0f921"
             ]
            ],
            "type": "histogram2d"
           }
          ],
          "histogram2dcontour": [
           {
            "colorbar": {
             "outlinewidth": 0,
             "ticks": ""
            },
            "colorscale": [
             [
              0,
              "#0d0887"
             ],
             [
              0.1111111111111111,
              "#46039f"
             ],
             [
              0.2222222222222222,
              "#7201a8"
             ],
             [
              0.3333333333333333,
              "#9c179e"
             ],
             [
              0.4444444444444444,
              "#bd3786"
             ],
             [
              0.5555555555555556,
              "#d8576b"
             ],
             [
              0.6666666666666666,
              "#ed7953"
             ],
             [
              0.7777777777777778,
              "#fb9f3a"
             ],
             [
              0.8888888888888888,
              "#fdca26"
             ],
             [
              1,
              "#f0f921"
             ]
            ],
            "type": "histogram2dcontour"
           }
          ],
          "mesh3d": [
           {
            "colorbar": {
             "outlinewidth": 0,
             "ticks": ""
            },
            "type": "mesh3d"
           }
          ],
          "parcoords": [
           {
            "line": {
             "colorbar": {
              "outlinewidth": 0,
              "ticks": ""
             }
            },
            "type": "parcoords"
           }
          ],
          "pie": [
           {
            "automargin": true,
            "type": "pie"
           }
          ],
          "scatter": [
           {
            "marker": {
             "colorbar": {
              "outlinewidth": 0,
              "ticks": ""
             }
            },
            "type": "scatter"
           }
          ],
          "scatter3d": [
           {
            "line": {
             "colorbar": {
              "outlinewidth": 0,
              "ticks": ""
             }
            },
            "marker": {
             "colorbar": {
              "outlinewidth": 0,
              "ticks": ""
             }
            },
            "type": "scatter3d"
           }
          ],
          "scattercarpet": [
           {
            "marker": {
             "colorbar": {
              "outlinewidth": 0,
              "ticks": ""
             }
            },
            "type": "scattercarpet"
           }
          ],
          "scattergeo": [
           {
            "marker": {
             "colorbar": {
              "outlinewidth": 0,
              "ticks": ""
             }
            },
            "type": "scattergeo"
           }
          ],
          "scattergl": [
           {
            "marker": {
             "colorbar": {
              "outlinewidth": 0,
              "ticks": ""
             }
            },
            "type": "scattergl"
           }
          ],
          "scattermapbox": [
           {
            "marker": {
             "colorbar": {
              "outlinewidth": 0,
              "ticks": ""
             }
            },
            "type": "scattermapbox"
           }
          ],
          "scatterpolar": [
           {
            "marker": {
             "colorbar": {
              "outlinewidth": 0,
              "ticks": ""
             }
            },
            "type": "scatterpolar"
           }
          ],
          "scatterpolargl": [
           {
            "marker": {
             "colorbar": {
              "outlinewidth": 0,
              "ticks": ""
             }
            },
            "type": "scatterpolargl"
           }
          ],
          "scatterternary": [
           {
            "marker": {
             "colorbar": {
              "outlinewidth": 0,
              "ticks": ""
             }
            },
            "type": "scatterternary"
           }
          ],
          "surface": [
           {
            "colorbar": {
             "outlinewidth": 0,
             "ticks": ""
            },
            "colorscale": [
             [
              0,
              "#0d0887"
             ],
             [
              0.1111111111111111,
              "#46039f"
             ],
             [
              0.2222222222222222,
              "#7201a8"
             ],
             [
              0.3333333333333333,
              "#9c179e"
             ],
             [
              0.4444444444444444,
              "#bd3786"
             ],
             [
              0.5555555555555556,
              "#d8576b"
             ],
             [
              0.6666666666666666,
              "#ed7953"
             ],
             [
              0.7777777777777778,
              "#fb9f3a"
             ],
             [
              0.8888888888888888,
              "#fdca26"
             ],
             [
              1,
              "#f0f921"
             ]
            ],
            "type": "surface"
           }
          ],
          "table": [
           {
            "cells": {
             "fill": {
              "color": "#EBF0F8"
             },
             "line": {
              "color": "white"
             }
            },
            "header": {
             "fill": {
              "color": "#C8D4E3"
             },
             "line": {
              "color": "white"
             }
            },
            "type": "table"
           }
          ]
         },
         "layout": {
          "annotationdefaults": {
           "arrowcolor": "#2a3f5f",
           "arrowhead": 0,
           "arrowwidth": 1
          },
          "autotypenumbers": "strict",
          "coloraxis": {
           "colorbar": {
            "outlinewidth": 0,
            "ticks": ""
           }
          },
          "colorscale": {
           "diverging": [
            [
             0,
             "#8e0152"
            ],
            [
             0.1,
             "#c51b7d"
            ],
            [
             0.2,
             "#de77ae"
            ],
            [
             0.3,
             "#f1b6da"
            ],
            [
             0.4,
             "#fde0ef"
            ],
            [
             0.5,
             "#f7f7f7"
            ],
            [
             0.6,
             "#e6f5d0"
            ],
            [
             0.7,
             "#b8e186"
            ],
            [
             0.8,
             "#7fbc41"
            ],
            [
             0.9,
             "#4d9221"
            ],
            [
             1,
             "#276419"
            ]
           ],
           "sequential": [
            [
             0,
             "#0d0887"
            ],
            [
             0.1111111111111111,
             "#46039f"
            ],
            [
             0.2222222222222222,
             "#7201a8"
            ],
            [
             0.3333333333333333,
             "#9c179e"
            ],
            [
             0.4444444444444444,
             "#bd3786"
            ],
            [
             0.5555555555555556,
             "#d8576b"
            ],
            [
             0.6666666666666666,
             "#ed7953"
            ],
            [
             0.7777777777777778,
             "#fb9f3a"
            ],
            [
             0.8888888888888888,
             "#fdca26"
            ],
            [
             1,
             "#f0f921"
            ]
           ],
           "sequentialminus": [
            [
             0,
             "#0d0887"
            ],
            [
             0.1111111111111111,
             "#46039f"
            ],
            [
             0.2222222222222222,
             "#7201a8"
            ],
            [
             0.3333333333333333,
             "#9c179e"
            ],
            [
             0.4444444444444444,
             "#bd3786"
            ],
            [
             0.5555555555555556,
             "#d8576b"
            ],
            [
             0.6666666666666666,
             "#ed7953"
            ],
            [
             0.7777777777777778,
             "#fb9f3a"
            ],
            [
             0.8888888888888888,
             "#fdca26"
            ],
            [
             1,
             "#f0f921"
            ]
           ]
          },
          "colorway": [
           "#636efa",
           "#EF553B",
           "#00cc96",
           "#ab63fa",
           "#FFA15A",
           "#19d3f3",
           "#FF6692",
           "#B6E880",
           "#FF97FF",
           "#FECB52"
          ],
          "font": {
           "color": "#2a3f5f"
          },
          "geo": {
           "bgcolor": "white",
           "lakecolor": "white",
           "landcolor": "#E5ECF6",
           "showlakes": true,
           "showland": true,
           "subunitcolor": "white"
          },
          "hoverlabel": {
           "align": "left"
          },
          "hovermode": "closest",
          "mapbox": {
           "style": "light"
          },
          "paper_bgcolor": "white",
          "plot_bgcolor": "#E5ECF6",
          "polar": {
           "angularaxis": {
            "gridcolor": "white",
            "linecolor": "white",
            "ticks": ""
           },
           "bgcolor": "#E5ECF6",
           "radialaxis": {
            "gridcolor": "white",
            "linecolor": "white",
            "ticks": ""
           }
          },
          "scene": {
           "xaxis": {
            "backgroundcolor": "#E5ECF6",
            "gridcolor": "white",
            "gridwidth": 2,
            "linecolor": "white",
            "showbackground": true,
            "ticks": "",
            "zerolinecolor": "white"
           },
           "yaxis": {
            "backgroundcolor": "#E5ECF6",
            "gridcolor": "white",
            "gridwidth": 2,
            "linecolor": "white",
            "showbackground": true,
            "ticks": "",
            "zerolinecolor": "white"
           },
           "zaxis": {
            "backgroundcolor": "#E5ECF6",
            "gridcolor": "white",
            "gridwidth": 2,
            "linecolor": "white",
            "showbackground": true,
            "ticks": "",
            "zerolinecolor": "white"
           }
          },
          "shapedefaults": {
           "line": {
            "color": "#2a3f5f"
           }
          },
          "ternary": {
           "aaxis": {
            "gridcolor": "white",
            "linecolor": "white",
            "ticks": ""
           },
           "baxis": {
            "gridcolor": "white",
            "linecolor": "white",
            "ticks": ""
           },
           "bgcolor": "#E5ECF6",
           "caxis": {
            "gridcolor": "white",
            "linecolor": "white",
            "ticks": ""
           }
          },
          "title": {
           "x": 0.05
          },
          "xaxis": {
           "automargin": true,
           "gridcolor": "white",
           "linecolor": "white",
           "ticks": "",
           "title": {
            "standoff": 15
           },
           "zerolinecolor": "white",
           "zerolinewidth": 2
          },
          "yaxis": {
           "automargin": true,
           "gridcolor": "white",
           "linecolor": "white",
           "ticks": "",
           "title": {
            "standoff": 15
           },
           "zerolinecolor": "white",
           "zerolinewidth": 2
          }
         }
        },
        "title": {
         "text": "Localisation des fabricants de chocolat"
        }
       }
      }
     },
     "metadata": {},
     "output_type": "display_data"
    }
   ],
   "source": [
    "tab=data['company_location'].value_counts()\n",
    "\n",
    "# Avoir le pourcentage des chocolats par pays\n",
    "tab=tab/tab.sum()*100\n",
    "\n",
    "\n",
    "fig = px.scatter_geo(tab, locations=tab.index, hover_name=tab.index, locationmode='country names', size=tab.values,\n",
    "                      title='Localisation des fabricants de chocolat' , color=tab.values, projection=\"natural earth\", size_max=50,\n",
    "                      color_continuous_scale=palette_degrade)\n",
    "#projection=\"orthographic\"\n",
    "fig.update_layout(margin=dict(l=40, r=20, t=50, b=10),coloraxis_colorbar=dict(title='Nombre de chocolats évalués'))\n",
    "fig.update_traces(marker=dict(line=dict(width=1, color='Black')))\n",
    "fig.update_layout(font_color=text_color) #couleurs\n",
    "\n",
    "\n",
    "#fig.update_geos(showcountries=True) # pour afficher les contours des pays\n",
    "fig.show()"
   ]
  },
  {
   "cell_type": "markdown",
   "metadata": {},
   "source": [
    "# Parcours des fèves de cacao"
   ]
  },
  {
   "cell_type": "code",
   "execution_count": 15,
   "metadata": {},
   "outputs": [],
   "source": [
    "# #Parcours des fèves de cacao\n",
    "# fig = px.scatter(data, x='country_of_bean_origin', y='company_location', title='Parcours des fèves de cacao par chocolat')\n",
    "# fig.update_xaxes(categoryorder='total descending')\n",
    "# fig.show()\n"
   ]
  },
  {
   "cell_type": "code",
   "execution_count": 16,
   "metadata": {},
   "outputs": [
    {
     "name": "stdout",
     "output_type": "stream",
     "text": [
      "Tanzania U.S.A. Dominican Republic\n"
     ]
    },
    {
     "data": {
      "application/vnd.plotly.v1+json": {
       "config": {
        "plotlyServerURL": "https://plot.ly"
       },
       "data": [
        {
         "geo": "geo",
         "hovertemplate": "lat=%{lat}<br>lon=%{lon}<extra></extra>",
         "lat": [
          "-6.1722",
          "38.8951",
          "-6.1722",
          "18.4896"
         ],
         "legendgroup": "",
         "line": {
          "color": "#636efa",
          "dash": "solid"
         },
         "lon": [
          "35.7395",
          "-77.0364",
          "35.7395",
          "-69.9018"
         ],
         "marker": {
          "symbol": "circle"
         },
         "mode": "lines",
         "name": "",
         "showlegend": false,
         "type": "scattergeo"
        }
       ],
       "layout": {
        "geo": {
         "center": {},
         "domain": {
          "x": [
           0,
           1
          ],
          "y": [
           0,
           1
          ]
         },
         "projection": {
          "type": "natural earth"
         }
        },
        "legend": {
         "tracegroupgap": 0
        },
        "margin": {
         "b": 10,
         "l": 40,
         "r": 20,
         "t": 50
        },
        "template": {
         "data": {
          "bar": [
           {
            "error_x": {
             "color": "#2a3f5f"
            },
            "error_y": {
             "color": "#2a3f5f"
            },
            "marker": {
             "line": {
              "color": "#E5ECF6",
              "width": 0.5
             },
             "pattern": {
              "fillmode": "overlay",
              "size": 10,
              "solidity": 0.2
             }
            },
            "type": "bar"
           }
          ],
          "barpolar": [
           {
            "marker": {
             "line": {
              "color": "#E5ECF6",
              "width": 0.5
             },
             "pattern": {
              "fillmode": "overlay",
              "size": 10,
              "solidity": 0.2
             }
            },
            "type": "barpolar"
           }
          ],
          "carpet": [
           {
            "aaxis": {
             "endlinecolor": "#2a3f5f",
             "gridcolor": "white",
             "linecolor": "white",
             "minorgridcolor": "white",
             "startlinecolor": "#2a3f5f"
            },
            "baxis": {
             "endlinecolor": "#2a3f5f",
             "gridcolor": "white",
             "linecolor": "white",
             "minorgridcolor": "white",
             "startlinecolor": "#2a3f5f"
            },
            "type": "carpet"
           }
          ],
          "choropleth": [
           {
            "colorbar": {
             "outlinewidth": 0,
             "ticks": ""
            },
            "type": "choropleth"
           }
          ],
          "contour": [
           {
            "colorbar": {
             "outlinewidth": 0,
             "ticks": ""
            },
            "colorscale": [
             [
              0,
              "#0d0887"
             ],
             [
              0.1111111111111111,
              "#46039f"
             ],
             [
              0.2222222222222222,
              "#7201a8"
             ],
             [
              0.3333333333333333,
              "#9c179e"
             ],
             [
              0.4444444444444444,
              "#bd3786"
             ],
             [
              0.5555555555555556,
              "#d8576b"
             ],
             [
              0.6666666666666666,
              "#ed7953"
             ],
             [
              0.7777777777777778,
              "#fb9f3a"
             ],
             [
              0.8888888888888888,
              "#fdca26"
             ],
             [
              1,
              "#f0f921"
             ]
            ],
            "type": "contour"
           }
          ],
          "contourcarpet": [
           {
            "colorbar": {
             "outlinewidth": 0,
             "ticks": ""
            },
            "type": "contourcarpet"
           }
          ],
          "heatmap": [
           {
            "colorbar": {
             "outlinewidth": 0,
             "ticks": ""
            },
            "colorscale": [
             [
              0,
              "#0d0887"
             ],
             [
              0.1111111111111111,
              "#46039f"
             ],
             [
              0.2222222222222222,
              "#7201a8"
             ],
             [
              0.3333333333333333,
              "#9c179e"
             ],
             [
              0.4444444444444444,
              "#bd3786"
             ],
             [
              0.5555555555555556,
              "#d8576b"
             ],
             [
              0.6666666666666666,
              "#ed7953"
             ],
             [
              0.7777777777777778,
              "#fb9f3a"
             ],
             [
              0.8888888888888888,
              "#fdca26"
             ],
             [
              1,
              "#f0f921"
             ]
            ],
            "type": "heatmap"
           }
          ],
          "heatmapgl": [
           {
            "colorbar": {
             "outlinewidth": 0,
             "ticks": ""
            },
            "colorscale": [
             [
              0,
              "#0d0887"
             ],
             [
              0.1111111111111111,
              "#46039f"
             ],
             [
              0.2222222222222222,
              "#7201a8"
             ],
             [
              0.3333333333333333,
              "#9c179e"
             ],
             [
              0.4444444444444444,
              "#bd3786"
             ],
             [
              0.5555555555555556,
              "#d8576b"
             ],
             [
              0.6666666666666666,
              "#ed7953"
             ],
             [
              0.7777777777777778,
              "#fb9f3a"
             ],
             [
              0.8888888888888888,
              "#fdca26"
             ],
             [
              1,
              "#f0f921"
             ]
            ],
            "type": "heatmapgl"
           }
          ],
          "histogram": [
           {
            "marker": {
             "pattern": {
              "fillmode": "overlay",
              "size": 10,
              "solidity": 0.2
             }
            },
            "type": "histogram"
           }
          ],
          "histogram2d": [
           {
            "colorbar": {
             "outlinewidth": 0,
             "ticks": ""
            },
            "colorscale": [
             [
              0,
              "#0d0887"
             ],
             [
              0.1111111111111111,
              "#46039f"
             ],
             [
              0.2222222222222222,
              "#7201a8"
             ],
             [
              0.3333333333333333,
              "#9c179e"
             ],
             [
              0.4444444444444444,
              "#bd3786"
             ],
             [
              0.5555555555555556,
              "#d8576b"
             ],
             [
              0.6666666666666666,
              "#ed7953"
             ],
             [
              0.7777777777777778,
              "#fb9f3a"
             ],
             [
              0.8888888888888888,
              "#fdca26"
             ],
             [
              1,
              "#f0f921"
             ]
            ],
            "type": "histogram2d"
           }
          ],
          "histogram2dcontour": [
           {
            "colorbar": {
             "outlinewidth": 0,
             "ticks": ""
            },
            "colorscale": [
             [
              0,
              "#0d0887"
             ],
             [
              0.1111111111111111,
              "#46039f"
             ],
             [
              0.2222222222222222,
              "#7201a8"
             ],
             [
              0.3333333333333333,
              "#9c179e"
             ],
             [
              0.4444444444444444,
              "#bd3786"
             ],
             [
              0.5555555555555556,
              "#d8576b"
             ],
             [
              0.6666666666666666,
              "#ed7953"
             ],
             [
              0.7777777777777778,
              "#fb9f3a"
             ],
             [
              0.8888888888888888,
              "#fdca26"
             ],
             [
              1,
              "#f0f921"
             ]
            ],
            "type": "histogram2dcontour"
           }
          ],
          "mesh3d": [
           {
            "colorbar": {
             "outlinewidth": 0,
             "ticks": ""
            },
            "type": "mesh3d"
           }
          ],
          "parcoords": [
           {
            "line": {
             "colorbar": {
              "outlinewidth": 0,
              "ticks": ""
             }
            },
            "type": "parcoords"
           }
          ],
          "pie": [
           {
            "automargin": true,
            "type": "pie"
           }
          ],
          "scatter": [
           {
            "marker": {
             "colorbar": {
              "outlinewidth": 0,
              "ticks": ""
             }
            },
            "type": "scatter"
           }
          ],
          "scatter3d": [
           {
            "line": {
             "colorbar": {
              "outlinewidth": 0,
              "ticks": ""
             }
            },
            "marker": {
             "colorbar": {
              "outlinewidth": 0,
              "ticks": ""
             }
            },
            "type": "scatter3d"
           }
          ],
          "scattercarpet": [
           {
            "marker": {
             "colorbar": {
              "outlinewidth": 0,
              "ticks": ""
             }
            },
            "type": "scattercarpet"
           }
          ],
          "scattergeo": [
           {
            "marker": {
             "colorbar": {
              "outlinewidth": 0,
              "ticks": ""
             }
            },
            "type": "scattergeo"
           }
          ],
          "scattergl": [
           {
            "marker": {
             "colorbar": {
              "outlinewidth": 0,
              "ticks": ""
             }
            },
            "type": "scattergl"
           }
          ],
          "scattermapbox": [
           {
            "marker": {
             "colorbar": {
              "outlinewidth": 0,
              "ticks": ""
             }
            },
            "type": "scattermapbox"
           }
          ],
          "scatterpolar": [
           {
            "marker": {
             "colorbar": {
              "outlinewidth": 0,
              "ticks": ""
             }
            },
            "type": "scatterpolar"
           }
          ],
          "scatterpolargl": [
           {
            "marker": {
             "colorbar": {
              "outlinewidth": 0,
              "ticks": ""
             }
            },
            "type": "scatterpolargl"
           }
          ],
          "scatterternary": [
           {
            "marker": {
             "colorbar": {
              "outlinewidth": 0,
              "ticks": ""
             }
            },
            "type": "scatterternary"
           }
          ],
          "surface": [
           {
            "colorbar": {
             "outlinewidth": 0,
             "ticks": ""
            },
            "colorscale": [
             [
              0,
              "#0d0887"
             ],
             [
              0.1111111111111111,
              "#46039f"
             ],
             [
              0.2222222222222222,
              "#7201a8"
             ],
             [
              0.3333333333333333,
              "#9c179e"
             ],
             [
              0.4444444444444444,
              "#bd3786"
             ],
             [
              0.5555555555555556,
              "#d8576b"
             ],
             [
              0.6666666666666666,
              "#ed7953"
             ],
             [
              0.7777777777777778,
              "#fb9f3a"
             ],
             [
              0.8888888888888888,
              "#fdca26"
             ],
             [
              1,
              "#f0f921"
             ]
            ],
            "type": "surface"
           }
          ],
          "table": [
           {
            "cells": {
             "fill": {
              "color": "#EBF0F8"
             },
             "line": {
              "color": "white"
             }
            },
            "header": {
             "fill": {
              "color": "#C8D4E3"
             },
             "line": {
              "color": "white"
             }
            },
            "type": "table"
           }
          ]
         },
         "layout": {
          "annotationdefaults": {
           "arrowcolor": "#2a3f5f",
           "arrowhead": 0,
           "arrowwidth": 1
          },
          "autotypenumbers": "strict",
          "coloraxis": {
           "colorbar": {
            "outlinewidth": 0,
            "ticks": ""
           }
          },
          "colorscale": {
           "diverging": [
            [
             0,
             "#8e0152"
            ],
            [
             0.1,
             "#c51b7d"
            ],
            [
             0.2,
             "#de77ae"
            ],
            [
             0.3,
             "#f1b6da"
            ],
            [
             0.4,
             "#fde0ef"
            ],
            [
             0.5,
             "#f7f7f7"
            ],
            [
             0.6,
             "#e6f5d0"
            ],
            [
             0.7,
             "#b8e186"
            ],
            [
             0.8,
             "#7fbc41"
            ],
            [
             0.9,
             "#4d9221"
            ],
            [
             1,
             "#276419"
            ]
           ],
           "sequential": [
            [
             0,
             "#0d0887"
            ],
            [
             0.1111111111111111,
             "#46039f"
            ],
            [
             0.2222222222222222,
             "#7201a8"
            ],
            [
             0.3333333333333333,
             "#9c179e"
            ],
            [
             0.4444444444444444,
             "#bd3786"
            ],
            [
             0.5555555555555556,
             "#d8576b"
            ],
            [
             0.6666666666666666,
             "#ed7953"
            ],
            [
             0.7777777777777778,
             "#fb9f3a"
            ],
            [
             0.8888888888888888,
             "#fdca26"
            ],
            [
             1,
             "#f0f921"
            ]
           ],
           "sequentialminus": [
            [
             0,
             "#0d0887"
            ],
            [
             0.1111111111111111,
             "#46039f"
            ],
            [
             0.2222222222222222,
             "#7201a8"
            ],
            [
             0.3333333333333333,
             "#9c179e"
            ],
            [
             0.4444444444444444,
             "#bd3786"
            ],
            [
             0.5555555555555556,
             "#d8576b"
            ],
            [
             0.6666666666666666,
             "#ed7953"
            ],
            [
             0.7777777777777778,
             "#fb9f3a"
            ],
            [
             0.8888888888888888,
             "#fdca26"
            ],
            [
             1,
             "#f0f921"
            ]
           ]
          },
          "colorway": [
           "#636efa",
           "#EF553B",
           "#00cc96",
           "#ab63fa",
           "#FFA15A",
           "#19d3f3",
           "#FF6692",
           "#B6E880",
           "#FF97FF",
           "#FECB52"
          ],
          "font": {
           "color": "#2a3f5f"
          },
          "geo": {
           "bgcolor": "white",
           "lakecolor": "white",
           "landcolor": "#E5ECF6",
           "showlakes": true,
           "showland": true,
           "subunitcolor": "white"
          },
          "hoverlabel": {
           "align": "left"
          },
          "hovermode": "closest",
          "mapbox": {
           "style": "light"
          },
          "paper_bgcolor": "white",
          "plot_bgcolor": "#E5ECF6",
          "polar": {
           "angularaxis": {
            "gridcolor": "white",
            "linecolor": "white",
            "ticks": ""
           },
           "bgcolor": "#E5ECF6",
           "radialaxis": {
            "gridcolor": "white",
            "linecolor": "white",
            "ticks": ""
           }
          },
          "scene": {
           "xaxis": {
            "backgroundcolor": "#E5ECF6",
            "gridcolor": "white",
            "gridwidth": 2,
            "linecolor": "white",
            "showbackground": true,
            "ticks": "",
            "zerolinecolor": "white"
           },
           "yaxis": {
            "backgroundcolor": "#E5ECF6",
            "gridcolor": "white",
            "gridwidth": 2,
            "linecolor": "white",
            "showbackground": true,
            "ticks": "",
            "zerolinecolor": "white"
           },
           "zaxis": {
            "backgroundcolor": "#E5ECF6",
            "gridcolor": "white",
            "gridwidth": 2,
            "linecolor": "white",
            "showbackground": true,
            "ticks": "",
            "zerolinecolor": "white"
           }
          },
          "shapedefaults": {
           "line": {
            "color": "#2a3f5f"
           }
          },
          "ternary": {
           "aaxis": {
            "gridcolor": "white",
            "linecolor": "white",
            "ticks": ""
           },
           "baxis": {
            "gridcolor": "white",
            "linecolor": "white",
            "ticks": ""
           },
           "bgcolor": "#E5ECF6",
           "caxis": {
            "gridcolor": "white",
            "linecolor": "white",
            "ticks": ""
           }
          },
          "title": {
           "x": 0.05
          },
          "xaxis": {
           "automargin": true,
           "gridcolor": "white",
           "linecolor": "white",
           "ticks": "",
           "title": {
            "standoff": 15
           },
           "zerolinecolor": "white",
           "zerolinewidth": 2
          },
          "yaxis": {
           "automargin": true,
           "gridcolor": "white",
           "linecolor": "white",
           "ticks": "",
           "title": {
            "standoff": 15
           },
           "zerolinecolor": "white",
           "zerolinewidth": 2
          }
         }
        },
        "title": {
         "text": "Parcours des fèves de cacao pour le premier chocolat"
        }
       }
      }
     },
     "metadata": {},
     "output_type": "display_data"
    }
   ],
   "source": [
    "import csv\n",
    "import re\n",
    "\n",
    "#Parcours des fêves de cacao pour le premier chocolat\n",
    "origine = data['country_of_bean_origin'][0]\n",
    "arrivee = data['company_location'][0]\n",
    "\n",
    "point = data['country_of_bean_origin'][1]\n",
    "print(origine, arrivee, point)\n",
    "#print(origine, arrivee)\n",
    "\n",
    "# Load CSV data into memory\n",
    "with open('data/country-capital.csv', 'r') as f:\n",
    "    reader = csv.reader(f)\n",
    "    dataCountry = list(reader)\n",
    "\n",
    "def get_coordinates(country):\n",
    "    for row in dataCountry:\n",
    "        if row[0] == country:\n",
    "            return row[2], row[3]\n",
    "    return 0, 0\n",
    "\n",
    "\n",
    "# trajet: origine --> arrivee --> origine --> point\n",
    "fig = px.line_geo(lat=[get_coordinates(origine)[0],get_coordinates(arrivee)[0], get_coordinates(origine)[0], get_coordinates(point)[0]], \n",
    "                  lon=[get_coordinates(origine)[1], get_coordinates(arrivee)[1], get_coordinates(origine)[1], get_coordinates(point)[1]], \n",
    "                  title='Parcours des fèves de cacao pour le premier chocolat', projection=\"natural earth\")\n",
    "fig.update_layout(margin=dict(l=40, r=20, t=50, b=10))\n",
    "fig.show()"
   ]
  },
  {
   "cell_type": "code",
   "execution_count": 28,
   "metadata": {},
   "outputs": [
    {
     "data": {
      "application/vnd.plotly.v1+json": {
       "config": {
        "plotlyServerURL": "https://plot.ly"
       },
       "data": [
        {
         "geo": "geo",
         "hovertemplate": "<b>%{hovertext}</b><br><br>lat=%{lat}<br>lon=%{lon}<extra></extra>",
         "hovertext": [
          "Dominican Republic",
          "USA",
          "Peru",
          "USA",
          "Venezuela",
          "USA",
          "Ecuador",
          "USA",
          "Madagascar",
          "USA",
          "Bolivia",
          "USA",
          "Belize",
          "USA",
          "Tanzania",
          "USA",
          "Nicaragua",
          "USA",
          "Guatemala",
          "USA",
          "U.S.A.",
          "USA",
          "Brazil",
          "USA",
          "Costa Rica",
          "USA",
          "Ghana",
          "USA",
          "Vietnam",
          "USA",
          "Colombia",
          "USA",
          "Trinidad",
          "USA",
          "Mexico",
          "USA",
          "India",
          "USA",
          "Uganda",
          "USA",
          "Honduras",
          "USA",
          "Haiti",
          "USA",
          "Jamaica",
          "USA",
          "Papua New Guinea",
          "USA",
          "Fiji",
          "USA",
          "Philippines",
          "USA",
          "Indonesia",
          "USA",
          "Sierra Leone",
          "USA",
          "Puerto Rico",
          "USA",
          "Ivory Coast",
          "USA",
          "Liberia",
          "USA",
          "Solomon Islands",
          "USA",
          "Grenada",
          "USA",
          "Nigeria",
          "USA",
          "Congo",
          "USA",
          "Panama",
          "USA",
          "Cameroon",
          "USA"
         ],
         "lat": [
          "18.4896",
          38.8951,
          "-12.0432",
          38.8951,
          "10.4880",
          38.8951,
          "-0.2299",
          38.8951,
          "-18.9137",
          38.8951,
          "-16.5000",
          38.8951,
          "17.2500",
          38.8951,
          "-6.1722",
          38.8951,
          "12.1328",
          38.8951,
          "14.6127",
          38.8951,
          "38.8951",
          38.8951,
          "-15.7797",
          38.8951,
          "9.9278",
          38.8951,
          "5.5560",
          38.8951,
          "21.0245",
          38.8951,
          "4.6097",
          38.8951,
          "10.6662",
          38.8951,
          "19.4273",
          38.8951,
          "28.6667",
          38.8951,
          "0.3163",
          38.8951,
          "14.0818",
          38.8951,
          "18.5392",
          38.8951,
          "17.9970",
          38.8951,
          "-9.4431",
          38.8951,
          "-18.1416",
          38.8951,
          "14.6042",
          38.8951,
          "-6.2118",
          38.8951,
          "8.4840",
          38.8951,
          "18.4663",
          38.8951,
          "5.3453",
          38.8951,
          "6.3005",
          38.8951,
          "-9.4333",
          38.8951,
          "12.0564",
          38.8951,
          "9.0574",
          38.8951,
          "-4.2658",
          38.8951,
          "8.9958",
          38.8951,
          "3.8667",
          38.8951
         ],
         "legendgroup": "",
         "line": {
          "color": "#636efa",
          "dash": "solid"
         },
         "lon": [
          "-69.9018",
          -77.0364,
          "-77.0282",
          -77.0364,
          "-66.8792",
          -77.0364,
          "-78.5250",
          -77.0364,
          "47.5361",
          -77.0364,
          "-68.1500",
          -77.0364,
          "-88.7667",
          -77.0364,
          "35.7395",
          -77.0364,
          "-86.2504",
          -77.0364,
          "-90.5307",
          -77.0364,
          "-77.0364",
          -77.0364,
          "-47.9297",
          -77.0364,
          "-84.0807",
          -77.0364,
          "-0.1969",
          -77.0364,
          "105.8412",
          -77.0364,
          "-74.0818",
          -77.0364,
          "-61.5166",
          -77.0364,
          "-99.1419",
          -77.0364,
          "77.2167",
          -77.0364,
          "32.5822",
          -77.0364,
          "-87.2068",
          -77.0364,
          "-72.3350",
          -77.0364,
          "-76.7936",
          -77.0364,
          "147.1797",
          -77.0364,
          "178.4415",
          -77.0364,
          "120.9822",
          -77.0364,
          "106.8416",
          -77.0364,
          "-13.2299",
          -77.0364,
          "-66.1057",
          -77.0364,
          "-4.0268",
          -77.0364,
          "-10.7969",
          -77.0364,
          "159.9500",
          -77.0364,
          "-61.7485",
          -77.0364,
          "7.4898",
          -77.0364,
          "15.2832",
          -77.0364,
          "-79.5196",
          -77.0364,
          "11.5167",
          -77.0364
         ],
         "marker": {
          "symbol": "circle"
         },
         "mode": "lines",
         "name": "",
         "showlegend": false,
         "type": "scattergeo"
        }
       ],
       "layout": {
        "geo": {
         "center": {},
         "domain": {
          "x": [
           0,
           1
          ],
          "y": [
           0,
           1
          ]
         },
         "projection": {
          "type": "natural earth"
         }
        },
        "legend": {
         "tracegroupgap": 0
        },
        "margin": {
         "b": 10,
         "l": 40,
         "r": 20,
         "t": 50
        },
        "template": {
         "data": {
          "bar": [
           {
            "error_x": {
             "color": "#2a3f5f"
            },
            "error_y": {
             "color": "#2a3f5f"
            },
            "marker": {
             "line": {
              "color": "#E5ECF6",
              "width": 0.5
             },
             "pattern": {
              "fillmode": "overlay",
              "size": 10,
              "solidity": 0.2
             }
            },
            "type": "bar"
           }
          ],
          "barpolar": [
           {
            "marker": {
             "line": {
              "color": "#E5ECF6",
              "width": 0.5
             },
             "pattern": {
              "fillmode": "overlay",
              "size": 10,
              "solidity": 0.2
             }
            },
            "type": "barpolar"
           }
          ],
          "carpet": [
           {
            "aaxis": {
             "endlinecolor": "#2a3f5f",
             "gridcolor": "white",
             "linecolor": "white",
             "minorgridcolor": "white",
             "startlinecolor": "#2a3f5f"
            },
            "baxis": {
             "endlinecolor": "#2a3f5f",
             "gridcolor": "white",
             "linecolor": "white",
             "minorgridcolor": "white",
             "startlinecolor": "#2a3f5f"
            },
            "type": "carpet"
           }
          ],
          "choropleth": [
           {
            "colorbar": {
             "outlinewidth": 0,
             "ticks": ""
            },
            "type": "choropleth"
           }
          ],
          "contour": [
           {
            "colorbar": {
             "outlinewidth": 0,
             "ticks": ""
            },
            "colorscale": [
             [
              0,
              "#0d0887"
             ],
             [
              0.1111111111111111,
              "#46039f"
             ],
             [
              0.2222222222222222,
              "#7201a8"
             ],
             [
              0.3333333333333333,
              "#9c179e"
             ],
             [
              0.4444444444444444,
              "#bd3786"
             ],
             [
              0.5555555555555556,
              "#d8576b"
             ],
             [
              0.6666666666666666,
              "#ed7953"
             ],
             [
              0.7777777777777778,
              "#fb9f3a"
             ],
             [
              0.8888888888888888,
              "#fdca26"
             ],
             [
              1,
              "#f0f921"
             ]
            ],
            "type": "contour"
           }
          ],
          "contourcarpet": [
           {
            "colorbar": {
             "outlinewidth": 0,
             "ticks": ""
            },
            "type": "contourcarpet"
           }
          ],
          "heatmap": [
           {
            "colorbar": {
             "outlinewidth": 0,
             "ticks": ""
            },
            "colorscale": [
             [
              0,
              "#0d0887"
             ],
             [
              0.1111111111111111,
              "#46039f"
             ],
             [
              0.2222222222222222,
              "#7201a8"
             ],
             [
              0.3333333333333333,
              "#9c179e"
             ],
             [
              0.4444444444444444,
              "#bd3786"
             ],
             [
              0.5555555555555556,
              "#d8576b"
             ],
             [
              0.6666666666666666,
              "#ed7953"
             ],
             [
              0.7777777777777778,
              "#fb9f3a"
             ],
             [
              0.8888888888888888,
              "#fdca26"
             ],
             [
              1,
              "#f0f921"
             ]
            ],
            "type": "heatmap"
           }
          ],
          "heatmapgl": [
           {
            "colorbar": {
             "outlinewidth": 0,
             "ticks": ""
            },
            "colorscale": [
             [
              0,
              "#0d0887"
             ],
             [
              0.1111111111111111,
              "#46039f"
             ],
             [
              0.2222222222222222,
              "#7201a8"
             ],
             [
              0.3333333333333333,
              "#9c179e"
             ],
             [
              0.4444444444444444,
              "#bd3786"
             ],
             [
              0.5555555555555556,
              "#d8576b"
             ],
             [
              0.6666666666666666,
              "#ed7953"
             ],
             [
              0.7777777777777778,
              "#fb9f3a"
             ],
             [
              0.8888888888888888,
              "#fdca26"
             ],
             [
              1,
              "#f0f921"
             ]
            ],
            "type": "heatmapgl"
           }
          ],
          "histogram": [
           {
            "marker": {
             "pattern": {
              "fillmode": "overlay",
              "size": 10,
              "solidity": 0.2
             }
            },
            "type": "histogram"
           }
          ],
          "histogram2d": [
           {
            "colorbar": {
             "outlinewidth": 0,
             "ticks": ""
            },
            "colorscale": [
             [
              0,
              "#0d0887"
             ],
             [
              0.1111111111111111,
              "#46039f"
             ],
             [
              0.2222222222222222,
              "#7201a8"
             ],
             [
              0.3333333333333333,
              "#9c179e"
             ],
             [
              0.4444444444444444,
              "#bd3786"
             ],
             [
              0.5555555555555556,
              "#d8576b"
             ],
             [
              0.6666666666666666,
              "#ed7953"
             ],
             [
              0.7777777777777778,
              "#fb9f3a"
             ],
             [
              0.8888888888888888,
              "#fdca26"
             ],
             [
              1,
              "#f0f921"
             ]
            ],
            "type": "histogram2d"
           }
          ],
          "histogram2dcontour": [
           {
            "colorbar": {
             "outlinewidth": 0,
             "ticks": ""
            },
            "colorscale": [
             [
              0,
              "#0d0887"
             ],
             [
              0.1111111111111111,
              "#46039f"
             ],
             [
              0.2222222222222222,
              "#7201a8"
             ],
             [
              0.3333333333333333,
              "#9c179e"
             ],
             [
              0.4444444444444444,
              "#bd3786"
             ],
             [
              0.5555555555555556,
              "#d8576b"
             ],
             [
              0.6666666666666666,
              "#ed7953"
             ],
             [
              0.7777777777777778,
              "#fb9f3a"
             ],
             [
              0.8888888888888888,
              "#fdca26"
             ],
             [
              1,
              "#f0f921"
             ]
            ],
            "type": "histogram2dcontour"
           }
          ],
          "mesh3d": [
           {
            "colorbar": {
             "outlinewidth": 0,
             "ticks": ""
            },
            "type": "mesh3d"
           }
          ],
          "parcoords": [
           {
            "line": {
             "colorbar": {
              "outlinewidth": 0,
              "ticks": ""
             }
            },
            "type": "parcoords"
           }
          ],
          "pie": [
           {
            "automargin": true,
            "type": "pie"
           }
          ],
          "scatter": [
           {
            "marker": {
             "colorbar": {
              "outlinewidth": 0,
              "ticks": ""
             }
            },
            "type": "scatter"
           }
          ],
          "scatter3d": [
           {
            "line": {
             "colorbar": {
              "outlinewidth": 0,
              "ticks": ""
             }
            },
            "marker": {
             "colorbar": {
              "outlinewidth": 0,
              "ticks": ""
             }
            },
            "type": "scatter3d"
           }
          ],
          "scattercarpet": [
           {
            "marker": {
             "colorbar": {
              "outlinewidth": 0,
              "ticks": ""
             }
            },
            "type": "scattercarpet"
           }
          ],
          "scattergeo": [
           {
            "marker": {
             "colorbar": {
              "outlinewidth": 0,
              "ticks": ""
             }
            },
            "type": "scattergeo"
           }
          ],
          "scattergl": [
           {
            "marker": {
             "colorbar": {
              "outlinewidth": 0,
              "ticks": ""
             }
            },
            "type": "scattergl"
           }
          ],
          "scattermapbox": [
           {
            "marker": {
             "colorbar": {
              "outlinewidth": 0,
              "ticks": ""
             }
            },
            "type": "scattermapbox"
           }
          ],
          "scatterpolar": [
           {
            "marker": {
             "colorbar": {
              "outlinewidth": 0,
              "ticks": ""
             }
            },
            "type": "scatterpolar"
           }
          ],
          "scatterpolargl": [
           {
            "marker": {
             "colorbar": {
              "outlinewidth": 0,
              "ticks": ""
             }
            },
            "type": "scatterpolargl"
           }
          ],
          "scatterternary": [
           {
            "marker": {
             "colorbar": {
              "outlinewidth": 0,
              "ticks": ""
             }
            },
            "type": "scatterternary"
           }
          ],
          "surface": [
           {
            "colorbar": {
             "outlinewidth": 0,
             "ticks": ""
            },
            "colorscale": [
             [
              0,
              "#0d0887"
             ],
             [
              0.1111111111111111,
              "#46039f"
             ],
             [
              0.2222222222222222,
              "#7201a8"
             ],
             [
              0.3333333333333333,
              "#9c179e"
             ],
             [
              0.4444444444444444,
              "#bd3786"
             ],
             [
              0.5555555555555556,
              "#d8576b"
             ],
             [
              0.6666666666666666,
              "#ed7953"
             ],
             [
              0.7777777777777778,
              "#fb9f3a"
             ],
             [
              0.8888888888888888,
              "#fdca26"
             ],
             [
              1,
              "#f0f921"
             ]
            ],
            "type": "surface"
           }
          ],
          "table": [
           {
            "cells": {
             "fill": {
              "color": "#EBF0F8"
             },
             "line": {
              "color": "white"
             }
            },
            "header": {
             "fill": {
              "color": "#C8D4E3"
             },
             "line": {
              "color": "white"
             }
            },
            "type": "table"
           }
          ]
         },
         "layout": {
          "annotationdefaults": {
           "arrowcolor": "#2a3f5f",
           "arrowhead": 0,
           "arrowwidth": 1
          },
          "autotypenumbers": "strict",
          "coloraxis": {
           "colorbar": {
            "outlinewidth": 0,
            "ticks": ""
           }
          },
          "colorscale": {
           "diverging": [
            [
             0,
             "#8e0152"
            ],
            [
             0.1,
             "#c51b7d"
            ],
            [
             0.2,
             "#de77ae"
            ],
            [
             0.3,
             "#f1b6da"
            ],
            [
             0.4,
             "#fde0ef"
            ],
            [
             0.5,
             "#f7f7f7"
            ],
            [
             0.6,
             "#e6f5d0"
            ],
            [
             0.7,
             "#b8e186"
            ],
            [
             0.8,
             "#7fbc41"
            ],
            [
             0.9,
             "#4d9221"
            ],
            [
             1,
             "#276419"
            ]
           ],
           "sequential": [
            [
             0,
             "#0d0887"
            ],
            [
             0.1111111111111111,
             "#46039f"
            ],
            [
             0.2222222222222222,
             "#7201a8"
            ],
            [
             0.3333333333333333,
             "#9c179e"
            ],
            [
             0.4444444444444444,
             "#bd3786"
            ],
            [
             0.5555555555555556,
             "#d8576b"
            ],
            [
             0.6666666666666666,
             "#ed7953"
            ],
            [
             0.7777777777777778,
             "#fb9f3a"
            ],
            [
             0.8888888888888888,
             "#fdca26"
            ],
            [
             1,
             "#f0f921"
            ]
           ],
           "sequentialminus": [
            [
             0,
             "#0d0887"
            ],
            [
             0.1111111111111111,
             "#46039f"
            ],
            [
             0.2222222222222222,
             "#7201a8"
            ],
            [
             0.3333333333333333,
             "#9c179e"
            ],
            [
             0.4444444444444444,
             "#bd3786"
            ],
            [
             0.5555555555555556,
             "#d8576b"
            ],
            [
             0.6666666666666666,
             "#ed7953"
            ],
            [
             0.7777777777777778,
             "#fb9f3a"
            ],
            [
             0.8888888888888888,
             "#fdca26"
            ],
            [
             1,
             "#f0f921"
            ]
           ]
          },
          "colorway": [
           "#636efa",
           "#EF553B",
           "#00cc96",
           "#ab63fa",
           "#FFA15A",
           "#19d3f3",
           "#FF6692",
           "#B6E880",
           "#FF97FF",
           "#FECB52"
          ],
          "font": {
           "color": "#2a3f5f"
          },
          "geo": {
           "bgcolor": "white",
           "lakecolor": "white",
           "landcolor": "#E5ECF6",
           "showlakes": true,
           "showland": true,
           "subunitcolor": "white"
          },
          "hoverlabel": {
           "align": "left"
          },
          "hovermode": "closest",
          "mapbox": {
           "style": "light"
          },
          "paper_bgcolor": "white",
          "plot_bgcolor": "#E5ECF6",
          "polar": {
           "angularaxis": {
            "gridcolor": "white",
            "linecolor": "white",
            "ticks": ""
           },
           "bgcolor": "#E5ECF6",
           "radialaxis": {
            "gridcolor": "white",
            "linecolor": "white",
            "ticks": ""
           }
          },
          "scene": {
           "xaxis": {
            "backgroundcolor": "#E5ECF6",
            "gridcolor": "white",
            "gridwidth": 2,
            "linecolor": "white",
            "showbackground": true,
            "ticks": "",
            "zerolinecolor": "white"
           },
           "yaxis": {
            "backgroundcolor": "#E5ECF6",
            "gridcolor": "white",
            "gridwidth": 2,
            "linecolor": "white",
            "showbackground": true,
            "ticks": "",
            "zerolinecolor": "white"
           },
           "zaxis": {
            "backgroundcolor": "#E5ECF6",
            "gridcolor": "white",
            "gridwidth": 2,
            "linecolor": "white",
            "showbackground": true,
            "ticks": "",
            "zerolinecolor": "white"
           }
          },
          "shapedefaults": {
           "line": {
            "color": "#2a3f5f"
           }
          },
          "ternary": {
           "aaxis": {
            "gridcolor": "white",
            "linecolor": "white",
            "ticks": ""
           },
           "baxis": {
            "gridcolor": "white",
            "linecolor": "white",
            "ticks": ""
           },
           "bgcolor": "#E5ECF6",
           "caxis": {
            "gridcolor": "white",
            "linecolor": "white",
            "ticks": ""
           }
          },
          "title": {
           "x": 0.05
          },
          "xaxis": {
           "automargin": true,
           "gridcolor": "white",
           "linecolor": "white",
           "ticks": "",
           "title": {
            "standoff": 15
           },
           "zerolinecolor": "white",
           "zerolinewidth": 2
          },
          "yaxis": {
           "automargin": true,
           "gridcolor": "white",
           "linecolor": "white",
           "ticks": "",
           "title": {
            "standoff": 15
           },
           "zerolinecolor": "white",
           "zerolinewidth": 2
          }
         }
        },
        "title": {
         "text": "Trajet effectué par les chocolats venant des USA"
        }
       }
      }
     },
     "metadata": {},
     "output_type": "display_data"
    }
   ],
   "source": [
    "with open('data/country-capital.csv', 'r') as f:\n",
    "    reader = csv.reader(f)\n",
    "    dataCountry = list(reader)\n",
    "\n",
    "#permet de récupérer les coordonnées de la capitale d'un pays à partir du fichier country-capital.csv\n",
    "def get_coordinates(country):\n",
    "    for row in dataCountry:\n",
    "        if row[0] == country:\n",
    "            return row[2], row[3]\n",
    "    return 0, 0\n",
    "\n",
    "#permet de récupérer le nom du pays à partir de coordonnées\n",
    "def get_country(lat,lon):\n",
    "    for row in dataCountry:\n",
    "        if row[2] == lat and row[3]==lon:\n",
    "            return row[0]\n",
    "    return None\n",
    "\n",
    "#Enregistrement du dataframe avec les coordonnées dans un nouveau fichier\n",
    "#data.to_csv('data/chocolate_with_coordinates.csv', index=False)\n",
    "\n",
    "coord_USA = (38.8951, -77.0364)\n",
    "\n",
    "data['coord_origine'] = data['country_of_bean_origin'].apply(get_coordinates)\n",
    "data['coord_arrivee'] = data['company_location'].apply(get_coordinates)\n",
    "\n",
    "#chocolats qui viennent des USA\n",
    "dataTest = data[data['company_location']== 'U.S.A.']\n",
    "\n",
    "#enlever les coordonnees vides\n",
    "dataTest = dataTest[dataTest['coord_origine']!= (0,0)]\n",
    "\n",
    "x=dataTest['coord_origine'].value_counts()\n",
    "\n",
    "lat=[]\n",
    "lon=[]\n",
    "nom=[]\n",
    "qtt=[]\n",
    "\n",
    "#alterne les coordonnées du pays d'importation et des USA\n",
    "for i in range(0,len(x)):\n",
    "    #print(i)\n",
    "    #print(x.index[i])\n",
    "    lat.append(x.index[i][0])\n",
    "    lon.append(x.index[i][1])\n",
    "    pays=get_country(x.index[i][0],x.index[i][1])\n",
    "    nom.append(pays)\n",
    "    qtt.append(str(x.values[i]))\n",
    "    lat.append(coord_USA[0])\n",
    "    lon.append(coord_USA[1])\n",
    "    nom.append(\"USA\")\n",
    "    qtt.append(\"\")\n",
    "\n",
    " \n",
    "fig = px.line_geo(lat=lat, lon=lon, title='Trajet effectué par les chocolats venant des USA', \n",
    "                  projection=\"natural earth\", hover_name=nom)\n",
    "                  #text=qtt)\n",
    "#projection=\"orthographic\"\n",
    "fig.update_layout(margin=dict(l=40, r=20, t=50, b=10))\n",
    "fig.show()"
   ]
  },
  {
   "cell_type": "markdown",
   "metadata": {},
   "source": [
    "# meilleurs chocolat (nope)"
   ]
  },
  {
   "cell_type": "code",
   "execution_count": 18,
   "metadata": {},
   "outputs": [
    {
     "data": {
      "application/vnd.plotly.v1+json": {
       "config": {
        "plotlyServerURL": "https://plot.ly"
       },
       "data": [
        {
         "alignmentgroup": "True",
         "hovertemplate": "rating=%{y}<extra></extra>",
         "legendgroup": "",
         "marker": {
          "color": "#636efa"
         },
         "name": "",
         "notched": false,
         "offsetgroup": "",
         "orientation": "v",
         "showlegend": false,
         "type": "box",
         "x0": " ",
         "xaxis": "x",
         "y": [
          3.25,
          3.5,
          3.75,
          3,
          3,
          3.25,
          3.5,
          3.5,
          3.75,
          2.75,
          2.75,
          3,
          3,
          3.25,
          3.25,
          3.25,
          3.5,
          3.75,
          4,
          4,
          2.75,
          3.5,
          3.5,
          3.75,
          4,
          2.75,
          3,
          3.5,
          3.5,
          3.75,
          3.5,
          3.75,
          4,
          3.75,
          3.75,
          3.25,
          3.5,
          2.75,
          3.25,
          3.5,
          3.5,
          2.5,
          2.75,
          2.75,
          3,
          2.75,
          3,
          3,
          2.75,
          2.75,
          3.75,
          2.5,
          2.5,
          2.75,
          2.75,
          3,
          3.5,
          3.5,
          3.5,
          3.5,
          3.5,
          2.5,
          3,
          3,
          3.25,
          3.25,
          2.5,
          2.5,
          2.75,
          2.75,
          3,
          3,
          3,
          3.5,
          3.75,
          2.75,
          3,
          3,
          3.75,
          4,
          4,
          2.75,
          2.75,
          3,
          3,
          3,
          3.5,
          3.25,
          3.5,
          3,
          3.25,
          3.25,
          3.25,
          3.25,
          3.5,
          3.75,
          3,
          3,
          3.5,
          3.5,
          3.5,
          3.75,
          3.75,
          3,
          3,
          3,
          3.5,
          2.75,
          2.75,
          3.75,
          3.75,
          4,
          3.25,
          3,
          3.5,
          3,
          3.25,
          2.5,
          2.75,
          3,
          3,
          2.75,
          3.25,
          3.5,
          3.5,
          3.5,
          3.5,
          3.75,
          3.75,
          4,
          3.25,
          3.25,
          3.25,
          3.25,
          3.5,
          3.5,
          3.5,
          3.5,
          3.75,
          3.75,
          3.75,
          4,
          4,
          3.5,
          3.5,
          3.5,
          3.5,
          4,
          4,
          3,
          4,
          3,
          3.25,
          3,
          3.25,
          3.5,
          3.5,
          3.75,
          1.75,
          2.5,
          2.75,
          3,
          3,
          3.25,
          1.75,
          3.25,
          3.25,
          3.5,
          3.75,
          2.75,
          4,
          3.75,
          3.25,
          2.75,
          3.25,
          3.25,
          3.5,
          2.5,
          3,
          3.75,
          3.75,
          3.75,
          3.75,
          3,
          2.75,
          3,
          3,
          3.5,
          2.5,
          3,
          2.5,
          2.5,
          3,
          3.25,
          3.5,
          3,
          2.75,
          3.5,
          2.5,
          2.75,
          3.25,
          3.25,
          3.5,
          3.75,
          4,
          3.5,
          3.5,
          3.5,
          2.75,
          3.25,
          3.5,
          3.75,
          2.25,
          3,
          3.25,
          2.75,
          2.75,
          2.75,
          2.75,
          2.75,
          2.75,
          2.75,
          3.5,
          3.25,
          3.5,
          3.5,
          3.25,
          3.75,
          2.75,
          3,
          3.5,
          3,
          3,
          3,
          3.75,
          4,
          3.5,
          3.5,
          3.5,
          4,
          2.75,
          3.25,
          3.25,
          3.5,
          3.5,
          3,
          3,
          3.5,
          4,
          2.5,
          2.5,
          2.5,
          3.25,
          3,
          3,
          3.5,
          3,
          3,
          3.5,
          3.75,
          3,
          3.25,
          3.5,
          3.5,
          2.75,
          3,
          3,
          3.25,
          3.75,
          3.5,
          3,
          3,
          3.25,
          2.75,
          2.75,
          2.75,
          3,
          3.75,
          2.75,
          3.25,
          3.25,
          2.75,
          3.5,
          3.5,
          3.75,
          2.75,
          3,
          3.5,
          3.5,
          2.75,
          2.5,
          2.75,
          3.25,
          1.5,
          3,
          3.75,
          3.75,
          3.75,
          4,
          4,
          2.5,
          4,
          2.75,
          3,
          3,
          3,
          3.25,
          3.5,
          3.5,
          3.5,
          3.5,
          3.75,
          4,
          4,
          3.25,
          3.5,
          3.25,
          3.75,
          4,
          3.5,
          4,
          4,
          3.75,
          1.5,
          3.25,
          2.75,
          2.75,
          3.5,
          3.75,
          4,
          3,
          3,
          3.25,
          3.5,
          3.5,
          3.75,
          4,
          3.75,
          3.5,
          3.75,
          3.25,
          3.75,
          2.75,
          3,
          3.25,
          3.25,
          3.25,
          3.5,
          3,
          2.75,
          3,
          3.5,
          3.5,
          3.25,
          2.75,
          2.5,
          3,
          2.5,
          3.25,
          3.25,
          3.25,
          3.5,
          3,
          3.25,
          3.5,
          3,
          3.5,
          3.75,
          2.5,
          2.25,
          2.5,
          2.75,
          2.5,
          2,
          3,
          2,
          3,
          3.5,
          2.5,
          3,
          3.75,
          2.5,
          3.25,
          3.5,
          3.75,
          3.25,
          3.25,
          3.5,
          2.75,
          2.5,
          3,
          3,
          2.75,
          3.25,
          3.5,
          3.5,
          3.75,
          3.75,
          3.75,
          3.5,
          3,
          3.25,
          3.75,
          3.75,
          4,
          4,
          3.25,
          3.5,
          3.5,
          3.5,
          3.75,
          4,
          3.5,
          2.75,
          2.75,
          3,
          3,
          3.25,
          3.5,
          3,
          3.25,
          3.5,
          3.5,
          3.5,
          3.5,
          4,
          1.5,
          2.5,
          3.5,
          3.5,
          1,
          2.75,
          2.25,
          2.5,
          3,
          3.5,
          2.5,
          3,
          3.5,
          2.5,
          2.75,
          3,
          3,
          3.25,
          3.25,
          3.25,
          3.5,
          3.75,
          2,
          2.5,
          2.75,
          3,
          3.25,
          3.5,
          3.5,
          3.75,
          3,
          3.25,
          3.25,
          3.25,
          2.75,
          3,
          3.25,
          3.5,
          3.5,
          3,
          3.25,
          3.25,
          3.5,
          3.5,
          2,
          3,
          3.25,
          2.5,
          2.75,
          3,
          3,
          3.25,
          3.25,
          3.5,
          2.75,
          3.5,
          3.5,
          3.5,
          3.5,
          3.75,
          4,
          3.25,
          3.5,
          3.75,
          4,
          4,
          2.5,
          2.75,
          2.75,
          3,
          2.75,
          2.75,
          3,
          3,
          3.25,
          3,
          3.5,
          3.25,
          3,
          2.75,
          3.5,
          3,
          3.5,
          3.25,
          3.25,
          3.5,
          3.25,
          3,
          3.25,
          2.75,
          3.5,
          2.5,
          3.25,
          2.5,
          2.5,
          2.75,
          3,
          3.75,
          3.75,
          2.5,
          2.5,
          2.5,
          2.75,
          2.75,
          3,
          3,
          3,
          3.25,
          2.75,
          3.25,
          3.5,
          3.75,
          2.5,
          2.75,
          3.25,
          3.75,
          3.75,
          3.75,
          2.75,
          3.25,
          3,
          2.5,
          2.5,
          2.75,
          2.75,
          3,
          3.25,
          3.25,
          3.25,
          3.25,
          3.5,
          2.5,
          2.5,
          3,
          3.5,
          3.25,
          3.25,
          3.25,
          3.5,
          2.5,
          2.5,
          2.5,
          2.75,
          3,
          3,
          3,
          3.5,
          3.75,
          3.75,
          4,
          3.5,
          3.75,
          2.75,
          2.75,
          3.75,
          3,
          3.25,
          3.5,
          3.5,
          3.75,
          4,
          3.75,
          3,
          2.75,
          1,
          3,
          3.75,
          3.75,
          3.5,
          3.5,
          3.5,
          3.5,
          2.25,
          3,
          3.25,
          3.25,
          2.75,
          2.75,
          3.25,
          3.75,
          3.25,
          3.5,
          2.75,
          2.5,
          2.5,
          3.25,
          3.5,
          3,
          3,
          3,
          3,
          3.25,
          3.5,
          3.75,
          2.5,
          3,
          3,
          3.25,
          3.25,
          3.25,
          1.5,
          3.5,
          3.5,
          3.75,
          3.25,
          3.75,
          1,
          3.25,
          3.25,
          3.25,
          3.25,
          3.5,
          2.5,
          2.75,
          3.25,
          3.75,
          3.25,
          3.25,
          3.25,
          3.5,
          3.75,
          3.25,
          3.5,
          3.5,
          3.5,
          3.75,
          3.25,
          2.75,
          2.75,
          2.25,
          2.75,
          3,
          3.5,
          2.5,
          2.5,
          3,
          3.5,
          3,
          3.25,
          3.75,
          2.75,
          3.25,
          3.5,
          3.5,
          2.75,
          3.5,
          3.5,
          3.75,
          3,
          3.75,
          3,
          3,
          3.25,
          3.5,
          3.5,
          2.75,
          2.75,
          3.25,
          3.25,
          3.5,
          3.5,
          4,
          3.25,
          3.25,
          3.25,
          3,
          3,
          3.25,
          3.5,
          3,
          3.25,
          3.75,
          3.75,
          4,
          3.25,
          2.75,
          3,
          3.25,
          3,
          3.25,
          3,
          3,
          3.25,
          3.25,
          3.25,
          3.25,
          2.5,
          2.75,
          2.75,
          3.5,
          3.5,
          2.5,
          3,
          2.5,
          3,
          3,
          3,
          3,
          3,
          3.75,
          3,
          2.5,
          2.5,
          3,
          2.5,
          3,
          3.5,
          3.5,
          2.75,
          2.75,
          2.75,
          3,
          3.25,
          2.75,
          3.25,
          3.5,
          3.5,
          3.75,
          3.5,
          3.75,
          3.75,
          4,
          3.75,
          3.75,
          4,
          3.5,
          3.75,
          4,
          2.5,
          2.75,
          3,
          3,
          3.25,
          3.25,
          3.5,
          3,
          3.75,
          1.5,
          3,
          3,
          3.25,
          3.5,
          3.25,
          3.25,
          3.5,
          3.5,
          3.75,
          4,
          4,
          4,
          3,
          3,
          3.5,
          3.75,
          3,
          3.5,
          3.5,
          3.75,
          3,
          3.75,
          3.75,
          4,
          2.5,
          2.75,
          2.75,
          2.75,
          2.75,
          3.5,
          3.5,
          3.25,
          2.5,
          2.75,
          3,
          2.5,
          3.5,
          3.75,
          3.75,
          3,
          3.25,
          3.5,
          3.5,
          3.75,
          3.75,
          3.5,
          3.75,
          4,
          2.75,
          3.25,
          3.5,
          3.5,
          3.25,
          2.75,
          3.25,
          3.25,
          3.5,
          3.5,
          4,
          4,
          3.25,
          3.5,
          3.75,
          3.25,
          3.25,
          2.75,
          3.5,
          3,
          3,
          3,
          2.75,
          3.75,
          2.75,
          2.5,
          2.5,
          3,
          2.75,
          3,
          3.75,
          3.5,
          2.75,
          3.25,
          3,
          3.5,
          3.25,
          3.5,
          3.5,
          3.5,
          3.25,
          3,
          2.5,
          3,
          3.5,
          3.25,
          3,
          3.25,
          3.25,
          3,
          2,
          2.75,
          3.5,
          2.75,
          3,
          3.5,
          2.5,
          2.5,
          2.5,
          2.5,
          2.75,
          3,
          3.5,
          3.75,
          3.5,
          3,
          3,
          2.75,
          2.5,
          2.75,
          3,
          2,
          3,
          3,
          3,
          3.5,
          4,
          3.5,
          2.25,
          2.5,
          3,
          3.25,
          2.75,
          2.75,
          3,
          3.25,
          3.25,
          3.5,
          3.5,
          3.75,
          2.75,
          2.75,
          3,
          3.5,
          3,
          3.5,
          3.5,
          2.75,
          2.75,
          2.75,
          2.75,
          3.5,
          3.75,
          2.75,
          3,
          3,
          3.25,
          3.5,
          3,
          3.5,
          3.5,
          3.5,
          3,
          3,
          3,
          3,
          3.25,
          3.75,
          3.75,
          3.5,
          3.75,
          3.5,
          3.75,
          2.5,
          3,
          3,
          3.25,
          3.5,
          3.5,
          3.5,
          3,
          3.5,
          3.5,
          3.5,
          3.5,
          2,
          2.5,
          3.5,
          3.5,
          3,
          3.25,
          3.5,
          3.5,
          3.25,
          2.75,
          3,
          3.25,
          3.5,
          2.75,
          2.75,
          3,
          3.25,
          3.25,
          3.25,
          3.5,
          3.5,
          4,
          3,
          3.5,
          3.5,
          4,
          4,
          3.25,
          3.75,
          3.75,
          4,
          3,
          3.5,
          3.5,
          3.5,
          3.5,
          3.5,
          3.75,
          3.25,
          3.5,
          3,
          3.25,
          3.25,
          3.5,
          3.5,
          3.5,
          3.75,
          4,
          3.5,
          3.75,
          3.5,
          3.5,
          4,
          3.5,
          3.75,
          3,
          3,
          3.25,
          3.25,
          3.5,
          3.5,
          3.75,
          3.75,
          3.75,
          4,
          4,
          3.25,
          3.5,
          3.5,
          3.25,
          3.25,
          3.25,
          3.75,
          3.25,
          3.5,
          3.5,
          3,
          3.25,
          3,
          3.25,
          2.5,
          3,
          3.75,
          3,
          3.75,
          3.75,
          4,
          3.5,
          3.75,
          3.25,
          3.75,
          3.75,
          2.5,
          3,
          3,
          3.5,
          2.5,
          3.25,
          3.5,
          3.5,
          3.5,
          4,
          3.5,
          3.5,
          2.75,
          2.75,
          3,
          3.5,
          2.75,
          3.25,
          3.25,
          3.25,
          2.5,
          3,
          3.75,
          2.75,
          3,
          3.25,
          3.25,
          3,
          3.5,
          3.5,
          3.5,
          3.5,
          2.5,
          3.5,
          2.5,
          3,
          2.5,
          2.75,
          3.25,
          3,
          3,
          3,
          3,
          3.25,
          2.75,
          2.5,
          3,
          3,
          3.5,
          3.5,
          3.5,
          3.5,
          3,
          3,
          3.5,
          3,
          3,
          3.5,
          3,
          2.75,
          3.25,
          3.25,
          2.75,
          2.75,
          3.25,
          3.5,
          3.75,
          2,
          2.75,
          2.75,
          2.75,
          3,
          3,
          3.25,
          3.25,
          3.5,
          2.5,
          2.75,
          3,
          3,
          3,
          3.5,
          3.5,
          3.25,
          3,
          3,
          3.25,
          2.75,
          3.25,
          3.5,
          3.5,
          2.75,
          2.5,
          2.5,
          3,
          3.25,
          3.5,
          3,
          3.5,
          3.75,
          3.75,
          3.5,
          3.5,
          3.5,
          3.75,
          4,
          2.75,
          3.5,
          2.75,
          3.25,
          2.75,
          3,
          3,
          3.25,
          3.25,
          2.25,
          2.5,
          2.75,
          3,
          3.5,
          2.75,
          2.75,
          3.25,
          3.5,
          3.25,
          3.5,
          2,
          2.5,
          3,
          3.25,
          3.5,
          2.5,
          2.75,
          3.5,
          3.75,
          3.5,
          3.5,
          3.5,
          3.5,
          2.75,
          2.5,
          1.75,
          4,
          2.75,
          2.75,
          3,
          3,
          2.5,
          2.75,
          3,
          3,
          2.75,
          2.75,
          3,
          3,
          3,
          3.25,
          3.5,
          2.5,
          2.75,
          2.75,
          3,
          3,
          3,
          3.5,
          3.5,
          3.25,
          3.75,
          3,
          3,
          3,
          3.5,
          3.75,
          3.5,
          3.25,
          3.5,
          3.75,
          3.75,
          3.75,
          4,
          4,
          4,
          4,
          3.75,
          2.5,
          3,
          3.25,
          2.75,
          3,
          2.25,
          3.25,
          3.25,
          3.5,
          2.75,
          2.75,
          3.5,
          2,
          3.25,
          3,
          3,
          3.5,
          3.5,
          3.5,
          3.5,
          3.75,
          3,
          3.25,
          3.25,
          2.75,
          2.75,
          3,
          3.5,
          3.5,
          3.75,
          3,
          3.25,
          3.25,
          3.5,
          3.75,
          3.75,
          3.75,
          3,
          3,
          3.5,
          3.75,
          3.75,
          3,
          3,
          3.25,
          3.75,
          2.5,
          2.5,
          2.5,
          2.75,
          2.75,
          3,
          3,
          3,
          3.5,
          2.75,
          2.75,
          3.25,
          3.5,
          3.75,
          2,
          3.25,
          3,
          3,
          3,
          3.25,
          3,
          3.25,
          3.75,
          3,
          3.25,
          2.5,
          2.75,
          3,
          3.25,
          3.25,
          3.25,
          3.25,
          2.75,
          3.25,
          3.75,
          3.75,
          2.5,
          2.5,
          3,
          3,
          3,
          3.5,
          3,
          3.25,
          3.75,
          3.75,
          3.25,
          3.75,
          4,
          3,
          2.25,
          2.5,
          3,
          3,
          3,
          3,
          3.25,
          3.25,
          3.5,
          3.5,
          3.5,
          3.5,
          3,
          3.25,
          3.5,
          3.75,
          3.5,
          3.5,
          2.75,
          3.25,
          3.25,
          2.5,
          3.25,
          3,
          3.5,
          3.5,
          2.75,
          2.75,
          2.75,
          2.75,
          3,
          3,
          3.25,
          3.25,
          3.5,
          3.75,
          3.5,
          2.5,
          3,
          3,
          3,
          3.5,
          3,
          3.25,
          3.5,
          3.75,
          2.75,
          3.25,
          3.5,
          3.5,
          3,
          3.25,
          3.25,
          3.5,
          3.5,
          3.25,
          3.25,
          3.5,
          4,
          3.75,
          3.25,
          3.25,
          3.5,
          3.75,
          3.5,
          3,
          2.75,
          3,
          3.5,
          3.5,
          3.5,
          3.75,
          3,
          2.5,
          3,
          3,
          2.5,
          3,
          3,
          3.5,
          3.25,
          3.75,
          3.75,
          2.75,
          3,
          2,
          2.5,
          3,
          3.25,
          3.5,
          3.25,
          3,
          3.25,
          3.25,
          2.75,
          3,
          3,
          3.5,
          3,
          3.25,
          3.25,
          3.25,
          3.5,
          2.25,
          1.5,
          2.5,
          2.75,
          3.5,
          3.5,
          3.75,
          4,
          2.5,
          2.75,
          2.5,
          2.75,
          3.25,
          3.25,
          3.5,
          2.75,
          2.75,
          2.75,
          3.5,
          3.5,
          2,
          3,
          3.25,
          3.75,
          2,
          2.75,
          3.5,
          3.5,
          2.75,
          2.75,
          3.5,
          3,
          3.75,
          2.5,
          2.75,
          2.5,
          2.75,
          2.75,
          3,
          3.25,
          3.25,
          3.75,
          3.5,
          3.75,
          3.25,
          3.5,
          3.25,
          3.25,
          3.5,
          3.5,
          3.75,
          3.5,
          3.75,
          2.75,
          2.75,
          3,
          3.5,
          3.5,
          3.5,
          3.5,
          3.5,
          3.5,
          3.25,
          3,
          3,
          3.25,
          3.5,
          2.75,
          3.25,
          3.5,
          2.75,
          2.75,
          3.25,
          3.25,
          2.75,
          3,
          3.5,
          3.5,
          3.5,
          3.5,
          3.5,
          3.5,
          3.25,
          3.5,
          3.75,
          3.5,
          3,
          3,
          3.25,
          3.5,
          2.25,
          2.5,
          2.75,
          3,
          3.25,
          2.75,
          3,
          3.25,
          2.75,
          2.75,
          3,
          3,
          3,
          3.25,
          3.5,
          3.5,
          3.75,
          2.5,
          2.75,
          3.5,
          3.75,
          3,
          3.25,
          3.5,
          3.75,
          4,
          4,
          3.5,
          3.25,
          3.25,
          3.25,
          3.5,
          3,
          3,
          3.25,
          3,
          2.5,
          3.25,
          2.5,
          2.75,
          3,
          3,
          3.5,
          2.5,
          2.75,
          3.25,
          3.25,
          2.5,
          2.5,
          3.25,
          3.25,
          3.5,
          3.5,
          2.75,
          3,
          2.5,
          3,
          3.5,
          3.25,
          3.75,
          3.5,
          3.5,
          2,
          2,
          2,
          3,
          3.75,
          3.75,
          3.75,
          3.5,
          3.5,
          3.75,
          3.25,
          3,
          3.5,
          1.5,
          2,
          2.5,
          2.5,
          3.25,
          3.25,
          3.5,
          3.5,
          3.5,
          3.75,
          3.75,
          3,
          3.25,
          3.25,
          3.5,
          3.5,
          2.5,
          3,
          3,
          3,
          2.75,
          3,
          3,
          3,
          3.25,
          3.5,
          3.75,
          2.75,
          2.75,
          3.5,
          3,
          3.25,
          3.5,
          3.5,
          3.75,
          3.5,
          3.5,
          3.75,
          3,
          2.5,
          2.75,
          3,
          3.25,
          2.5,
          3,
          3,
          3.5,
          3.75,
          2.75,
          3.25,
          2.75,
          3,
          3.25,
          2.75,
          2.75,
          3.25,
          3.5,
          3.5,
          3.25,
          3.25,
          3.5,
          3.75,
          3.25,
          3.5,
          3.5,
          3,
          3.5,
          3.5,
          3.5,
          2.75,
          2.75,
          2.75,
          3,
          2.5,
          3,
          2.5,
          3.75,
          3.75,
          2.75,
          3,
          3.25,
          2.75,
          3.25,
          3.5,
          2.25,
          2.5,
          2.5,
          3.5,
          3.25,
          2,
          2.75,
          3,
          1,
          3.75,
          2.5,
          2.25,
          2.75,
          3,
          3,
          3,
          2.75,
          3.5,
          3.75,
          3,
          2.75,
          3,
          3,
          2.75,
          3.25,
          3,
          3,
          3.25,
          3,
          3,
          2.75,
          3,
          3.25,
          2.75,
          3,
          3.5,
          3.75,
          3.75,
          3,
          3.25,
          3.5,
          2.5,
          3.75,
          3.75,
          3.75,
          4,
          2.75,
          3,
          3.25,
          3.5,
          2.75,
          3.5,
          3,
          3,
          3.25,
          3.25,
          3.25,
          3.75,
          3.75,
          3,
          3,
          3.25,
          3.25,
          3.5,
          3.75,
          2.75,
          3,
          3.5,
          3.75,
          2.75,
          3,
          3,
          3,
          2,
          2.75,
          2.75,
          3,
          2.75,
          3,
          3.5,
          3.75,
          3,
          3.25,
          3.25,
          3.5,
          2.75,
          3.25,
          3.25,
          3.5,
          2.75,
          2.75,
          2.75,
          3,
          3,
          3,
          3,
          3,
          3.25,
          3.75,
          2.75,
          3.25,
          3,
          3,
          3,
          3,
          2,
          2.75,
          3,
          3,
          3.5,
          3.5,
          2.75,
          4,
          3.25,
          3.5,
          3.75,
          4,
          4,
          3.25,
          3.5,
          3.75,
          2.75,
          2.75,
          3.5,
          3.75,
          3.75,
          3.25,
          3.25,
          3.5,
          3.75,
          2.75,
          3,
          2.75,
          2.75,
          3.5,
          3.5,
          3,
          2.75,
          3,
          3.25,
          3.25,
          3.25,
          3.5,
          3.5,
          3,
          3.5,
          3.5,
          3.25,
          2.75,
          2.75,
          3,
          2.5,
          2.75,
          4,
          3.5,
          3.5,
          4,
          3.75,
          4,
          2.25,
          2.75,
          3,
          3,
          3.25,
          3,
          3.75,
          4,
          3.5,
          3.75,
          4,
          4,
          3,
          3,
          3,
          3,
          3.25,
          3.75,
          3.25,
          3,
          3,
          3.5,
          3,
          3.5,
          3.5,
          2.5,
          2.5,
          3.25,
          3.25,
          3.5,
          2.5,
          2.75,
          2.75,
          2.75,
          3.25,
          3,
          3,
          3.25,
          2.5,
          2.75,
          2.75,
          3,
          3,
          3.75,
          2.75,
          3,
          3.5,
          3.5,
          3.75,
          3.75,
          4,
          3.75,
          3.75,
          3,
          3,
          3,
          3,
          3.5,
          3.75,
          3.75,
          4,
          2,
          3,
          3.5,
          2,
          3.5,
          3.25,
          3.25,
          3,
          3,
          3,
          3,
          3,
          3.25,
          3.25,
          3.5,
          3.5,
          3.5,
          3.25,
          3.25,
          2.75,
          2.75,
          2.75,
          3,
          3.25,
          2.75,
          3.5,
          3.5,
          3.5,
          3.75,
          3.25,
          2.75,
          3.25,
          3.25,
          3.5,
          3.5,
          3.75,
          3,
          3.25,
          2.75,
          3.25,
          3.25,
          3.5,
          3,
          3.75,
          3.5,
          4,
          3.75,
          2.75,
          3,
          3.5,
          3.25,
          2.75,
          3,
          3.25,
          3.5,
          2.75,
          3,
          2.5,
          3.25,
          3.5,
          3.25,
          3.25,
          3.5,
          3.75,
          3.75,
          3.5,
          3.5,
          3.5,
          2.5,
          3,
          3.5,
          3.75,
          2.5,
          3.25,
          3.5,
          3.25,
          3.5,
          4,
          3,
          3.75,
          3.5,
          3.5,
          3.75,
          3.75,
          3.5,
          3.5,
          3.5,
          3,
          2.5,
          2.5,
          3.25,
          3.25,
          3.25,
          3.25,
          3.25,
          3.5,
          2.75,
          2.75,
          3,
          3,
          3.5,
          3.75,
          3,
          3.75,
          3.5,
          3.5,
          3.75,
          4,
          3.75,
          3.25,
          3.75,
          3.75,
          2.5,
          2.75,
          3.5,
          3.5,
          2.25,
          2.5,
          2.5,
          3.75,
          3.75,
          2.75,
          3,
          3.5,
          2.75,
          3.5,
          1.5,
          3,
          3.5,
          3.5,
          3.5,
          2.75,
          3.25,
          3.5,
          3.5,
          3.5,
          3.5,
          3.25,
          2,
          3,
          3.75,
          2.75,
          3,
          2.75,
          2,
          2,
          2,
          3,
          3.5,
          3,
          3,
          3,
          3.75,
          3,
          3.75,
          3.75,
          4,
          3.5,
          3.75,
          3.75,
          4,
          2.75,
          2.75,
          2.75,
          3,
          3.25,
          2.75,
          3.5,
          3.25,
          3.5,
          3.5,
          3.5,
          3,
          3,
          3.5,
          3,
          3.25,
          2.75,
          3.25,
          3.5,
          3.5,
          2,
          2.5,
          3.5,
          3.25,
          3.25,
          3.5,
          2.5,
          3,
          3,
          3.25,
          3.25,
          3.75,
          3.75,
          3.75,
          3,
          3,
          3,
          3.25,
          3.25,
          3.5,
          3.5,
          3.75,
          3.75,
          3,
          3.25,
          2.75,
          3,
          2.75,
          3,
          3.25,
          3.5,
          3.5,
          3.75,
          3.75,
          3.75,
          4,
          3,
          3.25,
          3.75,
          3.75,
          3.75,
          4,
          3.5,
          3.5,
          3,
          3.25,
          1.5,
          3.25,
          2.75,
          3,
          3.5,
          2.75,
          2.75,
          2.5,
          3.25,
          3.25,
          3,
          3,
          3.25,
          3.25,
          3.5,
          3,
          3.25,
          3.25,
          3.5,
          3,
          3,
          3.5,
          3.5,
          3.75,
          3.75,
          3.75,
          2.75,
          3.5,
          3.5,
          3.75,
          4,
          4,
          3.25,
          3.5,
          3.5,
          3.5,
          3.75,
          3.75,
          4,
          4,
          2.75,
          3.25,
          3.25,
          3.25,
          3.75,
          3.75,
          3.75,
          4,
          4,
          4,
          4,
          3.25,
          3.25,
          3.5,
          3.5,
          3.75,
          3.75,
          3.5,
          4,
          3.25,
          3.5,
          3.5,
          3.5,
          3.75,
          3.75,
          4,
          3.25,
          4,
          3,
          4,
          4,
          3.25,
          3.5,
          3.5,
          4,
          3.25,
          3.5,
          3.25,
          3.25,
          3.25,
          3.5,
          3.5,
          3.5,
          3,
          3,
          3.25,
          2.75,
          3.5,
          3.75,
          3.75,
          2.75,
          3.5,
          3.75,
          3.25,
          3.5,
          3.5,
          3,
          2.25,
          3,
          3,
          3,
          3,
          3,
          3,
          3.25,
          2.75,
          3.5,
          3.5,
          2.5,
          2.5,
          2.5,
          2.75,
          2.75,
          3.25,
          2.5,
          3,
          2.75,
          3,
          2.75,
          2.75,
          3,
          3,
          3.5,
          3.75,
          2.5,
          2.75,
          3,
          3,
          3.25,
          3,
          3.25,
          3.25,
          3,
          3.25,
          3.25,
          3.75,
          3.25,
          3.5,
          3.5,
          3.5,
          3.75,
          3.25,
          3.25,
          3.25,
          3.25,
          3.5,
          3.75,
          2.5,
          2.75,
          2.75,
          3,
          2.75,
          3,
          3.25,
          3.25,
          2.75,
          3,
          3.25,
          3,
          3.25,
          4,
          3,
          3,
          3.25,
          2.75,
          3,
          2.75,
          3.25,
          3,
          2.5,
          2.5,
          2.5,
          2.75,
          2.75,
          3,
          3.25,
          2,
          2,
          2.75,
          2.75,
          2.75,
          3,
          3,
          3,
          3,
          3.25,
          3.25,
          3.25,
          3.25,
          3.5,
          3.5,
          3.25,
          3.75,
          3.75,
          2.75,
          3.25,
          3.5,
          3.75,
          3.75,
          3.75,
          2.75,
          3,
          3.25,
          3,
          2,
          2.5,
          3,
          3,
          3.5,
          3.25,
          3.25,
          3.5,
          3,
          3.25,
          3.75,
          2.75,
          3.25,
          3.25,
          4,
          2.75,
          3,
          3,
          2.75,
          3,
          3.5,
          2.75,
          3.5,
          3,
          2.75,
          3.25,
          3.25,
          3.25,
          3.75,
          3.25,
          3,
          3.5,
          2.75,
          2.75,
          3,
          3.5,
          2.75,
          2.5,
          3.25,
          3.5,
          2.75,
          3.5,
          3.25,
          3,
          3.75,
          2.75,
          3,
          3.25,
          2.75,
          3,
          3,
          3.25,
          3.25,
          3.75,
          3.75,
          3.5,
          2.5,
          3,
          3,
          3.5,
          3.75,
          1.5,
          2.5,
          2.75,
          3,
          3.25,
          3.75,
          4,
          3.5,
          3.75,
          3.75,
          3.25,
          4,
          4,
          3.5,
          3.5,
          4,
          3.25,
          2.5,
          2.75,
          2.75,
          2.75,
          2.75,
          3,
          3,
          3.25,
          3.25,
          3.25,
          2.75,
          3,
          3.25,
          3.25,
          3.75,
          3.25,
          3.5,
          3.5,
          2.75,
          3,
          3.5,
          3.5,
          3.5,
          3,
          2,
          2,
          3,
          3,
          2.75,
          2.75,
          3,
          3,
          3.25,
          2.5,
          2.5,
          3,
          2.5,
          2.5,
          3.5,
          3.5,
          3,
          3,
          3,
          3.5,
          3.5,
          3.75,
          3.75,
          2.5,
          2.5,
          2.75,
          2.75,
          3.25,
          3,
          3.25,
          3,
          3.5,
          3.75,
          2.25,
          3,
          4,
          3,
          3.5,
          3.75,
          3.25,
          3.5,
          3.5,
          3.5,
          4,
          2.5,
          3,
          3.25,
          3.25,
          3.5,
          3,
          3,
          3,
          2.75,
          3,
          3.25,
          3.25,
          3.5,
          3.5,
          2.5,
          2.75,
          3.25,
          3.5,
          3.5,
          3,
          3,
          3,
          3.25,
          3.25,
          3.25,
          3.5,
          2.75,
          2.75,
          3,
          3.5,
          3.5,
          3.5,
          3.5,
          3.5,
          3.75,
          3.25,
          3.75,
          3,
          3,
          3.25,
          3.75,
          3,
          3,
          3.25,
          3.5,
          3.75,
          3,
          3,
          3,
          3.25,
          3.25,
          3.5,
          3.5,
          3.5,
          3.5,
          3.75,
          3.75,
          2.75,
          3.75,
          3,
          3.25,
          3.5
         ],
         "y0": " ",
         "yaxis": "y"
        }
       ],
       "layout": {
        "boxmode": "group",
        "height": 500,
        "legend": {
         "tracegroupgap": 0
        },
        "margin": {
         "t": 60
        },
        "template": {
         "data": {
          "bar": [
           {
            "error_x": {
             "color": "#2a3f5f"
            },
            "error_y": {
             "color": "#2a3f5f"
            },
            "marker": {
             "line": {
              "color": "#E5ECF6",
              "width": 0.5
             },
             "pattern": {
              "fillmode": "overlay",
              "size": 10,
              "solidity": 0.2
             }
            },
            "type": "bar"
           }
          ],
          "barpolar": [
           {
            "marker": {
             "line": {
              "color": "#E5ECF6",
              "width": 0.5
             },
             "pattern": {
              "fillmode": "overlay",
              "size": 10,
              "solidity": 0.2
             }
            },
            "type": "barpolar"
           }
          ],
          "carpet": [
           {
            "aaxis": {
             "endlinecolor": "#2a3f5f",
             "gridcolor": "white",
             "linecolor": "white",
             "minorgridcolor": "white",
             "startlinecolor": "#2a3f5f"
            },
            "baxis": {
             "endlinecolor": "#2a3f5f",
             "gridcolor": "white",
             "linecolor": "white",
             "minorgridcolor": "white",
             "startlinecolor": "#2a3f5f"
            },
            "type": "carpet"
           }
          ],
          "choropleth": [
           {
            "colorbar": {
             "outlinewidth": 0,
             "ticks": ""
            },
            "type": "choropleth"
           }
          ],
          "contour": [
           {
            "colorbar": {
             "outlinewidth": 0,
             "ticks": ""
            },
            "colorscale": [
             [
              0,
              "#0d0887"
             ],
             [
              0.1111111111111111,
              "#46039f"
             ],
             [
              0.2222222222222222,
              "#7201a8"
             ],
             [
              0.3333333333333333,
              "#9c179e"
             ],
             [
              0.4444444444444444,
              "#bd3786"
             ],
             [
              0.5555555555555556,
              "#d8576b"
             ],
             [
              0.6666666666666666,
              "#ed7953"
             ],
             [
              0.7777777777777778,
              "#fb9f3a"
             ],
             [
              0.8888888888888888,
              "#fdca26"
             ],
             [
              1,
              "#f0f921"
             ]
            ],
            "type": "contour"
           }
          ],
          "contourcarpet": [
           {
            "colorbar": {
             "outlinewidth": 0,
             "ticks": ""
            },
            "type": "contourcarpet"
           }
          ],
          "heatmap": [
           {
            "colorbar": {
             "outlinewidth": 0,
             "ticks": ""
            },
            "colorscale": [
             [
              0,
              "#0d0887"
             ],
             [
              0.1111111111111111,
              "#46039f"
             ],
             [
              0.2222222222222222,
              "#7201a8"
             ],
             [
              0.3333333333333333,
              "#9c179e"
             ],
             [
              0.4444444444444444,
              "#bd3786"
             ],
             [
              0.5555555555555556,
              "#d8576b"
             ],
             [
              0.6666666666666666,
              "#ed7953"
             ],
             [
              0.7777777777777778,
              "#fb9f3a"
             ],
             [
              0.8888888888888888,
              "#fdca26"
             ],
             [
              1,
              "#f0f921"
             ]
            ],
            "type": "heatmap"
           }
          ],
          "heatmapgl": [
           {
            "colorbar": {
             "outlinewidth": 0,
             "ticks": ""
            },
            "colorscale": [
             [
              0,
              "#0d0887"
             ],
             [
              0.1111111111111111,
              "#46039f"
             ],
             [
              0.2222222222222222,
              "#7201a8"
             ],
             [
              0.3333333333333333,
              "#9c179e"
             ],
             [
              0.4444444444444444,
              "#bd3786"
             ],
             [
              0.5555555555555556,
              "#d8576b"
             ],
             [
              0.6666666666666666,
              "#ed7953"
             ],
             [
              0.7777777777777778,
              "#fb9f3a"
             ],
             [
              0.8888888888888888,
              "#fdca26"
             ],
             [
              1,
              "#f0f921"
             ]
            ],
            "type": "heatmapgl"
           }
          ],
          "histogram": [
           {
            "marker": {
             "pattern": {
              "fillmode": "overlay",
              "size": 10,
              "solidity": 0.2
             }
            },
            "type": "histogram"
           }
          ],
          "histogram2d": [
           {
            "colorbar": {
             "outlinewidth": 0,
             "ticks": ""
            },
            "colorscale": [
             [
              0,
              "#0d0887"
             ],
             [
              0.1111111111111111,
              "#46039f"
             ],
             [
              0.2222222222222222,
              "#7201a8"
             ],
             [
              0.3333333333333333,
              "#9c179e"
             ],
             [
              0.4444444444444444,
              "#bd3786"
             ],
             [
              0.5555555555555556,
              "#d8576b"
             ],
             [
              0.6666666666666666,
              "#ed7953"
             ],
             [
              0.7777777777777778,
              "#fb9f3a"
             ],
             [
              0.8888888888888888,
              "#fdca26"
             ],
             [
              1,
              "#f0f921"
             ]
            ],
            "type": "histogram2d"
           }
          ],
          "histogram2dcontour": [
           {
            "colorbar": {
             "outlinewidth": 0,
             "ticks": ""
            },
            "colorscale": [
             [
              0,
              "#0d0887"
             ],
             [
              0.1111111111111111,
              "#46039f"
             ],
             [
              0.2222222222222222,
              "#7201a8"
             ],
             [
              0.3333333333333333,
              "#9c179e"
             ],
             [
              0.4444444444444444,
              "#bd3786"
             ],
             [
              0.5555555555555556,
              "#d8576b"
             ],
             [
              0.6666666666666666,
              "#ed7953"
             ],
             [
              0.7777777777777778,
              "#fb9f3a"
             ],
             [
              0.8888888888888888,
              "#fdca26"
             ],
             [
              1,
              "#f0f921"
             ]
            ],
            "type": "histogram2dcontour"
           }
          ],
          "mesh3d": [
           {
            "colorbar": {
             "outlinewidth": 0,
             "ticks": ""
            },
            "type": "mesh3d"
           }
          ],
          "parcoords": [
           {
            "line": {
             "colorbar": {
              "outlinewidth": 0,
              "ticks": ""
             }
            },
            "type": "parcoords"
           }
          ],
          "pie": [
           {
            "automargin": true,
            "type": "pie"
           }
          ],
          "scatter": [
           {
            "marker": {
             "colorbar": {
              "outlinewidth": 0,
              "ticks": ""
             }
            },
            "type": "scatter"
           }
          ],
          "scatter3d": [
           {
            "line": {
             "colorbar": {
              "outlinewidth": 0,
              "ticks": ""
             }
            },
            "marker": {
             "colorbar": {
              "outlinewidth": 0,
              "ticks": ""
             }
            },
            "type": "scatter3d"
           }
          ],
          "scattercarpet": [
           {
            "marker": {
             "colorbar": {
              "outlinewidth": 0,
              "ticks": ""
             }
            },
            "type": "scattercarpet"
           }
          ],
          "scattergeo": [
           {
            "marker": {
             "colorbar": {
              "outlinewidth": 0,
              "ticks": ""
             }
            },
            "type": "scattergeo"
           }
          ],
          "scattergl": [
           {
            "marker": {
             "colorbar": {
              "outlinewidth": 0,
              "ticks": ""
             }
            },
            "type": "scattergl"
           }
          ],
          "scattermapbox": [
           {
            "marker": {
             "colorbar": {
              "outlinewidth": 0,
              "ticks": ""
             }
            },
            "type": "scattermapbox"
           }
          ],
          "scatterpolar": [
           {
            "marker": {
             "colorbar": {
              "outlinewidth": 0,
              "ticks": ""
             }
            },
            "type": "scatterpolar"
           }
          ],
          "scatterpolargl": [
           {
            "marker": {
             "colorbar": {
              "outlinewidth": 0,
              "ticks": ""
             }
            },
            "type": "scatterpolargl"
           }
          ],
          "scatterternary": [
           {
            "marker": {
             "colorbar": {
              "outlinewidth": 0,
              "ticks": ""
             }
            },
            "type": "scatterternary"
           }
          ],
          "surface": [
           {
            "colorbar": {
             "outlinewidth": 0,
             "ticks": ""
            },
            "colorscale": [
             [
              0,
              "#0d0887"
             ],
             [
              0.1111111111111111,
              "#46039f"
             ],
             [
              0.2222222222222222,
              "#7201a8"
             ],
             [
              0.3333333333333333,
              "#9c179e"
             ],
             [
              0.4444444444444444,
              "#bd3786"
             ],
             [
              0.5555555555555556,
              "#d8576b"
             ],
             [
              0.6666666666666666,
              "#ed7953"
             ],
             [
              0.7777777777777778,
              "#fb9f3a"
             ],
             [
              0.8888888888888888,
              "#fdca26"
             ],
             [
              1,
              "#f0f921"
             ]
            ],
            "type": "surface"
           }
          ],
          "table": [
           {
            "cells": {
             "fill": {
              "color": "#EBF0F8"
             },
             "line": {
              "color": "white"
             }
            },
            "header": {
             "fill": {
              "color": "#C8D4E3"
             },
             "line": {
              "color": "white"
             }
            },
            "type": "table"
           }
          ]
         },
         "layout": {
          "annotationdefaults": {
           "arrowcolor": "#2a3f5f",
           "arrowhead": 0,
           "arrowwidth": 1
          },
          "autotypenumbers": "strict",
          "coloraxis": {
           "colorbar": {
            "outlinewidth": 0,
            "ticks": ""
           }
          },
          "colorscale": {
           "diverging": [
            [
             0,
             "#8e0152"
            ],
            [
             0.1,
             "#c51b7d"
            ],
            [
             0.2,
             "#de77ae"
            ],
            [
             0.3,
             "#f1b6da"
            ],
            [
             0.4,
             "#fde0ef"
            ],
            [
             0.5,
             "#f7f7f7"
            ],
            [
             0.6,
             "#e6f5d0"
            ],
            [
             0.7,
             "#b8e186"
            ],
            [
             0.8,
             "#7fbc41"
            ],
            [
             0.9,
             "#4d9221"
            ],
            [
             1,
             "#276419"
            ]
           ],
           "sequential": [
            [
             0,
             "#0d0887"
            ],
            [
             0.1111111111111111,
             "#46039f"
            ],
            [
             0.2222222222222222,
             "#7201a8"
            ],
            [
             0.3333333333333333,
             "#9c179e"
            ],
            [
             0.4444444444444444,
             "#bd3786"
            ],
            [
             0.5555555555555556,
             "#d8576b"
            ],
            [
             0.6666666666666666,
             "#ed7953"
            ],
            [
             0.7777777777777778,
             "#fb9f3a"
            ],
            [
             0.8888888888888888,
             "#fdca26"
            ],
            [
             1,
             "#f0f921"
            ]
           ],
           "sequentialminus": [
            [
             0,
             "#0d0887"
            ],
            [
             0.1111111111111111,
             "#46039f"
            ],
            [
             0.2222222222222222,
             "#7201a8"
            ],
            [
             0.3333333333333333,
             "#9c179e"
            ],
            [
             0.4444444444444444,
             "#bd3786"
            ],
            [
             0.5555555555555556,
             "#d8576b"
            ],
            [
             0.6666666666666666,
             "#ed7953"
            ],
            [
             0.7777777777777778,
             "#fb9f3a"
            ],
            [
             0.8888888888888888,
             "#fdca26"
            ],
            [
             1,
             "#f0f921"
            ]
           ]
          },
          "colorway": [
           "#636efa",
           "#EF553B",
           "#00cc96",
           "#ab63fa",
           "#FFA15A",
           "#19d3f3",
           "#FF6692",
           "#B6E880",
           "#FF97FF",
           "#FECB52"
          ],
          "font": {
           "color": "#2a3f5f"
          },
          "geo": {
           "bgcolor": "white",
           "lakecolor": "white",
           "landcolor": "#E5ECF6",
           "showlakes": true,
           "showland": true,
           "subunitcolor": "white"
          },
          "hoverlabel": {
           "align": "left"
          },
          "hovermode": "closest",
          "mapbox": {
           "style": "light"
          },
          "paper_bgcolor": "white",
          "plot_bgcolor": "#E5ECF6",
          "polar": {
           "angularaxis": {
            "gridcolor": "white",
            "linecolor": "white",
            "ticks": ""
           },
           "bgcolor": "#E5ECF6",
           "radialaxis": {
            "gridcolor": "white",
            "linecolor": "white",
            "ticks": ""
           }
          },
          "scene": {
           "xaxis": {
            "backgroundcolor": "#E5ECF6",
            "gridcolor": "white",
            "gridwidth": 2,
            "linecolor": "white",
            "showbackground": true,
            "ticks": "",
            "zerolinecolor": "white"
           },
           "yaxis": {
            "backgroundcolor": "#E5ECF6",
            "gridcolor": "white",
            "gridwidth": 2,
            "linecolor": "white",
            "showbackground": true,
            "ticks": "",
            "zerolinecolor": "white"
           },
           "zaxis": {
            "backgroundcolor": "#E5ECF6",
            "gridcolor": "white",
            "gridwidth": 2,
            "linecolor": "white",
            "showbackground": true,
            "ticks": "",
            "zerolinecolor": "white"
           }
          },
          "shapedefaults": {
           "line": {
            "color": "#2a3f5f"
           }
          },
          "ternary": {
           "aaxis": {
            "gridcolor": "white",
            "linecolor": "white",
            "ticks": ""
           },
           "baxis": {
            "gridcolor": "white",
            "linecolor": "white",
            "ticks": ""
           },
           "bgcolor": "#E5ECF6",
           "caxis": {
            "gridcolor": "white",
            "linecolor": "white",
            "ticks": ""
           }
          },
          "title": {
           "x": 0.05
          },
          "xaxis": {
           "automargin": true,
           "gridcolor": "white",
           "linecolor": "white",
           "ticks": "",
           "title": {
            "standoff": 15
           },
           "zerolinecolor": "white",
           "zerolinewidth": 2
          },
          "yaxis": {
           "automargin": true,
           "gridcolor": "white",
           "linecolor": "white",
           "ticks": "",
           "title": {
            "standoff": 15
           },
           "zerolinecolor": "white",
           "zerolinewidth": 2
          }
         }
        },
        "width": 400,
        "xaxis": {
         "anchor": "y",
         "domain": [
          0,
          1
         ]
        },
        "yaxis": {
         "anchor": "x",
         "domain": [
          0,
          1
         ],
         "title": {
          "text": "rating"
         }
        }
       }
      }
     },
     "metadata": {},
     "output_type": "display_data"
    }
   ],
   "source": [
    "fig=px.box(data, y='rating')\n",
    "fig.update_layout(height=500, width=400)\n",
    "fig.show()\n",
    "\n"
   ]
  },
  {
   "cell_type": "code",
   "execution_count": 32,
   "metadata": {},
   "outputs": [
    {
     "data": {
      "application/vnd.plotly.v1+json": {
       "config": {
        "plotlyServerURL": "https://plot.ly"
       },
       "data": [
        {
         "alignmentgroup": "True",
         "hovertemplate": "company_manufacturer=%{x}<br>y=%{y}<extra></extra>",
         "legendgroup": "",
         "marker": {
          "color": "#874646",
          "pattern": {
           "shape": ""
          }
         },
         "name": "",
         "offsetgroup": "",
         "orientation": "v",
         "showlegend": false,
         "textposition": "auto",
         "type": "bar",
         "x": [
          "Tobago Estate (Pralus)",
          "Heirloom Cacao Preservation (Zokoko)",
          "Ocelot",
          "Matale",
          "Patric",
          "Idilio (Felchlin)",
          "Kerchner",
          "Chocola'te",
          "Landmark (Amano)",
          "Nikoa",
          "Cuna de Piedra",
          "Timo A. Meyer",
          "Dole (Guittard)",
          "Christopher Morel (Felchlin)",
          "Un Dimanche A Paris",
          "Obolo",
          "Utopick",
          "Benoit Nihant",
          "Chokola",
          "Madecasse (Cinagra)",
          "Cacao Sampaka",
          "Fresh Coast aka Just Good Choc.",
          "Cacaosuyo",
          "Captain Pembleton",
          "Fresh Coast",
          "Oialla by Bojessen (Malmo)",
          "Qantu",
          "Soma",
          "Durci",
          "Raphio",
          "Bar Au Chocolat",
          "Brasstown",
          "Acalli",
          "Zokoko",
          "Potomac",
          "Brasstown aka It's Chocolate",
          "Ritual",
          "Friis Holm",
          "Christopher Elbow",
          "Arete",
          "Smooth Chocolator, The",
          "Park 75",
          "Firetree",
          "Salgado",
          "Condor",
          "Monarque",
          "Monsoon",
          "Alexandre",
          "Muchomas (Mesocacao)",
          "Creo",
          "Chloe Chocolat",
          "Batch",
          "Musee du Chocolat Theobroma",
          "Misina",
          "Nanea",
          "Palet D'Or",
          "Manufaktura Czekolady",
          "Cacao Market",
          "De Mendes",
          "Malagos",
          "Eclat (Fruition)",
          "East Van Roasters",
          "Domori",
          "Levy",
          "Eldora",
          "Rococo (Grenada Chocolate Co.)",
          "Lajedo do Ouro",
          "Heirloom Cacao Preservation (Mindo)",
          "Hecho",
          "Vaka",
          "Tsara (Cinagra)",
          "Belvie",
          "AMMA",
          "Heirloom Cacao Preservation (Fruition)",
          "Heirloom Cacao Preservation (Guittard)",
          "Tree to Bar",
          "Maui Kuia",
          "Vietcacao (A. Morin)",
          "Great Lakes",
          "Metropolitan",
          "Meybol",
          "Cleveland Chocolate Company",
          "Heirloom Cacao Preservation (Manoa)",
          "Cloudforest",
          "Heirloom Cacao Preservation (Millcreek)",
          "Thistle & Rose aka Aggie USU",
          "Chocolate Makers",
          "Coco",
          "Minimal",
          "La Feverie (Hasnaa)",
          "Nugali",
          "Dick Taylor",
          "L.A. Burdick (Felchlin)",
          "Bonnat",
          "Cacao Hunters",
          "Kah Kow",
          "Marou",
          "Duffy's",
          "Cacao Prieto",
          "Cultura",
          "Caofiori",
          "Encuentro",
          "Kad Kokoa",
          "Letterpress",
          "Fruition",
          "A. Morin",
          "Rogue",
          "Askinosie",
          "Cacao 70",
          "Bellflower",
          "Wm",
          "Spinnaker",
          "White Label aka Mutari",
          "Fresco",
          "Zac Squared",
          "Amano",
          "Taste Artisan",
          "Danta",
          "Mission",
          "Montecristi",
          "Xocolatl",
          "Mirzam",
          "Frederic Blondeel",
          "Kah Kow - USA",
          "Szanto Tibor",
          "Crow and Moss",
          "Pierre Marcolini",
          "Spencer",
          "Sirene",
          "Castronovo",
          "Beschle (Felchlin)",
          "Lonohana",
          "Triangle Roasters",
          "Milton",
          "Somerville",
          "Amazona",
          "K'ul",
          "Soul",
          "Shattell",
          "Cacai Cacao",
          "Kasama",
          "Sibu",
          "Terroir",
          "Debauve & Gallais (Michel Cluizel)",
          "Metiisto",
          "Georgia Ramon",
          "Friis Holm (Bonnat)",
          "Ethereal",
          "Hummingbird",
          "Or Dubh",
          "Videri",
          "Manoa",
          "Piety and Desire",
          "Lillie Belle",
          "Wellington Chocolate Factory",
          "La Rifa",
          "Blue Bandana",
          "Pura Delizia",
          "FJAK",
          "Chocotenango",
          "Aruntam",
          "Johnny Iuzzini",
          "La Maison du Chocolat (Valrhona)",
          "5150",
          "Zotter",
          "Valrhona",
          "Parliament",
          "sweet beans",
          "Omnom",
          "Argencove",
          "Pacari",
          "Odyssey",
          "Amedei",
          "Franceschi",
          "Dandelion",
          "Chequessett",
          "Carlotta Chocolat",
          "Nuance",
          "Bittersweet Origins",
          "Marigold's Finest",
          "Amazing Cacao",
          "Adi aka Fijiana (Easy In Ltd)",
          "Foundry",
          "Britarev",
          "Heirloom Cacao Preservation (Brasstown)",
          "La Pepa de Oro",
          "Theobroma",
          "Kin + Pod",
          "Holy Cacao",
          "Black Sheep",
          "Land",
          "Zoto (Chocolatoa)",
          "To'ak",
          "Tribar",
          "Jean Marie Auboine",
          "Ambrosia",
          "Mike & Becky",
          "Luisa's Vegan",
          "Glennmade",
          "To'ak (Ecuatoriana)",
          "Animas",
          "Urzi",
          "Map Chocolate",
          "Lumineux",
          "Harper Macaw",
          "Fossa",
          "Tan Ban Skrati",
          "DeVries",
          "Nearynogs",
          "Cacao Store",
          "Solomons Gold",
          "Cacaodada",
          "Dulcinea",
          "Sol Cacao",
          "Primo Botanica",
          "Doble & Bignall",
          "Chocolates by Josh (Box Chocolate)",
          "Dandelion (aka Brower Ave)",
          "Roasting Masters",
          "Chapon",
          "Charm School",
          "Chocablog",
          "Petite Patrie",
          "San Jose",
          "Eau de Rose",
          "Soeka",
          "Robert (aka Chocolaterie Robert)",
          "Enric Rovira (Claudio Corallo)",
          "El Ceibo",
          "Raoul Boulanger",
          "Emily's",
          "Chocosol",
          "Monsieur Truffe",
          "Palette de Bine",
          "Seahorse",
          "Woodblock",
          "Solstice",
          "Scharffen Berger",
          "Willie's Cacao",
          "Chocolate Tree",
          "Maverick",
          "Zak's",
          "Mesocacao",
          "Raaka",
          "Shark Mountain",
          "Caribeans",
          "Republica del Cacao (aka Confecta)",
          "Pump Street Bakery",
          "CAR Artisan",
          "Mars",
          "Orfeve",
          "Krak",
          "Bright",
          "French Broad",
          "Pralus",
          "Guittard",
          "Erithaj (A. Morin)",
          "Luisa Abram",
          "Bitacora",
          "Zart Pralinen",
          "Cocoa Forge",
          "Brazen",
          "Sweetness",
          "Legast",
          "Q Chocolate",
          "Shane Chocolate Works",
          "Hogarth",
          "Original Beans (Felchlin)",
          "Stone Grindz",
          "Hazel Hill",
          "Marana",
          "Coppeneur",
          "Moka Origins",
          "Burnt Fork Bend",
          "Compania de Chocolate (Salgado)",
          "Dark Forest",
          "Felchlin",
          "Pangea",
          "Michel Cluizel",
          "La Chorena",
          "Malagasy (Chocolaterie Robert)",
          "Malie Kai (Guittard)",
          "Ocho",
          "Upchurch",
          "hello cocoa (now Markham & Fitz)",
          "Silvio Bessone",
          "Mast Brothers",
          "Night Owl",
          "Naive",
          "Tibito",
          "Taucherli",
          "Ranger",
          "L'Amourette",
          "Beau Cacao",
          "Casa Lasevicius",
          "Bakau",
          "Choco Dong",
          "Harris & James",
          "Izard",
          "Choco Del Sol",
          "Kakao",
          "Blanxart",
          "Cacao de Origen",
          "Darcis",
          "Indi",
          "Cravve",
          "Goodnow Farms",
          "Vicuna",
          "Ruket",
          "Chocovic",
          "Kaitxo",
          "Akesson's (Pralus)",
          "Cacao Betulia",
          "Spagnvola",
          "Belyzium",
          "Noble Bean aka Jerjobo",
          "Pollinator",
          "Artisan du Chocolat",
          "Laia aka Chat-Noir",
          "twenty-four blackbirds",
          "Luker",
          "Black Mountain",
          "Isidro",
          "Love Brown",
          "Gotham",
          "Tablette (aka Vanillabeans)",
          "Auro",
          "ENNA",
          "Kto",
          "Madre",
          "Tejas",
          "Chocolatoa",
          "Moku",
          "Daintree",
          "Cacao Gonzales",
          "Molucca",
          "Sprungli (Felchlin)",
          "Original Hawaiin Chocolate Factory",
          "Moho",
          "Five (5)Mile",
          "Exquisito",
          "Starchild",
          "Stella (aka Bernrain)",
          "Orquidea",
          "DAR",
          "Emerald Estate",
          "Peppalo",
          "S.A.I.D.",
          "Noir d' Ebine",
          "Nina",
          "Millcreek Cacao Roasters",
          "Rozsavolgyi",
          "Rancho San Jacinto",
          "Chuao Chocolatier",
          "Edelmond",
          "Chaleur B",
          "Sacred",
          "El Buen",
          "ChocoReko",
          "La Cascade du Chocolat",
          "Perrenial",
          "Nova Monda",
          "Fu Wan",
          "Breeze Mill",
          "Sublime Origins",
          "Vintage Plantations",
          "Treehouse aka Indaphoria",
          "Benns",
          "Malmo",
          "Two Ravens",
          "Uncouth",
          "Maglio",
          "MUCHO",
          "Baiani",
          "Atypic",
          "Treehouse",
          "Lindt & Sprungli",
          "Lilla",
          "Xocolat",
          "Xocolatisimo",
          "Anahata",
          "Zacharias",
          "Kiskadee",
          "Ah Cacao",
          "Hemisphere",
          "Dandelion (Japan)",
          "Tosier",
          "Taste Artisan aka Coleman and Davis",
          "Haigh",
          "Middlebury",
          "Bixby",
          "Grand Place",
          "The Barn",
          "Martin Mayer",
          "Guido Castagna",
          "By Cacao",
          "Green Bean to Bar",
          "Taza",
          "Green Door",
          "Dancing Lion",
          "Mayacama",
          "Hotel Chocolat (Coppeneur)",
          "Dormouse",
          "Millesime",
          "Violet Sky",
          "Meadowlands",
          "Bahen & Co.",
          "Ninth (9th) & Larkin",
          "Pitch Dark",
          "Conjure",
          "Olive and Sinclair",
          "Mellow",
          "Finnia",
          "Belcolade",
          "Escazu",
          "hexx",
          "Tocoti",
          "Vao Vao (Chocolaterie Robert)",
          "Poppy and Peep",
          "Momotombo",
          "Dean and Deluca (Belcolade)",
          "Habitual",
          "Maribea",
          "Santander (Compania Nacional)",
          "Cao",
          "Sweet Escalier",
          "C-Amaro",
          "Chocolate Con Amor",
          "El Rey",
          "Amatller (Simon Coll)",
          "Mana",
          "Chchukululu (Tulicorp)",
          "Sjolinds",
          "Chococard (Lapos)",
          "organicfair",
          "Suruca Chocolate",
          "iQ Chocolate",
          "Tala",
          "McGuire",
          "Aequare (Gianduja)",
          "Theo",
          "Quetzalli (Wolter)",
          "Hacienda El Castillo",
          "Claudio Corallo",
          "Kallari (Ecuatoriana)",
          "Ohiyo",
          "Loon",
          "Hotel Chocolat",
          "Undone",
          "Altus aka Cao Artisan",
          "Choklat",
          "Hoja Verde (Tulicorp)",
          "Grenada Chocolate Co.",
          "Bankston",
          "Bonaterra",
          "Parre Chocolat",
          "Cacao Santa Fe (Art of Chocolate)",
          "Alain Ducasse",
          "Lirio",
          "Caoni (Tulicorp)",
          "Tribe",
          "Ara",
          "Wilkie's Organic",
          "Davis",
          "Mutari",
          "Diogo Vaz",
          "Damson",
          "Nibble",
          "Bernachon",
          "Malai",
          "Forteza (Cortes)",
          "Mindo",
          "Dalloway",
          "Christophe Toury",
          "Summerbird",
          "Chokolat Elot (Girard)",
          "Svenska Kakaobolaget",
          "Chocolate Conspiracy",
          "Manifesto Cacao",
          "Bullion",
          "Nahua",
          "Boho",
          "Tabal",
          "Heilemann",
          "Durand",
          "Bronx Grrl Chocolate",
          "Markham & Fitz",
          "Bowler Man",
          "Taylor Made",
          "Rain Republic",
          "Tiny House",
          "Black River (A. Morin)",
          "Santome",
          "Forever Cacao",
          "Beehive",
          "Public Chocolatory",
          "Chuao Chocolatier (Pralus)",
          "Aelan",
          "Seaforth",
          "De Villiers",
          "Kyya",
          "Cemoi",
          "Omanhene",
          "Cello",
          "Fearless (AMMA)",
          "Kaoka (Cemoi)",
          "Confluence",
          "Jordis",
          "Eclat (Felchlin)",
          "Artisan du Chocolat (Casa Luker)",
          "Desbarres",
          "Soklet",
          "Cacaoyere (Ecuatoriana)",
          "Avanaa",
          "Feitoria Cacao",
          "Islands Chocolate",
          "Baravelli's",
          "Finca",
          "Double Spiral",
          "Cacao Barry",
          "Bisou",
          "La Chocolaterie Nanairo",
          "Chocolarder",
          "Nathan Miller",
          "Heinde & Verre",
          "Definite",
          "River-Sea",
          "Solkiki",
          "Chocolibrium",
          "TCHO",
          "MaDe Atlantic City Chocolate Bar",
          "Pascha",
          "Olivia",
          "SRSLY",
          "Vanleer (Barry Callebaut)",
          "Pomm (aka Dead Dog)",
          "Xocolla",
          "Vivra",
          "StRita Supreme",
          "Snake & Butterfly",
          "Ethel's Artisan (Mars)",
          "Loiza",
          "Oakland Chocolate Co.",
          "Lake Champlain (Callebaut)",
          "Whittakers",
          "Pinellas",
          "Neuhaus (Callebaut)",
          "Sibu Sura",
          "La Oroquidea",
          "Paul Young",
          "Vintage Plantations (Tulicorp)",
          "Hachez",
          "Honest",
          "Garden Island",
          "Madhu",
          "Chocolats Privilege",
          "Chocolate Alchemist-Philly",
          "Raw Cocoa",
          "Menakao (aka Cinagra)",
          "Chocovivo",
          "Mita",
          "Mestico",
          "Cacao Atlanta",
          "Green & Black's (ICAM)",
          "Cacao Arabuco",
          "Indah",
          "Bouga Cacao (Tulicorp)",
          "Marsatta",
          "Dolfin (Belcolade)",
          "Shark's",
          "Bean",
          "Cocoa Carib",
          "Casa",
          "Ki' Xocolatl",
          "Jacque Torres",
          "Majani",
          "Love Bar",
          "Callebaut",
          "Machu Picchu Trading Co.",
          "Cote d' Or (Kraft)"
         ],
         "xaxis": "x",
         "y": [
          4,
          3.875,
          3.875,
          3.8125,
          3.7916666666666665,
          3.775,
          3.75,
          3.75,
          3.75,
          3.75,
          3.75,
          3.75,
          3.75,
          3.75,
          3.75,
          3.75,
          3.75,
          3.7083333333333335,
          3.7083333333333335,
          3.6875,
          3.6666666666666665,
          3.6666666666666665,
          3.625,
          3.625,
          3.625,
          3.625,
          3.6,
          3.5892857142857144,
          3.5833333333333335,
          3.5833333333333335,
          3.5714285714285716,
          3.5625,
          3.5625,
          3.55,
          3.55,
          3.5454545454545454,
          3.5384615384615383,
          3.5384615384615383,
          3.5357142857142856,
          3.53125,
          3.514705882352941,
          3.5,
          3.5,
          3.5,
          3.5,
          3.5,
          3.5,
          3.5,
          3.5,
          3.5,
          3.5,
          3.5,
          3.5,
          3.5,
          3.5,
          3.5,
          3.5,
          3.5,
          3.5,
          3.5,
          3.5,
          3.5,
          3.5,
          3.5,
          3.5,
          3.5,
          3.5,
          3.5,
          3.5,
          3.5,
          3.5,
          3.5,
          3.5,
          3.5,
          3.5,
          3.5,
          3.5,
          3.5,
          3.5,
          3.5,
          3.5,
          3.5,
          3.5,
          3.5,
          3.5,
          3.5,
          3.5,
          3.5,
          3.5,
          3.5,
          3.5,
          3.486842105263158,
          3.4722222222222223,
          3.466666666666667,
          3.4642857142857144,
          3.4642857142857144,
          3.4545454545454546,
          3.4411764705882355,
          3.4375,
          3.4375,
          3.4375,
          3.4375,
          3.4375,
          3.433333333333333,
          3.4285714285714284,
          3.423076923076923,
          3.421875,
          3.4166666666666665,
          3.4166666666666665,
          3.4166666666666665,
          3.4166666666666665,
          3.4166666666666665,
          3.4166666666666665,
          3.4166666666666665,
          3.4166666666666665,
          3.4166666666666665,
          3.4166666666666665,
          3.4166666666666665,
          3.4166666666666665,
          3.4166666666666665,
          3.4166666666666665,
          3.4,
          3.4,
          3.4,
          3.4,
          3.4,
          3.3970588235294117,
          3.392857142857143,
          3.392857142857143,
          3.3815789473684212,
          3.375,
          3.375,
          3.375,
          3.375,
          3.375,
          3.375,
          3.375,
          3.375,
          3.375,
          3.375,
          3.375,
          3.375,
          3.375,
          3.375,
          3.375,
          3.361111111111111,
          3.3541666666666665,
          3.35,
          3.34375,
          3.3333333333333335,
          3.3333333333333335,
          3.3333333333333335,
          3.3333333333333335,
          3.3333333333333335,
          3.3333333333333335,
          3.3333333333333335,
          3.3333333333333335,
          3.3333333333333335,
          3.3333333333333335,
          3.3333333333333335,
          3.3333333333333335,
          3.325,
          3.325,
          3.3214285714285716,
          3.3214285714285716,
          3.3181818181818183,
          3.3125,
          3.3125,
          3.3125,
          3.3125,
          3.3076923076923075,
          3.3076923076923075,
          3.3076923076923075,
          3.3055555555555554,
          3.3,
          3.3,
          3.3,
          3.2857142857142856,
          3.267857142857143,
          3.25,
          3.25,
          3.25,
          3.25,
          3.25,
          3.25,
          3.25,
          3.25,
          3.25,
          3.25,
          3.25,
          3.25,
          3.25,
          3.25,
          3.25,
          3.25,
          3.25,
          3.25,
          3.25,
          3.25,
          3.25,
          3.25,
          3.25,
          3.25,
          3.25,
          3.25,
          3.25,
          3.25,
          3.25,
          3.25,
          3.25,
          3.25,
          3.25,
          3.25,
          3.25,
          3.25,
          3.25,
          3.25,
          3.25,
          3.25,
          3.25,
          3.25,
          3.25,
          3.25,
          3.25,
          3.25,
          3.25,
          3.25,
          3.25,
          3.25,
          3.25,
          3.25,
          3.25,
          3.25,
          3.2333333333333334,
          3.2222222222222223,
          3.2222222222222223,
          3.2222222222222223,
          3.2205882352941178,
          3.21875,
          3.2142857142857144,
          3.2142857142857144,
          3.2083333333333335,
          3.2083333333333335,
          3.2083333333333335,
          3.2083333333333335,
          3.2,
          3.2,
          3.2,
          3.1875,
          3.1875,
          3.1875,
          3.1875,
          3.1875,
          3.1818181818181817,
          3.18,
          3.1704545454545454,
          3.1666666666666665,
          3.1666666666666665,
          3.1666666666666665,
          3.1666666666666665,
          3.1666666666666665,
          3.1666666666666665,
          3.1666666666666665,
          3.1666666666666665,
          3.1666666666666665,
          3.1666666666666665,
          3.1666666666666665,
          3.1666666666666665,
          3.1666666666666665,
          3.1666666666666665,
          3.1666666666666665,
          3.1578947368421053,
          3.15,
          3.15,
          3.15,
          3.15,
          3.142857142857143,
          3.142857142857143,
          3.1346153846153846,
          3.125,
          3.125,
          3.125,
          3.125,
          3.125,
          3.125,
          3.125,
          3.125,
          3.125,
          3.125,
          3.125,
          3.125,
          3.125,
          3.125,
          3.125,
          3.125,
          3.125,
          3.125,
          3.125,
          3.125,
          3.125,
          3.125,
          3.125,
          3.125,
          3.125,
          3.125,
          3.107142857142857,
          3.107142857142857,
          3.1,
          3.1,
          3.09375,
          3.0833333333333335,
          3.0833333333333335,
          3.0833333333333335,
          3.0833333333333335,
          3.0833333333333335,
          3.0833333333333335,
          3.0833333333333335,
          3.078125,
          3.075,
          3.0714285714285716,
          3.0625,
          3.0625,
          3.0625,
          3.0625,
          3.0625,
          3.0625,
          3.0625,
          3.05,
          3.0357142857142856,
          3.022727272727273,
          3.017857142857143,
          3,
          3,
          3,
          3,
          3,
          3,
          3,
          3,
          3,
          3,
          3,
          3,
          3,
          3,
          3,
          3,
          3,
          3,
          3,
          3,
          3,
          3,
          3,
          3,
          3,
          3,
          3,
          3,
          3,
          3,
          3,
          3,
          3,
          3,
          3,
          3,
          3,
          3,
          3,
          3,
          3,
          3,
          3,
          3,
          3,
          3,
          3,
          3,
          3,
          3,
          3,
          3,
          3,
          3,
          3,
          3,
          3,
          3,
          3,
          3,
          3,
          3,
          3,
          3,
          3,
          3,
          3,
          3,
          3,
          3,
          2.973684210526316,
          2.96875,
          2.9583333333333335,
          2.95,
          2.95,
          2.95,
          2.95,
          2.9444444444444446,
          2.9375,
          2.9375,
          2.9375,
          2.9375,
          2.9375,
          2.9285714285714284,
          2.925,
          2.9166666666666665,
          2.9166666666666665,
          2.9166666666666665,
          2.9166666666666665,
          2.9166666666666665,
          2.9166666666666665,
          2.9166666666666665,
          2.9,
          2.9,
          2.9,
          2.892857142857143,
          2.892857142857143,
          2.892857142857143,
          2.875,
          2.875,
          2.875,
          2.875,
          2.875,
          2.875,
          2.875,
          2.875,
          2.875,
          2.875,
          2.875,
          2.875,
          2.875,
          2.875,
          2.875,
          2.875,
          2.875,
          2.875,
          2.875,
          2.875,
          2.8636363636363638,
          2.85,
          2.85,
          2.8333333333333335,
          2.8333333333333335,
          2.8333333333333335,
          2.8333333333333335,
          2.8333333333333335,
          2.8333333333333335,
          2.8333333333333335,
          2.8333333333333335,
          2.8333333333333335,
          2.8125,
          2.8125,
          2.8125,
          2.8125,
          2.8125,
          2.8,
          2.8,
          2.75,
          2.75,
          2.75,
          2.75,
          2.75,
          2.75,
          2.75,
          2.75,
          2.75,
          2.75,
          2.75,
          2.75,
          2.75,
          2.75,
          2.75,
          2.75,
          2.75,
          2.75,
          2.75,
          2.75,
          2.75,
          2.75,
          2.75,
          2.75,
          2.75,
          2.75,
          2.75,
          2.75,
          2.75,
          2.75,
          2.75,
          2.75,
          2.75,
          2.75,
          2.75,
          2.75,
          2.75,
          2.75,
          2.75,
          2.75,
          2.75,
          2.75,
          2.75,
          2.75,
          2.75,
          2.75,
          2.75,
          2.75,
          2.75,
          2.75,
          2.75,
          2.7,
          2.6875,
          2.6875,
          2.6875,
          2.6875,
          2.6666666666666665,
          2.6666666666666665,
          2.6666666666666665,
          2.6666666666666665,
          2.6666666666666665,
          2.65625,
          2.625,
          2.625,
          2.625,
          2.625,
          2.625,
          2.625,
          2.625,
          2.6,
          2.5833333333333335,
          2.5833333333333335,
          2.55,
          2.5,
          2.5,
          2.5,
          2.5,
          2.5,
          2.5,
          2.5,
          2.5,
          2.5,
          2.5,
          2.5,
          2.5,
          2.5,
          2.5,
          2.5,
          2.5,
          2.5,
          2.5,
          2.5,
          2.5,
          2.5,
          2.5,
          2.5,
          2.5,
          2.5,
          2.375,
          2.375,
          2.25,
          2.25,
          2.25,
          2.25,
          2,
          2,
          2,
          2,
          2,
          1.875,
          1.875,
          1
         ],
         "yaxis": "y"
        }
       ],
       "layout": {
        "barmode": "relative",
        "legend": {
         "tracegroupgap": 0
        },
        "margin": {
         "t": 60
        },
        "template": {
         "data": {
          "bar": [
           {
            "error_x": {
             "color": "#2a3f5f"
            },
            "error_y": {
             "color": "#2a3f5f"
            },
            "marker": {
             "line": {
              "color": "#E5ECF6",
              "width": 0.5
             },
             "pattern": {
              "fillmode": "overlay",
              "size": 10,
              "solidity": 0.2
             }
            },
            "type": "bar"
           }
          ],
          "barpolar": [
           {
            "marker": {
             "line": {
              "color": "#E5ECF6",
              "width": 0.5
             },
             "pattern": {
              "fillmode": "overlay",
              "size": 10,
              "solidity": 0.2
             }
            },
            "type": "barpolar"
           }
          ],
          "carpet": [
           {
            "aaxis": {
             "endlinecolor": "#2a3f5f",
             "gridcolor": "white",
             "linecolor": "white",
             "minorgridcolor": "white",
             "startlinecolor": "#2a3f5f"
            },
            "baxis": {
             "endlinecolor": "#2a3f5f",
             "gridcolor": "white",
             "linecolor": "white",
             "minorgridcolor": "white",
             "startlinecolor": "#2a3f5f"
            },
            "type": "carpet"
           }
          ],
          "choropleth": [
           {
            "colorbar": {
             "outlinewidth": 0,
             "ticks": ""
            },
            "type": "choropleth"
           }
          ],
          "contour": [
           {
            "colorbar": {
             "outlinewidth": 0,
             "ticks": ""
            },
            "colorscale": [
             [
              0,
              "#0d0887"
             ],
             [
              0.1111111111111111,
              "#46039f"
             ],
             [
              0.2222222222222222,
              "#7201a8"
             ],
             [
              0.3333333333333333,
              "#9c179e"
             ],
             [
              0.4444444444444444,
              "#bd3786"
             ],
             [
              0.5555555555555556,
              "#d8576b"
             ],
             [
              0.6666666666666666,
              "#ed7953"
             ],
             [
              0.7777777777777778,
              "#fb9f3a"
             ],
             [
              0.8888888888888888,
              "#fdca26"
             ],
             [
              1,
              "#f0f921"
             ]
            ],
            "type": "contour"
           }
          ],
          "contourcarpet": [
           {
            "colorbar": {
             "outlinewidth": 0,
             "ticks": ""
            },
            "type": "contourcarpet"
           }
          ],
          "heatmap": [
           {
            "colorbar": {
             "outlinewidth": 0,
             "ticks": ""
            },
            "colorscale": [
             [
              0,
              "#0d0887"
             ],
             [
              0.1111111111111111,
              "#46039f"
             ],
             [
              0.2222222222222222,
              "#7201a8"
             ],
             [
              0.3333333333333333,
              "#9c179e"
             ],
             [
              0.4444444444444444,
              "#bd3786"
             ],
             [
              0.5555555555555556,
              "#d8576b"
             ],
             [
              0.6666666666666666,
              "#ed7953"
             ],
             [
              0.7777777777777778,
              "#fb9f3a"
             ],
             [
              0.8888888888888888,
              "#fdca26"
             ],
             [
              1,
              "#f0f921"
             ]
            ],
            "type": "heatmap"
           }
          ],
          "heatmapgl": [
           {
            "colorbar": {
             "outlinewidth": 0,
             "ticks": ""
            },
            "colorscale": [
             [
              0,
              "#0d0887"
             ],
             [
              0.1111111111111111,
              "#46039f"
             ],
             [
              0.2222222222222222,
              "#7201a8"
             ],
             [
              0.3333333333333333,
              "#9c179e"
             ],
             [
              0.4444444444444444,
              "#bd3786"
             ],
             [
              0.5555555555555556,
              "#d8576b"
             ],
             [
              0.6666666666666666,
              "#ed7953"
             ],
             [
              0.7777777777777778,
              "#fb9f3a"
             ],
             [
              0.8888888888888888,
              "#fdca26"
             ],
             [
              1,
              "#f0f921"
             ]
            ],
            "type": "heatmapgl"
           }
          ],
          "histogram": [
           {
            "marker": {
             "pattern": {
              "fillmode": "overlay",
              "size": 10,
              "solidity": 0.2
             }
            },
            "type": "histogram"
           }
          ],
          "histogram2d": [
           {
            "colorbar": {
             "outlinewidth": 0,
             "ticks": ""
            },
            "colorscale": [
             [
              0,
              "#0d0887"
             ],
             [
              0.1111111111111111,
              "#46039f"
             ],
             [
              0.2222222222222222,
              "#7201a8"
             ],
             [
              0.3333333333333333,
              "#9c179e"
             ],
             [
              0.4444444444444444,
              "#bd3786"
             ],
             [
              0.5555555555555556,
              "#d8576b"
             ],
             [
              0.6666666666666666,
              "#ed7953"
             ],
             [
              0.7777777777777778,
              "#fb9f3a"
             ],
             [
              0.8888888888888888,
              "#fdca26"
             ],
             [
              1,
              "#f0f921"
             ]
            ],
            "type": "histogram2d"
           }
          ],
          "histogram2dcontour": [
           {
            "colorbar": {
             "outlinewidth": 0,
             "ticks": ""
            },
            "colorscale": [
             [
              0,
              "#0d0887"
             ],
             [
              0.1111111111111111,
              "#46039f"
             ],
             [
              0.2222222222222222,
              "#7201a8"
             ],
             [
              0.3333333333333333,
              "#9c179e"
             ],
             [
              0.4444444444444444,
              "#bd3786"
             ],
             [
              0.5555555555555556,
              "#d8576b"
             ],
             [
              0.6666666666666666,
              "#ed7953"
             ],
             [
              0.7777777777777778,
              "#fb9f3a"
             ],
             [
              0.8888888888888888,
              "#fdca26"
             ],
             [
              1,
              "#f0f921"
             ]
            ],
            "type": "histogram2dcontour"
           }
          ],
          "mesh3d": [
           {
            "colorbar": {
             "outlinewidth": 0,
             "ticks": ""
            },
            "type": "mesh3d"
           }
          ],
          "parcoords": [
           {
            "line": {
             "colorbar": {
              "outlinewidth": 0,
              "ticks": ""
             }
            },
            "type": "parcoords"
           }
          ],
          "pie": [
           {
            "automargin": true,
            "type": "pie"
           }
          ],
          "scatter": [
           {
            "marker": {
             "colorbar": {
              "outlinewidth": 0,
              "ticks": ""
             }
            },
            "type": "scatter"
           }
          ],
          "scatter3d": [
           {
            "line": {
             "colorbar": {
              "outlinewidth": 0,
              "ticks": ""
             }
            },
            "marker": {
             "colorbar": {
              "outlinewidth": 0,
              "ticks": ""
             }
            },
            "type": "scatter3d"
           }
          ],
          "scattercarpet": [
           {
            "marker": {
             "colorbar": {
              "outlinewidth": 0,
              "ticks": ""
             }
            },
            "type": "scattercarpet"
           }
          ],
          "scattergeo": [
           {
            "marker": {
             "colorbar": {
              "outlinewidth": 0,
              "ticks": ""
             }
            },
            "type": "scattergeo"
           }
          ],
          "scattergl": [
           {
            "marker": {
             "colorbar": {
              "outlinewidth": 0,
              "ticks": ""
             }
            },
            "type": "scattergl"
           }
          ],
          "scattermapbox": [
           {
            "marker": {
             "colorbar": {
              "outlinewidth": 0,
              "ticks": ""
             }
            },
            "type": "scattermapbox"
           }
          ],
          "scatterpolar": [
           {
            "marker": {
             "colorbar": {
              "outlinewidth": 0,
              "ticks": ""
             }
            },
            "type": "scatterpolar"
           }
          ],
          "scatterpolargl": [
           {
            "marker": {
             "colorbar": {
              "outlinewidth": 0,
              "ticks": ""
             }
            },
            "type": "scatterpolargl"
           }
          ],
          "scatterternary": [
           {
            "marker": {
             "colorbar": {
              "outlinewidth": 0,
              "ticks": ""
             }
            },
            "type": "scatterternary"
           }
          ],
          "surface": [
           {
            "colorbar": {
             "outlinewidth": 0,
             "ticks": ""
            },
            "colorscale": [
             [
              0,
              "#0d0887"
             ],
             [
              0.1111111111111111,
              "#46039f"
             ],
             [
              0.2222222222222222,
              "#7201a8"
             ],
             [
              0.3333333333333333,
              "#9c179e"
             ],
             [
              0.4444444444444444,
              "#bd3786"
             ],
             [
              0.5555555555555556,
              "#d8576b"
             ],
             [
              0.6666666666666666,
              "#ed7953"
             ],
             [
              0.7777777777777778,
              "#fb9f3a"
             ],
             [
              0.8888888888888888,
              "#fdca26"
             ],
             [
              1,
              "#f0f921"
             ]
            ],
            "type": "surface"
           }
          ],
          "table": [
           {
            "cells": {
             "fill": {
              "color": "#EBF0F8"
             },
             "line": {
              "color": "white"
             }
            },
            "header": {
             "fill": {
              "color": "#C8D4E3"
             },
             "line": {
              "color": "white"
             }
            },
            "type": "table"
           }
          ]
         },
         "layout": {
          "annotationdefaults": {
           "arrowcolor": "#2a3f5f",
           "arrowhead": 0,
           "arrowwidth": 1
          },
          "autotypenumbers": "strict",
          "coloraxis": {
           "colorbar": {
            "outlinewidth": 0,
            "ticks": ""
           }
          },
          "colorscale": {
           "diverging": [
            [
             0,
             "#8e0152"
            ],
            [
             0.1,
             "#c51b7d"
            ],
            [
             0.2,
             "#de77ae"
            ],
            [
             0.3,
             "#f1b6da"
            ],
            [
             0.4,
             "#fde0ef"
            ],
            [
             0.5,
             "#f7f7f7"
            ],
            [
             0.6,
             "#e6f5d0"
            ],
            [
             0.7,
             "#b8e186"
            ],
            [
             0.8,
             "#7fbc41"
            ],
            [
             0.9,
             "#4d9221"
            ],
            [
             1,
             "#276419"
            ]
           ],
           "sequential": [
            [
             0,
             "#0d0887"
            ],
            [
             0.1111111111111111,
             "#46039f"
            ],
            [
             0.2222222222222222,
             "#7201a8"
            ],
            [
             0.3333333333333333,
             "#9c179e"
            ],
            [
             0.4444444444444444,
             "#bd3786"
            ],
            [
             0.5555555555555556,
             "#d8576b"
            ],
            [
             0.6666666666666666,
             "#ed7953"
            ],
            [
             0.7777777777777778,
             "#fb9f3a"
            ],
            [
             0.8888888888888888,
             "#fdca26"
            ],
            [
             1,
             "#f0f921"
            ]
           ],
           "sequentialminus": [
            [
             0,
             "#0d0887"
            ],
            [
             0.1111111111111111,
             "#46039f"
            ],
            [
             0.2222222222222222,
             "#7201a8"
            ],
            [
             0.3333333333333333,
             "#9c179e"
            ],
            [
             0.4444444444444444,
             "#bd3786"
            ],
            [
             0.5555555555555556,
             "#d8576b"
            ],
            [
             0.6666666666666666,
             "#ed7953"
            ],
            [
             0.7777777777777778,
             "#fb9f3a"
            ],
            [
             0.8888888888888888,
             "#fdca26"
            ],
            [
             1,
             "#f0f921"
            ]
           ]
          },
          "colorway": [
           "#636efa",
           "#EF553B",
           "#00cc96",
           "#ab63fa",
           "#FFA15A",
           "#19d3f3",
           "#FF6692",
           "#B6E880",
           "#FF97FF",
           "#FECB52"
          ],
          "font": {
           "color": "#2a3f5f"
          },
          "geo": {
           "bgcolor": "white",
           "lakecolor": "white",
           "landcolor": "#E5ECF6",
           "showlakes": true,
           "showland": true,
           "subunitcolor": "white"
          },
          "hoverlabel": {
           "align": "left"
          },
          "hovermode": "closest",
          "mapbox": {
           "style": "light"
          },
          "paper_bgcolor": "white",
          "plot_bgcolor": "#E5ECF6",
          "polar": {
           "angularaxis": {
            "gridcolor": "white",
            "linecolor": "white",
            "ticks": ""
           },
           "bgcolor": "#E5ECF6",
           "radialaxis": {
            "gridcolor": "white",
            "linecolor": "white",
            "ticks": ""
           }
          },
          "scene": {
           "xaxis": {
            "backgroundcolor": "#E5ECF6",
            "gridcolor": "white",
            "gridwidth": 2,
            "linecolor": "white",
            "showbackground": true,
            "ticks": "",
            "zerolinecolor": "white"
           },
           "yaxis": {
            "backgroundcolor": "#E5ECF6",
            "gridcolor": "white",
            "gridwidth": 2,
            "linecolor": "white",
            "showbackground": true,
            "ticks": "",
            "zerolinecolor": "white"
           },
           "zaxis": {
            "backgroundcolor": "#E5ECF6",
            "gridcolor": "white",
            "gridwidth": 2,
            "linecolor": "white",
            "showbackground": true,
            "ticks": "",
            "zerolinecolor": "white"
           }
          },
          "shapedefaults": {
           "line": {
            "color": "#2a3f5f"
           }
          },
          "ternary": {
           "aaxis": {
            "gridcolor": "white",
            "linecolor": "white",
            "ticks": ""
           },
           "baxis": {
            "gridcolor": "white",
            "linecolor": "white",
            "ticks": ""
           },
           "bgcolor": "#E5ECF6",
           "caxis": {
            "gridcolor": "white",
            "linecolor": "white",
            "ticks": ""
           }
          },
          "title": {
           "x": 0.05
          },
          "xaxis": {
           "automargin": true,
           "gridcolor": "white",
           "linecolor": "white",
           "ticks": "",
           "title": {
            "standoff": 15
           },
           "zerolinecolor": "white",
           "zerolinewidth": 2
          },
          "yaxis": {
           "automargin": true,
           "gridcolor": "white",
           "linecolor": "white",
           "ticks": "",
           "title": {
            "standoff": 15
           },
           "zerolinecolor": "white",
           "zerolinewidth": 2
          }
         }
        },
        "xaxis": {
         "anchor": "y",
         "domain": [
          0,
          1
         ],
         "title": {
          "text": "company_manufacturer"
         }
        },
        "yaxis": {
         "anchor": "x",
         "domain": [
          0,
          1
         ],
         "title": {
          "text": "y"
         }
        }
       }
      }
     },
     "metadata": {},
     "output_type": "display_data"
    }
   ],
   "source": [
    "#notes moyennnes par fabricant\n",
    "\n",
    "x = data.groupby('company_manufacturer')['rating'].mean().sort_values(ascending=False)\n",
    "fig=px.bar(x, x=x.index, y=x.values, color_discrete_sequence=palette)\n",
    "#afficher les 5 premiers\n",
    "#fig=px.bar(x.head(15), x=x.head(15).index, y=x.head(15).values, color_discrete_sequence=palette)\n",
    "fig.show()\n"
   ]
  },
  {
   "cell_type": "code",
   "execution_count": 21,
   "metadata": {},
   "outputs": [
    {
     "data": {
      "application/vnd.plotly.v1+json": {
       "config": {
        "plotlyServerURL": "https://plot.ly"
       },
       "data": [
        {
         "alignmentgroup": "True",
         "box": {
          "visible": true
         },
         "hovertemplate": "Note=%{y}<extra></extra>",
         "legendgroup": "",
         "marker": {
          "color": "#874646",
          "line": {
           "color": "rgb(8,48,107)"
          }
         },
         "meanline": {
          "visible": true
         },
         "name": "",
         "offsetgroup": "",
         "orientation": "v",
         "scalegroup": "True",
         "showlegend": false,
         "type": "violin",
         "x0": " ",
         "xaxis": "x",
         "y": [
          3.25,
          3.5,
          3.75,
          3,
          3,
          3.25,
          3.5,
          3.5,
          3.75,
          2.75,
          2.75,
          3,
          3,
          3.25,
          3.25,
          3.25,
          3.5,
          3.75,
          4,
          4,
          2.75,
          3.5,
          3.5,
          3.75,
          4,
          2.75,
          3,
          3.5,
          3.5,
          3.75,
          3.5,
          3.75,
          4,
          3.75,
          3.75,
          3.25,
          3.5,
          2.75,
          3.25,
          3.5,
          3.5,
          2.5,
          2.75,
          2.75,
          3,
          2.75,
          3,
          3,
          2.75,
          2.75,
          3.75,
          2.5,
          2.5,
          2.75,
          2.75,
          3,
          3.5,
          3.5,
          3.5,
          3.5,
          3.5,
          2.5,
          3,
          3,
          3.25,
          3.25,
          2.5,
          2.5,
          2.75,
          2.75,
          3,
          3,
          3,
          3.5,
          3.75,
          2.75,
          3,
          3,
          3.75,
          4,
          4,
          2.75,
          2.75,
          3,
          3,
          3,
          3.5,
          3.25,
          3.5,
          3,
          3.25,
          3.25,
          3.25,
          3.25,
          3.5,
          3.75,
          3,
          3,
          3.5,
          3.5,
          3.5,
          3.75,
          3.75,
          3,
          3,
          3,
          3.5,
          2.75,
          2.75,
          3.75,
          3.75,
          4,
          3.25,
          3,
          3.5,
          3,
          3.25,
          2.5,
          2.75,
          3,
          3,
          2.75,
          3.25,
          3.5,
          3.5,
          3.5,
          3.5,
          3.75,
          3.75,
          4,
          3.25,
          3.25,
          3.25,
          3.25,
          3.5,
          3.5,
          3.5,
          3.5,
          3.75,
          3.75,
          3.75,
          4,
          4,
          3.5,
          3.5,
          3.5,
          3.5,
          4,
          4,
          3,
          4,
          3,
          3.25,
          3,
          3.25,
          3.5,
          3.5,
          3.75,
          1.75,
          2.5,
          2.75,
          3,
          3,
          3.25,
          1.75,
          3.25,
          3.25,
          3.5,
          3.75,
          2.75,
          4,
          3.75,
          3.25,
          2.75,
          3.25,
          3.25,
          3.5,
          2.5,
          3,
          3.75,
          3.75,
          3.75,
          3.75,
          3,
          2.75,
          3,
          3,
          3.5,
          2.5,
          3,
          2.5,
          2.5,
          3,
          3.25,
          3.5,
          3,
          2.75,
          3.5,
          2.5,
          2.75,
          3.25,
          3.25,
          3.5,
          3.75,
          4,
          3.5,
          3.5,
          3.5,
          2.75,
          3.25,
          3.5,
          3.75,
          2.25,
          3,
          3.25,
          2.75,
          2.75,
          2.75,
          2.75,
          2.75,
          2.75,
          2.75,
          3.5,
          3.25,
          3.5,
          3.5,
          3.25,
          3.75,
          2.75,
          3,
          3.5,
          3,
          3,
          3,
          3.75,
          4,
          3.5,
          3.5,
          3.5,
          4,
          2.75,
          3.25,
          3.25,
          3.5,
          3.5,
          3,
          3,
          3.5,
          4,
          2.5,
          2.5,
          2.5,
          3.25,
          3,
          3,
          3.5,
          3,
          3,
          3.5,
          3.75,
          3,
          3.25,
          3.5,
          3.5,
          2.75,
          3,
          3,
          3.25,
          3.75,
          3.5,
          3,
          3,
          3.25,
          2.75,
          2.75,
          2.75,
          3,
          3.75,
          2.75,
          3.25,
          3.25,
          2.75,
          3.5,
          3.5,
          3.75,
          2.75,
          3,
          3.5,
          3.5,
          2.75,
          2.5,
          2.75,
          3.25,
          1.5,
          3,
          3.75,
          3.75,
          3.75,
          4,
          4,
          2.5,
          4,
          2.75,
          3,
          3,
          3,
          3.25,
          3.5,
          3.5,
          3.5,
          3.5,
          3.75,
          4,
          4,
          3.25,
          3.5,
          3.25,
          3.75,
          4,
          3.5,
          4,
          4,
          3.75,
          1.5,
          3.25,
          2.75,
          2.75,
          3.5,
          3.75,
          4,
          3,
          3,
          3.25,
          3.5,
          3.5,
          3.75,
          4,
          3.75,
          3.5,
          3.75,
          3.25,
          3.75,
          2.75,
          3,
          3.25,
          3.25,
          3.25,
          3.5,
          3,
          2.75,
          3,
          3.5,
          3.5,
          3.25,
          2.75,
          2.5,
          3,
          2.5,
          3.25,
          3.25,
          3.25,
          3.5,
          3,
          3.25,
          3.5,
          3,
          3.5,
          3.75,
          2.5,
          2.25,
          2.5,
          2.75,
          2.5,
          2,
          3,
          2,
          3,
          3.5,
          2.5,
          3,
          3.75,
          2.5,
          3.25,
          3.5,
          3.75,
          3.25,
          3.25,
          3.5,
          2.75,
          2.5,
          3,
          3,
          2.75,
          3.25,
          3.5,
          3.5,
          3.75,
          3.75,
          3.75,
          3.5,
          3,
          3.25,
          3.75,
          3.75,
          4,
          4,
          3.25,
          3.5,
          3.5,
          3.5,
          3.75,
          4,
          3.5,
          2.75,
          2.75,
          3,
          3,
          3.25,
          3.5,
          3,
          3.25,
          3.5,
          3.5,
          3.5,
          3.5,
          4,
          1.5,
          2.5,
          3.5,
          3.5,
          1,
          2.75,
          2.25,
          2.5,
          3,
          3.5,
          2.5,
          3,
          3.5,
          2.5,
          2.75,
          3,
          3,
          3.25,
          3.25,
          3.25,
          3.5,
          3.75,
          2,
          2.5,
          2.75,
          3,
          3.25,
          3.5,
          3.5,
          3.75,
          3,
          3.25,
          3.25,
          3.25,
          2.75,
          3,
          3.25,
          3.5,
          3.5,
          3,
          3.25,
          3.25,
          3.5,
          3.5,
          2,
          3,
          3.25,
          2.5,
          2.75,
          3,
          3,
          3.25,
          3.25,
          3.5,
          2.75,
          3.5,
          3.5,
          3.5,
          3.5,
          3.75,
          4,
          3.25,
          3.5,
          3.75,
          4,
          4,
          2.5,
          2.75,
          2.75,
          3,
          2.75,
          2.75,
          3,
          3,
          3.25,
          3,
          3.5,
          3.25,
          3,
          2.75,
          3.5,
          3,
          3.5,
          3.25,
          3.25,
          3.5,
          3.25,
          3,
          3.25,
          2.75,
          3.5,
          2.5,
          3.25,
          2.5,
          2.5,
          2.75,
          3,
          3.75,
          3.75,
          2.5,
          2.5,
          2.5,
          2.75,
          2.75,
          3,
          3,
          3,
          3.25,
          2.75,
          3.25,
          3.5,
          3.75,
          2.5,
          2.75,
          3.25,
          3.75,
          3.75,
          3.75,
          2.75,
          3.25,
          3,
          2.5,
          2.5,
          2.75,
          2.75,
          3,
          3.25,
          3.25,
          3.25,
          3.25,
          3.5,
          2.5,
          2.5,
          3,
          3.5,
          3.25,
          3.25,
          3.25,
          3.5,
          2.5,
          2.5,
          2.5,
          2.75,
          3,
          3,
          3,
          3.5,
          3.75,
          3.75,
          4,
          3.5,
          3.75,
          2.75,
          2.75,
          3.75,
          3,
          3.25,
          3.5,
          3.5,
          3.75,
          4,
          3.75,
          3,
          2.75,
          1,
          3,
          3.75,
          3.75,
          3.5,
          3.5,
          3.5,
          3.5,
          2.25,
          3,
          3.25,
          3.25,
          2.75,
          2.75,
          3.25,
          3.75,
          3.25,
          3.5,
          2.75,
          2.5,
          2.5,
          3.25,
          3.5,
          3,
          3,
          3,
          3,
          3.25,
          3.5,
          3.75,
          2.5,
          3,
          3,
          3.25,
          3.25,
          3.25,
          1.5,
          3.5,
          3.5,
          3.75,
          3.25,
          3.75,
          1,
          3.25,
          3.25,
          3.25,
          3.25,
          3.5,
          2.5,
          2.75,
          3.25,
          3.75,
          3.25,
          3.25,
          3.25,
          3.5,
          3.75,
          3.25,
          3.5,
          3.5,
          3.5,
          3.75,
          3.25,
          2.75,
          2.75,
          2.25,
          2.75,
          3,
          3.5,
          2.5,
          2.5,
          3,
          3.5,
          3,
          3.25,
          3.75,
          2.75,
          3.25,
          3.5,
          3.5,
          2.75,
          3.5,
          3.5,
          3.75,
          3,
          3.75,
          3,
          3,
          3.25,
          3.5,
          3.5,
          2.75,
          2.75,
          3.25,
          3.25,
          3.5,
          3.5,
          4,
          3.25,
          3.25,
          3.25,
          3,
          3,
          3.25,
          3.5,
          3,
          3.25,
          3.75,
          3.75,
          4,
          3.25,
          2.75,
          3,
          3.25,
          3,
          3.25,
          3,
          3,
          3.25,
          3.25,
          3.25,
          3.25,
          2.5,
          2.75,
          2.75,
          3.5,
          3.5,
          2.5,
          3,
          2.5,
          3,
          3,
          3,
          3,
          3,
          3.75,
          3,
          2.5,
          2.5,
          3,
          2.5,
          3,
          3.5,
          3.5,
          2.75,
          2.75,
          2.75,
          3,
          3.25,
          2.75,
          3.25,
          3.5,
          3.5,
          3.75,
          3.5,
          3.75,
          3.75,
          4,
          3.75,
          3.75,
          4,
          3.5,
          3.75,
          4,
          2.5,
          2.75,
          3,
          3,
          3.25,
          3.25,
          3.5,
          3,
          3.75,
          1.5,
          3,
          3,
          3.25,
          3.5,
          3.25,
          3.25,
          3.5,
          3.5,
          3.75,
          4,
          4,
          4,
          3,
          3,
          3.5,
          3.75,
          3,
          3.5,
          3.5,
          3.75,
          3,
          3.75,
          3.75,
          4,
          2.5,
          2.75,
          2.75,
          2.75,
          2.75,
          3.5,
          3.5,
          3.25,
          2.5,
          2.75,
          3,
          2.5,
          3.5,
          3.75,
          3.75,
          3,
          3.25,
          3.5,
          3.5,
          3.75,
          3.75,
          3.5,
          3.75,
          4,
          2.75,
          3.25,
          3.5,
          3.5,
          3.25,
          2.75,
          3.25,
          3.25,
          3.5,
          3.5,
          4,
          4,
          3.25,
          3.5,
          3.75,
          3.25,
          3.25,
          2.75,
          3.5,
          3,
          3,
          3,
          2.75,
          3.75,
          2.75,
          2.5,
          2.5,
          3,
          2.75,
          3,
          3.75,
          3.5,
          2.75,
          3.25,
          3,
          3.5,
          3.25,
          3.5,
          3.5,
          3.5,
          3.25,
          3,
          2.5,
          3,
          3.5,
          3.25,
          3,
          3.25,
          3.25,
          3,
          2,
          2.75,
          3.5,
          2.75,
          3,
          3.5,
          2.5,
          2.5,
          2.5,
          2.5,
          2.75,
          3,
          3.5,
          3.75,
          3.5,
          3,
          3,
          2.75,
          2.5,
          2.75,
          3,
          2,
          3,
          3,
          3,
          3.5,
          4,
          3.5,
          2.25,
          2.5,
          3,
          3.25,
          2.75,
          2.75,
          3,
          3.25,
          3.25,
          3.5,
          3.5,
          3.75,
          2.75,
          2.75,
          3,
          3.5,
          3,
          3.5,
          3.5,
          2.75,
          2.75,
          2.75,
          2.75,
          3.5,
          3.75,
          2.75,
          3,
          3,
          3.25,
          3.5,
          3,
          3.5,
          3.5,
          3.5,
          3,
          3,
          3,
          3,
          3.25,
          3.75,
          3.75,
          3.5,
          3.75,
          3.5,
          3.75,
          2.5,
          3,
          3,
          3.25,
          3.5,
          3.5,
          3.5,
          3,
          3.5,
          3.5,
          3.5,
          3.5,
          2,
          2.5,
          3.5,
          3.5,
          3,
          3.25,
          3.5,
          3.5,
          3.25,
          2.75,
          3,
          3.25,
          3.5,
          2.75,
          2.75,
          3,
          3.25,
          3.25,
          3.25,
          3.5,
          3.5,
          4,
          3,
          3.5,
          3.5,
          4,
          4,
          3.25,
          3.75,
          3.75,
          4,
          3,
          3.5,
          3.5,
          3.5,
          3.5,
          3.5,
          3.75,
          3.25,
          3.5,
          3,
          3.25,
          3.25,
          3.5,
          3.5,
          3.5,
          3.75,
          4,
          3.5,
          3.75,
          3.5,
          3.5,
          4,
          3.5,
          3.75,
          3,
          3,
          3.25,
          3.25,
          3.5,
          3.5,
          3.75,
          3.75,
          3.75,
          4,
          4,
          3.25,
          3.5,
          3.5,
          3.25,
          3.25,
          3.25,
          3.75,
          3.25,
          3.5,
          3.5,
          3,
          3.25,
          3,
          3.25,
          2.5,
          3,
          3.75,
          3,
          3.75,
          3.75,
          4,
          3.5,
          3.75,
          3.25,
          3.75,
          3.75,
          2.5,
          3,
          3,
          3.5,
          2.5,
          3.25,
          3.5,
          3.5,
          3.5,
          4,
          3.5,
          3.5,
          2.75,
          2.75,
          3,
          3.5,
          2.75,
          3.25,
          3.25,
          3.25,
          2.5,
          3,
          3.75,
          2.75,
          3,
          3.25,
          3.25,
          3,
          3.5,
          3.5,
          3.5,
          3.5,
          2.5,
          3.5,
          2.5,
          3,
          2.5,
          2.75,
          3.25,
          3,
          3,
          3,
          3,
          3.25,
          2.75,
          2.5,
          3,
          3,
          3.5,
          3.5,
          3.5,
          3.5,
          3,
          3,
          3.5,
          3,
          3,
          3.5,
          3,
          2.75,
          3.25,
          3.25,
          2.75,
          2.75,
          3.25,
          3.5,
          3.75,
          2,
          2.75,
          2.75,
          2.75,
          3,
          3,
          3.25,
          3.25,
          3.5,
          2.5,
          2.75,
          3,
          3,
          3,
          3.5,
          3.5,
          3.25,
          3,
          3,
          3.25,
          2.75,
          3.25,
          3.5,
          3.5,
          2.75,
          2.5,
          2.5,
          3,
          3.25,
          3.5,
          3,
          3.5,
          3.75,
          3.75,
          3.5,
          3.5,
          3.5,
          3.75,
          4,
          2.75,
          3.5,
          2.75,
          3.25,
          2.75,
          3,
          3,
          3.25,
          3.25,
          2.25,
          2.5,
          2.75,
          3,
          3.5,
          2.75,
          2.75,
          3.25,
          3.5,
          3.25,
          3.5,
          2,
          2.5,
          3,
          3.25,
          3.5,
          2.5,
          2.75,
          3.5,
          3.75,
          3.5,
          3.5,
          3.5,
          3.5,
          2.75,
          2.5,
          1.75,
          4,
          2.75,
          2.75,
          3,
          3,
          2.5,
          2.75,
          3,
          3,
          2.75,
          2.75,
          3,
          3,
          3,
          3.25,
          3.5,
          2.5,
          2.75,
          2.75,
          3,
          3,
          3,
          3.5,
          3.5,
          3.25,
          3.75,
          3,
          3,
          3,
          3.5,
          3.75,
          3.5,
          3.25,
          3.5,
          3.75,
          3.75,
          3.75,
          4,
          4,
          4,
          4,
          3.75,
          2.5,
          3,
          3.25,
          2.75,
          3,
          2.25,
          3.25,
          3.25,
          3.5,
          2.75,
          2.75,
          3.5,
          2,
          3.25,
          3,
          3,
          3.5,
          3.5,
          3.5,
          3.5,
          3.75,
          3,
          3.25,
          3.25,
          2.75,
          2.75,
          3,
          3.5,
          3.5,
          3.75,
          3,
          3.25,
          3.25,
          3.5,
          3.75,
          3.75,
          3.75,
          3,
          3,
          3.5,
          3.75,
          3.75,
          3,
          3,
          3.25,
          3.75,
          2.5,
          2.5,
          2.5,
          2.75,
          2.75,
          3,
          3,
          3,
          3.5,
          2.75,
          2.75,
          3.25,
          3.5,
          3.75,
          2,
          3.25,
          3,
          3,
          3,
          3.25,
          3,
          3.25,
          3.75,
          3,
          3.25,
          2.5,
          2.75,
          3,
          3.25,
          3.25,
          3.25,
          3.25,
          2.75,
          3.25,
          3.75,
          3.75,
          2.5,
          2.5,
          3,
          3,
          3,
          3.5,
          3,
          3.25,
          3.75,
          3.75,
          3.25,
          3.75,
          4,
          3,
          2.25,
          2.5,
          3,
          3,
          3,
          3,
          3.25,
          3.25,
          3.5,
          3.5,
          3.5,
          3.5,
          3,
          3.25,
          3.5,
          3.75,
          3.5,
          3.5,
          2.75,
          3.25,
          3.25,
          2.5,
          3.25,
          3,
          3.5,
          3.5,
          2.75,
          2.75,
          2.75,
          2.75,
          3,
          3,
          3.25,
          3.25,
          3.5,
          3.75,
          3.5,
          2.5,
          3,
          3,
          3,
          3.5,
          3,
          3.25,
          3.5,
          3.75,
          2.75,
          3.25,
          3.5,
          3.5,
          3,
          3.25,
          3.25,
          3.5,
          3.5,
          3.25,
          3.25,
          3.5,
          4,
          3.75,
          3.25,
          3.25,
          3.5,
          3.75,
          3.5,
          3,
          2.75,
          3,
          3.5,
          3.5,
          3.5,
          3.75,
          3,
          2.5,
          3,
          3,
          2.5,
          3,
          3,
          3.5,
          3.25,
          3.75,
          3.75,
          2.75,
          3,
          2,
          2.5,
          3,
          3.25,
          3.5,
          3.25,
          3,
          3.25,
          3.25,
          2.75,
          3,
          3,
          3.5,
          3,
          3.25,
          3.25,
          3.25,
          3.5,
          2.25,
          1.5,
          2.5,
          2.75,
          3.5,
          3.5,
          3.75,
          4,
          2.5,
          2.75,
          2.5,
          2.75,
          3.25,
          3.25,
          3.5,
          2.75,
          2.75,
          2.75,
          3.5,
          3.5,
          2,
          3,
          3.25,
          3.75,
          2,
          2.75,
          3.5,
          3.5,
          2.75,
          2.75,
          3.5,
          3,
          3.75,
          2.5,
          2.75,
          2.5,
          2.75,
          2.75,
          3,
          3.25,
          3.25,
          3.75,
          3.5,
          3.75,
          3.25,
          3.5,
          3.25,
          3.25,
          3.5,
          3.5,
          3.75,
          3.5,
          3.75,
          2.75,
          2.75,
          3,
          3.5,
          3.5,
          3.5,
          3.5,
          3.5,
          3.5,
          3.25,
          3,
          3,
          3.25,
          3.5,
          2.75,
          3.25,
          3.5,
          2.75,
          2.75,
          3.25,
          3.25,
          2.75,
          3,
          3.5,
          3.5,
          3.5,
          3.5,
          3.5,
          3.5,
          3.25,
          3.5,
          3.75,
          3.5,
          3,
          3,
          3.25,
          3.5,
          2.25,
          2.5,
          2.75,
          3,
          3.25,
          2.75,
          3,
          3.25,
          2.75,
          2.75,
          3,
          3,
          3,
          3.25,
          3.5,
          3.5,
          3.75,
          2.5,
          2.75,
          3.5,
          3.75,
          3,
          3.25,
          3.5,
          3.75,
          4,
          4,
          3.5,
          3.25,
          3.25,
          3.25,
          3.5,
          3,
          3,
          3.25,
          3,
          2.5,
          3.25,
          2.5,
          2.75,
          3,
          3,
          3.5,
          2.5,
          2.75,
          3.25,
          3.25,
          2.5,
          2.5,
          3.25,
          3.25,
          3.5,
          3.5,
          2.75,
          3,
          2.5,
          3,
          3.5,
          3.25,
          3.75,
          3.5,
          3.5,
          2,
          2,
          2,
          3,
          3.75,
          3.75,
          3.75,
          3.5,
          3.5,
          3.75,
          3.25,
          3,
          3.5,
          1.5,
          2,
          2.5,
          2.5,
          3.25,
          3.25,
          3.5,
          3.5,
          3.5,
          3.75,
          3.75,
          3,
          3.25,
          3.25,
          3.5,
          3.5,
          2.5,
          3,
          3,
          3,
          2.75,
          3,
          3,
          3,
          3.25,
          3.5,
          3.75,
          2.75,
          2.75,
          3.5,
          3,
          3.25,
          3.5,
          3.5,
          3.75,
          3.5,
          3.5,
          3.75,
          3,
          2.5,
          2.75,
          3,
          3.25,
          2.5,
          3,
          3,
          3.5,
          3.75,
          2.75,
          3.25,
          2.75,
          3,
          3.25,
          2.75,
          2.75,
          3.25,
          3.5,
          3.5,
          3.25,
          3.25,
          3.5,
          3.75,
          3.25,
          3.5,
          3.5,
          3,
          3.5,
          3.5,
          3.5,
          2.75,
          2.75,
          2.75,
          3,
          2.5,
          3,
          2.5,
          3.75,
          3.75,
          2.75,
          3,
          3.25,
          2.75,
          3.25,
          3.5,
          2.25,
          2.5,
          2.5,
          3.5,
          3.25,
          2,
          2.75,
          3,
          1,
          3.75,
          2.5,
          2.25,
          2.75,
          3,
          3,
          3,
          2.75,
          3.5,
          3.75,
          3,
          2.75,
          3,
          3,
          2.75,
          3.25,
          3,
          3,
          3.25,
          3,
          3,
          2.75,
          3,
          3.25,
          2.75,
          3,
          3.5,
          3.75,
          3.75,
          3,
          3.25,
          3.5,
          2.5,
          3.75,
          3.75,
          3.75,
          4,
          2.75,
          3,
          3.25,
          3.5,
          2.75,
          3.5,
          3,
          3,
          3.25,
          3.25,
          3.25,
          3.75,
          3.75,
          3,
          3,
          3.25,
          3.25,
          3.5,
          3.75,
          2.75,
          3,
          3.5,
          3.75,
          2.75,
          3,
          3,
          3,
          2,
          2.75,
          2.75,
          3,
          2.75,
          3,
          3.5,
          3.75,
          3,
          3.25,
          3.25,
          3.5,
          2.75,
          3.25,
          3.25,
          3.5,
          2.75,
          2.75,
          2.75,
          3,
          3,
          3,
          3,
          3,
          3.25,
          3.75,
          2.75,
          3.25,
          3,
          3,
          3,
          3,
          2,
          2.75,
          3,
          3,
          3.5,
          3.5,
          2.75,
          4,
          3.25,
          3.5,
          3.75,
          4,
          4,
          3.25,
          3.5,
          3.75,
          2.75,
          2.75,
          3.5,
          3.75,
          3.75,
          3.25,
          3.25,
          3.5,
          3.75,
          2.75,
          3,
          2.75,
          2.75,
          3.5,
          3.5,
          3,
          2.75,
          3,
          3.25,
          3.25,
          3.25,
          3.5,
          3.5,
          3,
          3.5,
          3.5,
          3.25,
          2.75,
          2.75,
          3,
          2.5,
          2.75,
          4,
          3.5,
          3.5,
          4,
          3.75,
          4,
          2.25,
          2.75,
          3,
          3,
          3.25,
          3,
          3.75,
          4,
          3.5,
          3.75,
          4,
          4,
          3,
          3,
          3,
          3,
          3.25,
          3.75,
          3.25,
          3,
          3,
          3.5,
          3,
          3.5,
          3.5,
          2.5,
          2.5,
          3.25,
          3.25,
          3.5,
          2.5,
          2.75,
          2.75,
          2.75,
          3.25,
          3,
          3,
          3.25,
          2.5,
          2.75,
          2.75,
          3,
          3,
          3.75,
          2.75,
          3,
          3.5,
          3.5,
          3.75,
          3.75,
          4,
          3.75,
          3.75,
          3,
          3,
          3,
          3,
          3.5,
          3.75,
          3.75,
          4,
          2,
          3,
          3.5,
          2,
          3.5,
          3.25,
          3.25,
          3,
          3,
          3,
          3,
          3,
          3.25,
          3.25,
          3.5,
          3.5,
          3.5,
          3.25,
          3.25,
          2.75,
          2.75,
          2.75,
          3,
          3.25,
          2.75,
          3.5,
          3.5,
          3.5,
          3.75,
          3.25,
          2.75,
          3.25,
          3.25,
          3.5,
          3.5,
          3.75,
          3,
          3.25,
          2.75,
          3.25,
          3.25,
          3.5,
          3,
          3.75,
          3.5,
          4,
          3.75,
          2.75,
          3,
          3.5,
          3.25,
          2.75,
          3,
          3.25,
          3.5,
          2.75,
          3,
          2.5,
          3.25,
          3.5,
          3.25,
          3.25,
          3.5,
          3.75,
          3.75,
          3.5,
          3.5,
          3.5,
          2.5,
          3,
          3.5,
          3.75,
          2.5,
          3.25,
          3.5,
          3.25,
          3.5,
          4,
          3,
          3.75,
          3.5,
          3.5,
          3.75,
          3.75,
          3.5,
          3.5,
          3.5,
          3,
          2.5,
          2.5,
          3.25,
          3.25,
          3.25,
          3.25,
          3.25,
          3.5,
          2.75,
          2.75,
          3,
          3,
          3.5,
          3.75,
          3,
          3.75,
          3.5,
          3.5,
          3.75,
          4,
          3.75,
          3.25,
          3.75,
          3.75,
          2.5,
          2.75,
          3.5,
          3.5,
          2.25,
          2.5,
          2.5,
          3.75,
          3.75,
          2.75,
          3,
          3.5,
          2.75,
          3.5,
          1.5,
          3,
          3.5,
          3.5,
          3.5,
          2.75,
          3.25,
          3.5,
          3.5,
          3.5,
          3.5,
          3.25,
          2,
          3,
          3.75,
          2.75,
          3,
          2.75,
          2,
          2,
          2,
          3,
          3.5,
          3,
          3,
          3,
          3.75,
          3,
          3.75,
          3.75,
          4,
          3.5,
          3.75,
          3.75,
          4,
          2.75,
          2.75,
          2.75,
          3,
          3.25,
          2.75,
          3.5,
          3.25,
          3.5,
          3.5,
          3.5,
          3,
          3,
          3.5,
          3,
          3.25,
          2.75,
          3.25,
          3.5,
          3.5,
          2,
          2.5,
          3.5,
          3.25,
          3.25,
          3.5,
          2.5,
          3,
          3,
          3.25,
          3.25,
          3.75,
          3.75,
          3.75,
          3,
          3,
          3,
          3.25,
          3.25,
          3.5,
          3.5,
          3.75,
          3.75,
          3,
          3.25,
          2.75,
          3,
          2.75,
          3,
          3.25,
          3.5,
          3.5,
          3.75,
          3.75,
          3.75,
          4,
          3,
          3.25,
          3.75,
          3.75,
          3.75,
          4,
          3.5,
          3.5,
          3,
          3.25,
          1.5,
          3.25,
          2.75,
          3,
          3.5,
          2.75,
          2.75,
          2.5,
          3.25,
          3.25,
          3,
          3,
          3.25,
          3.25,
          3.5,
          3,
          3.25,
          3.25,
          3.5,
          3,
          3,
          3.5,
          3.5,
          3.75,
          3.75,
          3.75,
          2.75,
          3.5,
          3.5,
          3.75,
          4,
          4,
          3.25,
          3.5,
          3.5,
          3.5,
          3.75,
          3.75,
          4,
          4,
          2.75,
          3.25,
          3.25,
          3.25,
          3.75,
          3.75,
          3.75,
          4,
          4,
          4,
          4,
          3.25,
          3.25,
          3.5,
          3.5,
          3.75,
          3.75,
          3.5,
          4,
          3.25,
          3.5,
          3.5,
          3.5,
          3.75,
          3.75,
          4,
          3.25,
          4,
          3,
          4,
          4,
          3.25,
          3.5,
          3.5,
          4,
          3.25,
          3.5,
          3.25,
          3.25,
          3.25,
          3.5,
          3.5,
          3.5,
          3,
          3,
          3.25,
          2.75,
          3.5,
          3.75,
          3.75,
          2.75,
          3.5,
          3.75,
          3.25,
          3.5,
          3.5,
          3,
          2.25,
          3,
          3,
          3,
          3,
          3,
          3,
          3.25,
          2.75,
          3.5,
          3.5,
          2.5,
          2.5,
          2.5,
          2.75,
          2.75,
          3.25,
          2.5,
          3,
          2.75,
          3,
          2.75,
          2.75,
          3,
          3,
          3.5,
          3.75,
          2.5,
          2.75,
          3,
          3,
          3.25,
          3,
          3.25,
          3.25,
          3,
          3.25,
          3.25,
          3.75,
          3.25,
          3.5,
          3.5,
          3.5,
          3.75,
          3.25,
          3.25,
          3.25,
          3.25,
          3.5,
          3.75,
          2.5,
          2.75,
          2.75,
          3,
          2.75,
          3,
          3.25,
          3.25,
          2.75,
          3,
          3.25,
          3,
          3.25,
          4,
          3,
          3,
          3.25,
          2.75,
          3,
          2.75,
          3.25,
          3,
          2.5,
          2.5,
          2.5,
          2.75,
          2.75,
          3,
          3.25,
          2,
          2,
          2.75,
          2.75,
          2.75,
          3,
          3,
          3,
          3,
          3.25,
          3.25,
          3.25,
          3.25,
          3.5,
          3.5,
          3.25,
          3.75,
          3.75,
          2.75,
          3.25,
          3.5,
          3.75,
          3.75,
          3.75,
          2.75,
          3,
          3.25,
          3,
          2,
          2.5,
          3,
          3,
          3.5,
          3.25,
          3.25,
          3.5,
          3,
          3.25,
          3.75,
          2.75,
          3.25,
          3.25,
          4,
          2.75,
          3,
          3,
          2.75,
          3,
          3.5,
          2.75,
          3.5,
          3,
          2.75,
          3.25,
          3.25,
          3.25,
          3.75,
          3.25,
          3,
          3.5,
          2.75,
          2.75,
          3,
          3.5,
          2.75,
          2.5,
          3.25,
          3.5,
          2.75,
          3.5,
          3.25,
          3,
          3.75,
          2.75,
          3,
          3.25,
          2.75,
          3,
          3,
          3.25,
          3.25,
          3.75,
          3.75,
          3.5,
          2.5,
          3,
          3,
          3.5,
          3.75,
          1.5,
          2.5,
          2.75,
          3,
          3.25,
          3.75,
          4,
          3.5,
          3.75,
          3.75,
          3.25,
          4,
          4,
          3.5,
          3.5,
          4,
          3.25,
          2.5,
          2.75,
          2.75,
          2.75,
          2.75,
          3,
          3,
          3.25,
          3.25,
          3.25,
          2.75,
          3,
          3.25,
          3.25,
          3.75,
          3.25,
          3.5,
          3.5,
          2.75,
          3,
          3.5,
          3.5,
          3.5,
          3,
          2,
          2,
          3,
          3,
          2.75,
          2.75,
          3,
          3,
          3.25,
          2.5,
          2.5,
          3,
          2.5,
          2.5,
          3.5,
          3.5,
          3,
          3,
          3,
          3.5,
          3.5,
          3.75,
          3.75,
          2.5,
          2.5,
          2.75,
          2.75,
          3.25,
          3,
          3.25,
          3,
          3.5,
          3.75,
          2.25,
          3,
          4,
          3,
          3.5,
          3.75,
          3.25,
          3.5,
          3.5,
          3.5,
          4,
          2.5,
          3,
          3.25,
          3.25,
          3.5,
          3,
          3,
          3,
          2.75,
          3,
          3.25,
          3.25,
          3.5,
          3.5,
          2.5,
          2.75,
          3.25,
          3.5,
          3.5,
          3,
          3,
          3,
          3.25,
          3.25,
          3.25,
          3.5,
          2.75,
          2.75,
          3,
          3.5,
          3.5,
          3.5,
          3.5,
          3.5,
          3.75,
          3.25,
          3.75,
          3,
          3,
          3.25,
          3.75,
          3,
          3,
          3.25,
          3.5,
          3.75,
          3,
          3,
          3,
          3.25,
          3.25,
          3.5,
          3.5,
          3.5,
          3.5,
          3.75,
          3.75,
          2.75,
          3.75,
          3,
          3.25,
          3.5
         ],
         "y0": " ",
         "yaxis": "y"
        }
       ],
       "layout": {
        "font": {
         "color": "#6f1c0e"
        },
        "legend": {
         "tracegroupgap": 0
        },
        "margin": {
         "b": 10,
         "l": 40,
         "r": 20,
         "t": 50
        },
        "plot_bgcolor": "#fff7ef",
        "template": {
         "data": {
          "bar": [
           {
            "error_x": {
             "color": "#2a3f5f"
            },
            "error_y": {
             "color": "#2a3f5f"
            },
            "marker": {
             "line": {
              "color": "#E5ECF6",
              "width": 0.5
             },
             "pattern": {
              "fillmode": "overlay",
              "size": 10,
              "solidity": 0.2
             }
            },
            "type": "bar"
           }
          ],
          "barpolar": [
           {
            "marker": {
             "line": {
              "color": "#E5ECF6",
              "width": 0.5
             },
             "pattern": {
              "fillmode": "overlay",
              "size": 10,
              "solidity": 0.2
             }
            },
            "type": "barpolar"
           }
          ],
          "carpet": [
           {
            "aaxis": {
             "endlinecolor": "#2a3f5f",
             "gridcolor": "white",
             "linecolor": "white",
             "minorgridcolor": "white",
             "startlinecolor": "#2a3f5f"
            },
            "baxis": {
             "endlinecolor": "#2a3f5f",
             "gridcolor": "white",
             "linecolor": "white",
             "minorgridcolor": "white",
             "startlinecolor": "#2a3f5f"
            },
            "type": "carpet"
           }
          ],
          "choropleth": [
           {
            "colorbar": {
             "outlinewidth": 0,
             "ticks": ""
            },
            "type": "choropleth"
           }
          ],
          "contour": [
           {
            "colorbar": {
             "outlinewidth": 0,
             "ticks": ""
            },
            "colorscale": [
             [
              0,
              "#0d0887"
             ],
             [
              0.1111111111111111,
              "#46039f"
             ],
             [
              0.2222222222222222,
              "#7201a8"
             ],
             [
              0.3333333333333333,
              "#9c179e"
             ],
             [
              0.4444444444444444,
              "#bd3786"
             ],
             [
              0.5555555555555556,
              "#d8576b"
             ],
             [
              0.6666666666666666,
              "#ed7953"
             ],
             [
              0.7777777777777778,
              "#fb9f3a"
             ],
             [
              0.8888888888888888,
              "#fdca26"
             ],
             [
              1,
              "#f0f921"
             ]
            ],
            "type": "contour"
           }
          ],
          "contourcarpet": [
           {
            "colorbar": {
             "outlinewidth": 0,
             "ticks": ""
            },
            "type": "contourcarpet"
           }
          ],
          "heatmap": [
           {
            "colorbar": {
             "outlinewidth": 0,
             "ticks": ""
            },
            "colorscale": [
             [
              0,
              "#0d0887"
             ],
             [
              0.1111111111111111,
              "#46039f"
             ],
             [
              0.2222222222222222,
              "#7201a8"
             ],
             [
              0.3333333333333333,
              "#9c179e"
             ],
             [
              0.4444444444444444,
              "#bd3786"
             ],
             [
              0.5555555555555556,
              "#d8576b"
             ],
             [
              0.6666666666666666,
              "#ed7953"
             ],
             [
              0.7777777777777778,
              "#fb9f3a"
             ],
             [
              0.8888888888888888,
              "#fdca26"
             ],
             [
              1,
              "#f0f921"
             ]
            ],
            "type": "heatmap"
           }
          ],
          "heatmapgl": [
           {
            "colorbar": {
             "outlinewidth": 0,
             "ticks": ""
            },
            "colorscale": [
             [
              0,
              "#0d0887"
             ],
             [
              0.1111111111111111,
              "#46039f"
             ],
             [
              0.2222222222222222,
              "#7201a8"
             ],
             [
              0.3333333333333333,
              "#9c179e"
             ],
             [
              0.4444444444444444,
              "#bd3786"
             ],
             [
              0.5555555555555556,
              "#d8576b"
             ],
             [
              0.6666666666666666,
              "#ed7953"
             ],
             [
              0.7777777777777778,
              "#fb9f3a"
             ],
             [
              0.8888888888888888,
              "#fdca26"
             ],
             [
              1,
              "#f0f921"
             ]
            ],
            "type": "heatmapgl"
           }
          ],
          "histogram": [
           {
            "marker": {
             "pattern": {
              "fillmode": "overlay",
              "size": 10,
              "solidity": 0.2
             }
            },
            "type": "histogram"
           }
          ],
          "histogram2d": [
           {
            "colorbar": {
             "outlinewidth": 0,
             "ticks": ""
            },
            "colorscale": [
             [
              0,
              "#0d0887"
             ],
             [
              0.1111111111111111,
              "#46039f"
             ],
             [
              0.2222222222222222,
              "#7201a8"
             ],
             [
              0.3333333333333333,
              "#9c179e"
             ],
             [
              0.4444444444444444,
              "#bd3786"
             ],
             [
              0.5555555555555556,
              "#d8576b"
             ],
             [
              0.6666666666666666,
              "#ed7953"
             ],
             [
              0.7777777777777778,
              "#fb9f3a"
             ],
             [
              0.8888888888888888,
              "#fdca26"
             ],
             [
              1,
              "#f0f921"
             ]
            ],
            "type": "histogram2d"
           }
          ],
          "histogram2dcontour": [
           {
            "colorbar": {
             "outlinewidth": 0,
             "ticks": ""
            },
            "colorscale": [
             [
              0,
              "#0d0887"
             ],
             [
              0.1111111111111111,
              "#46039f"
             ],
             [
              0.2222222222222222,
              "#7201a8"
             ],
             [
              0.3333333333333333,
              "#9c179e"
             ],
             [
              0.4444444444444444,
              "#bd3786"
             ],
             [
              0.5555555555555556,
              "#d8576b"
             ],
             [
              0.6666666666666666,
              "#ed7953"
             ],
             [
              0.7777777777777778,
              "#fb9f3a"
             ],
             [
              0.8888888888888888,
              "#fdca26"
             ],
             [
              1,
              "#f0f921"
             ]
            ],
            "type": "histogram2dcontour"
           }
          ],
          "mesh3d": [
           {
            "colorbar": {
             "outlinewidth": 0,
             "ticks": ""
            },
            "type": "mesh3d"
           }
          ],
          "parcoords": [
           {
            "line": {
             "colorbar": {
              "outlinewidth": 0,
              "ticks": ""
             }
            },
            "type": "parcoords"
           }
          ],
          "pie": [
           {
            "automargin": true,
            "type": "pie"
           }
          ],
          "scatter": [
           {
            "marker": {
             "colorbar": {
              "outlinewidth": 0,
              "ticks": ""
             }
            },
            "type": "scatter"
           }
          ],
          "scatter3d": [
           {
            "line": {
             "colorbar": {
              "outlinewidth": 0,
              "ticks": ""
             }
            },
            "marker": {
             "colorbar": {
              "outlinewidth": 0,
              "ticks": ""
             }
            },
            "type": "scatter3d"
           }
          ],
          "scattercarpet": [
           {
            "marker": {
             "colorbar": {
              "outlinewidth": 0,
              "ticks": ""
             }
            },
            "type": "scattercarpet"
           }
          ],
          "scattergeo": [
           {
            "marker": {
             "colorbar": {
              "outlinewidth": 0,
              "ticks": ""
             }
            },
            "type": "scattergeo"
           }
          ],
          "scattergl": [
           {
            "marker": {
             "colorbar": {
              "outlinewidth": 0,
              "ticks": ""
             }
            },
            "type": "scattergl"
           }
          ],
          "scattermapbox": [
           {
            "marker": {
             "colorbar": {
              "outlinewidth": 0,
              "ticks": ""
             }
            },
            "type": "scattermapbox"
           }
          ],
          "scatterpolar": [
           {
            "marker": {
             "colorbar": {
              "outlinewidth": 0,
              "ticks": ""
             }
            },
            "type": "scatterpolar"
           }
          ],
          "scatterpolargl": [
           {
            "marker": {
             "colorbar": {
              "outlinewidth": 0,
              "ticks": ""
             }
            },
            "type": "scatterpolargl"
           }
          ],
          "scatterternary": [
           {
            "marker": {
             "colorbar": {
              "outlinewidth": 0,
              "ticks": ""
             }
            },
            "type": "scatterternary"
           }
          ],
          "surface": [
           {
            "colorbar": {
             "outlinewidth": 0,
             "ticks": ""
            },
            "colorscale": [
             [
              0,
              "#0d0887"
             ],
             [
              0.1111111111111111,
              "#46039f"
             ],
             [
              0.2222222222222222,
              "#7201a8"
             ],
             [
              0.3333333333333333,
              "#9c179e"
             ],
             [
              0.4444444444444444,
              "#bd3786"
             ],
             [
              0.5555555555555556,
              "#d8576b"
             ],
             [
              0.6666666666666666,
              "#ed7953"
             ],
             [
              0.7777777777777778,
              "#fb9f3a"
             ],
             [
              0.8888888888888888,
              "#fdca26"
             ],
             [
              1,
              "#f0f921"
             ]
            ],
            "type": "surface"
           }
          ],
          "table": [
           {
            "cells": {
             "fill": {
              "color": "#EBF0F8"
             },
             "line": {
              "color": "white"
             }
            },
            "header": {
             "fill": {
              "color": "#C8D4E3"
             },
             "line": {
              "color": "white"
             }
            },
            "type": "table"
           }
          ]
         },
         "layout": {
          "annotationdefaults": {
           "arrowcolor": "#2a3f5f",
           "arrowhead": 0,
           "arrowwidth": 1
          },
          "autotypenumbers": "strict",
          "coloraxis": {
           "colorbar": {
            "outlinewidth": 0,
            "ticks": ""
           }
          },
          "colorscale": {
           "diverging": [
            [
             0,
             "#8e0152"
            ],
            [
             0.1,
             "#c51b7d"
            ],
            [
             0.2,
             "#de77ae"
            ],
            [
             0.3,
             "#f1b6da"
            ],
            [
             0.4,
             "#fde0ef"
            ],
            [
             0.5,
             "#f7f7f7"
            ],
            [
             0.6,
             "#e6f5d0"
            ],
            [
             0.7,
             "#b8e186"
            ],
            [
             0.8,
             "#7fbc41"
            ],
            [
             0.9,
             "#4d9221"
            ],
            [
             1,
             "#276419"
            ]
           ],
           "sequential": [
            [
             0,
             "#0d0887"
            ],
            [
             0.1111111111111111,
             "#46039f"
            ],
            [
             0.2222222222222222,
             "#7201a8"
            ],
            [
             0.3333333333333333,
             "#9c179e"
            ],
            [
             0.4444444444444444,
             "#bd3786"
            ],
            [
             0.5555555555555556,
             "#d8576b"
            ],
            [
             0.6666666666666666,
             "#ed7953"
            ],
            [
             0.7777777777777778,
             "#fb9f3a"
            ],
            [
             0.8888888888888888,
             "#fdca26"
            ],
            [
             1,
             "#f0f921"
            ]
           ],
           "sequentialminus": [
            [
             0,
             "#0d0887"
            ],
            [
             0.1111111111111111,
             "#46039f"
            ],
            [
             0.2222222222222222,
             "#7201a8"
            ],
            [
             0.3333333333333333,
             "#9c179e"
            ],
            [
             0.4444444444444444,
             "#bd3786"
            ],
            [
             0.5555555555555556,
             "#d8576b"
            ],
            [
             0.6666666666666666,
             "#ed7953"
            ],
            [
             0.7777777777777778,
             "#fb9f3a"
            ],
            [
             0.8888888888888888,
             "#fdca26"
            ],
            [
             1,
             "#f0f921"
            ]
           ]
          },
          "colorway": [
           "#636efa",
           "#EF553B",
           "#00cc96",
           "#ab63fa",
           "#FFA15A",
           "#19d3f3",
           "#FF6692",
           "#B6E880",
           "#FF97FF",
           "#FECB52"
          ],
          "font": {
           "color": "#2a3f5f"
          },
          "geo": {
           "bgcolor": "white",
           "lakecolor": "white",
           "landcolor": "#E5ECF6",
           "showlakes": true,
           "showland": true,
           "subunitcolor": "white"
          },
          "hoverlabel": {
           "align": "left"
          },
          "hovermode": "closest",
          "mapbox": {
           "style": "light"
          },
          "paper_bgcolor": "white",
          "plot_bgcolor": "#E5ECF6",
          "polar": {
           "angularaxis": {
            "gridcolor": "white",
            "linecolor": "white",
            "ticks": ""
           },
           "bgcolor": "#E5ECF6",
           "radialaxis": {
            "gridcolor": "white",
            "linecolor": "white",
            "ticks": ""
           }
          },
          "scene": {
           "xaxis": {
            "backgroundcolor": "#E5ECF6",
            "gridcolor": "white",
            "gridwidth": 2,
            "linecolor": "white",
            "showbackground": true,
            "ticks": "",
            "zerolinecolor": "white"
           },
           "yaxis": {
            "backgroundcolor": "#E5ECF6",
            "gridcolor": "white",
            "gridwidth": 2,
            "linecolor": "white",
            "showbackground": true,
            "ticks": "",
            "zerolinecolor": "white"
           },
           "zaxis": {
            "backgroundcolor": "#E5ECF6",
            "gridcolor": "white",
            "gridwidth": 2,
            "linecolor": "white",
            "showbackground": true,
            "ticks": "",
            "zerolinecolor": "white"
           }
          },
          "shapedefaults": {
           "line": {
            "color": "#2a3f5f"
           }
          },
          "ternary": {
           "aaxis": {
            "gridcolor": "white",
            "linecolor": "white",
            "ticks": ""
           },
           "baxis": {
            "gridcolor": "white",
            "linecolor": "white",
            "ticks": ""
           },
           "bgcolor": "#E5ECF6",
           "caxis": {
            "gridcolor": "white",
            "linecolor": "white",
            "ticks": ""
           }
          },
          "title": {
           "x": 0.05
          },
          "xaxis": {
           "automargin": true,
           "gridcolor": "white",
           "linecolor": "white",
           "ticks": "",
           "title": {
            "standoff": 15
           },
           "zerolinecolor": "white",
           "zerolinewidth": 2
          },
          "yaxis": {
           "automargin": true,
           "gridcolor": "white",
           "linecolor": "white",
           "ticks": "",
           "title": {
            "standoff": 15
           },
           "zerolinecolor": "white",
           "zerolinewidth": 2
          }
         }
        },
        "title": {
         "text": "Distribution des notes données aux chocolats"
        },
        "violinmode": "group",
        "width": 500,
        "xaxis": {
         "anchor": "y",
         "domain": [
          0,
          1
         ]
        },
        "yaxis": {
         "anchor": "x",
         "domain": [
          0,
          1
         ],
         "title": {
          "text": "Note"
         }
        }
       }
      }
     },
     "metadata": {},
     "output_type": "display_data"
    }
   ],
   "source": [
    "# Créer le violin plot avec une largeur réduite\n",
    "fig = px.violin(data, y='rating', title='Distribution des notes données aux chocolats',\n",
    "                labels={'rating': 'Note'},\n",
    "                width=500)  # Définir une largeur personnalisée\n",
    "\n",
    "##afficher les statistiques sur le côté\n",
    "fig.update_traces(box_visible=True, meanline_visible=True)\n",
    "# Personnaliser l'apparence\n",
    "fig.update_traces(marker=dict(color=palette[0], line=dict(color='rgb(8,48,107)')))\n",
    "\n",
    "fig.update_layout(plot_bgcolor=background_color, font_color=text_color,\n",
    "                  margin=dict(l=40, r=20, t=50, b=10)) \n",
    "# Afficher le violin plot\n",
    "fig.show()\n",
    "\n"
   ]
  },
  {
   "cell_type": "code",
   "execution_count": 30,
   "metadata": {},
   "outputs": [
    {
     "data": {
      "application/vnd.plotly.v1+json": {
       "config": {
        "plotlyServerURL": "https://plot.ly"
       },
       "data": [
        {
         "line": {
          "color": "#E9D5CC"
         },
         "mode": "lines",
         "name": "max",
         "type": "scatter",
         "x": [
          42,
          46,
          50,
          53,
          55,
          56,
          57,
          58,
          60,
          60.5,
          61,
          62,
          63,
          64,
          65,
          66,
          67,
          68,
          69,
          70,
          71,
          71.5,
          72,
          72.5,
          73,
          73.5,
          74,
          75,
          76,
          77,
          78,
          79,
          80,
          81,
          82,
          83,
          84,
          85,
          86,
          87,
          88,
          89,
          90,
          91,
          99,
          100
         ],
         "y": [
          2.75,
          2.75,
          3.75,
          2,
          3.5,
          3.25,
          2.75,
          3.5,
          4,
          2.75,
          3.5,
          3.75,
          4,
          4,
          4,
          3.75,
          4,
          4,
          4,
          4,
          4,
          3.5,
          4,
          3,
          4,
          3.75,
          4,
          4,
          3.75,
          3.75,
          4,
          3.5,
          3.75,
          3.5,
          3.75,
          3.5,
          3.5,
          3.5,
          3.25,
          3.25,
          4,
          2.75,
          3.75,
          3,
          3.25,
          3.5
         ]
        },
        {
         "fill": "tonexty",
         "line": {
          "color": "#E9D5CC"
         },
         "mode": "lines",
         "name": "min",
         "type": "scatter",
         "x": [
          42,
          46,
          50,
          53,
          55,
          56,
          57,
          58,
          60,
          60.5,
          61,
          62,
          63,
          64,
          65,
          66,
          67,
          68,
          69,
          70,
          71,
          71.5,
          72,
          72.5,
          73,
          73.5,
          74,
          75,
          76,
          77,
          78,
          79,
          80,
          81,
          82,
          83,
          84,
          85,
          86,
          87,
          88,
          89,
          90,
          91,
          99,
          100
         ],
         "y": [
          2.75,
          2.75,
          3.75,
          2,
          2.25,
          3.25,
          2.75,
          2.5,
          2,
          2.75,
          2.5,
          2,
          2.5,
          2.5,
          1.5,
          2.5,
          1.5,
          2,
          2.75,
          1,
          2,
          2.75,
          1.75,
          2.5,
          1,
          2.5,
          2.25,
          2,
          2,
          2,
          2.25,
          3,
          2,
          2,
          2,
          2.75,
          2.25,
          1.5,
          3.25,
          3.25,
          2.75,
          2.5,
          2,
          1.5,
          2,
          1
         ]
        },
        {
         "line": {
          "color": "#874646"
         },
         "mode": "lines+markers",
         "name": "note moyenne",
         "type": "scatter",
         "x": [
          42,
          46,
          50,
          53,
          55,
          56,
          57,
          58,
          60,
          60.5,
          61,
          62,
          63,
          64,
          65,
          66,
          67,
          68,
          69,
          70,
          71,
          71.5,
          72,
          72.5,
          73,
          73.5,
          74,
          75,
          76,
          77,
          78,
          79,
          80,
          81,
          82,
          83,
          84,
          85,
          86,
          87,
          88,
          89,
          90,
          91,
          99,
          100
         ],
         "y": [
          2.75,
          2.75,
          3.75,
          2,
          2.859375,
          3.25,
          2.75,
          3.125,
          3.005434782608696,
          2.75,
          2.9642857142857144,
          2.984375,
          3.5357142857142856,
          3.1838235294117645,
          3.175,
          3.3482142857142856,
          3.3455882352941178,
          3.2881944444444446,
          3.4615384615384617,
          3.2633843212237093,
          3.063953488372093,
          3.125,
          3.2101694915254235,
          2.75,
          3.1931818181818183,
          3.125,
          3.2238805970149254,
          3.1653225806451615,
          3.0214285714285714,
          3.0773809523809526,
          3.380952380952381,
          3.25,
          3.0842696629213484,
          2.9166666666666665,
          3.0416666666666665,
          3,
          2.8125,
          3,
          3.25,
          3.25,
          3.21875,
          2.625,
          2.9722222222222223,
          2.1666666666666665,
          2.625,
          2.2857142857142856
         ]
        }
       ],
       "layout": {
        "font": {
         "color": "#6f1c0e"
        },
        "margin": {
         "b": 10,
         "l": 40,
         "r": 20,
         "t": 50
        },
        "plot_bgcolor": "#fff7ef",
        "template": {
         "data": {
          "bar": [
           {
            "error_x": {
             "color": "#2a3f5f"
            },
            "error_y": {
             "color": "#2a3f5f"
            },
            "marker": {
             "line": {
              "color": "#E5ECF6",
              "width": 0.5
             },
             "pattern": {
              "fillmode": "overlay",
              "size": 10,
              "solidity": 0.2
             }
            },
            "type": "bar"
           }
          ],
          "barpolar": [
           {
            "marker": {
             "line": {
              "color": "#E5ECF6",
              "width": 0.5
             },
             "pattern": {
              "fillmode": "overlay",
              "size": 10,
              "solidity": 0.2
             }
            },
            "type": "barpolar"
           }
          ],
          "carpet": [
           {
            "aaxis": {
             "endlinecolor": "#2a3f5f",
             "gridcolor": "white",
             "linecolor": "white",
             "minorgridcolor": "white",
             "startlinecolor": "#2a3f5f"
            },
            "baxis": {
             "endlinecolor": "#2a3f5f",
             "gridcolor": "white",
             "linecolor": "white",
             "minorgridcolor": "white",
             "startlinecolor": "#2a3f5f"
            },
            "type": "carpet"
           }
          ],
          "choropleth": [
           {
            "colorbar": {
             "outlinewidth": 0,
             "ticks": ""
            },
            "type": "choropleth"
           }
          ],
          "contour": [
           {
            "colorbar": {
             "outlinewidth": 0,
             "ticks": ""
            },
            "colorscale": [
             [
              0,
              "#0d0887"
             ],
             [
              0.1111111111111111,
              "#46039f"
             ],
             [
              0.2222222222222222,
              "#7201a8"
             ],
             [
              0.3333333333333333,
              "#9c179e"
             ],
             [
              0.4444444444444444,
              "#bd3786"
             ],
             [
              0.5555555555555556,
              "#d8576b"
             ],
             [
              0.6666666666666666,
              "#ed7953"
             ],
             [
              0.7777777777777778,
              "#fb9f3a"
             ],
             [
              0.8888888888888888,
              "#fdca26"
             ],
             [
              1,
              "#f0f921"
             ]
            ],
            "type": "contour"
           }
          ],
          "contourcarpet": [
           {
            "colorbar": {
             "outlinewidth": 0,
             "ticks": ""
            },
            "type": "contourcarpet"
           }
          ],
          "heatmap": [
           {
            "colorbar": {
             "outlinewidth": 0,
             "ticks": ""
            },
            "colorscale": [
             [
              0,
              "#0d0887"
             ],
             [
              0.1111111111111111,
              "#46039f"
             ],
             [
              0.2222222222222222,
              "#7201a8"
             ],
             [
              0.3333333333333333,
              "#9c179e"
             ],
             [
              0.4444444444444444,
              "#bd3786"
             ],
             [
              0.5555555555555556,
              "#d8576b"
             ],
             [
              0.6666666666666666,
              "#ed7953"
             ],
             [
              0.7777777777777778,
              "#fb9f3a"
             ],
             [
              0.8888888888888888,
              "#fdca26"
             ],
             [
              1,
              "#f0f921"
             ]
            ],
            "type": "heatmap"
           }
          ],
          "heatmapgl": [
           {
            "colorbar": {
             "outlinewidth": 0,
             "ticks": ""
            },
            "colorscale": [
             [
              0,
              "#0d0887"
             ],
             [
              0.1111111111111111,
              "#46039f"
             ],
             [
              0.2222222222222222,
              "#7201a8"
             ],
             [
              0.3333333333333333,
              "#9c179e"
             ],
             [
              0.4444444444444444,
              "#bd3786"
             ],
             [
              0.5555555555555556,
              "#d8576b"
             ],
             [
              0.6666666666666666,
              "#ed7953"
             ],
             [
              0.7777777777777778,
              "#fb9f3a"
             ],
             [
              0.8888888888888888,
              "#fdca26"
             ],
             [
              1,
              "#f0f921"
             ]
            ],
            "type": "heatmapgl"
           }
          ],
          "histogram": [
           {
            "marker": {
             "pattern": {
              "fillmode": "overlay",
              "size": 10,
              "solidity": 0.2
             }
            },
            "type": "histogram"
           }
          ],
          "histogram2d": [
           {
            "colorbar": {
             "outlinewidth": 0,
             "ticks": ""
            },
            "colorscale": [
             [
              0,
              "#0d0887"
             ],
             [
              0.1111111111111111,
              "#46039f"
             ],
             [
              0.2222222222222222,
              "#7201a8"
             ],
             [
              0.3333333333333333,
              "#9c179e"
             ],
             [
              0.4444444444444444,
              "#bd3786"
             ],
             [
              0.5555555555555556,
              "#d8576b"
             ],
             [
              0.6666666666666666,
              "#ed7953"
             ],
             [
              0.7777777777777778,
              "#fb9f3a"
             ],
             [
              0.8888888888888888,
              "#fdca26"
             ],
             [
              1,
              "#f0f921"
             ]
            ],
            "type": "histogram2d"
           }
          ],
          "histogram2dcontour": [
           {
            "colorbar": {
             "outlinewidth": 0,
             "ticks": ""
            },
            "colorscale": [
             [
              0,
              "#0d0887"
             ],
             [
              0.1111111111111111,
              "#46039f"
             ],
             [
              0.2222222222222222,
              "#7201a8"
             ],
             [
              0.3333333333333333,
              "#9c179e"
             ],
             [
              0.4444444444444444,
              "#bd3786"
             ],
             [
              0.5555555555555556,
              "#d8576b"
             ],
             [
              0.6666666666666666,
              "#ed7953"
             ],
             [
              0.7777777777777778,
              "#fb9f3a"
             ],
             [
              0.8888888888888888,
              "#fdca26"
             ],
             [
              1,
              "#f0f921"
             ]
            ],
            "type": "histogram2dcontour"
           }
          ],
          "mesh3d": [
           {
            "colorbar": {
             "outlinewidth": 0,
             "ticks": ""
            },
            "type": "mesh3d"
           }
          ],
          "parcoords": [
           {
            "line": {
             "colorbar": {
              "outlinewidth": 0,
              "ticks": ""
             }
            },
            "type": "parcoords"
           }
          ],
          "pie": [
           {
            "automargin": true,
            "type": "pie"
           }
          ],
          "scatter": [
           {
            "marker": {
             "colorbar": {
              "outlinewidth": 0,
              "ticks": ""
             }
            },
            "type": "scatter"
           }
          ],
          "scatter3d": [
           {
            "line": {
             "colorbar": {
              "outlinewidth": 0,
              "ticks": ""
             }
            },
            "marker": {
             "colorbar": {
              "outlinewidth": 0,
              "ticks": ""
             }
            },
            "type": "scatter3d"
           }
          ],
          "scattercarpet": [
           {
            "marker": {
             "colorbar": {
              "outlinewidth": 0,
              "ticks": ""
             }
            },
            "type": "scattercarpet"
           }
          ],
          "scattergeo": [
           {
            "marker": {
             "colorbar": {
              "outlinewidth": 0,
              "ticks": ""
             }
            },
            "type": "scattergeo"
           }
          ],
          "scattergl": [
           {
            "marker": {
             "colorbar": {
              "outlinewidth": 0,
              "ticks": ""
             }
            },
            "type": "scattergl"
           }
          ],
          "scattermapbox": [
           {
            "marker": {
             "colorbar": {
              "outlinewidth": 0,
              "ticks": ""
             }
            },
            "type": "scattermapbox"
           }
          ],
          "scatterpolar": [
           {
            "marker": {
             "colorbar": {
              "outlinewidth": 0,
              "ticks": ""
             }
            },
            "type": "scatterpolar"
           }
          ],
          "scatterpolargl": [
           {
            "marker": {
             "colorbar": {
              "outlinewidth": 0,
              "ticks": ""
             }
            },
            "type": "scatterpolargl"
           }
          ],
          "scatterternary": [
           {
            "marker": {
             "colorbar": {
              "outlinewidth": 0,
              "ticks": ""
             }
            },
            "type": "scatterternary"
           }
          ],
          "surface": [
           {
            "colorbar": {
             "outlinewidth": 0,
             "ticks": ""
            },
            "colorscale": [
             [
              0,
              "#0d0887"
             ],
             [
              0.1111111111111111,
              "#46039f"
             ],
             [
              0.2222222222222222,
              "#7201a8"
             ],
             [
              0.3333333333333333,
              "#9c179e"
             ],
             [
              0.4444444444444444,
              "#bd3786"
             ],
             [
              0.5555555555555556,
              "#d8576b"
             ],
             [
              0.6666666666666666,
              "#ed7953"
             ],
             [
              0.7777777777777778,
              "#fb9f3a"
             ],
             [
              0.8888888888888888,
              "#fdca26"
             ],
             [
              1,
              "#f0f921"
             ]
            ],
            "type": "surface"
           }
          ],
          "table": [
           {
            "cells": {
             "fill": {
              "color": "#EBF0F8"
             },
             "line": {
              "color": "white"
             }
            },
            "header": {
             "fill": {
              "color": "#C8D4E3"
             },
             "line": {
              "color": "white"
             }
            },
            "type": "table"
           }
          ]
         },
         "layout": {
          "annotationdefaults": {
           "arrowcolor": "#2a3f5f",
           "arrowhead": 0,
           "arrowwidth": 1
          },
          "autotypenumbers": "strict",
          "coloraxis": {
           "colorbar": {
            "outlinewidth": 0,
            "ticks": ""
           }
          },
          "colorscale": {
           "diverging": [
            [
             0,
             "#8e0152"
            ],
            [
             0.1,
             "#c51b7d"
            ],
            [
             0.2,
             "#de77ae"
            ],
            [
             0.3,
             "#f1b6da"
            ],
            [
             0.4,
             "#fde0ef"
            ],
            [
             0.5,
             "#f7f7f7"
            ],
            [
             0.6,
             "#e6f5d0"
            ],
            [
             0.7,
             "#b8e186"
            ],
            [
             0.8,
             "#7fbc41"
            ],
            [
             0.9,
             "#4d9221"
            ],
            [
             1,
             "#276419"
            ]
           ],
           "sequential": [
            [
             0,
             "#0d0887"
            ],
            [
             0.1111111111111111,
             "#46039f"
            ],
            [
             0.2222222222222222,
             "#7201a8"
            ],
            [
             0.3333333333333333,
             "#9c179e"
            ],
            [
             0.4444444444444444,
             "#bd3786"
            ],
            [
             0.5555555555555556,
             "#d8576b"
            ],
            [
             0.6666666666666666,
             "#ed7953"
            ],
            [
             0.7777777777777778,
             "#fb9f3a"
            ],
            [
             0.8888888888888888,
             "#fdca26"
            ],
            [
             1,
             "#f0f921"
            ]
           ],
           "sequentialminus": [
            [
             0,
             "#0d0887"
            ],
            [
             0.1111111111111111,
             "#46039f"
            ],
            [
             0.2222222222222222,
             "#7201a8"
            ],
            [
             0.3333333333333333,
             "#9c179e"
            ],
            [
             0.4444444444444444,
             "#bd3786"
            ],
            [
             0.5555555555555556,
             "#d8576b"
            ],
            [
             0.6666666666666666,
             "#ed7953"
            ],
            [
             0.7777777777777778,
             "#fb9f3a"
            ],
            [
             0.8888888888888888,
             "#fdca26"
            ],
            [
             1,
             "#f0f921"
            ]
           ]
          },
          "colorway": [
           "#636efa",
           "#EF553B",
           "#00cc96",
           "#ab63fa",
           "#FFA15A",
           "#19d3f3",
           "#FF6692",
           "#B6E880",
           "#FF97FF",
           "#FECB52"
          ],
          "font": {
           "color": "#2a3f5f"
          },
          "geo": {
           "bgcolor": "white",
           "lakecolor": "white",
           "landcolor": "#E5ECF6",
           "showlakes": true,
           "showland": true,
           "subunitcolor": "white"
          },
          "hoverlabel": {
           "align": "left"
          },
          "hovermode": "closest",
          "mapbox": {
           "style": "light"
          },
          "paper_bgcolor": "white",
          "plot_bgcolor": "#E5ECF6",
          "polar": {
           "angularaxis": {
            "gridcolor": "white",
            "linecolor": "white",
            "ticks": ""
           },
           "bgcolor": "#E5ECF6",
           "radialaxis": {
            "gridcolor": "white",
            "linecolor": "white",
            "ticks": ""
           }
          },
          "scene": {
           "xaxis": {
            "backgroundcolor": "#E5ECF6",
            "gridcolor": "white",
            "gridwidth": 2,
            "linecolor": "white",
            "showbackground": true,
            "ticks": "",
            "zerolinecolor": "white"
           },
           "yaxis": {
            "backgroundcolor": "#E5ECF6",
            "gridcolor": "white",
            "gridwidth": 2,
            "linecolor": "white",
            "showbackground": true,
            "ticks": "",
            "zerolinecolor": "white"
           },
           "zaxis": {
            "backgroundcolor": "#E5ECF6",
            "gridcolor": "white",
            "gridwidth": 2,
            "linecolor": "white",
            "showbackground": true,
            "ticks": "",
            "zerolinecolor": "white"
           }
          },
          "shapedefaults": {
           "line": {
            "color": "#2a3f5f"
           }
          },
          "ternary": {
           "aaxis": {
            "gridcolor": "white",
            "linecolor": "white",
            "ticks": ""
           },
           "baxis": {
            "gridcolor": "white",
            "linecolor": "white",
            "ticks": ""
           },
           "bgcolor": "#E5ECF6",
           "caxis": {
            "gridcolor": "white",
            "linecolor": "white",
            "ticks": ""
           }
          },
          "title": {
           "x": 0.05
          },
          "xaxis": {
           "automargin": true,
           "gridcolor": "white",
           "linecolor": "white",
           "ticks": "",
           "title": {
            "standoff": 15
           },
           "zerolinecolor": "white",
           "zerolinewidth": 2
          },
          "yaxis": {
           "automargin": true,
           "gridcolor": "white",
           "linecolor": "white",
           "ticks": "",
           "title": {
            "standoff": 15
           },
           "zerolinecolor": "white",
           "zerolinewidth": 2
          }
         }
        },
        "title": {
         "text": "Répartition des notes en fonction de la teneur en cacao"
        },
        "xaxis": {
         "title": {
          "text": "Teneur en cacao (en %)"
         }
        },
        "yaxis": {
         "title": {
          "text": "Note"
         }
        }
       }
      }
     },
     "metadata": {},
     "output_type": "display_data"
    }
   ],
   "source": [
    "import plotly.graph_objects as go\n",
    "average_rating = data.groupby('cocoa_percent')['rating'].mean().reset_index()\n",
    "median_rating = data.groupby('cocoa_percent')['rating'].median().reset_index()\n",
    "min_rating = data.groupby('cocoa_percent')['rating'].min().reset_index()\n",
    "max_rating = data.groupby('cocoa_percent')['rating'].max().reset_index()\n",
    "\n",
    "fig = go.Figure()\n",
    "fig.add_scatter(x=max_rating['cocoa_percent'], y=max_rating['rating'], mode='lines', name='max', line=dict(color=palette_degrade[4]))\n",
    "fig.add_scatter(x=min_rating['cocoa_percent'], y=min_rating['rating'], mode='lines', name='min', fill='tonexty', line=dict(color=palette_degrade[4]))\n",
    "\n",
    "fig.add_scatter(x=average_rating['cocoa_percent'], y=average_rating['rating'], mode='lines+markers', name='note moyenne', line=dict(color=palette[0]))\n",
    "fig.update_layout(xaxis_title='Teneur en cacao (en %)', yaxis_title='Note')\n",
    "fig.update_layout(plot_bgcolor=background_color, font_color=text_color)\n",
    "fig.update_layout(margin=dict(l=40, r=20, t=50, b=10))\n",
    "fig.update_layout(title='Répartition des notes en fonction de la teneur en cacao')\n",
    "fig.show()\n"
   ]
  },
  {
   "cell_type": "code",
   "execution_count": 31,
   "metadata": {},
   "outputs": [],
   "source": [
    "# fig=px.box(data, x='cocoa_percent', y='rating', color_discrete_sequence=px.colors.sequential.solar)\n",
    "\n",
    "# fig.update_traces(marker=dict(color=palette[0]))\n",
    "\n",
    "# fig.show()"
   ]
  }
 ],
 "metadata": {
  "kernelspec": {
   "display_name": "Python 3",
   "language": "python",
   "name": "python3"
  },
  "language_info": {
   "codemirror_mode": {
    "name": "ipython",
    "version": 3
   },
   "file_extension": ".py",
   "mimetype": "text/x-python",
   "name": "python",
   "nbconvert_exporter": "python",
   "pygments_lexer": "ipython3",
   "version": "3.11.4"
  }
 },
 "nbformat": 4,
 "nbformat_minor": 2
}
